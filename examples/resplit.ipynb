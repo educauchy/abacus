{
 "cells": [
  {
   "cell_type": "code",
   "execution_count": null,
   "metadata": {},
   "outputs": [],
   "source": [
    "import warnings\n",
    "warnings.filterwarnings('ignore')\n",
    "\n",
    "import sys\n",
    "import numpy as np\n",
    "import pandas as pd\n",
    "\n",
    "sys.path.append('../')\n",
    "\n",
    "from abacus.resplitter.params import GroupNames, ResplitParams\n",
    "from abacus.resplitter.resplit_builder import ResplitBuilder"
   ]
  },
  {
   "cell_type": "code",
   "execution_count": null,
   "metadata": {},
   "outputs": [],
   "source": [
    "df = pd.read_csv(\"./data/TLO.csv\", sep=\";\")"
   ]
  },
  {
   "cell_type": "code",
   "execution_count": null,
   "metadata": {},
   "outputs": [],
   "source": [
    "df['group_name'] = np.random.randint(0,3,len(df))\n",
    "df['group_name'] = df['group_name'].replace(0,'control')\n",
    "df['group_name'] = df['group_name'].replace(1,'target')\n",
    "df['group_name'] = df['group_name'].replace(2,np.nan)"
   ]
  },
  {
   "cell_type": "code",
   "execution_count": null,
   "metadata": {},
   "outputs": [],
   "source": [
    "df.head()"
   ]
  },
  {
   "cell_type": "code",
   "execution_count": null,
   "metadata": {},
   "outputs": [],
   "source": [
    "group_names = GroupNames(\n",
    "    test_group_name = 'target',\n",
    "    control_group_name = 'control'\n",
    ")\n",
    "\n",
    "resplit_params = ResplitParams(\n",
    "    group_names = group_names,\n",
    "    strata_col = 'test_name',\n",
    "    group_col = 'group_name'\n",
    ")"
   ]
  },
  {
   "cell_type": "code",
   "execution_count": null,
   "metadata": {},
   "outputs": [],
   "source": [
    "resplitter = ResplitBuilder(df, resplit_params)"
   ]
  },
  {
   "cell_type": "code",
   "execution_count": null,
   "metadata": {},
   "outputs": [],
   "source": [
    "resplited_df = resplitter.collect()"
   ]
  },
  {
   "cell_type": "code",
   "execution_count": null,
   "metadata": {},
   "outputs": [],
   "source": [
    "strata_all_count = df.value_counts('test_name').reset_index(name='all_count')"
   ]
  },
  {
   "cell_type": "code",
   "execution_count": null,
   "metadata": {},
   "outputs": [],
   "source": [
    "strata_test_counts = (df.value_counts(['test_name','group_name'])\n",
    "                .reset_index(name = 'count')\n",
    ")\n",
    "strata_test_counts = strata_test_counts.merge(strata_all_count, on = 'test_name', how = 'inner')\n",
    "strata_test_counts['frequency'] = strata_test_counts['count'] / strata_test_counts['all_count']"
   ]
  },
  {
   "cell_type": "code",
   "execution_count": null,
   "metadata": {},
   "outputs": [],
   "source": [
    "strata_test_counts"
   ]
  },
  {
   "cell_type": "code",
   "execution_count": null,
   "metadata": {},
   "outputs": [],
   "source": [
    "strata_test_counts = (resplited_df.value_counts(['test_name','group_name'])\n",
    "                .reset_index(name = 'count')\n",
    ")\n",
    "strata_test_counts = strata_test_counts.merge(strata_all_count, on = 'test_name', how = 'inner')\n",
    "strata_test_counts['frequency'] = strata_test_counts['count'] / strata_test_counts['all_count']"
   ]
  },
  {
   "cell_type": "code",
   "execution_count": null,
   "metadata": {},
   "outputs": [],
   "source": [
    "strata_test_counts"
   ]
  },
  {
   "cell_type": "code",
   "execution_count": null,
   "metadata": {},
   "outputs": [],
   "source": []
  }
 ],
 "metadata": {
  "kernelspec": {
   "display_name": "Python 3 (ipykernel)",
   "language": "python",
   "name": "python3"
  },
  "language_info": {
   "codemirror_mode": {
    "name": "ipython",
    "version": 3
   },
   "file_extension": ".py",
   "mimetype": "text/x-python",
   "name": "python",
   "nbconvert_exporter": "python",
   "pygments_lexer": "ipython3",
   "version": "3.11.4"
  },
  "vscode": {
   "interpreter": {
    "hash": "626acd8304246c39c892b04a088b1f86fa4d1e9c8375290e6951e511351ad7f7"
   }
  }
 },
 "nbformat": 4,
 "nbformat_minor": 4
}
