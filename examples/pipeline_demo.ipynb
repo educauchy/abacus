{
 "cells": [
  {
   "cell_type": "code",
   "execution_count": 1,
   "metadata": {},
   "outputs": [],
   "source": [
    "import warnings\n",
    "warnings.filterwarnings('ignore')\n",
    "\n",
    "import os\n",
    "import sys\n",
    "import logging\n",
    "\n",
    "sys.path.append(os.path.dirname(os.path.abspath('')))\n",
    "\n",
    "from auto_ab.mde_researcher.params import MdeParams\n",
    "from auto_ab.auto_ab.abtest import ABTest\n",
    "\n",
    "logging.basicConfig(level = logging.INFO)\n",
    "\n",
    "%load_ext autoreload\n",
    "%autoreload 2"
   ]
  },
  {
   "cell_type": "markdown",
   "metadata": {},
   "source": [
    "# Pipeline без трансформаций"
   ]
  },
  {
   "cell_type": "code",
   "execution_count": 2,
   "metadata": {},
   "outputs": [],
   "source": [
    "prepilot_params = MdeParams(\n",
    "    metrics_names=['height_now'],\n",
    "    injects=[1.0001,1.0002,1.0003,1.0004,1.00042,1.00044,1.00046,1.00048,1.0005,1.001],\n",
    "    min_group_size=35000, \n",
    "    max_group_size=50000, \n",
    "    step=5000,\n",
    "    variance_reduction = None,\n",
    "    use_buckets = False,\n",
    "    stat_test = ABTest.test_hypothesis_boot_confint,\n",
    "    iterations_number = 50,\n",
    "    max_beta_score=0.9,\n",
    "    min_beta_score=0.02,\n",
    ")"
   ]
  },
  {
   "cell_type": "code",
   "execution_count": 3,
   "metadata": {},
   "outputs": [
    {
     "name": "stdout",
     "output_type": "stream",
     "text": [
      "Pipeline: \n",
      "<function ABTest.test_hypothesis_boot_confint at 0x7f9578721820>\n"
     ]
    }
   ],
   "source": [
    "print(prepilot_params.transformations)\n",
    "print(prepilot_params.stat_test)"
   ]
  },
  {
   "cell_type": "markdown",
   "metadata": {},
   "source": [
    "# Pipeline с понижением дисперсии"
   ]
  },
  {
   "cell_type": "code",
   "execution_count": 4,
   "metadata": {},
   "outputs": [],
   "source": [
    "prepilot_params = MdeParams(\n",
    "    metrics_names=['height_now'],\n",
    "    injects=[1.0001,1.0002,1.0003,1.0004,1.00042,1.00044,1.00046,1.00048,1.0005,1.001],\n",
    "    min_group_size=35000, \n",
    "    max_group_size=50000, \n",
    "    step=5000,\n",
    "    variance_reduction = ABTest.cupac,\n",
    "    use_buckets = False,\n",
    "    stat_test = ABTest.test_hypothesis_boot_confint,\n",
    "    iterations_number = 50,\n",
    "    max_beta_score=0.9,\n",
    "    min_beta_score=0.02,\n",
    ")"
   ]
  },
  {
   "cell_type": "code",
   "execution_count": 5,
   "metadata": {},
   "outputs": [
    {
     "name": "stdout",
     "output_type": "stream",
     "text": [
      "Pipeline: ABTest.cupac\n",
      "<function ABTest.test_hypothesis_boot_confint at 0x7f9578721820>\n"
     ]
    }
   ],
   "source": [
    "print(prepilot_params.transformations)\n",
    "print(prepilot_params.stat_test)"
   ]
  },
  {
   "cell_type": "markdown",
   "metadata": {},
   "source": [
    "# Pipeline с понижением дисперсии и бакетированием"
   ]
  },
  {
   "cell_type": "code",
   "execution_count": 6,
   "metadata": {},
   "outputs": [],
   "source": [
    "prepilot_params = MdeParams(\n",
    "    metrics_names=['height_now'],\n",
    "    injects=[1.0001,1.0002,1.0003,1.0004,1.00042,1.00044,1.00046,1.00048,1.0005,1.001],\n",
    "    min_group_size=35000, \n",
    "    max_group_size=50000, \n",
    "    step=5000,\n",
    "    variance_reduction = ABTest.cupac,\n",
    "    use_buckets = True,\n",
    "    stat_test = ABTest.test_hypothesis_boot_confint,\n",
    "    iterations_number = 50,\n",
    "    max_beta_score=0.9,\n",
    "    min_beta_score=0.02,\n",
    ")"
   ]
  },
  {
   "cell_type": "code",
   "execution_count": 7,
   "metadata": {},
   "outputs": [
    {
     "name": "stdout",
     "output_type": "stream",
     "text": [
      "Pipeline: ABTest.cupac -> ABTest.bucketing\n",
      "<function ABTest.test_hypothesis_boot_confint at 0x7f9578721820>\n"
     ]
    }
   ],
   "source": [
    "print(prepilot_params.transformations)\n",
    "print(prepilot_params.stat_test)"
   ]
  }
 ],
 "metadata": {
  "kernelspec": {
   "display_name": "base",
   "language": "python",
   "name": "python3"
  },
  "language_info": {
   "codemirror_mode": {
    "name": "ipython",
    "version": 3
   },
   "file_extension": ".py",
   "mimetype": "text/x-python",
   "name": "python",
   "nbconvert_exporter": "python",
   "pygments_lexer": "ipython3",
   "version": "3.9.7"
  },
  "vscode": {
   "interpreter": {
    "hash": "626acd8304246c39c892b04a088b1f86fa4d1e9c8375290e6951e511351ad7f7"
   }
  }
 },
 "nbformat": 4,
 "nbformat_minor": 2
}
