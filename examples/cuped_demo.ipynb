{
 "cells": [
  {
   "cell_type": "markdown",
   "id": "028d5ac7",
   "metadata": {},
   "source": [
    "# Кейс №5. CUPED"
   ]
  },
  {
   "cell_type": "code",
   "execution_count": 1,
   "id": "6ae424b4",
   "metadata": {},
   "outputs": [
    {
     "ename": "ModuleNotFoundError",
     "evalue": "No module named 'abacus'",
     "output_type": "error",
     "traceback": [
      "\u001b[0;31m---------------------------------------------------------------------------\u001b[0m",
      "\u001b[0;31mModuleNotFoundError\u001b[0m                       Traceback (most recent call last)",
      "Cell \u001b[0;32mIn[1], line 7\u001b[0m\n\u001b[1;32m      5\u001b[0m \u001b[38;5;28;01mimport\u001b[39;00m \u001b[38;5;21;01mnumpy\u001b[39;00m \u001b[38;5;28;01mas\u001b[39;00m \u001b[38;5;21;01mnp\u001b[39;00m\n\u001b[1;32m      6\u001b[0m \u001b[38;5;28;01mimport\u001b[39;00m \u001b[38;5;21;01mmatplotlib\u001b[39;00m\u001b[38;5;21;01m.\u001b[39;00m\u001b[38;5;21;01mpyplot\u001b[39;00m \u001b[38;5;28;01mas\u001b[39;00m \u001b[38;5;21;01mplt\u001b[39;00m\n\u001b[0;32m----> 7\u001b[0m \u001b[38;5;28;01mfrom\u001b[39;00m \u001b[38;5;21;01mabacus\u001b[39;00m\u001b[38;5;21;01m.\u001b[39;00m\u001b[38;5;21;01mauto_ab\u001b[39;00m\u001b[38;5;21;01m.\u001b[39;00m\u001b[38;5;21;01mabtest\u001b[39;00m \u001b[38;5;28;01mimport\u001b[39;00m ABTest\n\u001b[1;32m      8\u001b[0m \u001b[38;5;28;01mfrom\u001b[39;00m \u001b[38;5;21;01mabacus\u001b[39;00m\u001b[38;5;21;01m.\u001b[39;00m\u001b[38;5;21;01mauto_ab\u001b[39;00m\u001b[38;5;21;01m.\u001b[39;00m\u001b[38;5;21;01mparams\u001b[39;00m \u001b[38;5;28;01mimport\u001b[39;00m ABTestParams\n\u001b[1;32m     10\u001b[0m get_ipython()\u001b[38;5;241m.\u001b[39mrun_line_magic(\u001b[38;5;124m'\u001b[39m\u001b[38;5;124mload_ext\u001b[39m\u001b[38;5;124m'\u001b[39m, \u001b[38;5;124m'\u001b[39m\u001b[38;5;124mautoreload\u001b[39m\u001b[38;5;124m'\u001b[39m)\n",
      "\u001b[0;31mModuleNotFoundError\u001b[0m: No module named 'abacus'"
     ]
    }
   ],
   "source": [
    "import warnings\n",
    "warnings.filterwarnings('ignore')\n",
    "\n",
    "import pandas as pd\n",
    "import numpy as np\n",
    "import matplotlib.pyplot as plt\n",
    "from abacus.auto_ab.abtest import ABTest\n",
    "from abacus.auto_ab.params import ABTestParams\n",
    "\n",
    "%load_ext autoreload\n",
    "%autoreload 2"
   ]
  },
  {
   "cell_type": "markdown",
   "id": "0e40d09c",
   "metadata": {},
   "source": [
    "# Кейс 5.1. Различий между групп нет"
   ]
  },
  {
   "cell_type": "code",
   "execution_count": null,
   "id": "e836c7f2",
   "metadata": {},
   "outputs": [],
   "source": [
    "df = pd.read_csv('./data/ab_data.csv')"
   ]
  },
  {
   "cell_type": "code",
   "execution_count": null,
   "id": "2d2d95b8",
   "metadata": {},
   "outputs": [],
   "source": [
    "ab_params = ABTestParams()\n",
    "ab_test = ABTest(df, ab_params)"
   ]
  },
  {
   "cell_type": "code",
   "execution_count": null,
   "id": "757b23b5",
   "metadata": {},
   "outputs": [],
   "source": [
    "print('Control mean = {:.3f}'.format(np.mean(ab_test.params.data_params.control)))\n",
    "print('Treatment mean = {:.3f}'.format(np.mean(ab_test.params.data_params.treatment)))\n",
    "print('Control var = {:.3f}'.format(np.var(ab_test.params.data_params.control)))\n",
    "print('Treatment var = {:.3f}'.format(np.var(ab_test.params.data_params.treatment)))"
   ]
  },
  {
   "cell_type": "code",
   "execution_count": null,
   "id": "039b9207",
   "metadata": {},
   "outputs": [],
   "source": [
    "ab_test1 = ab_test.cuped()"
   ]
  },
  {
   "cell_type": "code",
   "execution_count": null,
   "id": "aef06c19",
   "metadata": {},
   "outputs": [],
   "source": [
    "print('Control mean = {:.3f}'.format(np.mean(ab_test1.params.data_params.control)))\n",
    "print('Treatment mean = {:.3f}'.format(np.mean(ab_test1.params.data_params.treatment)))\n",
    "print('Control var = {:.3f}'.format(np.var(ab_test1.params.data_params.control)))\n",
    "print('Treatment var = {:.3f}'.format(np.var(ab_test1.params.data_params.treatment)))"
   ]
  },
  {
   "cell_type": "code",
   "execution_count": null,
   "id": "30cfa5bc",
   "metadata": {},
   "outputs": [],
   "source": [
    "print(f\"bootstrap_test: {ab_test.test_boot_confint()}\")\n",
    "print(f\"mannwhitney_test: {ab_test.test_mannwhitney()}\")\n",
    "print(f\"ttest_test: {ab_test.test_welch()}\")"
   ]
  },
  {
   "cell_type": "code",
   "execution_count": null,
   "id": "81cc979b",
   "metadata": {},
   "outputs": [],
   "source": [
    "plt.figure(figsize=(20,10))\n",
    "plt.hist(ab_test.params.data_params.treatment, bins=100, label='Test', color=\"blue\")\n",
    "plt.hist(ab_test.params.data_params.control, bins=100, label='Control', color=\"red\")\n",
    "\n",
    "plt.style.use('ggplot')\n",
    "plt.legend(loc='upper right')\n",
    "plt.vlines([np.mean(ab_test.params.data_params.treatment), np.mean(ab_test.params.data_params.control)],\n",
    "           ymin=0, ymax=3500, color='black', linestyles='dotted')\n",
    "plt.xlim([155, 200])\n",
    "plt.show()\n",
    "plt.close()"
   ]
  },
  {
   "cell_type": "markdown",
   "id": "ea15d193",
   "metadata": {},
   "source": [
    "### Применяем CUPED для данных без различий"
   ]
  },
  {
   "cell_type": "code",
   "execution_count": null,
   "id": "f3de1e9b",
   "metadata": {},
   "outputs": [],
   "source": [
    "df = pd.read_csv('./data/ab_data.csv')"
   ]
  },
  {
   "cell_type": "code",
   "execution_count": null,
   "id": "31dffd10",
   "metadata": {},
   "outputs": [],
   "source": [
    "ab_test1 = ab_test.cuped()"
   ]
  },
  {
   "cell_type": "code",
   "execution_count": null,
   "id": "4ab458ba",
   "metadata": {},
   "outputs": [],
   "source": [
    "print('Control mean = {:.3f}'.format(np.mean(ab_test1.params.data_params.control)))\n",
    "print('Treatment mean = {:.3f}'.format(np.mean(ab_test1.params.data_params.treatment)))\n",
    "print('Control var = {:.3f}'.format(np.var(ab_test1.params.data_params.control)))\n",
    "print('Treatment var = {:.3f}'.format(np.var(ab_test1.params.data_params.treatment)))"
   ]
  },
  {
   "cell_type": "code",
   "execution_count": null,
   "id": "4647f2ab",
   "metadata": {},
   "outputs": [],
   "source": [
    "print(f\"bootstrap_test: {ab_test1.test_boot_confint()}\")\n",
    "print(f\"mannwhitney_test: {ab_test1.test_mannwhitney()}\")\n",
    "print(f\"ttest_test: {ab_test1.test_welch()}\")"
   ]
  },
  {
   "cell_type": "code",
   "execution_count": null,
   "id": "b019cf71",
   "metadata": {},
   "outputs": [],
   "source": [
    "plt.figure(figsize=(20,10))\n",
    "plt.hist(ab_test1.params.data_params.treatment, bins=100, label='Test', color=\"blue\")\n",
    "plt.hist(ab_test1.params.data_params.control, bins=100, label='Control', color=\"red\")\n",
    "\n",
    "plt.style.use('ggplot')\n",
    "plt.ylabel('Частота значения')\n",
    "plt.legend(loc='upper right')\n",
    "plt.vlines([np.mean(ab_test1.params.data_params.treatment), np.mean(ab_test1.params.data_params.control)],\n",
    "           ymin=0, ymax=3500, color='black', linestyles='dotted')\n",
    "plt.xlim([155, 200])\n",
    "plt.show()\n",
    "plt.close()"
   ]
  },
  {
   "cell_type": "markdown",
   "id": "b2855382",
   "metadata": {},
   "source": [
    "# Кейс 5.2. Различия между группами есть\n",
    "\n",
    "### Увеличиваем значения одной из групп"
   ]
  },
  {
   "cell_type": "code",
   "execution_count": null,
   "id": "805fc2e4",
   "metadata": {},
   "outputs": [],
   "source": [
    "df = pd.read_csv('./data/ab_data.csv')\n",
    "\n",
    "incs = np.sort(np.random.uniform(0.0, 0.016, df.shape[0]))\n",
    "df[ab_test.params.data_params.target].where(df[ab_test.params.data_params.group_col]=='A',\n",
    "                                    df[ab_test.params.data_params.target] + incs, \n",
    "                                    axis=0,\n",
    "                                    inplace=True)\n",
    "\n",
    "ab_test = ABTest(df, ab_params)"
   ]
  },
  {
   "cell_type": "code",
   "execution_count": null,
   "id": "28052067",
   "metadata": {},
   "outputs": [],
   "source": [
    "print('Control mean = {:.3f}'.format(np.mean(ab_test.params.data_params.control)))\n",
    "print('Treatment mean = {:.3f}'.format(np.mean(ab_test.params.data_params.treatment)))\n",
    "print('Control var = {:.3f}'.format(np.var(ab_test.params.data_params.control)))\n",
    "print('Treatment var = {:.3f}'.format(np.var(ab_test.params.data_params.treatment)))"
   ]
  },
  {
   "cell_type": "code",
   "execution_count": null,
   "id": "d305986f",
   "metadata": {},
   "outputs": [],
   "source": [
    "print(f\"bootstrap_test: {ab_test.test_boot_confint()}\")\n",
    "print(f\"mannwhitney_test: {ab_test.test_mannwhitney()}\")\n",
    "print(f\"ttest_test: {ab_test.test_welch()}\")"
   ]
  },
  {
   "cell_type": "code",
   "execution_count": null,
   "id": "052db804",
   "metadata": {},
   "outputs": [],
   "source": [
    "plt.figure(figsize=(20,10))\n",
    "plt.hist(ab_test.params.data_params.treatment, bins=100, label='Test', color=\"blue\")\n",
    "plt.hist(ab_test.params.data_params.control, bins=100, label='Control', color=\"red\")\n",
    "\n",
    "plt.style.use('ggplot')\n",
    "plt.legend(loc='upper right')\n",
    "plt.vlines([np.mean(ab_test.params.data_params.treatment), np.mean(ab_test.params.data_params.control)],\n",
    "           ymin=0, ymax=3500, color='black', linestyles='dotted')\n",
    "plt.xlim([155, 200])\n",
    "plt.show()\n",
    "plt.close()"
   ]
  },
  {
   "cell_type": "markdown",
   "id": "0173f57e",
   "metadata": {},
   "source": [
    "### Применяем CUPED для данных с различиями"
   ]
  },
  {
   "cell_type": "code",
   "execution_count": null,
   "id": "81748b11",
   "metadata": {},
   "outputs": [],
   "source": [
    "ab_test = ABTest(df, ab_params)\n",
    "ab_test2 = ab_test.cuped()"
   ]
  },
  {
   "cell_type": "code",
   "execution_count": null,
   "id": "2823149b",
   "metadata": {},
   "outputs": [],
   "source": [
    "print('Control mean = {:.3f}'.format(np.mean(ab_test2.params.data_params.control)))\n",
    "print('Treatment mean = {:.3f}'.format(np.mean(ab_test2.params.data_params.treatment)))\n",
    "print('Control var = {:.3f}'.format(np.var(ab_test2.params.data_params.control)))\n",
    "print('Treatment var = {:.3f}'.format(np.var(ab_test2.params.data_params.treatment)))"
   ]
  },
  {
   "cell_type": "code",
   "execution_count": null,
   "id": "241639cf",
   "metadata": {},
   "outputs": [],
   "source": [
    "print(f\"bootstrap_test: {ab_test2.test_boot_confint()}\")\n",
    "print(f\"mannwhitney_test: {ab_test2.test_mannwhitney()}\")\n",
    "print(f\"ttest_test: {ab_test2.test_welch()}\")"
   ]
  },
  {
   "cell_type": "code",
   "execution_count": null,
   "id": "951be57e",
   "metadata": {},
   "outputs": [],
   "source": [
    "plt.figure(figsize=(20,10))\n",
    "plt.hist(ab_test2.params.data_params.treatment, bins=100, label='Test', color=\"blue\")\n",
    "plt.hist(ab_test2.params.data_params.control, bins=100, label='Control', color=\"red\")\n",
    "\n",
    "plt.style.use('ggplot')\n",
    "plt.legend(loc='upper right')\n",
    "plt.vlines([np.mean(ab_test2.params.data_params.treatment), np.mean(ab_test2.params.data_params.control)],\n",
    "           ymin=0, ymax=3500, color='black', linestyles='dotted')\n",
    "plt.xlim([155, 200])\n",
    "plt.show()\n",
    "plt.close()"
   ]
  }
 ],
 "metadata": {
  "kernelspec": {
   "display_name": "Python 3 (ipykernel)",
   "language": "python",
   "name": "python3"
  },
  "language_info": {
   "codemirror_mode": {
    "name": "ipython",
    "version": 3
   },
   "file_extension": ".py",
   "mimetype": "text/x-python",
   "name": "python",
   "nbconvert_exporter": "python",
   "pygments_lexer": "ipython3",
   "version": "3.11.4"
  },
  "vscode": {
   "interpreter": {
    "hash": "626acd8304246c39c892b04a088b1f86fa4d1e9c8375290e6951e511351ad7f7"
   }
  }
 },
 "nbformat": 4,
 "nbformat_minor": 5
}
