{
 "cells": [
  {
   "cell_type": "markdown",
   "metadata": {},
   "source": [
    "# Кейс №5. CUPED"
   ]
  },
  {
   "cell_type": "code",
   "execution_count": null,
   "metadata": {},
   "outputs": [],
   "source": [
    "import warnings\n",
    "warnings.filterwarnings('ignore')\n",
    "\n",
    "import pandas as pd\n",
    "import numpy as np\n",
    "import matplotlib.pyplot as plt\n",
    "from auto_ab.auto_ab.abtest import ABTest\n",
    "from auto_ab.auto_ab.params import ABTestParams\n",
    "\n",
    "%load_ext autoreload\n",
    "%autoreload 2"
   ]
  },
  {
   "cell_type": "markdown",
   "metadata": {},
   "source": [
    "# Кейс 5.1. Различий между групп нет"
   ]
  },
  {
   "cell_type": "code",
   "execution_count": null,
   "id": "66d2be3f",
   "metadata": {},
   "outputs": [],
   "source": [
    "df = pd.read_csv('./data/ab_data.csv')"
   ]
  },
  {
   "cell_type": "code",
   "execution_count": null,
   "id": "251993a9",
   "metadata": {},
   "outputs": [],
   "source": [
    "ab_params = ABTestParams()\n",
    "ab_test = ABTest(df, ab_params)"
   ]
  },
  {
   "cell_type": "code",
   "execution_count": null,
   "id": "43d743d5",
   "metadata": {},
   "outputs": [],
   "source": [
    "print('Control mean = {:.3f}'.format(np.mean(ab_test.params.data_params.control)))\n",
    "print('Treatment mean = {:.3f}'.format(np.mean(ab_test.params.data_params.treatment)))\n",
    "print('Control var = {:.3f}'.format(np.var(ab_test.params.data_params.control)))\n",
    "print('Treatment var = {:.3f}'.format(np.var(ab_test.params.data_params.treatment)))"
   ]
  },
  {
   "cell_type": "code",
   "execution_count": null,
   "id": "4f448545",
   "metadata": {},
   "outputs": [],
   "source": [
    "ab_test1 = ab_test.cuped()"
   ]
  },
  {
   "cell_type": "code",
   "execution_count": null,
   "id": "fca8be12",
   "metadata": {},
   "outputs": [],
   "source": [
    "print('Control mean = {:.3f}'.format(np.mean(ab_test1.params.data_params.control)))\n",
    "print('Treatment mean = {:.3f}'.format(np.mean(ab_test1.params.data_params.treatment)))\n",
    "print('Control var = {:.3f}'.format(np.var(ab_test1.params.data_params.control)))\n",
    "print('Treatment var = {:.3f}'.format(np.var(ab_test1.params.data_params.treatment)))"
   ]
  },
  {
   "cell_type": "code",
   "execution_count": null,
   "id": "874cedba",
   "metadata": {},
   "outputs": [],
   "source": [
    "print(f\"bootstrap_test: {ab_test.test_hypothesis_boot_confint()}\")\n",
    "print(f\"mannwhitney_test: {ab_test.test_hypothesis_mannwhitney()}\")\n",
    "print(f\"ttest_test: {ab_test.test_hypothesis_ttest()}\")"
   ]
  },
  {
   "cell_type": "code",
   "execution_count": null,
   "id": "9d39f59f",
   "metadata": {},
   "outputs": [],
   "source": [
    "plt.figure(figsize=(20,10))\n",
    "plt.hist(ab_test.params.data_params.treatment, bins=100, label='Test', color=\"blue\")\n",
    "plt.hist(ab_test.params.data_params.control, bins=100, label='Control', color=\"red\")\n",
    "\n",
    "plt.style.use('ggplot')\n",
    "plt.legend(loc='upper right')\n",
    "plt.vlines([np.mean(ab_test.params.data_params.treatment), np.mean(ab_test.params.data_params.control)],\n",
    "           ymin=0, ymax=3500, color='black', linestyles='dotted')\n",
    "plt.xlim([155, 200])\n",
    "plt.show()\n",
    "plt.close()"
   ]
  },
  {
   "cell_type": "markdown",
   "id": "680a17f4",
   "metadata": {},
   "source": [
    "### Применяем CUPED для данных без различий"
   ]
  },
  {
   "cell_type": "code",
   "execution_count": null,
   "id": "31d46eb3",
   "metadata": {},
   "outputs": [],
   "source": [
    "df = pd.read_csv('./data/ab_data.csv')"
   ]
  },
  {
   "cell_type": "code",
   "execution_count": null,
   "id": "b89545c9",
   "metadata": {},
   "outputs": [],
   "source": [
    "ab_test1 = ab_test.cuped()"
   ]
  },
  {
   "cell_type": "code",
   "execution_count": null,
   "id": "6995bd13",
   "metadata": {},
   "outputs": [],
   "source": [
    "print('Control mean = {:.3f}'.format(np.mean(ab_test1.params.data_params.control)))\n",
    "print('Treatment mean = {:.3f}'.format(np.mean(ab_test1.params.data_params.treatment)))\n",
    "print('Control var = {:.3f}'.format(np.var(ab_test1.params.data_params.control)))\n",
    "print('Treatment var = {:.3f}'.format(np.var(ab_test1.params.data_params.treatment)))"
   ]
  },
  {
   "cell_type": "code",
   "execution_count": null,
   "id": "3341dcc4",
   "metadata": {},
   "outputs": [],
   "source": [
    "print(f\"bootstrap_test: {ab_test1.test_hypothesis_boot_confint()}\")\n",
    "print(f\"mannwhitney_test: {ab_test1.test_hypothesis_mannwhitney()}\")\n",
    "print(f\"ttest_test: {ab_test1.test_hypothesis_ttest()}\")"
   ]
  },
  {
   "cell_type": "code",
   "execution_count": null,
   "id": "2f3de8ba",
   "metadata": {},
   "outputs": [],
   "source": [
    "plt.figure(figsize=(20,10))\n",
    "plt.hist(ab_test1.params.data_params.treatment, bins=100, label='Test', color=\"blue\")\n",
    "plt.hist(ab_test1.params.data_params.control, bins=100, label='Control', color=\"red\")\n",
    "\n",
    "plt.style.use('ggplot')\n",
    "plt.ylabel('Частота значения')\n",
    "plt.legend(loc='upper right')\n",
    "plt.vlines([np.mean(ab_test1.params.data_params.treatment), np.mean(ab_test1.params.data_params.control)],\n",
    "           ymin=0, ymax=3500, color='black', linestyles='dotted')\n",
    "plt.xlim([155, 200])\n",
    "plt.show()\n",
    "plt.close()"
   ]
  },
  {
   "cell_type": "markdown",
   "id": "3d03acd4",
   "metadata": {},
   "source": [
    "# Кейс 5.2. Различия между группами есть\n",
    "\n",
    "### Увеличиваем значения одной из групп"
   ]
  },
  {
   "cell_type": "code",
   "execution_count": null,
   "id": "52ec7cef",
   "metadata": {},
   "outputs": [],
   "source": [
    "df = pd.read_csv('./data/ab_data.csv')\n",
    "\n",
    "incs = np.sort(np.random.uniform(0.0, 0.016, df.shape[0]))\n",
    "df[ab_test.params.data_params.target].where(df[ab_test.params.data_params.group_col]=='A',\n",
    "                                    df[ab_test.params.data_params.target] + incs, \n",
    "                                    axis=0,\n",
    "                                    inplace=True)\n",
    "\n",
    "ab_test = ABTest(df, ab_params)"
   ]
  },
  {
   "cell_type": "code",
   "execution_count": null,
   "id": "48f8d673",
   "metadata": {},
   "outputs": [],
   "source": [
    "print('Control mean = {:.3f}'.format(np.mean(ab_test.params.data_params.control)))\n",
    "print('Treatment mean = {:.3f}'.format(np.mean(ab_test.params.data_params.treatment)))\n",
    "print('Control var = {:.3f}'.format(np.var(ab_test.params.data_params.control)))\n",
    "print('Treatment var = {:.3f}'.format(np.var(ab_test.params.data_params.treatment)))"
   ]
  },
  {
   "cell_type": "code",
   "execution_count": null,
   "id": "f0318888",
   "metadata": {},
   "outputs": [],
   "source": [
    "print(f\"bootstrap_test: {ab_test.test_hypothesis_boot_confint()}\")\n",
    "print(f\"mannwhitney_test: {ab_test.test_hypothesis_mannwhitney()}\")\n",
    "print(f\"ttest_test: {ab_test.test_hypothesis_ttest()}\")"
   ]
  },
  {
   "cell_type": "code",
   "execution_count": null,
   "id": "8b2960e0",
   "metadata": {},
   "outputs": [],
   "source": [
    "plt.figure(figsize=(20,10))\n",
    "plt.hist(ab_test.params.data_params.treatment, bins=100, label='Test', color=\"blue\")\n",
    "plt.hist(ab_test.params.data_params.control, bins=100, label='Control', color=\"red\")\n",
    "\n",
    "plt.style.use('ggplot')\n",
    "plt.legend(loc='upper right')\n",
    "plt.vlines([np.mean(ab_test.params.data_params.treatment), np.mean(ab_test.params.data_params.control)],\n",
    "           ymin=0, ymax=3500, color='black', linestyles='dotted')\n",
    "plt.xlim([155, 200])\n",
    "plt.show()\n",
    "plt.close()"
   ]
  },
  {
   "cell_type": "markdown",
   "id": "5e08960b",
   "metadata": {},
   "source": [
    "### Применяем CUPED для данных с различиями"
   ]
  },
  {
   "cell_type": "code",
   "execution_count": null,
   "id": "effb8565",
   "metadata": {},
   "outputs": [],
   "source": [
    "ab_test = ABTest(df, ab_params)\n",
    "ab_test2 = ab_test.cuped()"
   ]
  },
  {
   "cell_type": "code",
   "execution_count": null,
   "id": "e84ed719",
   "metadata": {},
   "outputs": [],
   "source": [
    "print('Control mean = {:.3f}'.format(np.mean(ab_test2.params.data_params.control)))\n",
    "print('Treatment mean = {:.3f}'.format(np.mean(ab_test2.params.data_params.treatment)))\n",
    "print('Control var = {:.3f}'.format(np.var(ab_test2.params.data_params.control)))\n",
    "print('Treatment var = {:.3f}'.format(np.var(ab_test2.params.data_params.treatment)))"
   ]
  },
  {
   "cell_type": "code",
   "execution_count": null,
   "id": "0bd20ff0",
   "metadata": {},
   "outputs": [],
   "source": [
    "print(f\"bootstrap_test: {ab_test2.test_hypothesis_boot_confint()}\")\n",
    "print(f\"mannwhitney_test: {ab_test2.test_hypothesis_mannwhitney()}\")\n",
    "print(f\"ttest_test: {ab_test2.test_hypothesis_ttest()}\")"
   ]
  },
  {
   "cell_type": "code",
   "execution_count": null,
   "id": "51537ea4",
   "metadata": {},
   "outputs": [],
   "source": [
    "plt.figure(figsize=(20,10))\n",
    "plt.hist(ab_test2.params.data_params.treatment, bins=100, label='Test', color=\"blue\")\n",
    "plt.hist(ab_test2.params.data_params.control, bins=100, label='Control', color=\"red\")\n",
    "\n",
    "plt.style.use('ggplot')\n",
    "plt.legend(loc='upper right')\n",
    "plt.vlines([np.mean(ab_test2.params.data_params.treatment), np.mean(ab_test2.params.data_params.control)],\n",
    "           ymin=0, ymax=3500, color='black', linestyles='dotted')\n",
    "plt.xlim([155, 200])\n",
    "plt.show()\n",
    "plt.close()"
   ]
  }
 ],
 "metadata": {
  "kernelspec": {
   "display_name": "Python 3.9.7 ('base')",
   "language": "python",
   "name": "python3"
  },
  "language_info": {
   "codemirror_mode": {
    "name": "ipython",
    "version": 3
   },
   "file_extension": ".py",
   "mimetype": "text/x-python",
   "name": "python",
   "nbconvert_exporter": "python",
   "pygments_lexer": "ipython3",
   "version": "3.9.7"
  },
  "vscode": {
   "interpreter": {
    "hash": "626acd8304246c39c892b04a088b1f86fa4d1e9c8375290e6951e511351ad7f7"
   }
  }
 },
 "nbformat": 4,
 "nbformat_minor": 5
}
