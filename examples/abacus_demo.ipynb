{
 "cells": [
  {
   "cell_type": "code",
   "execution_count": 559,
   "metadata": {},
   "outputs": [
    {
     "name": "stdout",
     "output_type": "stream",
     "text": [
      "The autoreload extension is already loaded. To reload it, use:\n",
      "  %reload_ext autoreload\n"
     ]
    }
   ],
   "source": [
    "import warnings\n",
    "warnings.filterwarnings('ignore')\n",
    "\n",
    "import os\n",
    "import sys\n",
    "import logging\n",
    "import pandas as pd\n",
    "import numpy as np\n",
    "import yaml\n",
    "import matplotlib.pyplot as plt\n",
    "\n",
    "sys.path.append('../')\n",
    "\n",
    "from abacus.auto_ab.abtest import ABTest\n",
    "from abacus.auto_ab.params import ABTestParams\n",
    "from abacus.auto_ab.params import DataParams, HypothesisParams\n",
    "from abacus.splitter.split_builder import SplitBuilder\n",
    "from abacus.splitter.params import SplitBuilderParams\n",
    "from abacus.mde_researcher.params import MdeParams\n",
    "from abacus.mde_researcher.mde_research_builder import MdeResearchBuilder\n",
    "from abacus.mde_researcher.multiple_split_builder import MultipleSplitBuilder\n",
    "\n",
    "\n",
    "logging.basicConfig(level = logging.INFO)\n",
    "\n",
    "\n",
    "%load_ext autoreload\n",
    "%autoreload 2"
   ]
  },
  {
   "cell_type": "markdown",
   "metadata": {},
   "source": [
    "# Данные, с которыми будем готовить"
   ]
  },
  {
   "cell_type": "code",
   "execution_count": 467,
   "metadata": {},
   "outputs": [
    {
     "data": {
      "text/html": [
       "<div>\n",
       "<style scoped>\n",
       "    .dataframe tbody tr th:only-of-type {\n",
       "        vertical-align: middle;\n",
       "    }\n",
       "\n",
       "    .dataframe tbody tr th {\n",
       "        vertical-align: top;\n",
       "    }\n",
       "\n",
       "    .dataframe thead th {\n",
       "        text-align: right;\n",
       "    }\n",
       "</style>\n",
       "<table border=\"1\" class=\"dataframe\">\n",
       "  <thead>\n",
       "    <tr style=\"text-align: right;\">\n",
       "      <th></th>\n",
       "      <th>height_now</th>\n",
       "      <th>height_prev</th>\n",
       "      <th>weight_now</th>\n",
       "      <th>weight_prev</th>\n",
       "      <th>noise_now</th>\n",
       "      <th>noise_prev</th>\n",
       "      <th>groups</th>\n",
       "      <th>id</th>\n",
       "      <th>moda_city</th>\n",
       "      <th>country</th>\n",
       "      <th>numerator</th>\n",
       "      <th>denominator</th>\n",
       "      <th>conversion</th>\n",
       "    </tr>\n",
       "  </thead>\n",
       "  <tbody>\n",
       "    <tr>\n",
       "      <th>0</th>\n",
       "      <td>172.470442</td>\n",
       "      <td>166.382868</td>\n",
       "      <td>163.648256</td>\n",
       "      <td>173.422115</td>\n",
       "      <td>5.644384</td>\n",
       "      <td>-1.923929</td>\n",
       "      <td>A</td>\n",
       "      <td>0</td>\n",
       "      <td>3</td>\n",
       "      <td>2</td>\n",
       "      <td>3</td>\n",
       "      <td>2</td>\n",
       "      <td>1</td>\n",
       "    </tr>\n",
       "    <tr>\n",
       "      <th>1</th>\n",
       "      <td>178.610565</td>\n",
       "      <td>173.386388</td>\n",
       "      <td>173.195935</td>\n",
       "      <td>180.831845</td>\n",
       "      <td>11.664751</td>\n",
       "      <td>2.711829</td>\n",
       "      <td>B</td>\n",
       "      <td>1</td>\n",
       "      <td>2</td>\n",
       "      <td>2</td>\n",
       "      <td>1</td>\n",
       "      <td>4</td>\n",
       "      <td>1</td>\n",
       "    </tr>\n",
       "    <tr>\n",
       "      <th>2</th>\n",
       "      <td>180.382301</td>\n",
       "      <td>178.563579</td>\n",
       "      <td>174.520065</td>\n",
       "      <td>181.571024</td>\n",
       "      <td>7.183178</td>\n",
       "      <td>-0.453939</td>\n",
       "      <td>A</td>\n",
       "      <td>2</td>\n",
       "      <td>3</td>\n",
       "      <td>1</td>\n",
       "      <td>2</td>\n",
       "      <td>2</td>\n",
       "      <td>1</td>\n",
       "    </tr>\n",
       "    <tr>\n",
       "      <th>3</th>\n",
       "      <td>180.954018</td>\n",
       "      <td>179.732080</td>\n",
       "      <td>175.731245</td>\n",
       "      <td>182.840388</td>\n",
       "      <td>-4.682656</td>\n",
       "      <td>6.358723</td>\n",
       "      <td>B</td>\n",
       "      <td>3</td>\n",
       "      <td>4</td>\n",
       "      <td>1</td>\n",
       "      <td>3</td>\n",
       "      <td>2</td>\n",
       "      <td>0</td>\n",
       "    </tr>\n",
       "    <tr>\n",
       "      <th>4</th>\n",
       "      <td>167.590042</td>\n",
       "      <td>167.684244</td>\n",
       "      <td>166.109779</td>\n",
       "      <td>170.189261</td>\n",
       "      <td>9.134517</td>\n",
       "      <td>-1.153977</td>\n",
       "      <td>B</td>\n",
       "      <td>4</td>\n",
       "      <td>2</td>\n",
       "      <td>1</td>\n",
       "      <td>3</td>\n",
       "      <td>2</td>\n",
       "      <td>1</td>\n",
       "    </tr>\n",
       "  </tbody>\n",
       "</table>\n",
       "</div>"
      ],
      "text/plain": [
       "   height_now  height_prev  weight_now  weight_prev  noise_now  noise_prev  \\\n",
       "0  172.470442   166.382868  163.648256   173.422115   5.644384   -1.923929   \n",
       "1  178.610565   173.386388  173.195935   180.831845  11.664751    2.711829   \n",
       "2  180.382301   178.563579  174.520065   181.571024   7.183178   -0.453939   \n",
       "3  180.954018   179.732080  175.731245   182.840388  -4.682656    6.358723   \n",
       "4  167.590042   167.684244  166.109779   170.189261   9.134517   -1.153977   \n",
       "\n",
       "  groups  id  moda_city  country  numerator  denominator  conversion  \n",
       "0      A   0          3        2          3            2           1  \n",
       "1      B   1          2        2          1            4           1  \n",
       "2      A   2          3        1          2            2           1  \n",
       "3      B   3          4        1          3            2           0  \n",
       "4      B   4          2        1          3            2           1  "
      ]
     },
     "execution_count": 467,
     "metadata": {},
     "output_type": "execute_result"
    }
   ],
   "source": [
    "pd.read_csv('./data/ab_data.csv').head()"
   ]
  },
  {
   "cell_type": "markdown",
   "metadata": {},
   "source": [
    "# Кейс №1. Постанализ непрерывной метрики"
   ]
  },
  {
   "cell_type": "code",
   "execution_count": 468,
   "metadata": {},
   "outputs": [],
   "source": [
    "df = pd.read_csv('./data/ab_data.csv')"
   ]
  },
  {
   "cell_type": "code",
   "execution_count": 469,
   "metadata": {},
   "outputs": [],
   "source": [
    "data_params = DataParams(\n",
    "    id_col='id', \n",
    "    group_col='groups', \n",
    "    strata_col='country', \n",
    "    target='height_now', \n",
    "    target_flg='bought', \n",
    "    predictors=['weight_now'], \n",
    "    numerator='clicks', \n",
    "    denominator='sessions', \n",
    "    covariate='height_prev', \n",
    "    target_prev='height_prev', \n",
    "    predictors_prev=['weight_prev'], \n",
    "    is_grouped=True\n",
    ")\n",
    "\n",
    "hypothesis_params = HypothesisParams(\n",
    "    alpha=0.05, \n",
    "    beta=0.2, \n",
    "    alternative='two-sided', \n",
    "    strata='country', \n",
    "    strata_weights={1: 0.8, 2: 0.2}, \n",
    "    metric_type='solid', \n",
    "    metric_name='mean', \n",
    "    metric=np.mean, \n",
    "    n_boot_samples=100, \n",
    "    n_buckets=50\n",
    ")\n",
    "\n",
    "ab_params = ABTestParams(data_params, hypothesis_params)"
   ]
  },
  {
   "cell_type": "code",
   "execution_count": 470,
   "metadata": {},
   "outputs": [],
   "source": [
    "ab_test = ABTest(df, ab_params)"
   ]
  },
  {
   "cell_type": "code",
   "execution_count": 471,
   "metadata": {},
   "outputs": [
    {
     "name": "stdout",
     "output_type": "stream",
     "text": [
      "Нет эффекта:\n",
      "bootstrap_test: {'stat': None, 'p-value': 0.29328314917320997, 'result': 0}\n",
      "mannwhitney_test: {'stat': 4992976857.0, 'p-value': 0.5890975776571467, 'result': 0}\n",
      "welch_test: {'stat': -0.4435517988023507, 'p-value': 0.6573671411499618, 'result': 0}\n"
     ]
    }
   ],
   "source": [
    "print('Нет эффекта:')\n",
    "print(f\"bootstrap_test: {ab_test.test_boot_confint()}\")\n",
    "print(f\"mannwhitney_test: {ab_test.test_mannwhitney()}\")\n",
    "print(f\"welch_test: {ab_test.test_welch()}\")"
   ]
  },
  {
   "cell_type": "markdown",
   "metadata": {},
   "source": [
    "Увеличиваем количество прокрасов в тестовой группе"
   ]
  },
  {
   "cell_type": "code",
   "execution_count": 472,
   "metadata": {},
   "outputs": [],
   "source": [
    "df[ab_test.params.data_params.target].where(df[ab_test.params.data_params.group_col] == 'A',\n",
    "                                            df[ab_test.params.data_params.target] * 1.001, \n",
    "                                            axis=0,\n",
    "                                            inplace=True)\n",
    "\n",
    "ab_test = ABTest(df, ab_params)"
   ]
  },
  {
   "cell_type": "code",
   "execution_count": 473,
   "metadata": {},
   "outputs": [
    {
     "name": "stdout",
     "output_type": "stream",
     "text": [
      "Есть эффект:\n",
      "bootstrap_test: {'stat': None, 'p-value': 7.514987160031179e-18, 'result': 1}\n",
      "mannwhitney_test: {'stat': 4894119324.0, 'p-value': 2.4516264484905984e-16, 'result': 1}\n",
      "welch_test: {'stat': -8.275588883468059, 'p-value': 1.2859564365137272e-16, 'result': 1}\n"
     ]
    }
   ],
   "source": [
    "print('Есть эффект:')\n",
    "print(f\"bootstrap_test: {ab_test.test_boot_confint()}\")\n",
    "print(f\"mannwhitney_test: {ab_test.test_mannwhitney()}\")\n",
    "print(f\"welch_test: {ab_test.test_welch()}\")"
   ]
  },
  {
   "cell_type": "markdown",
   "metadata": {},
   "source": [
    "# Кейс №2. Постанализ с увеличением чувствительности непрерывной метрики. CUPED"
   ]
  },
  {
   "cell_type": "code",
   "execution_count": 474,
   "metadata": {},
   "outputs": [],
   "source": [
    "df = pd.read_csv('./data/ab_data.csv')"
   ]
  },
  {
   "cell_type": "code",
   "execution_count": 475,
   "metadata": {},
   "outputs": [],
   "source": [
    "data_params = DataParams(\n",
    "    id_col='id', \n",
    "    group_col='groups', \n",
    "    strata_col='country', \n",
    "    target='height_now', \n",
    "    target_flg='bought', \n",
    "    predictors=['weight_now'], \n",
    "    numerator='clicks', \n",
    "    denominator='sessions', \n",
    "    covariate='height_prev', \n",
    "    target_prev='height_prev', \n",
    "    predictors_prev=['weight_prev'], \n",
    "    is_grouped=True\n",
    ")\n",
    "\n",
    "hypothesis_params = HypothesisParams(\n",
    "    alpha=0.05, \n",
    "    beta=0.2, \n",
    "    alternative='two-sided', \n",
    "    strata='country', \n",
    "    strata_weights={1: 0.8, 2: 0.2}, \n",
    "    metric_type='solid', \n",
    "    metric_name='mean', \n",
    "    metric=np.mean, \n",
    "    n_boot_samples=100, \n",
    "    n_buckets=50\n",
    ")\n",
    "\n",
    "ab_params = ABTestParams(data_params, hypothesis_params)"
   ]
  },
  {
   "cell_type": "markdown",
   "metadata": {},
   "source": [
    "Увеличиваем количество прокрасов в тестовой группе"
   ]
  },
  {
   "cell_type": "code",
   "execution_count": 476,
   "metadata": {},
   "outputs": [
    {
     "name": "stdout",
     "output_type": "stream",
     "text": [
      "Без понижения дисперсии:\n",
      "bootstrap_test: {'stat': None, 'p-value': 0.10430642025230996, 'result': 0}\n",
      "mannwhitney_test: {'stat': 4983082845.0, 'p-value': 0.19137136312943093, 'result': 0}\n",
      "ttest_test: {'stat': -1.2271064134922398, 'p-value': 0.21978404218147798, 'result': 0}\n",
      "\n",
      "С понижением дисперсии:\n",
      "bootstrap_test: {'stat': None, 'p-value': 0.0009192829595807282, 'result': 1}\n",
      "mannwhitney_test: {'stat': 4962621356.0, 'p-value': 0.0038343556323012554, 'result': 1}\n",
      "ttest_test: {'stat': -3.3123079503060633, 'p-value': 0.0009254602801692166, 'result': 1}\n"
     ]
    }
   ],
   "source": [
    "df[ab_test.params.data_params.target].where(df[ab_test.params.data_params.group_col] == 'A',\n",
    "                                            df[ab_test.params.data_params.target] * 1.0001, \n",
    "                                            axis=0,\n",
    "                                            inplace=True)\n",
    "\n",
    "print('Без понижения дисперсии:')\n",
    "ab_test = ABTest(df, ab_params)\n",
    "print(f\"bootstrap_test: {ab_test.test_boot_confint()}\")\n",
    "print(f\"mannwhitney_test: {ab_test.test_mannwhitney()}\")\n",
    "print(f\"ttest_test: {ab_test.test_welch()}\")\n",
    "\n",
    "print('\\nС понижением дисперсии:')\n",
    "ab_test1 = ab_test.cuped()\n",
    "print(f\"bootstrap_test: {ab_test1.test_boot_confint()}\")\n",
    "print(f\"mannwhitney_test: {ab_test1.test_mannwhitney()}\")\n",
    "print(f\"ttest_test: {ab_test1.test_welch()}\")"
   ]
  },
  {
   "cell_type": "markdown",
   "metadata": {},
   "source": [
    "# Кейс №3. Постанализ для бинарной метрики"
   ]
  },
  {
   "cell_type": "code",
   "execution_count": 499,
   "metadata": {},
   "outputs": [],
   "source": [
    "df = pd.read_csv('./data/ab_data.csv')"
   ]
  },
  {
   "cell_type": "code",
   "execution_count": 500,
   "metadata": {},
   "outputs": [],
   "source": [
    "data_params = DataParams(\n",
    "    id_col='id', \n",
    "    group_col='groups', \n",
    "    strata_col='country',\n",
    "    target='conversion', \n",
    "    target_flg='conversion', \n",
    "    predictors=['weight_now'], \n",
    "    numerator='numerator', \n",
    "    denominator='denominator', \n",
    "    covariate='height_prev', \n",
    "    target_prev='height_prev', \n",
    "    predictors_prev=['weight_prev'], \n",
    "    is_grouped=True\n",
    ")\n",
    "\n",
    "hypothesis_params = HypothesisParams(\n",
    "    alpha=0.05, \n",
    "    beta=0.2, \n",
    "    alternative='two-sided', \n",
    "    strata='country', \n",
    "    strata_weights={'1': 0.8, '2': 0.2}, \n",
    "    metric_type='binary', \n",
    "    metric_name='mean', \n",
    "    metric='mean', \n",
    "    n_boot_samples=200, \n",
    "    n_buckets=50\n",
    ")\n",
    "\n",
    "ab_params = ABTestParams(data_params, hypothesis_params)"
   ]
  },
  {
   "cell_type": "code",
   "execution_count": 501,
   "metadata": {},
   "outputs": [],
   "source": [
    "ab_test = ABTest(df, ab_params)"
   ]
  },
  {
   "cell_type": "code",
   "execution_count": 502,
   "metadata": {},
   "outputs": [
    {
     "name": "stdout",
     "output_type": "stream",
     "text": [
      "Нет эффекта:\n",
      "bootstrap_binary_test: {'stat': None, 'p-value': None, 'result': 0}\n",
      "z_proportions_test: {'stat': -0.6730634505952151, 'p-value': 0.500906925062246, 'result': 0}\n"
     ]
    }
   ],
   "source": [
    "print('Нет эффекта:')\n",
    "print(f\"bootstrap_binary_test: {ab_test.test_boot_ratio()}\")\n",
    "print(f\"z_proportions_test: {ab_test.test_z_proportions()}\")"
   ]
  },
  {
   "cell_type": "markdown",
   "metadata": {},
   "source": [
    "Увеличиваем количество прокрасов в тестовой группе"
   ]
  },
  {
   "cell_type": "code",
   "execution_count": 503,
   "metadata": {},
   "outputs": [
    {
     "name": "stdout",
     "output_type": "stream",
     "text": [
      "Есть эффект:\n",
      "bootstrap_binary_test: {'stat': None, 'p-value': None, 'result': 0}\n",
      "z_proportions_test: {'stat': -33.146236943108406, 'p-value': 6.416462756775327e-241, 'result': 1}\n"
     ]
    }
   ],
   "source": [
    "df['conversion'] = np.where(df.noise_now < 0, 0, 1)\n",
    "df[ab_test.params.data_params.target].where(df[ab_test.params.data_params.group_col] == 'A',\n",
    "                                            np.random.binomial(n=1, p=0.98, size=df.shape[0]),\n",
    "                                            axis=0,\n",
    "                                            inplace=True)\n",
    "\n",
    "ab_test = ABTest(df, ab_params)\n",
    "\n",
    "print('Есть эффект:')\n",
    "print(f\"bootstrap_binary_test: {ab_test.test_boot_ratio()}\")\n",
    "print(f\"z_proportions_test: {ab_test.test_z_proportions()}\")"
   ]
  },
  {
   "cell_type": "code",
   "execution_count": 504,
   "metadata": {},
   "outputs": [
    {
     "data": {
      "image/png": "[encoded data removed]",
      "text/plain": [
       "<Figure size 6000x3600 with 1 Axes>"
      ]
     },
     "metadata": {},
     "output_type": "display_data"
    }
   ],
   "source": [
    "ab_test.plot()"
   ]
  },
  {
   "cell_type": "markdown",
   "metadata": {},
   "source": [
    "# Кейс №4. Постанализ с увеличением чувствительности бинарной метрики. CUPED\n",
    "\n",
    "<span style=\"color: red;\">CUPED работает только с непрерывными метриками!</span>"
   ]
  },
  {
   "cell_type": "code",
   "execution_count": 485,
   "metadata": {},
   "outputs": [],
   "source": [
    "df = pd.read_csv('./data/ab_data.csv')"
   ]
  },
  {
   "cell_type": "code",
   "execution_count": 486,
   "metadata": {},
   "outputs": [],
   "source": [
    "data_params = DataParams(\n",
    "    id_col='id', \n",
    "    group_col='groups', \n",
    "    strata_col='country', \n",
    "    target='height_now', \n",
    "    target_flg='conversion', \n",
    "    predictors=['weight_now'], \n",
    "    numerator='numerator', \n",
    "    denominator='denominator', \n",
    "    covariate='height_prev', \n",
    "    target_prev='height_prev', \n",
    "    predictors_prev=['weight_prev'], \n",
    "    is_grouped=True\n",
    ")\n",
    "\n",
    "hypothesis_params = HypothesisParams(\n",
    "    alpha=0.05, \n",
    "    beta=0.2, \n",
    "    alternative='two-sided', \n",
    "    strata='country', \n",
    "    strata_weights={1: 0.8, 2: 0.2}, \n",
    "    metric_type='binary', \n",
    "    metric_name='mean', \n",
    "    metric=np.mean, \n",
    "    n_boot_samples=100, \n",
    "    n_buckets=50\n",
    ")\n",
    "\n",
    "ab_params = ABTestParams(data_params, hypothesis_params)"
   ]
  },
  {
   "cell_type": "code",
   "execution_count": 487,
   "metadata": {},
   "outputs": [
    {
     "name": "stdout",
     "output_type": "stream",
     "text": [
      "Нет эффекта:\n",
      "bootstrap_binary_test: {'stat': None, 'p-value': 0.2923214192832334, 'result': 0}\n",
      "z_proportions_test: {'stat': -0.6730634505952151, 'p-value': 0.500906925062246, 'result': 0}\n",
      "\n",
      "Тоже нет эффекта!\n",
      "bootstrap_binary_test: {'stat': None, 'p-value': 0.16191091548864112, 'result': 0}\n",
      "z_proportions_test: {'stat': -0.6730634505952151, 'p-value': 0.500906925062246, 'result': 0}\n"
     ]
    }
   ],
   "source": [
    "ab_test = ABTest(df, ab_params)\n",
    "print('Нет эффекта:')\n",
    "print(f\"bootstrap_binary_test: {ab_test.test_boot_confint()}\")\n",
    "print(f\"z_proportions_test: {ab_test.test_z_proportions()}\")\n",
    "\n",
    "ab_test1 = ab_test.cuped()\n",
    "print('\\nТоже нет эффекта!')\n",
    "print(f\"bootstrap_binary_test: {ab_test1.test_boot_confint()}\")\n",
    "print(f\"z_proportions_test: {ab_test1.test_z_proportions()}\")"
   ]
  },
  {
   "cell_type": "markdown",
   "metadata": {},
   "source": [
    "# Кейс №5. CUPED\n",
    "## Кейс №5.1. Различий между групп нет"
   ]
  },
  {
   "cell_type": "code",
   "execution_count": 488,
   "metadata": {},
   "outputs": [],
   "source": [
    "df = pd.read_csv('./data/ab_data.csv')"
   ]
  },
  {
   "cell_type": "code",
   "execution_count": 489,
   "metadata": {},
   "outputs": [],
   "source": [
    "data_params = DataParams(\n",
    "    id_col='id', \n",
    "    group_col='groups', \n",
    "    strata_col='country', \n",
    "    target='height_now', \n",
    "    target_flg='bought', \n",
    "    predictors=['weight_now'], \n",
    "    numerator='clicks', \n",
    "    denominator='sessions', \n",
    "    covariate='height_prev', \n",
    "    target_prev='height_prev', \n",
    "    predictors_prev=['weight_prev'], \n",
    "    is_grouped=True\n",
    ")\n",
    "\n",
    "hypothesis_params = HypothesisParams(\n",
    "    alpha=0.05, \n",
    "    beta=0.2, \n",
    "    alternative='two-sided', \n",
    "    strata='country', \n",
    "    strata_weights={1: 0.8, 2: 0.2}, \n",
    "    metric_type='solid', \n",
    "    metric_name='mean', \n",
    "    metric=np.mean, \n",
    "    n_boot_samples=100, \n",
    "    n_buckets=50\n",
    ")\n",
    "\n",
    "ab_params = ABTestParams(data_params, hypothesis_params)"
   ]
  },
  {
   "cell_type": "code",
   "execution_count": 490,
   "metadata": {},
   "outputs": [],
   "source": [
    "ab_test = ABTest(df, ab_params)"
   ]
  },
  {
   "cell_type": "code",
   "execution_count": 491,
   "metadata": {},
   "outputs": [
    {
     "name": "stdout",
     "output_type": "stream",
     "text": [
      "Control mean = 174.990\n",
      "Treatment mean = 175.000\n",
      "Control var = 24.972\n",
      "Treatment var = 24.900\n"
     ]
    }
   ],
   "source": [
    "print('Control mean = {:.3f}'.format(np.mean(ab_test.params.data_params.control)))\n",
    "print('Treatment mean = {:.3f}'.format(np.mean(ab_test.params.data_params.treatment)))\n",
    "print('Control var = {:.3f}'.format(np.var(ab_test.params.data_params.control)))\n",
    "print('Treatment var = {:.3f}'.format(np.var(ab_test.params.data_params.treatment)))"
   ]
  },
  {
   "cell_type": "code",
   "execution_count": 492,
   "metadata": {},
   "outputs": [
    {
     "name": "stdout",
     "output_type": "stream",
     "text": [
      "Различий нет:\n",
      "bootstrap_test: {'stat': None, 'p-value': 0.31554432957548756, 'result': 0}\n",
      "mannwhitney_test: {'stat': 4992976857.0, 'p-value': 0.5890975776571467, 'result': 0}\n",
      "ttest_test: {'stat': -0.4435517988023507, 'p-value': 0.6573671411499618, 'result': 0}\n"
     ]
    }
   ],
   "source": [
    "print('Различий нет:')\n",
    "print(f\"bootstrap_test: {ab_test.test_boot_confint()}\")\n",
    "print(f\"mannwhitney_test: {ab_test.test_mannwhitney()}\")\n",
    "print(f\"ttest_test: {ab_test.test_welch()}\")"
   ]
  },
  {
   "cell_type": "markdown",
   "metadata": {},
   "source": [
    "Применяем CUPED:"
   ]
  },
  {
   "cell_type": "code",
   "execution_count": 493,
   "metadata": {},
   "outputs": [],
   "source": [
    "ab_test1 = ab_test.cuped()"
   ]
  },
  {
   "cell_type": "code",
   "execution_count": 494,
   "metadata": {},
   "outputs": [
    {
     "name": "stdout",
     "output_type": "stream",
     "text": [
      "Control mean = 174.990\n",
      "Treatment mean = 175.000\n",
      "Control var = 3.417\n",
      "Treatment var = 3.428\n"
     ]
    }
   ],
   "source": [
    "print('Control mean = {:.3f}'.format(np.mean(ab_test1.params.data_params.control)))\n",
    "print('Treatment mean = {:.3f}'.format(np.mean(ab_test1.params.data_params.treatment)))\n",
    "print('Control var = {:.3f}'.format(np.var(ab_test1.params.data_params.control)))\n",
    "print('Treatment var = {:.3f}'.format(np.var(ab_test1.params.data_params.treatment)))"
   ]
  },
  {
   "cell_type": "code",
   "execution_count": 495,
   "metadata": {},
   "outputs": [
    {
     "name": "stdout",
     "output_type": "stream",
     "text": [
      "Если различий нет, то CUPED и не поможет их найти:\n",
      "bootstrap_test: {'stat': None, 'p-value': 0.15211813381716005, 'result': 0}\n",
      "mannwhitney_test: {'stat': 4989318477.0, 'p-value': 0.4102113130399977, 'result': 0}\n",
      "ttest_test: {'stat': -1.19727175900244, 'p-value': 0.2312020672817067, 'result': 0}\n"
     ]
    }
   ],
   "source": [
    "print('Если различий нет, то CUPED и не поможет их найти:')\n",
    "print(f\"bootstrap_test: {ab_test1.test_boot_confint()}\")\n",
    "print(f\"mannwhitney_test: {ab_test1.test_mannwhitney()}\")\n",
    "print(f\"ttest_test: {ab_test1.test_welch()}\")"
   ]
  },
  {
   "cell_type": "code",
   "execution_count": 496,
   "metadata": {},
   "outputs": [
    {
     "data": {
      "image/png": "[encoded data removed]",
      "text/plain": [
       "<Figure size 1440x864 with 1 Axes>"
      ]
     },
     "metadata": {},
     "output_type": "display_data"
    }
   ],
   "source": [
    "ab_test.plot()"
   ]
  },
  {
   "cell_type": "code",
   "execution_count": 497,
   "metadata": {},
   "outputs": [
    {
     "data": {
      "image/png": "[encoded data removed]",
      "text/plain": [
       "<Figure size 1440x864 with 1 Axes>"
      ]
     },
     "metadata": {},
     "output_type": "display_data"
    }
   ],
   "source": [
    "ab_test1.plot()"
   ]
  },
  {
   "cell_type": "markdown",
   "metadata": {},
   "source": [
    "## Кейс №5.2. Различия между группами есть\n",
    "\n",
    "### Увеличиваем значения одной из групп"
   ]
  },
  {
   "cell_type": "code",
   "execution_count": 412,
   "metadata": {},
   "outputs": [],
   "source": [
    "df = pd.read_csv('./data/ab_data.csv')"
   ]
  },
  {
   "cell_type": "code",
   "execution_count": 413,
   "metadata": {},
   "outputs": [],
   "source": [
    "incs = np.sort(np.random.uniform(0.0, 2, df.shape[0]))\n",
    "df[ab_test.params.data_params.target].where(df[ab_test.params.data_params.group_col]=='A',\n",
    "                                    df[ab_test.params.data_params.target] + incs, \n",
    "                                    axis=0,\n",
    "                                    inplace=True)"
   ]
  },
  {
   "cell_type": "code",
   "execution_count": 414,
   "metadata": {},
   "outputs": [],
   "source": [
    "ab_test = ABTest(df, ab_params)"
   ]
  },
  {
   "cell_type": "code",
   "execution_count": 415,
   "metadata": {},
   "outputs": [
    {
     "name": "stdout",
     "output_type": "stream",
     "text": [
      "Control mean = 174.990\n",
      "Treatment mean = 175.998\n",
      "Control var = 24.972\n",
      "Treatment var = 25.254\n"
     ]
    }
   ],
   "source": [
    "print('Control mean = {:.3f}'.format(np.mean(ab_test.params.data_params.control)))\n",
    "print('Treatment mean = {:.3f}'.format(np.mean(ab_test.params.data_params.treatment)))\n",
    "print('Control var = {:.3f}'.format(np.var(ab_test.params.data_params.control)))\n",
    "print('Treatment var = {:.3f}'.format(np.var(ab_test.params.data_params.treatment)))"
   ]
  },
  {
   "cell_type": "code",
   "execution_count": 416,
   "metadata": {},
   "outputs": [
    {
     "name": "stdout",
     "output_type": "stream",
     "text": [
      "Различий нет:\n",
      "bootstrap_test: {'stat': None, 'p-value': 0.0, 'result': 1}\n",
      "mannwhitney_test: {'stat': 4432780051.0, 'p-value': 0.0, 'result': 1}\n",
      "ttest_test: {'stat': -44.98326012021426, 'p-value': 0.0, 'result': 1}\n"
     ]
    }
   ],
   "source": [
    "print('Различий нет:')\n",
    "print(f\"bootstrap_test: {ab_test.test_boot_confint()}\")\n",
    "print(f\"mannwhitney_test: {ab_test.test_mannwhitney()}\")\n",
    "print(f\"ttest_test: {ab_test.test_welch()}\")"
   ]
  },
  {
   "cell_type": "markdown",
   "metadata": {},
   "source": [
    "Применяем CUPED:"
   ]
  },
  {
   "cell_type": "code",
   "execution_count": 417,
   "metadata": {},
   "outputs": [],
   "source": [
    "ab_test2 = ab_test.cuped()"
   ]
  },
  {
   "cell_type": "code",
   "execution_count": 418,
   "metadata": {},
   "outputs": [
    {
     "name": "stdout",
     "output_type": "stream",
     "text": [
      "Control mean = 174.990\n",
      "Treatment mean = 175.998\n",
      "Control var = 3.417\n",
      "Treatment var = 3.761\n"
     ]
    }
   ],
   "source": [
    "print('Control mean = {:.3f}'.format(np.mean(ab_test2.params.data_params.control)))\n",
    "print('Treatment mean = {:.3f}'.format(np.mean(ab_test2.params.data_params.treatment)))\n",
    "print('Control var = {:.3f}'.format(np.var(ab_test2.params.data_params.control)))\n",
    "print('Treatment var = {:.3f}'.format(np.var(ab_test2.params.data_params.treatment)))"
   ]
  },
  {
   "cell_type": "code",
   "execution_count": 419,
   "metadata": {},
   "outputs": [
    {
     "name": "stdout",
     "output_type": "stream",
     "text": [
      "Если различия есть, то CUPED может помочь их найти:\n",
      "bootstrap_test: {'stat': None, 'p-value': 0.0, 'result': 1}\n",
      "mannwhitney_test: {'stat': 3536501401.0, 'p-value': 0.0, 'result': 1}\n",
      "ttest_test: {'stat': -118.99609116077679, 'p-value': 0.0, 'result': 1}\n"
     ]
    }
   ],
   "source": [
    "print('Если различия есть, то CUPED может помочь их найти:')\n",
    "print(f\"bootstrap_test: {ab_test2.test_boot_confint()}\")\n",
    "print(f\"mannwhitney_test: {ab_test2.test_mannwhitney()}\")\n",
    "print(f\"ttest_test: {ab_test2.test_welch()}\")"
   ]
  },
  {
   "cell_type": "code",
   "execution_count": 420,
   "metadata": {},
   "outputs": [
    {
     "data": {
      "image/png": "[encoded data removed]",
      "text/plain": [
       "<Figure size 1440x864 with 1 Axes>"
      ]
     },
     "metadata": {},
     "output_type": "display_data"
    }
   ],
   "source": [
    "ab_test.plot()"
   ]
  },
  {
   "cell_type": "code",
   "execution_count": 421,
   "metadata": {},
   "outputs": [
    {
     "data": {
      "image/png": "[encoded data removed]",
      "text/plain": [
       "<Figure size 1440x864 with 1 Axes>"
      ]
     },
     "metadata": {},
     "output_type": "display_data"
    }
   ],
   "source": [
    "ab_test2.plot()"
   ]
  },
  {
   "cell_type": "markdown",
   "metadata": {},
   "source": [
    "# Кейс №6. Выделение групп"
   ]
  },
  {
   "cell_type": "code",
   "execution_count": 433,
   "metadata": {},
   "outputs": [],
   "source": [
    "df = pd.read_csv('./data/ab_data.csv')"
   ]
  },
  {
   "cell_type": "code",
   "execution_count": 434,
   "metadata": {},
   "outputs": [],
   "source": [
    "df[\"moda_city\"] = np.random.randint(1, 5, df.shape[0])\n",
    "df[\"moda_city\"] = df[\"moda_city\"].astype(str)\n",
    "df[\"country\"] = np.random.randint(1, 3, df.shape[0])\n",
    "df[\"id\"] = df.index"
   ]
  },
  {
   "cell_type": "code",
   "execution_count": 435,
   "metadata": {},
   "outputs": [],
   "source": [
    "split_builder_params = SplitBuilderParams(\n",
    "    map_group_names_to_sizes={\n",
    "        'control': None,\n",
    "        'target': None\n",
    "    },\n",
    "    main_strata_col = \"moda_city\",\n",
    "    split_metric_col = \"height_now\",\n",
    "    id_col = \"id\",\n",
    "    cols = [\"height_prev\"],\n",
    "    cat_cols=[\"country\"],\n",
    "    pvalue=0.05,\n",
    "    n_bins = 6,\n",
    "    min_cluster_size = 100\n",
    ")"
   ]
  },
  {
   "cell_type": "code",
   "execution_count": 436,
   "metadata": {},
   "outputs": [],
   "source": [
    "split_builder = SplitBuilder(df, split_builder_params)"
   ]
  },
  {
   "cell_type": "code",
   "execution_count": 439,
   "metadata": {},
   "outputs": [],
   "source": [
    "split = split_builder.collect()"
   ]
  },
  {
   "cell_type": "code",
   "execution_count": 440,
   "metadata": {},
   "outputs": [
    {
     "data": {
      "text/html": [
       "<div>\n",
       "<style scoped>\n",
       "    .dataframe tbody tr th:only-of-type {\n",
       "        vertical-align: middle;\n",
       "    }\n",
       "\n",
       "    .dataframe tbody tr th {\n",
       "        vertical-align: top;\n",
       "    }\n",
       "\n",
       "    .dataframe thead th {\n",
       "        text-align: right;\n",
       "    }\n",
       "</style>\n",
       "<table border=\"1\" class=\"dataframe\">\n",
       "  <thead>\n",
       "    <tr style=\"text-align: right;\">\n",
       "      <th></th>\n",
       "      <th>height_now</th>\n",
       "      <th>height_prev</th>\n",
       "      <th>weight_now</th>\n",
       "      <th>weight_prev</th>\n",
       "      <th>noise_now</th>\n",
       "      <th>noise_prev</th>\n",
       "      <th>groups</th>\n",
       "      <th>id</th>\n",
       "      <th>moda_city</th>\n",
       "      <th>country</th>\n",
       "      <th>numerator</th>\n",
       "      <th>denominator</th>\n",
       "      <th>conversion</th>\n",
       "      <th>strata</th>\n",
       "      <th>group_name</th>\n",
       "    </tr>\n",
       "  </thead>\n",
       "  <tbody>\n",
       "    <tr>\n",
       "      <th>0</th>\n",
       "      <td>172.470442</td>\n",
       "      <td>166.382868</td>\n",
       "      <td>163.648256</td>\n",
       "      <td>173.422115</td>\n",
       "      <td>5.644384</td>\n",
       "      <td>-1.923929</td>\n",
       "      <td>A</td>\n",
       "      <td>0</td>\n",
       "      <td>4</td>\n",
       "      <td>0.499485</td>\n",
       "      <td>3</td>\n",
       "      <td>2</td>\n",
       "      <td>1</td>\n",
       "      <td>41-1</td>\n",
       "      <td>target</td>\n",
       "    </tr>\n",
       "    <tr>\n",
       "      <th>1</th>\n",
       "      <td>178.610565</td>\n",
       "      <td>173.386388</td>\n",
       "      <td>173.195935</td>\n",
       "      <td>180.831845</td>\n",
       "      <td>11.664751</td>\n",
       "      <td>2.711829</td>\n",
       "      <td>B</td>\n",
       "      <td>1</td>\n",
       "      <td>2</td>\n",
       "      <td>0.499485</td>\n",
       "      <td>1</td>\n",
       "      <td>4</td>\n",
       "      <td>1</td>\n",
       "      <td>24-1</td>\n",
       "      <td>target</td>\n",
       "    </tr>\n",
       "    <tr>\n",
       "      <th>2</th>\n",
       "      <td>180.382301</td>\n",
       "      <td>178.563579</td>\n",
       "      <td>174.520065</td>\n",
       "      <td>181.571024</td>\n",
       "      <td>7.183178</td>\n",
       "      <td>-0.453939</td>\n",
       "      <td>A</td>\n",
       "      <td>2</td>\n",
       "      <td>2</td>\n",
       "      <td>0.500515</td>\n",
       "      <td>2</td>\n",
       "      <td>2</td>\n",
       "      <td>1</td>\n",
       "      <td>25-1</td>\n",
       "      <td>target</td>\n",
       "    </tr>\n",
       "    <tr>\n",
       "      <th>3</th>\n",
       "      <td>180.954018</td>\n",
       "      <td>179.732080</td>\n",
       "      <td>175.731245</td>\n",
       "      <td>182.840388</td>\n",
       "      <td>-4.682656</td>\n",
       "      <td>6.358723</td>\n",
       "      <td>B</td>\n",
       "      <td>3</td>\n",
       "      <td>2</td>\n",
       "      <td>0.500515</td>\n",
       "      <td>3</td>\n",
       "      <td>2</td>\n",
       "      <td>0</td>\n",
       "      <td>25-1</td>\n",
       "      <td>target</td>\n",
       "    </tr>\n",
       "    <tr>\n",
       "      <th>4</th>\n",
       "      <td>167.590042</td>\n",
       "      <td>167.684244</td>\n",
       "      <td>166.109779</td>\n",
       "      <td>170.189261</td>\n",
       "      <td>9.134517</td>\n",
       "      <td>-1.153977</td>\n",
       "      <td>B</td>\n",
       "      <td>4</td>\n",
       "      <td>4</td>\n",
       "      <td>0.499485</td>\n",
       "      <td>3</td>\n",
       "      <td>2</td>\n",
       "      <td>1</td>\n",
       "      <td>40-1</td>\n",
       "      <td>target</td>\n",
       "    </tr>\n",
       "  </tbody>\n",
       "</table>\n",
       "</div>"
      ],
      "text/plain": [
       "   height_now  height_prev  weight_now  weight_prev  noise_now  noise_prev  \\\n",
       "0  172.470442   166.382868  163.648256   173.422115   5.644384   -1.923929   \n",
       "1  178.610565   173.386388  173.195935   180.831845  11.664751    2.711829   \n",
       "2  180.382301   178.563579  174.520065   181.571024   7.183178   -0.453939   \n",
       "3  180.954018   179.732080  175.731245   182.840388  -4.682656    6.358723   \n",
       "4  167.590042   167.684244  166.109779   170.189261   9.134517   -1.153977   \n",
       "\n",
       "  groups id moda_city   country  numerator  denominator  conversion strata  \\\n",
       "0      A  0         4  0.499485          3            2           1   41-1   \n",
       "1      B  1         2  0.499485          1            4           1   24-1   \n",
       "2      A  2         2  0.500515          2            2           1   25-1   \n",
       "3      B  3         2  0.500515          3            2           0   25-1   \n",
       "4      B  4         4  0.499485          3            2           1   40-1   \n",
       "\n",
       "  group_name  \n",
       "0     target  \n",
       "1     target  \n",
       "2     target  \n",
       "3     target  \n",
       "4     target  "
      ]
     },
     "execution_count": 440,
     "metadata": {},
     "output_type": "execute_result"
    }
   ],
   "source": [
    "split.head()"
   ]
  },
  {
   "cell_type": "markdown",
   "metadata": {},
   "source": [
    "# Кейс №7. Препилот для непрерывной метрики"
   ]
  },
  {
   "cell_type": "code",
   "execution_count": 690,
   "metadata": {},
   "outputs": [],
   "source": [
    "df = pd.read_csv('./data/ab_data.csv')\n",
    "df = df.sample(n=20_000, random_state=1)"
   ]
  },
  {
   "cell_type": "code",
   "execution_count": 691,
   "metadata": {},
   "outputs": [],
   "source": [
    "data_params = DataParams(\n",
    "    id_col='id', \n",
    "    group_col='groups', \n",
    "    control_name='A',\n",
    "    treatment_name='B',\n",
    "    strata_col='country', \n",
    "    target='height_now', \n",
    "    target_flg='bought', \n",
    "    predictors=['weight_now'], \n",
    "    numerator='clicks', \n",
    "    denominator='sessions', \n",
    "    covariate='height_prev', \n",
    "    target_prev='height_prev', \n",
    "    predictors_prev=['weight_prev'], \n",
    "    is_grouped=True\n",
    ")\n",
    "\n",
    "hypothesis_params = HypothesisParams(\n",
    "    alpha=0.05, \n",
    "    beta=0.2, \n",
    "    alternative='two-sided', \n",
    "    strata='country', \n",
    "    strata_weights={1: 0.8, 2: 0.2}, \n",
    "    metric_type='solid', \n",
    "    metric_name='mean', \n",
    "    metric=np.mean, \n",
    "    n_boot_samples=100, \n",
    "    n_buckets=50\n",
    ")\n",
    "\n",
    "ab_params = ABTestParams(data_params, hypothesis_params)"
   ]
  },
  {
   "cell_type": "code",
   "execution_count": 692,
   "metadata": {},
   "outputs": [],
   "source": [
    "prepilot_params = MdeParams(\n",
    "    metrics_names=['height_now'],\n",
    "    injects=[1.0001,1.0002,1.0003],\n",
    "    min_group_size=5000, \n",
    "    max_group_size=10000, \n",
    "    step=1000,\n",
    "    variance_reduction=None,\n",
    "    use_buckets=False,\n",
    "    stat_test=ABTest.test_boot_confint,\n",
    "    iterations_number=10,\n",
    "    max_beta_score=0.9,\n",
    "    min_beta_score=0.02,\n",
    ")"
   ]
  },
  {
   "cell_type": "code",
   "execution_count": 693,
   "metadata": {},
   "outputs": [],
   "source": [
    "prepilot = MdeResearchBuilder(df, ab_params,\n",
    "                                     prepilot_params,\n",
    "                                     split_builder_params)"
   ]
  },
  {
   "cell_type": "code",
   "execution_count": 694,
   "metadata": {},
   "outputs": [],
   "source": [
    "beta, alpha = prepilot.collect()"
   ]
  },
  {
   "cell_type": "code",
   "execution_count": 695,
   "metadata": {},
   "outputs": [
    {
     "data": {
      "text/html": [
       "<div>\n",
       "<style scoped>\n",
       "    .dataframe tbody tr th:only-of-type {\n",
       "        vertical-align: middle;\n",
       "    }\n",
       "\n",
       "    .dataframe tbody tr th {\n",
       "        vertical-align: top;\n",
       "    }\n",
       "\n",
       "    .dataframe thead th {\n",
       "        text-align: right;\n",
       "    }\n",
       "</style>\n",
       "<table border=\"1\" class=\"dataframe\">\n",
       "  <thead>\n",
       "    <tr style=\"text-align: right;\">\n",
       "      <th></th>\n",
       "      <th>split_rate</th>\n",
       "      <th>(5000, 5000)</th>\n",
       "      <th>(6000, 6000)</th>\n",
       "      <th>(7000, 7000)</th>\n",
       "      <th>(8000, 8000)</th>\n",
       "      <th>(9000, 9000)</th>\n",
       "      <th>(10000, 10000)</th>\n",
       "    </tr>\n",
       "    <tr>\n",
       "      <th>metric</th>\n",
       "      <th>MDE</th>\n",
       "      <th></th>\n",
       "      <th></th>\n",
       "      <th></th>\n",
       "      <th></th>\n",
       "      <th></th>\n",
       "      <th></th>\n",
       "    </tr>\n",
       "  </thead>\n",
       "  <tbody>\n",
       "    <tr>\n",
       "      <th rowspan=\"3\" valign=\"top\">height_now</th>\n",
       "      <th>0.01%</th>\n",
       "      <td>&gt;=0.9</td>\n",
       "      <td>&gt;=0.9</td>\n",
       "      <td>&gt;=0.9</td>\n",
       "      <td>&gt;=0.9</td>\n",
       "      <td>&gt;=0.9</td>\n",
       "      <td>&gt;=0.9</td>\n",
       "    </tr>\n",
       "    <tr>\n",
       "      <th>0.02%</th>\n",
       "      <td>&gt;=0.9</td>\n",
       "      <td>&gt;=0.9</td>\n",
       "      <td>&gt;=0.9</td>\n",
       "      <td>&gt;=0.9</td>\n",
       "      <td>&gt;=0.9</td>\n",
       "      <td>&gt;=0.9</td>\n",
       "    </tr>\n",
       "    <tr>\n",
       "      <th>0.03%</th>\n",
       "      <td>&gt;=0.9</td>\n",
       "      <td>&gt;=0.9</td>\n",
       "      <td>&gt;=0.9</td>\n",
       "      <td>&gt;=0.9</td>\n",
       "      <td>&gt;=0.9</td>\n",
       "      <td>&gt;=0.9</td>\n",
       "    </tr>\n",
       "  </tbody>\n",
       "</table>\n",
       "</div>"
      ],
      "text/plain": [
       "split_rate       (5000, 5000) (6000, 6000) (7000, 7000) (8000, 8000)  \\\n",
       "metric     MDE                                                         \n",
       "height_now 0.01%        >=0.9        >=0.9        >=0.9        >=0.9   \n",
       "           0.02%        >=0.9        >=0.9        >=0.9        >=0.9   \n",
       "           0.03%        >=0.9        >=0.9        >=0.9        >=0.9   \n",
       "\n",
       "split_rate       (9000, 9000) (10000, 10000)  \n",
       "metric     MDE                                \n",
       "height_now 0.01%        >=0.9          >=0.9  \n",
       "           0.02%        >=0.9          >=0.9  \n",
       "           0.03%        >=0.9          >=0.9  "
      ]
     },
     "execution_count": 695,
     "metadata": {},
     "output_type": "execute_result"
    }
   ],
   "source": [
    "beta"
   ]
  },
  {
   "cell_type": "code",
   "execution_count": 696,
   "metadata": {},
   "outputs": [
    {
     "data": {
      "text/html": [
       "<div>\n",
       "<style scoped>\n",
       "    .dataframe tbody tr th:only-of-type {\n",
       "        vertical-align: middle;\n",
       "    }\n",
       "\n",
       "    .dataframe tbody tr th {\n",
       "        vertical-align: top;\n",
       "    }\n",
       "\n",
       "    .dataframe thead th {\n",
       "        text-align: right;\n",
       "    }\n",
       "</style>\n",
       "<table border=\"1\" class=\"dataframe\">\n",
       "  <thead>\n",
       "    <tr style=\"text-align: right;\">\n",
       "      <th>split_rate</th>\n",
       "      <th>(5000, 5000)</th>\n",
       "      <th>(6000, 6000)</th>\n",
       "      <th>(7000, 7000)</th>\n",
       "      <th>(8000, 8000)</th>\n",
       "      <th>(9000, 9000)</th>\n",
       "      <th>(10000, 10000)</th>\n",
       "    </tr>\n",
       "    <tr>\n",
       "      <th>metric</th>\n",
       "      <th></th>\n",
       "      <th></th>\n",
       "      <th></th>\n",
       "      <th></th>\n",
       "      <th></th>\n",
       "      <th></th>\n",
       "    </tr>\n",
       "  </thead>\n",
       "  <tbody>\n",
       "    <tr>\n",
       "      <th>height_now</th>\n",
       "      <td>0.0</td>\n",
       "      <td>0.0</td>\n",
       "      <td>0.0</td>\n",
       "      <td>0.0</td>\n",
       "      <td>0.0</td>\n",
       "      <td>0.0</td>\n",
       "    </tr>\n",
       "  </tbody>\n",
       "</table>\n",
       "</div>"
      ],
      "text/plain": [
       "split_rate  (5000, 5000)  (6000, 6000)  (7000, 7000)  (8000, 8000)  \\\n",
       "metric                                                               \n",
       "height_now           0.0           0.0           0.0           0.0   \n",
       "\n",
       "split_rate  (9000, 9000)  (10000, 10000)  \n",
       "metric                                    \n",
       "height_now           0.0             0.0  "
      ]
     },
     "execution_count": 696,
     "metadata": {},
     "output_type": "execute_result"
    }
   ],
   "source": [
    "alpha"
   ]
  },
  {
   "cell_type": "markdown",
   "metadata": {},
   "source": [
    "# Кейс №8.  Препилот для непрерывной метрики со снижением дисперсии"
   ]
  },
  {
   "cell_type": "code",
   "execution_count": 697,
   "metadata": {},
   "outputs": [],
   "source": [
    "df = pd.read_csv('./data/ab_data.csv')\n",
    "df = df.sample(n=20_000, random_state=1)"
   ]
  },
  {
   "cell_type": "code",
   "execution_count": 698,
   "metadata": {},
   "outputs": [],
   "source": [
    "hypothesis_params = HypothesisParams(\n",
    "    alpha=0.05, \n",
    "    beta=0.2, \n",
    "    alternative='two-sided',  \n",
    "    strata='country', \n",
    "    strata_weights={'US': 0.8, 'UK': 0.2}, \n",
    "    metric_type='solid', \n",
    "    metric_name='mean', \n",
    "    metric=np.mean, \n",
    "    n_boot_samples=200, \n",
    "    n_buckets=50\n",
    ")\n",
    "\n",
    "ab_params = ABTestParams(data_params, hypothesis_params)"
   ]
  },
  {
   "cell_type": "code",
   "execution_count": 705,
   "metadata": {},
   "outputs": [],
   "source": [
    "prepilot_params = MdeParams(\n",
    "    metrics_names=['height_now'],\n",
    "    injects=[1.00046,1.00048,1.0005,1.001],\n",
    "    min_group_size=5000, \n",
    "    max_group_size=10000, \n",
    "    step=1000,\n",
    "    variance_reduction = ABTest.cuped,\n",
    "    use_buckets = False,\n",
    "    stat_test = ABTest.test_boot_confint,\n",
    "    iterations_number = 10,\n",
    "    max_beta_score=0.9,\n",
    "    min_beta_score=0.02,\n",
    ")"
   ]
  },
  {
   "cell_type": "code",
   "execution_count": 706,
   "metadata": {},
   "outputs": [],
   "source": [
    "prepilot = MdeResearchBuilder(df, ab_params,\n",
    "                                     prepilot_params,\n",
    "                                     split_builder_params)"
   ]
  },
  {
   "cell_type": "code",
   "execution_count": 707,
   "metadata": {},
   "outputs": [],
   "source": [
    "beta, alpha = prepilot.collect()"
   ]
  },
  {
   "cell_type": "code",
   "execution_count": 708,
   "metadata": {},
   "outputs": [
    {
     "data": {
      "text/html": [
       "<div>\n",
       "<style scoped>\n",
       "    .dataframe tbody tr th:only-of-type {\n",
       "        vertical-align: middle;\n",
       "    }\n",
       "\n",
       "    .dataframe tbody tr th {\n",
       "        vertical-align: top;\n",
       "    }\n",
       "\n",
       "    .dataframe thead th {\n",
       "        text-align: right;\n",
       "    }\n",
       "</style>\n",
       "<table border=\"1\" class=\"dataframe\">\n",
       "  <thead>\n",
       "    <tr style=\"text-align: right;\">\n",
       "      <th></th>\n",
       "      <th>split_rate</th>\n",
       "      <th>(5000, 5000)</th>\n",
       "      <th>(6000, 6000)</th>\n",
       "      <th>(7000, 7000)</th>\n",
       "      <th>(8000, 8000)</th>\n",
       "      <th>(9000, 9000)</th>\n",
       "      <th>(10000, 10000)</th>\n",
       "    </tr>\n",
       "    <tr>\n",
       "      <th>metric</th>\n",
       "      <th>MDE</th>\n",
       "      <th></th>\n",
       "      <th></th>\n",
       "      <th></th>\n",
       "      <th></th>\n",
       "      <th></th>\n",
       "      <th></th>\n",
       "    </tr>\n",
       "  </thead>\n",
       "  <tbody>\n",
       "    <tr>\n",
       "      <th rowspan=\"4\" valign=\"top\">height_now</th>\n",
       "      <th>0.046%</th>\n",
       "      <td>0.2</td>\n",
       "      <td>0.1</td>\n",
       "      <td>0.1</td>\n",
       "      <td>0.2</td>\n",
       "      <td>0.1</td>\n",
       "      <td>0.1</td>\n",
       "    </tr>\n",
       "    <tr>\n",
       "      <th>0.048%</th>\n",
       "      <td>0.2</td>\n",
       "      <td>0.1</td>\n",
       "      <td>0.1</td>\n",
       "      <td>0.1</td>\n",
       "      <td>&lt;=0.02</td>\n",
       "      <td>&lt;=0.02</td>\n",
       "    </tr>\n",
       "    <tr>\n",
       "      <th>0.05%</th>\n",
       "      <td>0.1</td>\n",
       "      <td>0.1</td>\n",
       "      <td>0.1</td>\n",
       "      <td>0.2</td>\n",
       "      <td>&lt;=0.02</td>\n",
       "      <td>&lt;=0.02</td>\n",
       "    </tr>\n",
       "    <tr>\n",
       "      <th>0.1%</th>\n",
       "      <td>&lt;=0.02</td>\n",
       "      <td>&lt;=0.02</td>\n",
       "      <td>&lt;=0.02</td>\n",
       "      <td>&lt;=0.02</td>\n",
       "      <td>&lt;=0.02</td>\n",
       "      <td>&lt;=0.02</td>\n",
       "    </tr>\n",
       "  </tbody>\n",
       "</table>\n",
       "</div>"
      ],
      "text/plain": [
       "split_rate        (5000, 5000) (6000, 6000) (7000, 7000) (8000, 8000)  \\\n",
       "metric     MDE                                                          \n",
       "height_now 0.046%          0.2          0.1          0.1          0.2   \n",
       "           0.048%          0.2          0.1          0.1          0.1   \n",
       "           0.05%           0.1          0.1          0.1          0.2   \n",
       "           0.1%         <=0.02       <=0.02       <=0.02       <=0.02   \n",
       "\n",
       "split_rate        (9000, 9000) (10000, 10000)  \n",
       "metric     MDE                                 \n",
       "height_now 0.046%          0.1            0.1  \n",
       "           0.048%       <=0.02         <=0.02  \n",
       "           0.05%        <=0.02         <=0.02  \n",
       "           0.1%         <=0.02         <=0.02  "
      ]
     },
     "execution_count": 708,
     "metadata": {},
     "output_type": "execute_result"
    }
   ],
   "source": [
    "beta"
   ]
  },
  {
   "cell_type": "code",
   "execution_count": 709,
   "metadata": {},
   "outputs": [
    {
     "data": {
      "text/html": [
       "<div>\n",
       "<style scoped>\n",
       "    .dataframe tbody tr th:only-of-type {\n",
       "        vertical-align: middle;\n",
       "    }\n",
       "\n",
       "    .dataframe tbody tr th {\n",
       "        vertical-align: top;\n",
       "    }\n",
       "\n",
       "    .dataframe thead th {\n",
       "        text-align: right;\n",
       "    }\n",
       "</style>\n",
       "<table border=\"1\" class=\"dataframe\">\n",
       "  <thead>\n",
       "    <tr style=\"text-align: right;\">\n",
       "      <th>split_rate</th>\n",
       "      <th>(5000, 5000)</th>\n",
       "      <th>(6000, 6000)</th>\n",
       "      <th>(7000, 7000)</th>\n",
       "      <th>(8000, 8000)</th>\n",
       "      <th>(9000, 9000)</th>\n",
       "      <th>(10000, 10000)</th>\n",
       "    </tr>\n",
       "    <tr>\n",
       "      <th>metric</th>\n",
       "      <th></th>\n",
       "      <th></th>\n",
       "      <th></th>\n",
       "      <th></th>\n",
       "      <th></th>\n",
       "      <th></th>\n",
       "    </tr>\n",
       "  </thead>\n",
       "  <tbody>\n",
       "    <tr>\n",
       "      <th>height_now</th>\n",
       "      <td>0.1</td>\n",
       "      <td>0.0</td>\n",
       "      <td>0.0</td>\n",
       "      <td>0.0</td>\n",
       "      <td>0.0</td>\n",
       "      <td>0.0</td>\n",
       "    </tr>\n",
       "  </tbody>\n",
       "</table>\n",
       "</div>"
      ],
      "text/plain": [
       "split_rate  (5000, 5000)  (6000, 6000)  (7000, 7000)  (8000, 8000)  \\\n",
       "metric                                                               \n",
       "height_now           0.1           0.0           0.0           0.0   \n",
       "\n",
       "split_rate  (9000, 9000)  (10000, 10000)  \n",
       "metric                                    \n",
       "height_now           0.0             0.0  "
      ]
     },
     "execution_count": 709,
     "metadata": {},
     "output_type": "execute_result"
    }
   ],
   "source": [
    "alpha"
   ]
  },
  {
   "cell_type": "markdown",
   "metadata": {},
   "source": [
    "# Кейс №9. Препилот для бинарной метрики"
   ]
  },
  {
   "cell_type": "code",
   "execution_count": 710,
   "metadata": {},
   "outputs": [
    {
     "data": {
      "text/html": [
       "<div>\n",
       "<style scoped>\n",
       "    .dataframe tbody tr th:only-of-type {\n",
       "        vertical-align: middle;\n",
       "    }\n",
       "\n",
       "    .dataframe tbody tr th {\n",
       "        vertical-align: top;\n",
       "    }\n",
       "\n",
       "    .dataframe thead th {\n",
       "        text-align: right;\n",
       "    }\n",
       "</style>\n",
       "<table border=\"1\" class=\"dataframe\">\n",
       "  <thead>\n",
       "    <tr style=\"text-align: right;\">\n",
       "      <th></th>\n",
       "      <th>height_now</th>\n",
       "      <th>height_prev</th>\n",
       "      <th>weight_now</th>\n",
       "      <th>weight_prev</th>\n",
       "      <th>noise_now</th>\n",
       "      <th>noise_prev</th>\n",
       "      <th>groups</th>\n",
       "      <th>id</th>\n",
       "      <th>moda_city</th>\n",
       "      <th>country</th>\n",
       "      <th>numerator</th>\n",
       "      <th>denominator</th>\n",
       "      <th>conversion</th>\n",
       "    </tr>\n",
       "  </thead>\n",
       "  <tbody>\n",
       "    <tr>\n",
       "      <th>49673</th>\n",
       "      <td>176.962204</td>\n",
       "      <td>173.282588</td>\n",
       "      <td>168.286558</td>\n",
       "      <td>178.545051</td>\n",
       "      <td>8.332472</td>\n",
       "      <td>0.749710</td>\n",
       "      <td>B</td>\n",
       "      <td>49673</td>\n",
       "      <td>2</td>\n",
       "      <td>1</td>\n",
       "      <td>3</td>\n",
       "      <td>3</td>\n",
       "      <td>1</td>\n",
       "    </tr>\n",
       "    <tr>\n",
       "      <th>171551</th>\n",
       "      <td>167.719994</td>\n",
       "      <td>164.153443</td>\n",
       "      <td>159.805620</td>\n",
       "      <td>169.937810</td>\n",
       "      <td>6.185760</td>\n",
       "      <td>2.257602</td>\n",
       "      <td>A</td>\n",
       "      <td>171551</td>\n",
       "      <td>4</td>\n",
       "      <td>1</td>\n",
       "      <td>1</td>\n",
       "      <td>2</td>\n",
       "      <td>1</td>\n",
       "    </tr>\n",
       "    <tr>\n",
       "      <th>5506</th>\n",
       "      <td>173.478204</td>\n",
       "      <td>172.284449</td>\n",
       "      <td>168.578427</td>\n",
       "      <td>175.216619</td>\n",
       "      <td>7.729058</td>\n",
       "      <td>6.635701</td>\n",
       "      <td>B</td>\n",
       "      <td>5506</td>\n",
       "      <td>2</td>\n",
       "      <td>1</td>\n",
       "      <td>1</td>\n",
       "      <td>2</td>\n",
       "      <td>1</td>\n",
       "    </tr>\n",
       "    <tr>\n",
       "      <th>38370</th>\n",
       "      <td>174.789978</td>\n",
       "      <td>172.517970</td>\n",
       "      <td>168.646945</td>\n",
       "      <td>177.518410</td>\n",
       "      <td>9.830704</td>\n",
       "      <td>-1.382761</td>\n",
       "      <td>A</td>\n",
       "      <td>38370</td>\n",
       "      <td>3</td>\n",
       "      <td>1</td>\n",
       "      <td>4</td>\n",
       "      <td>3</td>\n",
       "      <td>1</td>\n",
       "    </tr>\n",
       "    <tr>\n",
       "      <th>36930</th>\n",
       "      <td>171.939344</td>\n",
       "      <td>172.241240</td>\n",
       "      <td>166.103368</td>\n",
       "      <td>175.124307</td>\n",
       "      <td>5.606161</td>\n",
       "      <td>6.901354</td>\n",
       "      <td>B</td>\n",
       "      <td>36930</td>\n",
       "      <td>4</td>\n",
       "      <td>2</td>\n",
       "      <td>4</td>\n",
       "      <td>3</td>\n",
       "      <td>1</td>\n",
       "    </tr>\n",
       "  </tbody>\n",
       "</table>\n",
       "</div>"
      ],
      "text/plain": [
       "        height_now  height_prev  weight_now  weight_prev  noise_now  \\\n",
       "49673   176.962204   173.282588  168.286558   178.545051   8.332472   \n",
       "171551  167.719994   164.153443  159.805620   169.937810   6.185760   \n",
       "5506    173.478204   172.284449  168.578427   175.216619   7.729058   \n",
       "38370   174.789978   172.517970  168.646945   177.518410   9.830704   \n",
       "36930   171.939344   172.241240  166.103368   175.124307   5.606161   \n",
       "\n",
       "        noise_prev groups      id  moda_city  country  numerator  denominator  \\\n",
       "49673     0.749710      B   49673          2        1          3            3   \n",
       "171551    2.257602      A  171551          4        1          1            2   \n",
       "5506      6.635701      B    5506          2        1          1            2   \n",
       "38370    -1.382761      A   38370          3        1          4            3   \n",
       "36930     6.901354      B   36930          4        2          4            3   \n",
       "\n",
       "        conversion  \n",
       "49673            1  \n",
       "171551           1  \n",
       "5506             1  \n",
       "38370            1  \n",
       "36930            1  "
      ]
     },
     "execution_count": 710,
     "metadata": {},
     "output_type": "execute_result"
    }
   ],
   "source": [
    "df = pd.read_csv('./data/ab_data.csv')\n",
    "df = df.sample(n=20_000, random_state=1)\n",
    "df.head()"
   ]
  },
  {
   "cell_type": "code",
   "execution_count": 711,
   "metadata": {},
   "outputs": [],
   "source": [
    "data_params = DataParams(\n",
    "    id_col='id', \n",
    "    group_col='groups', \n",
    "    strata_col='country', \n",
    "    target='conversion', \n",
    "    target_flg='conversion', \n",
    "    predictors=['weight_now'], \n",
    "    numerator='numerator', \n",
    "    denominator='denominator', \n",
    "    covariate='height_prev', \n",
    "    target_prev='height_prev', \n",
    "    predictors_prev=['weight_prev'], \n",
    "    is_grouped=True\n",
    ")\n",
    "\n",
    "hypothesis_params = HypothesisParams(\n",
    "    alpha=0.05, \n",
    "    beta=0.2, \n",
    "    alternative='two-sided', \n",
    "    strata='country', \n",
    "    strata_weights={'US': 0.8, 'UK': 0.2}, \n",
    "    metric_type='binary', \n",
    "    metric_name='mean', \n",
    "    metric=np.mean, \n",
    "    n_boot_samples=200, \n",
    "    n_buckets=50\n",
    ")\n",
    "\n",
    "ab_params = ABTestParams(data_params, hypothesis_params)"
   ]
  },
  {
   "cell_type": "code",
   "execution_count": 712,
   "metadata": {},
   "outputs": [],
   "source": [
    "split_builder_params = SplitBuilderParams(\n",
    "    map_group_names_to_sizes={\n",
    "        'control': None,\n",
    "        'target': None\n",
    "    },\n",
    "    main_strata_col = \"moda_city\",\n",
    "    split_metric_col = \"height_now\",\n",
    "    id_col = \"id\",\n",
    "    cols = [\"height_prev\"],\n",
    "    cat_cols=[\"country\"],\n",
    "    pvalue=0.05,\n",
    "    n_bins = 6,\n",
    "    min_cluster_size = 500\n",
    ")"
   ]
  },
  {
   "cell_type": "code",
   "execution_count": 713,
   "metadata": {},
   "outputs": [],
   "source": [
    "prepilot_params = MdeParams(\n",
    "    metrics_names=['conversion'],\n",
    "    injects=[1.001,1.005,1.008,1.01],\n",
    "    min_group_size=5000, \n",
    "    max_group_size=10000, \n",
    "    step=1000,\n",
    "    variance_reduction = None,\n",
    "    use_buckets = False,\n",
    "    stat_test = ABTest.test_z_proportions,\n",
    "    iterations_number = 5,\n",
    "    max_beta_score=0.9,\n",
    "    min_beta_score=0.01,\n",
    ")"
   ]
  },
  {
   "cell_type": "code",
   "execution_count": 714,
   "metadata": {},
   "outputs": [],
   "source": [
    "prepilot = MdeResearchBuilder(df, ab_params,\n",
    "                                  prepilot_params,\n",
    "                                  split_builder_params)"
   ]
  },
  {
   "cell_type": "code",
   "execution_count": 715,
   "metadata": {},
   "outputs": [
    {
     "name": "stdout",
     "output_type": "stream",
     "text": [
      "CPU times: user 12 s, sys: 711 ms, total: 12.7 s\n",
      "Wall time: 14.2 s\n"
     ]
    }
   ],
   "source": [
    "%%time \n",
    "beta, alpha = prepilot.collect()"
   ]
  },
  {
   "cell_type": "code",
   "execution_count": 716,
   "metadata": {},
   "outputs": [
    {
     "data": {
      "text/html": [
       "<div>\n",
       "<style scoped>\n",
       "    .dataframe tbody tr th:only-of-type {\n",
       "        vertical-align: middle;\n",
       "    }\n",
       "\n",
       "    .dataframe tbody tr th {\n",
       "        vertical-align: top;\n",
       "    }\n",
       "\n",
       "    .dataframe thead th {\n",
       "        text-align: right;\n",
       "    }\n",
       "</style>\n",
       "<table border=\"1\" class=\"dataframe\">\n",
       "  <thead>\n",
       "    <tr style=\"text-align: right;\">\n",
       "      <th></th>\n",
       "      <th>split_rate</th>\n",
       "      <th>(5000, 5000)</th>\n",
       "      <th>(6000, 6000)</th>\n",
       "      <th>(7000, 7000)</th>\n",
       "      <th>(8000, 8000)</th>\n",
       "      <th>(9000, 9000)</th>\n",
       "      <th>(10000, 10000)</th>\n",
       "    </tr>\n",
       "    <tr>\n",
       "      <th>metric</th>\n",
       "      <th>MDE</th>\n",
       "      <th></th>\n",
       "      <th></th>\n",
       "      <th></th>\n",
       "      <th></th>\n",
       "      <th></th>\n",
       "      <th></th>\n",
       "    </tr>\n",
       "  </thead>\n",
       "  <tbody>\n",
       "    <tr>\n",
       "      <th rowspan=\"4\" valign=\"top\">conversion</th>\n",
       "      <th>0.1%</th>\n",
       "      <td>0.8</td>\n",
       "      <td>&gt;=0.9</td>\n",
       "      <td>&gt;=0.9</td>\n",
       "      <td>&gt;=0.9</td>\n",
       "      <td>&gt;=0.9</td>\n",
       "      <td>0.8</td>\n",
       "    </tr>\n",
       "    <tr>\n",
       "      <th>0.5%</th>\n",
       "      <td>0.2</td>\n",
       "      <td>0.8</td>\n",
       "      <td>0.6</td>\n",
       "      <td>0.4</td>\n",
       "      <td>0.8</td>\n",
       "      <td>0.6</td>\n",
       "    </tr>\n",
       "    <tr>\n",
       "      <th>0.8%</th>\n",
       "      <td>0.2</td>\n",
       "      <td>0.8</td>\n",
       "      <td>0.6</td>\n",
       "      <td>&lt;=0.01</td>\n",
       "      <td>&lt;=0.01</td>\n",
       "      <td>&lt;=0.01</td>\n",
       "    </tr>\n",
       "    <tr>\n",
       "      <th>1.0%</th>\n",
       "      <td>0.2</td>\n",
       "      <td>0.4</td>\n",
       "      <td>0.4</td>\n",
       "      <td>&lt;=0.01</td>\n",
       "      <td>&lt;=0.01</td>\n",
       "      <td>&lt;=0.01</td>\n",
       "    </tr>\n",
       "  </tbody>\n",
       "</table>\n",
       "</div>"
      ],
      "text/plain": [
       "split_rate      (5000, 5000) (6000, 6000) (7000, 7000) (8000, 8000)  \\\n",
       "metric     MDE                                                        \n",
       "conversion 0.1%          0.8        >=0.9        >=0.9        >=0.9   \n",
       "           0.5%          0.2          0.8          0.6          0.4   \n",
       "           0.8%          0.2          0.8          0.6       <=0.01   \n",
       "           1.0%          0.2          0.4          0.4       <=0.01   \n",
       "\n",
       "split_rate      (9000, 9000) (10000, 10000)  \n",
       "metric     MDE                               \n",
       "conversion 0.1%        >=0.9            0.8  \n",
       "           0.5%          0.8            0.6  \n",
       "           0.8%       <=0.01         <=0.01  \n",
       "           1.0%       <=0.01         <=0.01  "
      ]
     },
     "execution_count": 716,
     "metadata": {},
     "output_type": "execute_result"
    }
   ],
   "source": [
    "beta"
   ]
  },
  {
   "cell_type": "code",
   "execution_count": 717,
   "metadata": {},
   "outputs": [
    {
     "data": {
      "text/html": [
       "<div>\n",
       "<style scoped>\n",
       "    .dataframe tbody tr th:only-of-type {\n",
       "        vertical-align: middle;\n",
       "    }\n",
       "\n",
       "    .dataframe tbody tr th {\n",
       "        vertical-align: top;\n",
       "    }\n",
       "\n",
       "    .dataframe thead th {\n",
       "        text-align: right;\n",
       "    }\n",
       "</style>\n",
       "<table border=\"1\" class=\"dataframe\">\n",
       "  <thead>\n",
       "    <tr style=\"text-align: right;\">\n",
       "      <th>split_rate</th>\n",
       "      <th>(5000, 5000)</th>\n",
       "      <th>(6000, 6000)</th>\n",
       "      <th>(7000, 7000)</th>\n",
       "      <th>(8000, 8000)</th>\n",
       "      <th>(9000, 9000)</th>\n",
       "      <th>(10000, 10000)</th>\n",
       "    </tr>\n",
       "    <tr>\n",
       "      <th>metric</th>\n",
       "      <th></th>\n",
       "      <th></th>\n",
       "      <th></th>\n",
       "      <th></th>\n",
       "      <th></th>\n",
       "      <th></th>\n",
       "    </tr>\n",
       "  </thead>\n",
       "  <tbody>\n",
       "    <tr>\n",
       "      <th>conversion</th>\n",
       "      <td>0.2</td>\n",
       "      <td>0.2</td>\n",
       "      <td>0.0</td>\n",
       "      <td>0.0</td>\n",
       "      <td>0.0</td>\n",
       "      <td>0.2</td>\n",
       "    </tr>\n",
       "  </tbody>\n",
       "</table>\n",
       "</div>"
      ],
      "text/plain": [
       "split_rate  (5000, 5000)  (6000, 6000)  (7000, 7000)  (8000, 8000)  \\\n",
       "metric                                                               \n",
       "conversion           0.2           0.2           0.0           0.0   \n",
       "\n",
       "split_rate  (9000, 9000)  (10000, 10000)  \n",
       "metric                                    \n",
       "conversion           0.0             0.2  "
      ]
     },
     "execution_count": 717,
     "metadata": {},
     "output_type": "execute_result"
    }
   ],
   "source": [
    "alpha"
   ]
  }
 ],
 "metadata": {
  "kernelspec": {
   "display_name": "Python 3",
   "language": "python",
   "name": "python3"
  },
  "language_info": {
   "codemirror_mode": {
    "name": "ipython",
    "version": 3
   },
   "file_extension": ".py",
   "mimetype": "text/x-python",
   "name": "python",
   "nbconvert_exporter": "python",
   "pygments_lexer": "ipython3",
   "version": "3.7.8"
  },
  "vscode": {
   "interpreter": {
    "hash": "626acd8304246c39c892b04a088b1f86fa4d1e9c8375290e6951e511351ad7f7"
   }
  }
 },
 "nbformat": 4,
 "nbformat_minor": 5
}
