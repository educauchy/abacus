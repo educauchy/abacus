{
 "cells": [
  {
   "cell_type": "code",
   "execution_count": null,
   "id": "e6ade16d",
   "metadata": {},
   "outputs": [],
   "source": [
    "import warnings\n",
    "warnings.filterwarnings('ignore')\n",
    "\n",
    "import os\n",
    "import sys\n",
    "import yaml\n",
    "import logging\n",
    "import pandas as pd\n",
    "import numpy as np\n",
    "import scipy\n",
    "import seaborn as sns\n",
    "import matplotlib.pyplot as plt\n",
    "\n",
    "sys.path.append('../')\n",
    "\n",
    "from abacus.auto_ab.abtest import ABTest\n",
    "from abacus.auto_ab.params import ABTestParams\n",
    "from abacus.auto_ab.params import DataParams, HypothesisParams\n",
    "from abacus.splitter.split_builder import SplitBuilder\n",
    "from abacus.splitter.params import SplitBuilderParams\n",
    "from abacus.mde_researcher.params import MdeParams\n",
    "from abacus.mde_researcher.mde_research_builder import MdeResearchBuilder\n",
    "from abacus.mde_researcher.multiple_split_builder import MultipleSplitBuilder\n",
    "\n",
    "logging.basicConfig(level = logging.INFO)\n",
    "\n",
    "\n",
    "%load_ext autoreload\n",
    "%autoreload 2"
   ]
  },
  {
   "cell_type": "markdown",
   "id": "5a50e76e",
   "metadata": {},
   "source": [
    "# Данные, с которыми будем работать"
   ]
  },
  {
   "cell_type": "code",
   "execution_count": null,
   "id": "20e2f850",
   "metadata": {},
   "outputs": [],
   "source": [
    "pd.read_csv('./data/ab_data.csv').head()"
   ]
  },
  {
   "cell_type": "markdown",
   "id": "52e3b432",
   "metadata": {},
   "source": [
    "# Кейс №1. Постанализ непрерывной метрики."
   ]
  },
  {
   "cell_type": "code",
   "execution_count": null,
   "id": "09fdc478",
   "metadata": {},
   "outputs": [],
   "source": [
    "df = pd.read_csv('./data/ab_data.csv')"
   ]
  },
  {
   "cell_type": "code",
   "execution_count": null,
   "id": "b6eff405",
   "metadata": {},
   "outputs": [],
   "source": [
    "data_params = DataParams(\n",
    "    id_col='id', \n",
    "    group_col='groups', \n",
    "    target='height_now', \n",
    "    is_grouped=True\n",
    ")\n",
    "\n",
    "hypothesis_params = HypothesisParams(\n",
    "    alpha=0.05, \n",
    "    beta=0.2, \n",
    "    alternative='greater', \n",
    "    metric_type='continuous', \n",
    "    metric_name='mean', \n",
    "    metric=np.mean, \n",
    "    n_boot_samples=100, \n",
    ")\n",
    "\n",
    "ab_params = ABTestParams(data_params,\n",
    "                         hypothesis_params)"
   ]
  },
  {
   "cell_type": "code",
   "execution_count": null,
   "id": "aea09326",
   "metadata": {},
   "outputs": [],
   "source": [
    "ab_test = ABTest(df, ab_params)"
   ]
  },
  {
   "cell_type": "code",
   "execution_count": null,
   "id": "764feb43",
   "metadata": {},
   "outputs": [],
   "source": [
    "print('Нет эффекта:\\n')\n",
    "\n",
    "print(f\"bootstrap_test: {ab_test.test_boot_confint()}\")\n",
    "print(f\"mannwhitney_test: {ab_test.test_mannwhitney()}\")\n",
    "print(f\"welch_test: {ab_test.test_welch()}\")"
   ]
  },
  {
   "cell_type": "markdown",
   "id": "4c9b1b77",
   "metadata": {},
   "source": [
    "Увеличиваем количество прокрасов в тестовой группе"
   ]
  },
  {
   "cell_type": "code",
   "execution_count": null,
   "id": "7e60f120",
   "metadata": {},
   "outputs": [],
   "source": [
    "df[ab_test.params.data_params.target].where(df[ab_test.params.data_params.group_col] == 'A',\n",
    "                                            df[ab_test.params.data_params.target] * 1.001, \n",
    "                                            axis=0,\n",
    "                                            inplace=True)\n",
    "\n",
    "ab_test = ABTest(df, ab_params)"
   ]
  },
  {
   "cell_type": "code",
   "execution_count": null,
   "id": "91f257fa",
   "metadata": {},
   "outputs": [],
   "source": [
    "print('Есть эффект:')\n",
    "print(f\"bootstrap_test: {ab_test.test_boot_confint()}\")\n",
    "print(f\"mannwhitney_test: {ab_test.test_mannwhitney()}\")\n",
    "print(f\"welch_test: {ab_test.test_welch()}\")"
   ]
  },
  {
   "cell_type": "code",
   "execution_count": null,
   "id": "5cb26d91",
   "metadata": {},
   "outputs": [],
   "source": [
    "ab_test.plot()"
   ]
  },
  {
   "cell_type": "markdown",
   "id": "acbae07c",
   "metadata": {},
   "source": [
    "## Кейс №1.1. Постанализ непрерывной метрики с бакетированием."
   ]
  },
  {
   "cell_type": "code",
   "execution_count": null,
   "id": "1764ac3a",
   "metadata": {},
   "outputs": [],
   "source": [
    "df = pd.read_csv('./data/ab_data.csv')\n",
    "df['height_now'] = np.random.lognormal(1, 0.5, df.shape[0])"
   ]
  },
  {
   "cell_type": "code",
   "execution_count": null,
   "id": "6c69b821",
   "metadata": {},
   "outputs": [],
   "source": [
    "data_params = DataParams(\n",
    "    id_col='id', \n",
    "    group_col='groups', \n",
    "    target='height_now', \n",
    "    is_grouped=True\n",
    ")\n",
    "\n",
    "hypothesis_params = HypothesisParams(\n",
    "    alpha=0.05, \n",
    "    beta=0.2, \n",
    "    alternative='two-sided', \n",
    "    metric_type='continuous', \n",
    "    metric_name='mean', \n",
    "    metric=np.mean, \n",
    "    n_boot_samples=100, \n",
    "    n_buckets=500\n",
    ")\n",
    "\n",
    "ab_params = ABTestParams(data_params, hypothesis_params)"
   ]
  },
  {
   "cell_type": "code",
   "execution_count": null,
   "id": "eeb24b70",
   "metadata": {},
   "outputs": [],
   "source": [
    "ab_test = ABTest(df, ab_params)\n",
    "print(ab_test.test_welch())"
   ]
  },
  {
   "cell_type": "code",
   "execution_count": null,
   "id": "00d0766f",
   "metadata": {},
   "outputs": [],
   "source": [
    "ab_test.plot()"
   ]
  },
  {
   "cell_type": "code",
   "execution_count": null,
   "id": "3c9f2a09",
   "metadata": {},
   "outputs": [],
   "source": [
    "print(len(ab_test.params.data_params.control))"
   ]
  },
  {
   "cell_type": "code",
   "execution_count": null,
   "id": "10169e6c",
   "metadata": {},
   "outputs": [],
   "source": [
    "ab_test_11 = ab_test.bucketing()\n",
    "print(len(ab_test_11.params.data_params.control))"
   ]
  },
  {
   "cell_type": "code",
   "execution_count": null,
   "id": "56bb5be1",
   "metadata": {},
   "outputs": [],
   "source": [
    "print(ab_test_11.test_welch())"
   ]
  },
  {
   "cell_type": "code",
   "execution_count": null,
   "id": "51238b58",
   "metadata": {},
   "outputs": [],
   "source": [
    "ab_test_11.plot()"
   ]
  },
  {
   "cell_type": "code",
   "execution_count": null,
   "id": "36fbc2bf",
   "metadata": {},
   "outputs": [],
   "source": [
    "scipy.stats.shapiro(ab_test_11.params.data_params.control)"
   ]
  },
  {
   "cell_type": "markdown",
   "id": "a67cd880",
   "metadata": {},
   "source": [
    "# Кейс №2. Постанализ с увеличением чувствительности непрерывной метрики. CUPED."
   ]
  },
  {
   "cell_type": "code",
   "execution_count": null,
   "id": "fd692893",
   "metadata": {},
   "outputs": [],
   "source": [
    "df = pd.read_csv('./data/ab_data.csv')"
   ]
  },
  {
   "cell_type": "code",
   "execution_count": null,
   "id": "2d7ba7a9",
   "metadata": {},
   "outputs": [],
   "source": [
    "data_params = DataParams(\n",
    "    id_col='id', \n",
    "    group_col='groups', \n",
    "    strata_col='country', \n",
    "    target='height_now', \n",
    "    covariate='height_prev', \n",
    "    is_grouped=False\n",
    ")\n",
    "\n",
    "hypothesis_params = HypothesisParams(\n",
    "    alpha=0.05, \n",
    "    beta=0.2, \n",
    "    alternative='two-sided', \n",
    "    metric_type='continuous', \n",
    "    metric_name='mean', \n",
    "    metric=np.mean, \n",
    "    n_boot_samples=100, \n",
    "    n_buckets=50\n",
    ")\n",
    "\n",
    "ab_params = ABTestParams(data_params, hypothesis_params)\n",
    "ab_test = ABTest(df, ab_params)"
   ]
  },
  {
   "cell_type": "markdown",
   "id": "6abc4d0f",
   "metadata": {},
   "source": [
    "Увеличиваем количество прокрасов в тестовой группе"
   ]
  },
  {
   "cell_type": "code",
   "execution_count": null,
   "id": "aee6ecaa",
   "metadata": {},
   "outputs": [],
   "source": [
    "df[ab_test.params.data_params.target].where(df[ab_test.params.data_params.group_col] == 'A',\n",
    "                                            df[ab_test.params.data_params.target] * 1.0001, \n",
    "                                            axis=0,\n",
    "                                            inplace=True)\n",
    "df['id'] = np.random.randint(0, 150_000, df.shape[0])\n",
    "df = df.drop_duplicates(['id'])\n",
    "\n",
    "print('Без понижения дисперсии:')\n",
    "ab_test = ABTest(df, ab_params)\n",
    "print(f\"bootstrap_test: {ab_test.test_boot_confint()}\")\n",
    "print(f\"mannwhitney_test: {ab_test.test_mannwhitney()}\")\n",
    "print(f\"ttest_test: {ab_test.test_welch()}\")\n",
    "\n",
    "print('\\nС понижением дисперсии:')\n",
    "ab_test1 = ab_test.cuped()\n",
    "print(f\"bootstrap_test: {ab_test1.test_boot_confint()}\")\n",
    "print(f\"mannwhitney_test: {ab_test1.test_mannwhitney()}\")\n",
    "print(f\"ttest_test: {ab_test1.test_welch()}\")"
   ]
  },
  {
   "cell_type": "markdown",
   "id": "a441696e",
   "metadata": {},
   "source": [
    "# Кейс №3. Постанализ для бинарной метрики."
   ]
  },
  {
   "cell_type": "code",
   "execution_count": null,
   "id": "9165108b",
   "metadata": {},
   "outputs": [],
   "source": [
    "df = pd.read_csv('./data/ab_data.csv')\n",
    "df.head()"
   ]
  },
  {
   "cell_type": "code",
   "execution_count": null,
   "id": "5e3f277f",
   "metadata": {},
   "outputs": [],
   "source": [
    "data_params = DataParams(\n",
    "    id_col='id', \n",
    "    group_col='groups', \n",
    "    control_name='A',\n",
    "    treatment_name='B',\n",
    "    target_flg='conversion',  \n",
    "    is_grouped=True\n",
    ")\n",
    "\n",
    "hypothesis_params = HypothesisParams(\n",
    "    alpha=0.05, \n",
    "    beta=0.2, \n",
    "    alternative='two-sided', \n",
    "    metric_type='binary', \n",
    "    metric_name='mean', \n",
    ")\n",
    "\n",
    "ab_params = ABTestParams(data_params, hypothesis_params)"
   ]
  },
  {
   "cell_type": "code",
   "execution_count": null,
   "id": "aa35a097",
   "metadata": {},
   "outputs": [],
   "source": [
    "ab_test = ABTest(df, ab_params)"
   ]
  },
  {
   "cell_type": "code",
   "execution_count": null,
   "id": "13a6746a",
   "metadata": {},
   "outputs": [],
   "source": [
    "print('Нет эффекта:')\n",
    "print(f\"z_proportions_test: {ab_test.test_z_proportions()}\")"
   ]
  },
  {
   "cell_type": "markdown",
   "id": "6926a2b9",
   "metadata": {},
   "source": [
    "Увеличиваем количество прокрасов в тестовой группе"
   ]
  },
  {
   "cell_type": "code",
   "execution_count": null,
   "id": "7c1b85e2",
   "metadata": {},
   "outputs": [],
   "source": [
    "df['conversion'] = np.where(df.noise_now < 0, 0, 1)\n",
    "df[ab_test.params.data_params.target_flg].where(df[ab_test.params.data_params.group_col] == 'A',\n",
    "                                            np.random.binomial(n=1, p=0.72, size=df.shape[0]),\n",
    "                                            axis=0,\n",
    "                                            inplace=True)\n",
    "\n",
    "ab_test = ABTest(df, ab_params)\n",
    "\n",
    "print('Есть эффект:')\n",
    "print(f\"z_proportions_test: {ab_test.test_z_proportions()}\")"
   ]
  },
  {
   "cell_type": "code",
   "execution_count": null,
   "id": "dff836fa",
   "metadata": {},
   "outputs": [],
   "source": [
    "ab_test.plot()"
   ]
  },
  {
   "cell_type": "markdown",
   "id": "bb3e63e5",
   "metadata": {},
   "source": [
    "# Кейс №4 — исключен"
   ]
  },
  {
   "cell_type": "markdown",
   "id": "46c03ce4",
   "metadata": {},
   "source": [
    "# Кейс №5. CUPED.\n",
    "## Кейс №5.1. Различий между групп нет."
   ]
  },
  {
   "cell_type": "code",
   "execution_count": null,
   "id": "49779e9d",
   "metadata": {},
   "outputs": [],
   "source": [
    "df = pd.read_csv('./data/ab_data.csv')"
   ]
  },
  {
   "cell_type": "code",
   "execution_count": null,
   "id": "e017fd3a",
   "metadata": {},
   "outputs": [],
   "source": [
    "data_params = DataParams(\n",
    "    id_col='id', \n",
    "    target='height_now', \n",
    "    covariate='height_prev', \n",
    "    is_grouped=True\n",
    ")\n",
    "\n",
    "hypothesis_params = HypothesisParams(\n",
    "    alpha=0.05, \n",
    "    beta=0.2, \n",
    "    alternative='two-sided',  \n",
    "    metric_type='continuous', \n",
    "    metric_name='mean',\n",
    ")\n",
    "\n",
    "ab_params = ABTestParams(data_params, hypothesis_params)"
   ]
  },
  {
   "cell_type": "code",
   "execution_count": null,
   "id": "bd8df0b3",
   "metadata": {},
   "outputs": [],
   "source": [
    "ab_test = ABTest(df, ab_params)"
   ]
  },
  {
   "cell_type": "code",
   "execution_count": null,
   "id": "b787098e",
   "metadata": {},
   "outputs": [],
   "source": [
    "print('Control mean = {:.3f}'.format(np.mean(ab_test.params.data_params.control)))\n",
    "print('Treatment mean = {:.3f}'.format(np.mean(ab_test.params.data_params.treatment)))\n",
    "print('Control var = {:.3f}'.format(np.var(ab_test.params.data_params.control)))\n",
    "print('Treatment var = {:.3f}'.format(np.var(ab_test.params.data_params.treatment)))"
   ]
  },
  {
   "cell_type": "code",
   "execution_count": null,
   "id": "96b479a6",
   "metadata": {},
   "outputs": [],
   "source": [
    "print('Различий нет:')\n",
    "print(f\"bootstrap_test: {ab_test.test_boot_confint()}\")\n",
    "print(f\"mannwhitney_test: {ab_test.test_mannwhitney()}\")\n",
    "print(f\"ttest_test: {ab_test.test_welch()}\")"
   ]
  },
  {
   "cell_type": "markdown",
   "id": "f63fa8bc",
   "metadata": {},
   "source": [
    "Применяем CUPED:"
   ]
  },
  {
   "cell_type": "code",
   "execution_count": null,
   "id": "9295a130",
   "metadata": {},
   "outputs": [],
   "source": [
    "ab_test1 = ab_test.cuped()"
   ]
  },
  {
   "cell_type": "code",
   "execution_count": null,
   "id": "3ee0243a",
   "metadata": {},
   "outputs": [],
   "source": [
    "print('Control mean = {:.3f}'.format(np.mean(ab_test1.params.data_params.control)))\n",
    "print('Treatment mean = {:.3f}'.format(np.mean(ab_test1.params.data_params.treatment)))\n",
    "print('Control var = {:.3f}'.format(np.var(ab_test1.params.data_params.control)))\n",
    "print('Treatment var = {:.3f}'.format(np.var(ab_test1.params.data_params.treatment)))"
   ]
  },
  {
   "cell_type": "code",
   "execution_count": null,
   "id": "601bf4b7",
   "metadata": {},
   "outputs": [],
   "source": [
    "print('Если различий нет, то CUPED и не поможет их найти:')\n",
    "print(f\"bootstrap_test: {ab_test1.test_boot_confint()}\")\n",
    "print(f\"mannwhitney_test: {ab_test1.test_mannwhitney()}\")\n",
    "print(f\"ttest_test: {ab_test1.test_welch()}\")"
   ]
  },
  {
   "cell_type": "code",
   "execution_count": null,
   "id": "bcc87da1",
   "metadata": {},
   "outputs": [],
   "source": [
    "ab_test.plot()"
   ]
  },
  {
   "cell_type": "code",
   "execution_count": null,
   "id": "9385c3e5",
   "metadata": {},
   "outputs": [],
   "source": [
    "ab_test1.plot()"
   ]
  },
  {
   "cell_type": "markdown",
   "id": "0a1ea15f",
   "metadata": {},
   "source": [
    "## Кейс №5.2. Различия между группами есть.\n",
    "\n",
    "### Увеличиваем значения одной из групп."
   ]
  },
  {
   "cell_type": "code",
   "execution_count": null,
   "id": "6b35a933",
   "metadata": {},
   "outputs": [],
   "source": [
    "df = pd.read_csv('./data/ab_data.csv')\n",
    "\n",
    "incs = np.random.uniform(0.0, 0.009, df.shape[0])\n",
    "df['height_now'].where(df[ab_test.params.data_params.group_col]=='A',\n",
    "                                    df['height_now'] + incs, \n",
    "                                    axis=0,\n",
    "                                    inplace=True)"
   ]
  },
  {
   "cell_type": "code",
   "execution_count": null,
   "id": "5a299b27",
   "metadata": {},
   "outputs": [],
   "source": [
    "data_params = DataParams(\n",
    "    id_col='id', \n",
    "    group_col='groups',  \n",
    "    target='height_now', \n",
    "    covariate='height_prev', \n",
    "    is_grouped=True\n",
    ")\n",
    "\n",
    "hypothesis_params = HypothesisParams(\n",
    "    alpha=0.05, \n",
    "    beta=0.2, \n",
    "    alternative='greater', \n",
    "    metric_type='continuous', \n",
    "    metric_name='mean', \n",
    ")\n",
    "\n",
    "ab_params = ABTestParams(data_params, hypothesis_params)"
   ]
  },
  {
   "cell_type": "code",
   "execution_count": null,
   "id": "b950777b",
   "metadata": {},
   "outputs": [],
   "source": [
    "incs = np.sort(np.random.uniform(0.0, 2, df.shape[0]))\n",
    "df[ab_test.params.data_params.target].where(df[ab_test.params.data_params.group_col]=='A',\n",
    "                                    df[ab_test.params.data_params.target] + incs, \n",
    "                                    axis=0,\n",
    "                                    inplace=True)"
   ]
  },
  {
   "cell_type": "code",
   "execution_count": null,
   "id": "b0da846d",
   "metadata": {},
   "outputs": [],
   "source": [
    "ab_test = ABTest(df, ab_params)"
   ]
  },
  {
   "cell_type": "code",
   "execution_count": null,
   "id": "7dd05958",
   "metadata": {},
   "outputs": [],
   "source": [
    "print('Control mean = {:.3f}'.format(np.mean(ab_test.params.data_params.control)))\n",
    "print('Treatment mean = {:.3f}'.format(np.mean(ab_test.params.data_params.treatment)))\n",
    "print('Control var = {:.3f}'.format(np.var(ab_test.params.data_params.control)))\n",
    "print('Treatment var = {:.3f}'.format(np.var(ab_test.params.data_params.treatment)))"
   ]
  },
  {
   "cell_type": "code",
   "execution_count": null,
   "id": "a64a174a",
   "metadata": {},
   "outputs": [],
   "source": [
    "print('Различий нет:\\n')\n",
    "\n",
    "print(f\"bootstrap_test: {ab_test.test_boot_confint()}\")\n",
    "print(f\"mannwhitney_test: {ab_test.test_mannwhitney()}\")\n",
    "print(f\"ttest_test: {ab_test.test_welch()}\")"
   ]
  },
  {
   "cell_type": "markdown",
   "id": "90e2ee6c",
   "metadata": {},
   "source": [
    "Применяем CUPED:"
   ]
  },
  {
   "cell_type": "code",
   "execution_count": null,
   "id": "329d1099",
   "metadata": {},
   "outputs": [],
   "source": [
    "ab_test2 = ab_test.cuped()"
   ]
  },
  {
   "cell_type": "code",
   "execution_count": null,
   "id": "e0085ae5",
   "metadata": {},
   "outputs": [],
   "source": [
    "print('Control mean = {:.3f}'.format(np.mean(ab_test2.params.data_params.control)))\n",
    "print('Treatment mean = {:.3f}'.format(np.mean(ab_test2.params.data_params.treatment)))\n",
    "print('Control var = {:.3f}'.format(np.var(ab_test2.params.data_params.control)))\n",
    "print('Treatment var = {:.3f}'.format(np.var(ab_test2.params.data_params.treatment)))"
   ]
  },
  {
   "cell_type": "code",
   "execution_count": null,
   "id": "e056a7d1",
   "metadata": {},
   "outputs": [],
   "source": [
    "print('Если различия есть, то CUPED может помочь их найти:\\n')\n",
    "\n",
    "print(f\"bootstrap_test: {ab_test2.test_boot_confint()}\")\n",
    "print(f\"mannwhitney_test: {ab_test2.test_mannwhitney()}\")\n",
    "print(f\"ttest_test: {ab_test2.test_welch()}\")"
   ]
  },
  {
   "cell_type": "code",
   "execution_count": null,
   "id": "cd9b71bc",
   "metadata": {},
   "outputs": [],
   "source": [
    "ab_test.plot()"
   ]
  },
  {
   "cell_type": "code",
   "execution_count": null,
   "id": "a204947e",
   "metadata": {},
   "outputs": [],
   "source": [
    "ab_test2.plot()"
   ]
  },
  {
   "cell_type": "markdown",
   "id": "9a724b59",
   "metadata": {},
   "source": [
    "# Кейс №6. Всё вместе: chaining rule & reporting."
   ]
  },
  {
   "cell_type": "code",
   "execution_count": null,
   "id": "9565d36f",
   "metadata": {},
   "outputs": [],
   "source": [
    "df = pd.read_csv('./data/ab_data.csv')\n",
    "df.head()"
   ]
  },
  {
   "cell_type": "code",
   "execution_count": null,
   "id": "df0fac54",
   "metadata": {},
   "outputs": [],
   "source": [
    "data_params = DataParams(\n",
    "    id_col='id', \n",
    "    group_col='groups', \n",
    "    target='height_now', \n",
    "    covariate='height_prev', \n",
    "    is_grouped=False\n",
    ")\n",
    "\n",
    "hypothesis_params = HypothesisParams(\n",
    "    alpha=0.05, \n",
    "    beta=0.2, \n",
    "    alternative='two-sided', \n",
    "    metric_type='continuous', \n",
    "    metric_name='mean', \n",
    "    n_boot_samples=100, \n",
    "    n_buckets=2000\n",
    ")\n",
    "\n",
    "ab_params = ABTestParams(data_params, hypothesis_params)"
   ]
  },
  {
   "cell_type": "code",
   "execution_count": null,
   "id": "ea3cc15f",
   "metadata": {},
   "outputs": [],
   "source": [
    "df = pd.read_csv('./data/ab_data.csv')\n",
    "df['height_now'].where(df['groups'] == 'A',\n",
    "                       df['height_now'] * 1.003,\n",
    "                       axis=0,\n",
    "                       inplace=True)\n",
    "df['id'] = np.random.randint(0, 150_000, df.shape[0])\n",
    "df = df.drop_duplicates(['id'])"
   ]
  },
  {
   "cell_type": "code",
   "execution_count": null,
   "id": "1e12ab8b",
   "metadata": {},
   "outputs": [],
   "source": [
    "ab_test = ABTest(df, ab_params).linearization().cuped().bucketing()\n",
    "ab_test.params.data_params.transforms"
   ]
  },
  {
   "cell_type": "code",
   "execution_count": null,
   "id": "f32bdec5",
   "metadata": {},
   "outputs": [],
   "source": [
    "ab_test.test_welch()"
   ]
  },
  {
   "cell_type": "code",
   "execution_count": null,
   "id": "dccf8b7e",
   "metadata": {},
   "outputs": [],
   "source": [
    "ab_test.report()"
   ]
  },
  {
   "cell_type": "code",
   "execution_count": null,
   "id": "43a4ec4e",
   "metadata": {},
   "outputs": [],
   "source": [
    "ab_test.plot()"
   ]
  },
  {
   "cell_type": "markdown",
   "id": "a8ba188b",
   "metadata": {},
   "source": [
    "# Кейс №7. Выделение групп."
   ]
  },
  {
   "cell_type": "code",
   "execution_count": null,
   "id": "6521f299",
   "metadata": {},
   "outputs": [],
   "source": [
    "df = pd.read_csv('./data/ab_data.csv', nrows=5000)"
   ]
  },
  {
   "cell_type": "code",
   "execution_count": null,
   "id": "fbeab51b",
   "metadata": {},
   "outputs": [],
   "source": [
    "df[\"moda_city\"] = np.random.randint(1, 5, df.shape[0])\n",
    "df[\"moda_city\"] = df[\"moda_city\"].astype(str)\n",
    "df[\"country\"] = np.random.randint(1, 3, df.shape[0])\n",
    "df[\"id\"] = df.index"
   ]
  },
  {
   "cell_type": "code",
   "execution_count": null,
   "id": "5f923e31",
   "metadata": {},
   "outputs": [],
   "source": [
    "split_builder_params = SplitBuilderParams(\n",
    "    map_group_names_to_sizes={\n",
    "        'control': None,\n",
    "        'target': None\n",
    "    },\n",
    "    main_strata_col = \"moda_city\",\n",
    "    split_metric_col = \"height_now\",\n",
    "    metric_type = \"continuous\",\n",
    "    id_col = \"id\",\n",
    "    cols = [\"height_prev\"],\n",
    "    cat_cols=[\"country\"],\n",
    "    alpha=0.05,\n",
    "    n_bins = 6,\n",
    "    min_cluster_size = 100\n",
    ")"
   ]
  },
  {
   "cell_type": "code",
   "execution_count": null,
   "id": "2764600c",
   "metadata": {},
   "outputs": [],
   "source": [
    "split_builder = SplitBuilder(df, split_builder_params)"
   ]
  },
  {
   "cell_type": "code",
   "execution_count": null,
   "id": "825b5bf1",
   "metadata": {},
   "outputs": [],
   "source": [
    "split = split_builder.collect()"
   ]
  },
  {
   "cell_type": "code",
   "execution_count": null,
   "id": "d3fcdae4",
   "metadata": {},
   "outputs": [],
   "source": [
    "split.head()"
   ]
  },
  {
   "cell_type": "markdown",
   "id": "2b037a20",
   "metadata": {},
   "source": [
    "# Кейс №8. Препилот для непрерывной метрики."
   ]
  },
  {
   "cell_type": "code",
   "execution_count": null,
   "id": "d155d4ea",
   "metadata": {},
   "outputs": [],
   "source": [
    "df = pd.read_csv('./data/ab_data.csv')\n",
    "df = df.sample(n=20_000, random_state=1)"
   ]
  },
  {
   "cell_type": "code",
   "execution_count": null,
   "id": "bd2e6ee4",
   "metadata": {},
   "outputs": [],
   "source": [
    "data_params = DataParams(\n",
    "    id_col='id', \n",
    "    group_col='groups', \n",
    "    control_name='A',\n",
    "    treatment_name='B', \n",
    "    target='height_now', \n",
    "    is_grouped=True\n",
    ")\n",
    "\n",
    "hypothesis_params = HypothesisParams(\n",
    "    alpha=0.05, \n",
    "    beta=0.2, \n",
    "    alternative='two-sided', \n",
    "    metric_type='continuous',\n",
    "    metric=np.mean, \n",
    "    n_boot_samples=100, \n",
    ")\n",
    "\n",
    "ab_params = ABTestParams(data_params, hypothesis_params)"
   ]
  },
  {
   "cell_type": "code",
   "execution_count": null,
   "id": "bb355ec6",
   "metadata": {},
   "outputs": [],
   "source": [
    "experiment_params = MdeParams(\n",
    "    metrics_names=['height_now'],\n",
    "    injects=[1.0001,1.0002],\n",
    "    min_group_size=5000, \n",
    "    max_group_size=10000, \n",
    "    step=2500,\n",
    "    variance_reduction=None,\n",
    "    use_buckets=False,\n",
    "    stat_test=ABTest.test_boot_confint,\n",
    "    iterations_number=10,\n",
    "    max_beta_score=0.9,\n",
    "    min_beta_score=0.02,\n",
    ")"
   ]
  },
  {
   "cell_type": "code",
   "execution_count": null,
   "id": "326ab2be",
   "metadata": {},
   "outputs": [],
   "source": [
    "prepilot = MdeResearchBuilder(df, ab_params,\n",
    "                                  experiment_params,\n",
    "                                  split_builder_params)"
   ]
  },
  {
   "cell_type": "code",
   "execution_count": null,
   "id": "7d87d121",
   "metadata": {},
   "outputs": [],
   "source": [
    "beta, alpha = prepilot.collect()"
   ]
  },
  {
   "cell_type": "code",
   "execution_count": null,
   "id": "930af193",
   "metadata": {},
   "outputs": [],
   "source": [
    "beta"
   ]
  },
  {
   "cell_type": "code",
   "execution_count": null,
   "id": "68f87184",
   "metadata": {},
   "outputs": [],
   "source": [
    "alpha"
   ]
  },
  {
   "cell_type": "markdown",
   "id": "dc0521fe",
   "metadata": {},
   "source": [
    "# Кейс №9. Препилот для непрерывной метрики со снижением дисперсии."
   ]
  },
  {
   "cell_type": "code",
   "execution_count": null,
   "id": "a6cd3d3d",
   "metadata": {},
   "outputs": [],
   "source": [
    "df = pd.read_csv('./data/ab_data.csv')\n",
    "df = df.sample(n=20_000, random_state=1)"
   ]
  },
  {
   "cell_type": "code",
   "execution_count": null,
   "id": "aedba715",
   "metadata": {},
   "outputs": [],
   "source": [
    "data_params = DataParams(\n",
    "    id_col='id', \n",
    "    group_col='groups', \n",
    "    control_name='A',\n",
    "    treatment_name='B', \n",
    "    target='height_now', \n",
    "    covariate='height_prev',\n",
    "    is_grouped=True\n",
    ")\n",
    "\n",
    "hypothesis_params = HypothesisParams(\n",
    "    alpha=0.05, \n",
    "    beta=0.2, \n",
    "    alternative='two-sided',\n",
    "    metric_type='continuous', \n",
    "    metric_name='mean', \n",
    "    metric=np.mean, \n",
    "    n_boot_samples=200, \n",
    "    n_buckets=50\n",
    ")\n",
    "\n",
    "ab_params = ABTestParams(data_params, hypothesis_params)"
   ]
  },
  {
   "cell_type": "code",
   "execution_count": null,
   "id": "c2ea80e9",
   "metadata": {},
   "outputs": [],
   "source": [
    "prepilot_params = MdeParams(\n",
    "    metrics_names=['height_now'],\n",
    "    injects=[1.00046,1.00048,1.0005,1.001],\n",
    "    min_group_size=5000, \n",
    "    max_group_size=10000, \n",
    "    step=1000,\n",
    "    variance_reduction = ABTest.cuped,\n",
    "    use_buckets = False,\n",
    "    stat_test = ABTest.test_welch,\n",
    "    iterations_number = 10,\n",
    "    max_beta_score=0.9,\n",
    "    min_beta_score=0.02,\n",
    ")"
   ]
  },
  {
   "cell_type": "code",
   "execution_count": null,
   "id": "4268fc21",
   "metadata": {},
   "outputs": [],
   "source": [
    "split_builder_params = SplitBuilderParams(\n",
    "    map_group_names_to_sizes={\n",
    "        'control': None,\n",
    "        'target': None\n",
    "    },\n",
    "    main_strata_col = \"moda_city\",\n",
    "    split_metric_col = \"height_now\",\n",
    "    metric_type = \"continuous\",\n",
    "    id_col = \"id\",\n",
    "    cols = [\"height_prev\"],\n",
    "    cat_cols=[\"country\"],\n",
    "    alpha=0.05,\n",
    "    n_bins = 6,\n",
    "    min_cluster_size = 100\n",
    ")"
   ]
  },
  {
   "cell_type": "code",
   "execution_count": null,
   "id": "b7c76948",
   "metadata": {},
   "outputs": [],
   "source": [
    "prepilot = MdeResearchBuilder(df, ab_params,\n",
    "                                     prepilot_params,\n",
    "                                     split_builder_params)"
   ]
  },
  {
   "cell_type": "code",
   "execution_count": null,
   "id": "aed7eb9c",
   "metadata": {},
   "outputs": [],
   "source": [
    "beta, alpha = prepilot.collect()"
   ]
  },
  {
   "cell_type": "code",
   "execution_count": null,
   "id": "345e06d6",
   "metadata": {},
   "outputs": [],
   "source": [
    "beta"
   ]
  },
  {
   "cell_type": "code",
   "execution_count": null,
   "id": "49a632c2",
   "metadata": {},
   "outputs": [],
   "source": [
    "alpha"
   ]
  },
  {
   "cell_type": "markdown",
   "id": "1f6b68a8",
   "metadata": {},
   "source": [
    "# Кейс №10. Препилот для бинарной метрики."
   ]
  },
  {
   "cell_type": "code",
   "execution_count": null,
   "id": "9186d021",
   "metadata": {},
   "outputs": [],
   "source": [
    "df = pd.read_csv('./data/ab_data.csv')\n",
    "df = df.sample(n=10_000, random_state=1)\n",
    "df.head()"
   ]
  },
  {
   "cell_type": "code",
   "execution_count": null,
   "id": "be4aa92e",
   "metadata": {},
   "outputs": [],
   "source": [
    "data_params = DataParams(\n",
    "    id_col='id', \n",
    "    group_col='groups',\n",
    "    target_flg='conversion', \n",
    "    is_grouped=True\n",
    ")\n",
    "\n",
    "hypothesis_params = HypothesisParams(\n",
    "    alpha=0.05, \n",
    "    beta=0.2, \n",
    "    alternative='two-sided',\n",
    "    metric_type='binary', \n",
    "    metric_name='mean', \n",
    "    metric=np.mean, \n",
    "    n_boot_samples=200, \n",
    "    n_buckets=50\n",
    ")\n",
    "\n",
    "ab_params = ABTestParams(data_params, hypothesis_params)"
   ]
  },
  {
   "cell_type": "code",
   "execution_count": null,
   "id": "6ae0d766",
   "metadata": {},
   "outputs": [],
   "source": [
    "split_builder_params = SplitBuilderParams(\n",
    "    map_group_names_to_sizes={\n",
    "        'control': None,\n",
    "        'target': None\n",
    "    },\n",
    "    main_strata_col = \"moda_city\",\n",
    "    split_metric_col = \"height_now\",\n",
    "    metric_type = \"binary\",\n",
    "    id_col = \"id\",\n",
    "    cols = [\"height_prev\"],\n",
    "    cat_cols=[\"country\"],\n",
    "    alpha=0.05,\n",
    "    n_bins = 6,\n",
    "    min_cluster_size = 500\n",
    ")"
   ]
  },
  {
   "cell_type": "markdown",
   "id": "951e2bd0",
   "metadata": {},
   "source": [
    "### Препилот без бакетирования"
   ]
  },
  {
   "cell_type": "code",
   "execution_count": null,
   "id": "b9590c8f",
   "metadata": {},
   "outputs": [],
   "source": [
    "prepilot_params = MdeParams(\n",
    "    metrics_names=['conversion'],\n",
    "    injects=[1.001,1.005,1.01],\n",
    "    min_group_size=2000, \n",
    "    max_group_size=5000, \n",
    "    step=1000,\n",
    "    variance_reduction = None,\n",
    "    use_buckets = False,\n",
    "    stat_test = ABTest.test_z_proportions,\n",
    "    iterations_number = 5,\n",
    "    max_beta_score=0.9,\n",
    "    min_beta_score=0.01,\n",
    ")\n",
    "\n",
    "prepilot = MdeResearchBuilder(df, ab_params,\n",
    "                                  prepilot_params,\n",
    "                                  split_builder_params)"
   ]
  },
  {
   "cell_type": "code",
   "execution_count": null,
   "id": "ab9b5053",
   "metadata": {},
   "outputs": [],
   "source": [
    "%%time \n",
    "beta, alpha = prepilot.collect()"
   ]
  },
  {
   "cell_type": "code",
   "execution_count": null,
   "id": "3f6005a0",
   "metadata": {},
   "outputs": [],
   "source": [
    "beta"
   ]
  },
  {
   "cell_type": "code",
   "execution_count": null,
   "id": "b89d511f",
   "metadata": {},
   "outputs": [],
   "source": [
    "alpha"
   ]
  },
  {
   "cell_type": "markdown",
   "id": "547a793f",
   "metadata": {},
   "source": [
    "# Кейс №11. Линеаризация"
   ]
  },
  {
   "cell_type": "code",
   "execution_count": null,
   "id": "3560a4d7",
   "metadata": {},
   "outputs": [],
   "source": [
    "df = pd.read_csv('./data/ab_data.csv')\n",
    "df.head()"
   ]
  },
  {
   "cell_type": "code",
   "execution_count": null,
   "id": "d88219dc",
   "metadata": {},
   "outputs": [],
   "source": [
    "data_params = DataParams(\n",
    "    id_col='id', \n",
    "    group_col='groups', \n",
    "    control_name='A',\n",
    "    treatment_name='B',\n",
    "    numerator='numerator', \n",
    "    denominator='denominator', \n",
    "    covariate='height_prev',\n",
    "    is_grouped=False\n",
    ")\n",
    "\n",
    "hypothesis_params = HypothesisParams(\n",
    "    alpha=0.05, \n",
    "    beta=0.2, \n",
    "    alternative='two-sided', \n",
    "    metric_type='ratio', \n",
    "    metric_name='mean', \n",
    "    metric=np.mean, \n",
    "    n_boot_samples=200, \n",
    "    n_buckets=50\n",
    ")\n",
    "\n",
    "ab_params = ABTestParams(data_params, hypothesis_params)"
   ]
  },
  {
   "cell_type": "code",
   "execution_count": null,
   "id": "bfbca816",
   "metadata": {},
   "outputs": [],
   "source": [
    "ab_test = ABTest(df, ab_params)\n",
    "ab_test_1 = ab_test.linearization()\n",
    "ab_test_2 = ab_test_1.cuped()"
   ]
  },
  {
   "cell_type": "code",
   "execution_count": null,
   "id": "5c1e69cf",
   "metadata": {},
   "outputs": [],
   "source": [
    "df_linear = pd.DataFrame(data={\n",
    "    'id': list(range(0, len(ab_test_1._ABTest__dataset.target_linearized), 1)),\n",
    "    'ratio_linear': ab_test_1._ABTest__dataset.target_linearized\n",
    "})"
   ]
  },
  {
   "cell_type": "code",
   "execution_count": null,
   "id": "70c2298b",
   "metadata": {},
   "outputs": [],
   "source": [
    "df_grouped = df.groupby(by=['id', 'groups'], \n",
    "                        as_index=False).agg({\n",
    "                            'numerator': 'sum',\n",
    "                            'denominator': 'sum'\n",
    "                        })\n",
    "df_grouped['ratio_real'] = df_grouped.numerator / df_grouped.denominator\n",
    "df_grouped = df_grouped.merge(df_linear, how='left', on='id')\n",
    "df_grouped.head()"
   ]
  },
  {
   "cell_type": "code",
   "execution_count": null,
   "id": "26632599",
   "metadata": {},
   "outputs": [],
   "source": [
    "df_grouped[['ratio_real', 'ratio_linear']].corr()"
   ]
  },
  {
   "cell_type": "code",
   "execution_count": null,
   "id": "a3f5b929",
   "metadata": {},
   "outputs": [],
   "source": [
    "plt.rcParams.update({'font.size': 16})\n",
    "plt.figure(figsize=(10, 10))\n",
    "sns.scatterplot(data=df_grouped,\n",
    "            x='ratio_real', y='ratio_linear',\n",
    "            hue='groups', s=80)\n",
    "plt.legend()\n",
    "plt.xlabel('ratio_real', fontsize=16)\n",
    "plt.ylabel('ratio_linear', fontsize=16)\n",
    "plt.show()\n",
    "plt.close()"
   ]
  },
  {
   "cell_type": "code",
   "execution_count": null,
   "id": "6a1de9fd",
   "metadata": {},
   "outputs": [],
   "source": [
    "ab_test_1.params.data_params.transforms"
   ]
  },
  {
   "cell_type": "code",
   "execution_count": null,
   "id": "317503b1",
   "metadata": {},
   "outputs": [],
   "source": [
    "ab_test.params.data_params.transforms"
   ]
  },
  {
   "cell_type": "code",
   "execution_count": null,
   "id": "f42f779a",
   "metadata": {},
   "outputs": [],
   "source": [
    "print(ab_test_2.report())"
   ]
  },
  {
   "cell_type": "markdown",
   "id": "b133a694",
   "metadata": {},
   "source": [
    "# Кейс №11. Пайплайн как вызов цепочки методов"
   ]
  },
  {
   "cell_type": "code",
   "execution_count": null,
   "id": "cb84c517",
   "metadata": {},
   "outputs": [],
   "source": [
    "data_params = DataParams(\n",
    "    id_col='id', \n",
    "    group_col='groups', \n",
    "    target='height_now', \n",
    "    covariate='height_prev', \n",
    "    is_grouped=False\n",
    ")\n",
    "\n",
    "hypothesis_params = HypothesisParams(\n",
    "    alpha=0.05, \n",
    "    beta=0.2, \n",
    "    alternative='greater', \n",
    "    metric_type='continuous', \n",
    "    metric_name='mean', \n",
    "    metric=np.mean, \n",
    "    n_boot_samples=100, \n",
    "    n_buckets=2000\n",
    ")\n",
    "\n",
    "ab_params = ABTestParams(data_params, hypothesis_params)"
   ]
  },
  {
   "cell_type": "code",
   "execution_count": null,
   "id": "cddf9584",
   "metadata": {},
   "outputs": [],
   "source": [
    "df = pd.read_csv('./data/ab_data.csv')\n",
    "df['height_now'].where(df['groups'] == 'A',\n",
    "                       df['height_now'] * 1.003,\n",
    "                       axis=0,\n",
    "                       inplace=True)\n",
    "df['id'] = np.random.randint(0, 150_000, df.shape[0])\n",
    "df = df.drop_duplicates(['id'])"
   ]
  },
  {
   "cell_type": "code",
   "execution_count": null,
   "id": "c5d09cb8",
   "metadata": {},
   "outputs": [],
   "source": [
    "ab_test = ABTest(df, ab_params).linearization().cuped().bucketing()"
   ]
  },
  {
   "cell_type": "code",
   "execution_count": null,
   "id": "dec144e3",
   "metadata": {},
   "outputs": [],
   "source": [
    "ab_test.params.data_params.transforms"
   ]
  },
  {
   "cell_type": "code",
   "execution_count": null,
   "id": "5910ecec",
   "metadata": {},
   "outputs": [],
   "source": [
    "ab_test.test_welch()"
   ]
  },
  {
   "cell_type": "code",
   "execution_count": null,
   "id": "6f4a993d",
   "metadata": {},
   "outputs": [],
   "source": [
    "ab_test.report()"
   ]
  },
  {
   "cell_type": "code",
   "execution_count": null,
   "id": "34cdc693",
   "metadata": {},
   "outputs": [],
   "source": [
    "ab_test.plot()"
   ]
  }
 ],
 "metadata": {
  "kernelspec": {
   "display_name": "Python 3 (ipykernel)",
   "language": "python",
   "name": "python3"
  },
  "language_info": {
   "codemirror_mode": {
    "name": "ipython",
    "version": 3
   },
   "file_extension": ".py",
   "mimetype": "text/x-python",
   "name": "python",
   "nbconvert_exporter": "python",
   "pygments_lexer": "ipython3",
   "version": "3.11.4"
  },
  "vscode": {
   "interpreter": {
    "hash": "626acd8304246c39c892b04a088b1f86fa4d1e9c8375290e6951e511351ad7f7"
   }
  }
 },
 "nbformat": 4,
 "nbformat_minor": 5
}
