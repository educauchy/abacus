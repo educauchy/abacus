{
 "cells": [
  {
   "cell_type": "code",
   "execution_count": 1,
   "metadata": {},
   "outputs": [],
   "source": [
    "import warnings\n",
    "warnings.filterwarnings('ignore')\n",
    "\n",
    "import os\n",
    "import sys\n",
    "import logging\n",
    "import pandas as pd\n",
    "import numpy as np\n",
    "import scipy\n",
    "import yaml\n",
    "import matplotlib.pyplot as plt\n",
    "\n",
    "sys.path.append('../')\n",
    "\n",
    "from abacus.auto_ab.abtest import ABTest\n",
    "from abacus.auto_ab.params import ABTestParams\n",
    "from abacus.auto_ab.params import DataParams, HypothesisParams\n",
    "from abacus.splitter.split_builder import SplitBuilder\n",
    "from abacus.splitter.params import SplitBuilderParams\n",
    "from abacus.mde_researcher.params import MdeParams\n",
    "from abacus.mde_researcher.mde_research_builder import MdeResearchBuilder\n",
    "from abacus.mde_researcher.multiple_split_builder import MultipleSplitBuilder\n",
    "\n",
    "\n",
    "logging.basicConfig(level = logging.INFO)\n",
    "\n",
    "\n",
    "%load_ext autoreload\n",
    "%autoreload 2"
   ]
  },
  {
   "cell_type": "code",
   "execution_count": 164,
   "metadata": {},
   "outputs": [],
   "source": [
    "!{sys.executable} -m pip install -r ../requirements.txt"
   ]
  },
  {
   "cell_type": "markdown",
   "metadata": {},
   "source": [
    "# Данные, с которыми будем работать"
   ]
  },
  {
   "cell_type": "code",
   "execution_count": 2,
   "metadata": {},
   "outputs": [
    {
     "data": {
      "text/html": [
       "<div>\n",
       "<style scoped>\n",
       "    .dataframe tbody tr th:only-of-type {\n",
       "        vertical-align: middle;\n",
       "    }\n",
       "\n",
       "    .dataframe tbody tr th {\n",
       "        vertical-align: top;\n",
       "    }\n",
       "\n",
       "    .dataframe thead th {\n",
       "        text-align: right;\n",
       "    }\n",
       "</style>\n",
       "<table border=\"1\" class=\"dataframe\">\n",
       "  <thead>\n",
       "    <tr style=\"text-align: right;\">\n",
       "      <th></th>\n",
       "      <th>height_now</th>\n",
       "      <th>height_prev</th>\n",
       "      <th>weight_now</th>\n",
       "      <th>weight_prev</th>\n",
       "      <th>noise_now</th>\n",
       "      <th>noise_prev</th>\n",
       "      <th>groups</th>\n",
       "      <th>id</th>\n",
       "      <th>moda_city</th>\n",
       "      <th>country</th>\n",
       "      <th>numerator</th>\n",
       "      <th>denominator</th>\n",
       "      <th>conversion</th>\n",
       "    </tr>\n",
       "  </thead>\n",
       "  <tbody>\n",
       "    <tr>\n",
       "      <th>0</th>\n",
       "      <td>172.470442</td>\n",
       "      <td>166.382868</td>\n",
       "      <td>163.648256</td>\n",
       "      <td>173.422115</td>\n",
       "      <td>5.644384</td>\n",
       "      <td>-1.923929</td>\n",
       "      <td>A</td>\n",
       "      <td>0</td>\n",
       "      <td>3</td>\n",
       "      <td>2</td>\n",
       "      <td>3</td>\n",
       "      <td>2</td>\n",
       "      <td>1</td>\n",
       "    </tr>\n",
       "    <tr>\n",
       "      <th>1</th>\n",
       "      <td>178.610565</td>\n",
       "      <td>173.386388</td>\n",
       "      <td>173.195935</td>\n",
       "      <td>180.831845</td>\n",
       "      <td>11.664751</td>\n",
       "      <td>2.711829</td>\n",
       "      <td>B</td>\n",
       "      <td>1</td>\n",
       "      <td>2</td>\n",
       "      <td>2</td>\n",
       "      <td>1</td>\n",
       "      <td>4</td>\n",
       "      <td>1</td>\n",
       "    </tr>\n",
       "    <tr>\n",
       "      <th>2</th>\n",
       "      <td>180.382301</td>\n",
       "      <td>178.563579</td>\n",
       "      <td>174.520065</td>\n",
       "      <td>181.571024</td>\n",
       "      <td>7.183178</td>\n",
       "      <td>-0.453939</td>\n",
       "      <td>A</td>\n",
       "      <td>2</td>\n",
       "      <td>3</td>\n",
       "      <td>1</td>\n",
       "      <td>2</td>\n",
       "      <td>2</td>\n",
       "      <td>1</td>\n",
       "    </tr>\n",
       "    <tr>\n",
       "      <th>3</th>\n",
       "      <td>180.954018</td>\n",
       "      <td>179.732080</td>\n",
       "      <td>175.731245</td>\n",
       "      <td>182.840388</td>\n",
       "      <td>-4.682656</td>\n",
       "      <td>6.358723</td>\n",
       "      <td>B</td>\n",
       "      <td>3</td>\n",
       "      <td>4</td>\n",
       "      <td>1</td>\n",
       "      <td>3</td>\n",
       "      <td>2</td>\n",
       "      <td>0</td>\n",
       "    </tr>\n",
       "    <tr>\n",
       "      <th>4</th>\n",
       "      <td>167.590042</td>\n",
       "      <td>167.684244</td>\n",
       "      <td>166.109779</td>\n",
       "      <td>170.189261</td>\n",
       "      <td>9.134517</td>\n",
       "      <td>-1.153977</td>\n",
       "      <td>B</td>\n",
       "      <td>4</td>\n",
       "      <td>2</td>\n",
       "      <td>1</td>\n",
       "      <td>3</td>\n",
       "      <td>2</td>\n",
       "      <td>1</td>\n",
       "    </tr>\n",
       "  </tbody>\n",
       "</table>\n",
       "</div>"
      ],
      "text/plain": [
       "   height_now  height_prev  weight_now  weight_prev  noise_now  noise_prev  \\\n",
       "0  172.470442   166.382868  163.648256   173.422115   5.644384   -1.923929   \n",
       "1  178.610565   173.386388  173.195935   180.831845  11.664751    2.711829   \n",
       "2  180.382301   178.563579  174.520065   181.571024   7.183178   -0.453939   \n",
       "3  180.954018   179.732080  175.731245   182.840388  -4.682656    6.358723   \n",
       "4  167.590042   167.684244  166.109779   170.189261   9.134517   -1.153977   \n",
       "\n",
       "  groups  id  moda_city  country  numerator  denominator  conversion  \n",
       "0      A   0          3        2          3            2           1  \n",
       "1      B   1          2        2          1            4           1  \n",
       "2      A   2          3        1          2            2           1  \n",
       "3      B   3          4        1          3            2           0  \n",
       "4      B   4          2        1          3            2           1  "
      ]
     },
     "execution_count": 2,
     "metadata": {},
     "output_type": "execute_result"
    }
   ],
   "source": [
    "pd.read_csv('./data/ab_data.csv').head()"
   ]
  },
  {
   "cell_type": "markdown",
   "metadata": {},
   "source": [
    "# Кейс №1. Постанализ непрерывной метрики."
   ]
  },
  {
   "cell_type": "code",
   "execution_count": 3,
   "metadata": {},
   "outputs": [],
   "source": [
    "df = pd.read_csv('./data/ab_data.csv')"
   ]
  },
  {
   "cell_type": "code",
   "execution_count": 4,
   "metadata": {},
   "outputs": [],
   "source": [
    "data_params = DataParams(\n",
    "    id_col='id', \n",
    "    group_col='groups', \n",
    "    target='height_now', \n",
    "    is_grouped=True\n",
    ")\n",
    "\n",
    "hypothesis_params = HypothesisParams(\n",
    "    alpha=0.05, \n",
    "    beta=0.2, \n",
    "    alternative='greater', \n",
    "    metric_type='continuous', \n",
    "    metric_name='mean', \n",
    "    metric=np.mean, \n",
    "    n_boot_samples=100, \n",
    ")\n",
    "\n",
    "ab_params = ABTestParams(data_params,\n",
    "                         hypothesis_params)"
   ]
  },
  {
   "cell_type": "code",
   "execution_count": 5,
   "metadata": {},
   "outputs": [],
   "source": [
    "ab_test = ABTest(df, ab_params)"
   ]
  },
  {
   "cell_type": "code",
   "execution_count": 6,
   "metadata": {},
   "outputs": [
    {
     "name": "stdout",
     "output_type": "stream",
     "text": [
      "Нет эффекта:\n",
      "\n",
      "bootstrap_test: {'stat': None, 'p-value': 0.6824911456799752, 'result': 0}\n",
      "mannwhitney_test: {'stat': 4992976857.0, 'p-value': 0.7054512378789, 'result': 0}\n",
      "welch_test: {'stat': 0.4435517988023507, 'p-value': 0.3286835705749809, 'result': 0}\n"
     ]
    }
   ],
   "source": [
    "print('Нет эффекта:\\n')\n",
    "\n",
    "print(f\"bootstrap_test: {ab_test.test_boot_confint()}\")\n",
    "print(f\"mannwhitney_test: {ab_test.test_mannwhitney()}\")\n",
    "print(f\"welch_test: {ab_test.test_welch()}\")"
   ]
  },
  {
   "cell_type": "markdown",
   "metadata": {},
   "source": [
    "Увеличиваем количество прокрасов в тестовой группе"
   ]
  },
  {
   "cell_type": "code",
   "execution_count": 7,
   "metadata": {},
   "outputs": [],
   "source": [
    "df[ab_test.params.data_params.target].where(df[ab_test.params.data_params.group_col] == 'A',\n",
    "                                            df[ab_test.params.data_params.target] * 1.001, \n",
    "                                            axis=0,\n",
    "                                            inplace=True)\n",
    "\n",
    "ab_test = ABTest(df, ab_params)"
   ]
  },
  {
   "cell_type": "code",
   "execution_count": 8,
   "metadata": {},
   "outputs": [
    {
     "name": "stdout",
     "output_type": "stream",
     "text": [
      "Есть эффект:\n",
      "bootstrap_test: {'stat': None, 'p-value': 1.0, 'result': 1}\n",
      "mannwhitney_test: {'stat': 4894119324.0, 'p-value': 0.9999999999999999, 'result': 0}\n",
      "welch_test: {'stat': 8.275588883468059, 'p-value': 6.429782182568636e-17, 'result': 1}\n"
     ]
    }
   ],
   "source": [
    "print('Есть эффект:')\n",
    "print(f\"bootstrap_test: {ab_test.test_boot_confint()}\")\n",
    "print(f\"mannwhitney_test: {ab_test.test_mannwhitney()}\")\n",
    "print(f\"welch_test: {ab_test.test_welch()}\")"
   ]
  },
  {
   "cell_type": "code",
   "execution_count": 9,
   "metadata": {},
   "outputs": [
    {
     "data": {
      "image/png": "[encoded data removed]",
      "text/plain": [
       "<Figure size 1440x864 with 1 Axes>"
      ]
     },
     "metadata": {
      "needs_background": "light"
     },
     "output_type": "display_data"
    }
   ],
   "source": [
    "ab_test.plot()"
   ]
  },
  {
   "cell_type": "markdown",
   "metadata": {},
   "source": [
    "## Кейс №1.1. Постанализ непрерывной метрики с бакетированием."
   ]
  },
  {
   "cell_type": "code",
   "execution_count": 10,
   "metadata": {},
   "outputs": [],
   "source": [
    "df = pd.read_csv('./data/ab_data.csv')\n",
    "df['height_now'] = np.random.lognormal(1, 0.5, df.shape[0])"
   ]
  },
  {
   "cell_type": "code",
   "execution_count": 11,
   "metadata": {},
   "outputs": [],
   "source": [
    "data_params = DataParams(\n",
    "    id_col='id', \n",
    "    group_col='groups', \n",
    "    target='height_now', \n",
    "    is_grouped=True\n",
    ")\n",
    "\n",
    "hypothesis_params = HypothesisParams(\n",
    "    alpha=0.05, \n",
    "    beta=0.2, \n",
    "    alternative='two-sided', \n",
    "    metric_type='continuous', \n",
    "    metric_name='mean', \n",
    "    metric=np.mean, \n",
    "    n_boot_samples=100, \n",
    "    n_buckets=500\n",
    ")\n",
    "\n",
    "ab_params = ABTestParams(data_params, hypothesis_params)"
   ]
  },
  {
   "cell_type": "code",
   "execution_count": 12,
   "metadata": {},
   "outputs": [
    {
     "name": "stdout",
     "output_type": "stream",
     "text": [
      "{'stat': -0.10559271860606065, 'p-value': 0.9159056080617909, 'result': 0}\n"
     ]
    }
   ],
   "source": [
    "ab_test = ABTest(df, ab_params)\n",
    "print(ab_test.test_welch())"
   ]
  },
  {
   "cell_type": "code",
   "execution_count": 13,
   "metadata": {},
   "outputs": [
    {
     "data": {
      "image/png": "[encoded data removed]",
      "text/plain": [
       "<Figure size 1440x864 with 1 Axes>"
      ]
     },
     "metadata": {
      "needs_background": "light"
     },
     "output_type": "display_data"
    }
   ],
   "source": [
    "ab_test.plot()"
   ]
  },
  {
   "cell_type": "code",
   "execution_count": 14,
   "metadata": {},
   "outputs": [
    {
     "name": "stdout",
     "output_type": "stream",
     "text": [
      "99684\n"
     ]
    }
   ],
   "source": [
    "print(len(ab_test.params.data_params.control))"
   ]
  },
  {
   "cell_type": "code",
   "execution_count": 15,
   "metadata": {},
   "outputs": [
    {
     "name": "stdout",
     "output_type": "stream",
     "text": [
      "500\n"
     ]
    }
   ],
   "source": [
    "ab_test_11 = ab_test.bucketing()\n",
    "print(len(ab_test_11.params.data_params.control))"
   ]
  },
  {
   "cell_type": "code",
   "execution_count": 16,
   "metadata": {},
   "outputs": [
    {
     "name": "stdout",
     "output_type": "stream",
     "text": [
      "{'stat': -0.1078499695387557, 'p-value': 0.9141364944422126, 'result': 0}\n"
     ]
    }
   ],
   "source": [
    "print(ab_test_11.test_welch())"
   ]
  },
  {
   "cell_type": "code",
   "execution_count": 17,
   "metadata": {},
   "outputs": [
    {
     "data": {
      "image/png": "[encoded data removed]",
      "text/plain": [
       "<Figure size 1440x864 with 1 Axes>"
      ]
     },
     "metadata": {
      "needs_background": "light"
     },
     "output_type": "display_data"
    }
   ],
   "source": [
    "ab_test_11.plot()"
   ]
  },
  {
   "cell_type": "code",
   "execution_count": 18,
   "metadata": {},
   "outputs": [
    {
     "data": {
      "text/plain": [
       "ShapiroResult(statistic=0.9950871467590332, pvalue=0.11359535157680511)"
      ]
     },
     "execution_count": 18,
     "metadata": {},
     "output_type": "execute_result"
    }
   ],
   "source": [
    "scipy.stats.shapiro(ab_test_11.params.data_params.control)"
   ]
  },
  {
   "cell_type": "markdown",
   "metadata": {},
   "source": [
    "# Кейс №2. Постанализ с увеличением чувствительности непрерывной метрики. CUPED."
   ]
  },
  {
   "cell_type": "code",
   "execution_count": 19,
   "metadata": {},
   "outputs": [],
   "source": [
    "df = pd.read_csv('./data/ab_data.csv')"
   ]
  },
  {
   "cell_type": "code",
   "execution_count": 20,
   "metadata": {},
   "outputs": [],
   "source": [
    "data_params = DataParams(\n",
    "    id_col='id', \n",
    "    group_col='groups', \n",
    "    strata_col='country', \n",
    "    target='height_now', \n",
    "    covariate='height_prev', \n",
    "    is_grouped=False\n",
    ")\n",
    "\n",
    "hypothesis_params = HypothesisParams(\n",
    "    alpha=0.05, \n",
    "    beta=0.2, \n",
    "    alternative='two-sided', \n",
    "    metric_type='continuous', \n",
    "    metric_name='mean', \n",
    "    metric=np.mean, \n",
    "    n_boot_samples=100, \n",
    "    n_buckets=50\n",
    ")\n",
    "\n",
    "ab_params = ABTestParams(data_params, hypothesis_params)\n",
    "ab_test = ABTest(df, ab_params)"
   ]
  },
  {
   "cell_type": "markdown",
   "metadata": {},
   "source": [
    "Увеличиваем количество прокрасов в тестовой группе"
   ]
  },
  {
   "cell_type": "code",
   "execution_count": 21,
   "metadata": {},
   "outputs": [
    {
     "name": "stdout",
     "output_type": "stream",
     "text": [
      "Без понижения дисперсии:\n",
      "bootstrap_test: {'stat': None, 'p-value': 0.761263474597773, 'result': 0}\n",
      "mannwhitney_test: {'stat': 1518640684.0, 'p-value': 0.512383248549193, 'result': 0}\n",
      "ttest_test: {'stat': 0.7095521951770083, 'p-value': 0.4779833725485937, 'result': 0}\n",
      "\n",
      "С понижением дисперсии:\n",
      "bootstrap_test: {'stat': None, 'p-value': 0.9895805902535827, 'result': 1}\n",
      "mannwhitney_test: {'stat': 1514215385.0, 'p-value': 0.1358243607173345, 'result': 0}\n",
      "ttest_test: {'stat': 1.9094481140569959, 'p-value': 0.05620689957604518, 'result': 0}\n"
     ]
    }
   ],
   "source": [
    "df[ab_test.params.data_params.target].where(df[ab_test.params.data_params.group_col] == 'A',\n",
    "                                            df[ab_test.params.data_params.target] * 1.0001, \n",
    "                                            axis=0,\n",
    "                                            inplace=True)\n",
    "df['id'] = np.random.randint(0, 150_000, df.shape[0])\n",
    "df = df.drop_duplicates(['id'])\n",
    "\n",
    "print('Без понижения дисперсии:')\n",
    "ab_test = ABTest(df, ab_params)\n",
    "print(f\"bootstrap_test: {ab_test.test_boot_confint()}\")\n",
    "print(f\"mannwhitney_test: {ab_test.test_mannwhitney()}\")\n",
    "print(f\"ttest_test: {ab_test.test_welch()}\")\n",
    "\n",
    "print('\\nС понижением дисперсии:')\n",
    "ab_test1 = ab_test.cuped()\n",
    "print(f\"bootstrap_test: {ab_test1.test_boot_confint()}\")\n",
    "print(f\"mannwhitney_test: {ab_test1.test_mannwhitney()}\")\n",
    "print(f\"ttest_test: {ab_test1.test_welch()}\")"
   ]
  },
  {
   "cell_type": "markdown",
   "metadata": {},
   "source": [
    "# Кейс №3. Постанализ для бинарной метрики."
   ]
  },
  {
   "cell_type": "code",
   "execution_count": 41,
   "metadata": {},
   "outputs": [
    {
     "data": {
      "text/html": [
       "<div>\n",
       "<style scoped>\n",
       "    .dataframe tbody tr th:only-of-type {\n",
       "        vertical-align: middle;\n",
       "    }\n",
       "\n",
       "    .dataframe tbody tr th {\n",
       "        vertical-align: top;\n",
       "    }\n",
       "\n",
       "    .dataframe thead th {\n",
       "        text-align: right;\n",
       "    }\n",
       "</style>\n",
       "<table border=\"1\" class=\"dataframe\">\n",
       "  <thead>\n",
       "    <tr style=\"text-align: right;\">\n",
       "      <th></th>\n",
       "      <th>height_now</th>\n",
       "      <th>height_prev</th>\n",
       "      <th>weight_now</th>\n",
       "      <th>weight_prev</th>\n",
       "      <th>noise_now</th>\n",
       "      <th>noise_prev</th>\n",
       "      <th>groups</th>\n",
       "      <th>id</th>\n",
       "      <th>moda_city</th>\n",
       "      <th>country</th>\n",
       "      <th>numerator</th>\n",
       "      <th>denominator</th>\n",
       "      <th>conversion</th>\n",
       "    </tr>\n",
       "  </thead>\n",
       "  <tbody>\n",
       "    <tr>\n",
       "      <th>0</th>\n",
       "      <td>172.470442</td>\n",
       "      <td>166.382868</td>\n",
       "      <td>163.648256</td>\n",
       "      <td>173.422115</td>\n",
       "      <td>5.644384</td>\n",
       "      <td>-1.923929</td>\n",
       "      <td>A</td>\n",
       "      <td>0</td>\n",
       "      <td>3</td>\n",
       "      <td>2</td>\n",
       "      <td>3</td>\n",
       "      <td>2</td>\n",
       "      <td>1</td>\n",
       "    </tr>\n",
       "    <tr>\n",
       "      <th>1</th>\n",
       "      <td>178.610565</td>\n",
       "      <td>173.386388</td>\n",
       "      <td>173.195935</td>\n",
       "      <td>180.831845</td>\n",
       "      <td>11.664751</td>\n",
       "      <td>2.711829</td>\n",
       "      <td>B</td>\n",
       "      <td>1</td>\n",
       "      <td>2</td>\n",
       "      <td>2</td>\n",
       "      <td>1</td>\n",
       "      <td>4</td>\n",
       "      <td>1</td>\n",
       "    </tr>\n",
       "    <tr>\n",
       "      <th>2</th>\n",
       "      <td>180.382301</td>\n",
       "      <td>178.563579</td>\n",
       "      <td>174.520065</td>\n",
       "      <td>181.571024</td>\n",
       "      <td>7.183178</td>\n",
       "      <td>-0.453939</td>\n",
       "      <td>A</td>\n",
       "      <td>2</td>\n",
       "      <td>3</td>\n",
       "      <td>1</td>\n",
       "      <td>2</td>\n",
       "      <td>2</td>\n",
       "      <td>1</td>\n",
       "    </tr>\n",
       "    <tr>\n",
       "      <th>3</th>\n",
       "      <td>180.954018</td>\n",
       "      <td>179.732080</td>\n",
       "      <td>175.731245</td>\n",
       "      <td>182.840388</td>\n",
       "      <td>-4.682656</td>\n",
       "      <td>6.358723</td>\n",
       "      <td>B</td>\n",
       "      <td>3</td>\n",
       "      <td>4</td>\n",
       "      <td>1</td>\n",
       "      <td>3</td>\n",
       "      <td>2</td>\n",
       "      <td>0</td>\n",
       "    </tr>\n",
       "    <tr>\n",
       "      <th>4</th>\n",
       "      <td>167.590042</td>\n",
       "      <td>167.684244</td>\n",
       "      <td>166.109779</td>\n",
       "      <td>170.189261</td>\n",
       "      <td>9.134517</td>\n",
       "      <td>-1.153977</td>\n",
       "      <td>B</td>\n",
       "      <td>4</td>\n",
       "      <td>2</td>\n",
       "      <td>1</td>\n",
       "      <td>3</td>\n",
       "      <td>2</td>\n",
       "      <td>1</td>\n",
       "    </tr>\n",
       "  </tbody>\n",
       "</table>\n",
       "</div>"
      ],
      "text/plain": [
       "   height_now  height_prev  weight_now  weight_prev  noise_now  noise_prev  \\\n",
       "0  172.470442   166.382868  163.648256   173.422115   5.644384   -1.923929   \n",
       "1  178.610565   173.386388  173.195935   180.831845  11.664751    2.711829   \n",
       "2  180.382301   178.563579  174.520065   181.571024   7.183178   -0.453939   \n",
       "3  180.954018   179.732080  175.731245   182.840388  -4.682656    6.358723   \n",
       "4  167.590042   167.684244  166.109779   170.189261   9.134517   -1.153977   \n",
       "\n",
       "  groups  id  moda_city  country  numerator  denominator  conversion  \n",
       "0      A   0          3        2          3            2           1  \n",
       "1      B   1          2        2          1            4           1  \n",
       "2      A   2          3        1          2            2           1  \n",
       "3      B   3          4        1          3            2           0  \n",
       "4      B   4          2        1          3            2           1  "
      ]
     },
     "execution_count": 41,
     "metadata": {},
     "output_type": "execute_result"
    }
   ],
   "source": [
    "df = pd.read_csv('./data/ab_data.csv')\n",
    "df.head()"
   ]
  },
  {
   "cell_type": "code",
   "execution_count": 42,
   "metadata": {},
   "outputs": [],
   "source": [
    "data_params = DataParams(\n",
    "    id_col='id', \n",
    "    group_col='groups', \n",
    "    control_name='A',\n",
    "    treatment_name='B',\n",
    "    target_flg='conversion',  \n",
    "    is_grouped=True\n",
    ")\n",
    "\n",
    "hypothesis_params = HypothesisParams(\n",
    "    alpha=0.05, \n",
    "    beta=0.2, \n",
    "    alternative='two-sided', \n",
    "    metric_type='binary', \n",
    "    metric_name='mean', \n",
    ")\n",
    "\n",
    "ab_params = ABTestParams(data_params, hypothesis_params)"
   ]
  },
  {
   "cell_type": "code",
   "execution_count": 43,
   "metadata": {},
   "outputs": [],
   "source": [
    "ab_test = ABTest(df, ab_params)"
   ]
  },
  {
   "cell_type": "code",
   "execution_count": 44,
   "metadata": {},
   "outputs": [
    {
     "name": "stdout",
     "output_type": "stream",
     "text": [
      "Нет эффекта:\n",
      "z_proportions_test: {'stat': 0.6730634505952151, 'p-value': 0.500906925062246, 'result': 0}\n"
     ]
    }
   ],
   "source": [
    "print('Нет эффекта:')\n",
    "print(f\"z_proportions_test: {ab_test.test_z_proportions()}\")"
   ]
  },
  {
   "cell_type": "markdown",
   "metadata": {},
   "source": [
    "Увеличиваем количество прокрасов в тестовой группе"
   ]
  },
  {
   "cell_type": "code",
   "execution_count": 51,
   "metadata": {},
   "outputs": [
    {
     "name": "stdout",
     "output_type": "stream",
     "text": [
      "Есть эффект:\n",
      "z_proportions_test: {'stat': -139.59181726576423, 'p-value': 0.0, 'result': 1}\n"
     ]
    }
   ],
   "source": [
    "df['conversion'] = np.where(df.noise_now < 0, 0, 1)\n",
    "df[ab_test.params.data_params.target_flg].where(df[ab_test.params.data_params.group_col] == 'A',\n",
    "                                            np.random.binomial(n=1, p=0.72, size=df.shape[0]),\n",
    "                                            axis=0,\n",
    "                                            inplace=True)\n",
    "\n",
    "ab_test = ABTest(df, ab_params)\n",
    "\n",
    "print('Есть эффект:')\n",
    "print(f\"z_proportions_test: {ab_test.test_z_proportions()}\")"
   ]
  },
  {
   "cell_type": "code",
   "execution_count": 52,
   "metadata": {},
   "outputs": [
    {
     "data": {
      "image/png": "[encoded data removed]",
      "text/plain": [
       "<Figure size 6000x3600 with 1 Axes>"
      ]
     },
     "metadata": {
      "needs_background": "light"
     },
     "output_type": "display_data"
    }
   ],
   "source": [
    "ab_test.plot()"
   ]
  },
  {
   "cell_type": "markdown",
   "metadata": {},
   "source": [
    "# Кейс №4 — исключен"
   ]
  },
  {
   "cell_type": "markdown",
   "metadata": {},
   "source": [
    "# Кейс №5. CUPED.\n",
    "## Кейс №5.1. Различий между групп нет."
   ]
  },
  {
   "cell_type": "code",
   "execution_count": 59,
   "metadata": {},
   "outputs": [],
   "source": [
    "df = pd.read_csv('./data/ab_data.csv')"
   ]
  },
  {
   "cell_type": "code",
   "execution_count": 60,
   "metadata": {},
   "outputs": [],
   "source": [
    "data_params = DataParams(\n",
    "    id_col='id', \n",
    "    target='height_now', \n",
    "    covariate='height_prev', \n",
    "    is_grouped=True\n",
    ")\n",
    "\n",
    "hypothesis_params = HypothesisParams(\n",
    "    alpha=0.05, \n",
    "    beta=0.2, \n",
    "    alternative='two-sided',  \n",
    "    metric_type='continuous', \n",
    "    metric_name='mean',\n",
    ")\n",
    "\n",
    "ab_params = ABTestParams(data_params, hypothesis_params)"
   ]
  },
  {
   "cell_type": "code",
   "execution_count": 61,
   "metadata": {},
   "outputs": [],
   "source": [
    "ab_test = ABTest(df, ab_params)"
   ]
  },
  {
   "cell_type": "code",
   "execution_count": 62,
   "metadata": {},
   "outputs": [
    {
     "name": "stdout",
     "output_type": "stream",
     "text": [
      "Control mean = 174.990\n",
      "Treatment mean = 175.000\n",
      "Control var = 24.972\n",
      "Treatment var = 24.900\n"
     ]
    }
   ],
   "source": [
    "print('Control mean = {:.3f}'.format(np.mean(ab_test.params.data_params.control)))\n",
    "print('Treatment mean = {:.3f}'.format(np.mean(ab_test.params.data_params.treatment)))\n",
    "print('Control var = {:.3f}'.format(np.var(ab_test.params.data_params.control)))\n",
    "print('Treatment var = {:.3f}'.format(np.var(ab_test.params.data_params.treatment)))"
   ]
  },
  {
   "cell_type": "code",
   "execution_count": 63,
   "metadata": {},
   "outputs": [
    {
     "name": "stdout",
     "output_type": "stream",
     "text": [
      "Различий нет:\n",
      "bootstrap_test: {'stat': None, 'p-value': 0.6462954595053894, 'result': 0}\n",
      "mannwhitney_test: {'stat': 4992976857.0, 'p-value': 0.5890975776571467, 'result': 0}\n",
      "ttest_test: {'stat': 0.4435517988023507, 'p-value': 0.6573671411499618, 'result': 0}\n"
     ]
    }
   ],
   "source": [
    "print('Различий нет:')\n",
    "print(f\"bootstrap_test: {ab_test.test_boot_confint()}\")\n",
    "print(f\"mannwhitney_test: {ab_test.test_mannwhitney()}\")\n",
    "print(f\"ttest_test: {ab_test.test_welch()}\")"
   ]
  },
  {
   "cell_type": "markdown",
   "metadata": {},
   "source": [
    "Применяем CUPED:"
   ]
  },
  {
   "cell_type": "code",
   "execution_count": 64,
   "metadata": {},
   "outputs": [],
   "source": [
    "ab_test1 = ab_test.cuped()"
   ]
  },
  {
   "cell_type": "code",
   "execution_count": 65,
   "metadata": {},
   "outputs": [
    {
     "name": "stdout",
     "output_type": "stream",
     "text": [
      "Control mean = 174.990\n",
      "Treatment mean = 175.000\n",
      "Control var = 3.417\n",
      "Treatment var = 3.428\n"
     ]
    }
   ],
   "source": [
    "print('Control mean = {:.3f}'.format(np.mean(ab_test1.params.data_params.control)))\n",
    "print('Treatment mean = {:.3f}'.format(np.mean(ab_test1.params.data_params.treatment)))\n",
    "print('Control var = {:.3f}'.format(np.var(ab_test1.params.data_params.control)))\n",
    "print('Treatment var = {:.3f}'.format(np.var(ab_test1.params.data_params.treatment)))"
   ]
  },
  {
   "cell_type": "code",
   "execution_count": 66,
   "metadata": {},
   "outputs": [
    {
     "name": "stdout",
     "output_type": "stream",
     "text": [
      "Если различий нет, то CUPED и не поможет их найти:\n",
      "bootstrap_test: {'stat': None, 'p-value': 0.9071638103625552, 'result': 0}\n",
      "mannwhitney_test: {'stat': 4989318477.0, 'p-value': 0.4102113130399977, 'result': 0}\n",
      "ttest_test: {'stat': 1.19727175900244, 'p-value': 0.2312020672817067, 'result': 0}\n"
     ]
    }
   ],
   "source": [
    "print('Если различий нет, то CUPED и не поможет их найти:')\n",
    "print(f\"bootstrap_test: {ab_test1.test_boot_confint()}\")\n",
    "print(f\"mannwhitney_test: {ab_test1.test_mannwhitney()}\")\n",
    "print(f\"ttest_test: {ab_test1.test_welch()}\")"
   ]
  },
  {
   "cell_type": "code",
   "execution_count": 67,
   "metadata": {},
   "outputs": [
    {
     "data": {
      "image/png": "[encoded data removed]",
      "text/plain": [
       "<Figure size 1440x864 with 1 Axes>"
      ]
     },
     "metadata": {
      "needs_background": "light"
     },
     "output_type": "display_data"
    }
   ],
   "source": [
    "ab_test.plot()"
   ]
  },
  {
   "cell_type": "code",
   "execution_count": 68,
   "metadata": {},
   "outputs": [
    {
     "data": {
      "image/png": "[encoded data removed]",
      "text/plain": [
       "<Figure size 1440x864 with 1 Axes>"
      ]
     },
     "metadata": {
      "needs_background": "light"
     },
     "output_type": "display_data"
    }
   ],
   "source": [
    "ab_test1.plot()"
   ]
  },
  {
   "cell_type": "markdown",
   "metadata": {},
   "source": [
    "## Кейс №5.2. Различия между группами есть.\n",
    "\n",
    "### Увеличиваем значения одной из групп."
   ]
  },
  {
   "cell_type": "code",
   "execution_count": 69,
   "metadata": {},
   "outputs": [],
   "source": [
    "df = pd.read_csv('./data/ab_data.csv')\n",
    "\n",
    "incs = np.random.uniform(0.0, 0.009, df.shape[0])\n",
    "df['height_now'].where(df[ab_test.params.data_params.group_col]=='A',\n",
    "                                    df['height_now'] + incs, \n",
    "                                    axis=0,\n",
    "                                    inplace=True)"
   ]
  },
  {
   "cell_type": "code",
   "execution_count": 70,
   "metadata": {},
   "outputs": [],
   "source": [
    "data_params = DataParams(\n",
    "    id_col='id', \n",
    "    group_col='groups',  \n",
    "    target='height_now', \n",
    "    covariate='height_prev', \n",
    "    is_grouped=True\n",
    ")\n",
    "\n",
    "hypothesis_params = HypothesisParams(\n",
    "    alpha=0.05, \n",
    "    beta=0.2, \n",
    "    alternative='greater', \n",
    "    metric_type='continuous', \n",
    "    metric_name='mean', \n",
    ")\n",
    "\n",
    "ab_params = ABTestParams(data_params, hypothesis_params)"
   ]
  },
  {
   "cell_type": "code",
   "execution_count": 71,
   "metadata": {},
   "outputs": [],
   "source": [
    "incs = np.sort(np.random.uniform(0.0, 2, df.shape[0]))\n",
    "df[ab_test.params.data_params.target].where(df[ab_test.params.data_params.group_col]=='A',\n",
    "                                    df[ab_test.params.data_params.target] + incs, \n",
    "                                    axis=0,\n",
    "                                    inplace=True)"
   ]
  },
  {
   "cell_type": "code",
   "execution_count": 72,
   "metadata": {},
   "outputs": [],
   "source": [
    "ab_test = ABTest(df, ab_params)"
   ]
  },
  {
   "cell_type": "code",
   "execution_count": 73,
   "metadata": {},
   "outputs": [
    {
     "name": "stdout",
     "output_type": "stream",
     "text": [
      "Control mean = 174.990\n",
      "Treatment mean = 176.005\n",
      "Control var = 24.972\n",
      "Treatment var = 25.253\n"
     ]
    }
   ],
   "source": [
    "print('Control mean = {:.3f}'.format(np.mean(ab_test.params.data_params.control)))\n",
    "print('Treatment mean = {:.3f}'.format(np.mean(ab_test.params.data_params.treatment)))\n",
    "print('Control var = {:.3f}'.format(np.var(ab_test.params.data_params.control)))\n",
    "print('Treatment var = {:.3f}'.format(np.var(ab_test.params.data_params.treatment)))"
   ]
  },
  {
   "cell_type": "code",
   "execution_count": 74,
   "metadata": {},
   "outputs": [
    {
     "name": "stdout",
     "output_type": "stream",
     "text": [
      "Различий нет:\n",
      "\n",
      "bootstrap_test: {'stat': None, 'p-value': 1.0, 'result': 1}\n",
      "mannwhitney_test: {'stat': 4428540387.0, 'p-value': 1.0, 'result': 0}\n",
      "ttest_test: {'stat': 45.32217734920745, 'p-value': 0.0, 'result': 1}\n"
     ]
    }
   ],
   "source": [
    "print('Различий нет:\\n')\n",
    "\n",
    "print(f\"bootstrap_test: {ab_test.test_boot_confint()}\")\n",
    "print(f\"mannwhitney_test: {ab_test.test_mannwhitney()}\")\n",
    "print(f\"ttest_test: {ab_test.test_welch()}\")"
   ]
  },
  {
   "cell_type": "markdown",
   "metadata": {},
   "source": [
    "Применяем CUPED:"
   ]
  },
  {
   "cell_type": "code",
   "execution_count": 75,
   "metadata": {},
   "outputs": [],
   "source": [
    "ab_test2 = ab_test.cuped()"
   ]
  },
  {
   "cell_type": "code",
   "execution_count": 76,
   "metadata": {},
   "outputs": [
    {
     "name": "stdout",
     "output_type": "stream",
     "text": [
      "Control mean = 174.990\n",
      "Treatment mean = 176.005\n",
      "Control var = 3.417\n",
      "Treatment var = 3.760\n"
     ]
    }
   ],
   "source": [
    "print('Control mean = {:.3f}'.format(np.mean(ab_test2.params.data_params.control)))\n",
    "print('Treatment mean = {:.3f}'.format(np.mean(ab_test2.params.data_params.treatment)))\n",
    "print('Control var = {:.3f}'.format(np.var(ab_test2.params.data_params.control)))\n",
    "print('Treatment var = {:.3f}'.format(np.var(ab_test2.params.data_params.treatment)))"
   ]
  },
  {
   "cell_type": "code",
   "execution_count": 77,
   "metadata": {},
   "outputs": [
    {
     "name": "stdout",
     "output_type": "stream",
     "text": [
      "Если различия есть, то CUPED может помочь их найти:\n",
      "\n",
      "bootstrap_test: {'stat': None, 'p-value': 1.0, 'result': 1}\n",
      "mannwhitney_test: {'stat': 3525842581.0, 'p-value': 1.0, 'result': 0}\n",
      "ttest_test: {'stat': 119.89796265398896, 'p-value': 0.0, 'result': 1}\n"
     ]
    }
   ],
   "source": [
    "print('Если различия есть, то CUPED может помочь их найти:\\n')\n",
    "\n",
    "print(f\"bootstrap_test: {ab_test2.test_boot_confint()}\")\n",
    "print(f\"mannwhitney_test: {ab_test2.test_mannwhitney()}\")\n",
    "print(f\"ttest_test: {ab_test2.test_welch()}\")"
   ]
  },
  {
   "cell_type": "code",
   "execution_count": 78,
   "metadata": {},
   "outputs": [
    {
     "data": {
      "image/png": "[encoded data removed]",
      "text/plain": [
       "<Figure size 1440x864 with 1 Axes>"
      ]
     },
     "metadata": {
      "needs_background": "light"
     },
     "output_type": "display_data"
    }
   ],
   "source": [
    "ab_test.plot()"
   ]
  },
  {
   "cell_type": "code",
   "execution_count": 79,
   "metadata": {},
   "outputs": [
    {
     "data": {
      "image/png": "[encoded data removed]",
      "text/plain": [
       "<Figure size 1440x864 with 1 Axes>"
      ]
     },
     "metadata": {
      "needs_background": "light"
     },
     "output_type": "display_data"
    }
   ],
   "source": [
    "ab_test2.plot()"
   ]
  },
  {
   "cell_type": "markdown",
   "metadata": {},
   "source": [
    "# Кейс №6. Всё вместе: chaining rule & reporting."
   ]
  },
  {
   "cell_type": "code",
   "execution_count": 80,
   "metadata": {},
   "outputs": [
    {
     "data": {
      "text/html": [
       "<div>\n",
       "<style scoped>\n",
       "    .dataframe tbody tr th:only-of-type {\n",
       "        vertical-align: middle;\n",
       "    }\n",
       "\n",
       "    .dataframe tbody tr th {\n",
       "        vertical-align: top;\n",
       "    }\n",
       "\n",
       "    .dataframe thead th {\n",
       "        text-align: right;\n",
       "    }\n",
       "</style>\n",
       "<table border=\"1\" class=\"dataframe\">\n",
       "  <thead>\n",
       "    <tr style=\"text-align: right;\">\n",
       "      <th></th>\n",
       "      <th>height_now</th>\n",
       "      <th>height_prev</th>\n",
       "      <th>weight_now</th>\n",
       "      <th>weight_prev</th>\n",
       "      <th>noise_now</th>\n",
       "      <th>noise_prev</th>\n",
       "      <th>groups</th>\n",
       "      <th>id</th>\n",
       "      <th>moda_city</th>\n",
       "      <th>country</th>\n",
       "      <th>numerator</th>\n",
       "      <th>denominator</th>\n",
       "      <th>conversion</th>\n",
       "    </tr>\n",
       "  </thead>\n",
       "  <tbody>\n",
       "    <tr>\n",
       "      <th>0</th>\n",
       "      <td>172.470442</td>\n",
       "      <td>166.382868</td>\n",
       "      <td>163.648256</td>\n",
       "      <td>173.422115</td>\n",
       "      <td>5.644384</td>\n",
       "      <td>-1.923929</td>\n",
       "      <td>A</td>\n",
       "      <td>0</td>\n",
       "      <td>3</td>\n",
       "      <td>2</td>\n",
       "      <td>3</td>\n",
       "      <td>2</td>\n",
       "      <td>1</td>\n",
       "    </tr>\n",
       "    <tr>\n",
       "      <th>1</th>\n",
       "      <td>178.610565</td>\n",
       "      <td>173.386388</td>\n",
       "      <td>173.195935</td>\n",
       "      <td>180.831845</td>\n",
       "      <td>11.664751</td>\n",
       "      <td>2.711829</td>\n",
       "      <td>B</td>\n",
       "      <td>1</td>\n",
       "      <td>2</td>\n",
       "      <td>2</td>\n",
       "      <td>1</td>\n",
       "      <td>4</td>\n",
       "      <td>1</td>\n",
       "    </tr>\n",
       "    <tr>\n",
       "      <th>2</th>\n",
       "      <td>180.382301</td>\n",
       "      <td>178.563579</td>\n",
       "      <td>174.520065</td>\n",
       "      <td>181.571024</td>\n",
       "      <td>7.183178</td>\n",
       "      <td>-0.453939</td>\n",
       "      <td>A</td>\n",
       "      <td>2</td>\n",
       "      <td>3</td>\n",
       "      <td>1</td>\n",
       "      <td>2</td>\n",
       "      <td>2</td>\n",
       "      <td>1</td>\n",
       "    </tr>\n",
       "    <tr>\n",
       "      <th>3</th>\n",
       "      <td>180.954018</td>\n",
       "      <td>179.732080</td>\n",
       "      <td>175.731245</td>\n",
       "      <td>182.840388</td>\n",
       "      <td>-4.682656</td>\n",
       "      <td>6.358723</td>\n",
       "      <td>B</td>\n",
       "      <td>3</td>\n",
       "      <td>4</td>\n",
       "      <td>1</td>\n",
       "      <td>3</td>\n",
       "      <td>2</td>\n",
       "      <td>0</td>\n",
       "    </tr>\n",
       "    <tr>\n",
       "      <th>4</th>\n",
       "      <td>167.590042</td>\n",
       "      <td>167.684244</td>\n",
       "      <td>166.109779</td>\n",
       "      <td>170.189261</td>\n",
       "      <td>9.134517</td>\n",
       "      <td>-1.153977</td>\n",
       "      <td>B</td>\n",
       "      <td>4</td>\n",
       "      <td>2</td>\n",
       "      <td>1</td>\n",
       "      <td>3</td>\n",
       "      <td>2</td>\n",
       "      <td>1</td>\n",
       "    </tr>\n",
       "  </tbody>\n",
       "</table>\n",
       "</div>"
      ],
      "text/plain": [
       "   height_now  height_prev  weight_now  weight_prev  noise_now  noise_prev  \\\n",
       "0  172.470442   166.382868  163.648256   173.422115   5.644384   -1.923929   \n",
       "1  178.610565   173.386388  173.195935   180.831845  11.664751    2.711829   \n",
       "2  180.382301   178.563579  174.520065   181.571024   7.183178   -0.453939   \n",
       "3  180.954018   179.732080  175.731245   182.840388  -4.682656    6.358723   \n",
       "4  167.590042   167.684244  166.109779   170.189261   9.134517   -1.153977   \n",
       "\n",
       "  groups  id  moda_city  country  numerator  denominator  conversion  \n",
       "0      A   0          3        2          3            2           1  \n",
       "1      B   1          2        2          1            4           1  \n",
       "2      A   2          3        1          2            2           1  \n",
       "3      B   3          4        1          3            2           0  \n",
       "4      B   4          2        1          3            2           1  "
      ]
     },
     "execution_count": 80,
     "metadata": {},
     "output_type": "execute_result"
    }
   ],
   "source": [
    "df = pd.read_csv('./data/ab_data.csv')\n",
    "df.head()"
   ]
  },
  {
   "cell_type": "code",
   "execution_count": 81,
   "metadata": {},
   "outputs": [],
   "source": [
    "data_params = DataParams(\n",
    "    id_col='id', \n",
    "    group_col='groups', \n",
    "    target='height_now', \n",
    "    covariate='height_prev', \n",
    "    is_grouped=False\n",
    ")\n",
    "\n",
    "hypothesis_params = HypothesisParams(\n",
    "    alpha=0.05, \n",
    "    beta=0.2, \n",
    "    alternative='two-sided', \n",
    "    metric_type='continuous', \n",
    "    metric_name='mean', \n",
    "    n_boot_samples=100, \n",
    "    n_buckets=2000\n",
    ")\n",
    "\n",
    "ab_params = ABTestParams(data_params, hypothesis_params)"
   ]
  },
  {
   "cell_type": "code",
   "execution_count": 82,
   "metadata": {},
   "outputs": [],
   "source": [
    "df = pd.read_csv('./data/ab_data.csv')\n",
    "df['height_now'].where(df['groups'] == 'A',\n",
    "                       df['height_now'] * 1.003,\n",
    "                       axis=0,\n",
    "                       inplace=True)\n",
    "df['id'] = np.random.randint(0, 150_000, df.shape[0])\n",
    "df = df.drop_duplicates(['id'])"
   ]
  },
  {
   "cell_type": "code",
   "execution_count": 83,
   "metadata": {},
   "outputs": [
    {
     "data": {
      "text/plain": [
       "array(['linearization', 'cuped', 'bucketing'], dtype='<U32')"
      ]
     },
     "execution_count": 83,
     "metadata": {},
     "output_type": "execute_result"
    }
   ],
   "source": [
    "ab_test = ABTest(df, ab_params).linearization().cuped().bucketing()\n",
    "ab_test.params.data_params.transforms"
   ]
  },
  {
   "cell_type": "code",
   "execution_count": 84,
   "metadata": {},
   "outputs": [
    {
     "data": {
      "text/plain": [
       "{'stat': 48.34522608333561, 'p-value': 0.0, 'result': 1}"
      ]
     },
     "execution_count": 84,
     "metadata": {},
     "output_type": "execute_result"
    }
   ],
   "source": [
    "ab_test.test_welch()"
   ]
  },
  {
   "cell_type": "code",
   "execution_count": 85,
   "metadata": {},
   "outputs": [
    {
     "name": "stdout",
     "output_type": "stream",
     "text": [
      "\n",
      "Parameters of experiment:\n",
      "- Metric type: continuous.\n",
      "- Metric: mean.\n",
      "- Errors: alpha = 0.05, beta = 0.2.\n",
      "- Alternative: two-sided.\n",
      "\n",
      "Control group:\n",
      "- Observations: 2000\n",
      "- Mean: -0.0002\n",
      "- Median: -0.0089\n",
      "- 25th quantile: -0.2395\n",
      "- 75th quantile: 0.2546\n",
      "- Minimum: -1.3010\n",
      "- Maximum: 1.3708\n",
      "- St.deviation: 0.3458\n",
      "- Variance: 0.1196\n",
      "\n",
      "Treatment group:\n",
      "- Observations: 2000\n",
      "- Mean: 0.5398\n",
      "- Median: 0.5406\n",
      "- 25th quantile: 0.3085\n",
      "- 75th quantile: 0.7751\n",
      "- Minimum: -0.5740\n",
      "- Maximum: 1.7222\n",
      "- St.deviation: 0.3458\n",
      "- Variance: 0.1196\n",
      "\n",
      "Transformations applied: linearization -> cuped -> bucketing.\n",
      "\n",
      "Number of bootstrap iterations: 100.\n",
      "Number of buckets: 2000.\n",
      "\n",
      "Following statistical tests are used:\n",
      "- Welch's t-test: 48.35, p-value = 0.0000, H0 is rejected.\n",
      "- Mann Whitney's U-test: 557624.00, p-value = 0.0000, H0 is rejected.\n",
      "- Bootstrap test: H0 is rejected.\n",
      "\n",
      "All three stat. tests showed that H0 is rejected.\n",
      "        \n"
     ]
    }
   ],
   "source": [
    "ab_test.report()"
   ]
  },
  {
   "cell_type": "code",
   "execution_count": 86,
   "metadata": {},
   "outputs": [
    {
     "data": {
      "image/png": "[encoded data removed]",
      "text/plain": [
       "<Figure size 1440x864 with 1 Axes>"
      ]
     },
     "metadata": {
      "needs_background": "light"
     },
     "output_type": "display_data"
    }
   ],
   "source": [
    "ab_test.plot()"
   ]
  },
  {
   "cell_type": "markdown",
   "metadata": {},
   "source": [
    "# Кейс №7. Выделение групп."
   ]
  },
  {
   "cell_type": "code",
   "execution_count": 93,
   "metadata": {},
   "outputs": [],
   "source": [
    "df = pd.read_csv('./data/ab_data.csv', nrows=5000)"
   ]
  },
  {
   "cell_type": "code",
   "execution_count": 94,
   "metadata": {},
   "outputs": [],
   "source": [
    "df[\"moda_city\"] = np.random.randint(1, 5, df.shape[0])\n",
    "df[\"moda_city\"] = df[\"moda_city\"].astype(str)\n",
    "df[\"country\"] = np.random.randint(1, 3, df.shape[0])\n",
    "df[\"id\"] = df.index"
   ]
  },
  {
   "cell_type": "code",
   "execution_count": 95,
   "metadata": {},
   "outputs": [],
   "source": [
    "split_builder_params = SplitBuilderParams(\n",
    "    map_group_names_to_sizes={\n",
    "        'control': None,\n",
    "        'target': None\n",
    "    },\n",
    "    main_strata_col = \"moda_city\",\n",
    "    split_metric_col = \"height_now\",\n",
    "    id_col = \"id\",\n",
    "    cols = [\"height_prev\"],\n",
    "    cat_cols=[\"country\"],\n",
    "    alpha=0.05,\n",
    "    n_bins = 6,\n",
    "    min_cluster_size = 100\n",
    ")"
   ]
  },
  {
   "cell_type": "code",
   "execution_count": 96,
   "metadata": {},
   "outputs": [],
   "source": [
    "split_builder = SplitBuilder(df, split_builder_params)"
   ]
  },
  {
   "cell_type": "code",
   "execution_count": 97,
   "metadata": {},
   "outputs": [],
   "source": [
    "split = split_builder.collect()"
   ]
  },
  {
   "cell_type": "code",
   "execution_count": 98,
   "metadata": {},
   "outputs": [
    {
     "data": {
      "text/html": [
       "<div>\n",
       "<style scoped>\n",
       "    .dataframe tbody tr th:only-of-type {\n",
       "        vertical-align: middle;\n",
       "    }\n",
       "\n",
       "    .dataframe tbody tr th {\n",
       "        vertical-align: top;\n",
       "    }\n",
       "\n",
       "    .dataframe thead th {\n",
       "        text-align: right;\n",
       "    }\n",
       "</style>\n",
       "<table border=\"1\" class=\"dataframe\">\n",
       "  <thead>\n",
       "    <tr style=\"text-align: right;\">\n",
       "      <th></th>\n",
       "      <th>height_now</th>\n",
       "      <th>height_prev</th>\n",
       "      <th>weight_now</th>\n",
       "      <th>weight_prev</th>\n",
       "      <th>noise_now</th>\n",
       "      <th>noise_prev</th>\n",
       "      <th>groups</th>\n",
       "      <th>id</th>\n",
       "      <th>moda_city</th>\n",
       "      <th>country</th>\n",
       "      <th>numerator</th>\n",
       "      <th>denominator</th>\n",
       "      <th>conversion</th>\n",
       "      <th>strata</th>\n",
       "      <th>group_name</th>\n",
       "    </tr>\n",
       "  </thead>\n",
       "  <tbody>\n",
       "    <tr>\n",
       "      <th>0</th>\n",
       "      <td>172.470442</td>\n",
       "      <td>166.382868</td>\n",
       "      <td>163.648256</td>\n",
       "      <td>173.422115</td>\n",
       "      <td>5.644384</td>\n",
       "      <td>-1.923929</td>\n",
       "      <td>A</td>\n",
       "      <td>0</td>\n",
       "      <td>3</td>\n",
       "      <td>0.502018</td>\n",
       "      <td>3</td>\n",
       "      <td>2</td>\n",
       "      <td>1</td>\n",
       "      <td>31-1</td>\n",
       "      <td>target</td>\n",
       "    </tr>\n",
       "    <tr>\n",
       "      <th>1</th>\n",
       "      <td>178.610565</td>\n",
       "      <td>173.386388</td>\n",
       "      <td>173.195935</td>\n",
       "      <td>180.831845</td>\n",
       "      <td>11.664751</td>\n",
       "      <td>2.711829</td>\n",
       "      <td>B</td>\n",
       "      <td>1</td>\n",
       "      <td>3</td>\n",
       "      <td>0.498014</td>\n",
       "      <td>1</td>\n",
       "      <td>4</td>\n",
       "      <td>1</td>\n",
       "      <td>34-1</td>\n",
       "      <td>control</td>\n",
       "    </tr>\n",
       "    <tr>\n",
       "      <th>2</th>\n",
       "      <td>180.382301</td>\n",
       "      <td>178.563579</td>\n",
       "      <td>174.520065</td>\n",
       "      <td>181.571024</td>\n",
       "      <td>7.183178</td>\n",
       "      <td>-0.453939</td>\n",
       "      <td>A</td>\n",
       "      <td>2</td>\n",
       "      <td>2</td>\n",
       "      <td>0.498014</td>\n",
       "      <td>2</td>\n",
       "      <td>2</td>\n",
       "      <td>1</td>\n",
       "      <td>25-1</td>\n",
       "      <td>control</td>\n",
       "    </tr>\n",
       "    <tr>\n",
       "      <th>3</th>\n",
       "      <td>180.954018</td>\n",
       "      <td>179.732080</td>\n",
       "      <td>175.731245</td>\n",
       "      <td>182.840388</td>\n",
       "      <td>-4.682656</td>\n",
       "      <td>6.358723</td>\n",
       "      <td>B</td>\n",
       "      <td>3</td>\n",
       "      <td>1</td>\n",
       "      <td>0.502018</td>\n",
       "      <td>3</td>\n",
       "      <td>2</td>\n",
       "      <td>0</td>\n",
       "      <td>15-1</td>\n",
       "      <td>control</td>\n",
       "    </tr>\n",
       "    <tr>\n",
       "      <th>4</th>\n",
       "      <td>167.590042</td>\n",
       "      <td>167.684244</td>\n",
       "      <td>166.109779</td>\n",
       "      <td>170.189261</td>\n",
       "      <td>9.134517</td>\n",
       "      <td>-1.153977</td>\n",
       "      <td>B</td>\n",
       "      <td>4</td>\n",
       "      <td>1</td>\n",
       "      <td>0.498014</td>\n",
       "      <td>3</td>\n",
       "      <td>2</td>\n",
       "      <td>1</td>\n",
       "      <td>10-1</td>\n",
       "      <td>control</td>\n",
       "    </tr>\n",
       "  </tbody>\n",
       "</table>\n",
       "</div>"
      ],
      "text/plain": [
       "   height_now  height_prev  weight_now  weight_prev  noise_now  noise_prev  \\\n",
       "0  172.470442   166.382868  163.648256   173.422115   5.644384   -1.923929   \n",
       "1  178.610565   173.386388  173.195935   180.831845  11.664751    2.711829   \n",
       "2  180.382301   178.563579  174.520065   181.571024   7.183178   -0.453939   \n",
       "3  180.954018   179.732080  175.731245   182.840388  -4.682656    6.358723   \n",
       "4  167.590042   167.684244  166.109779   170.189261   9.134517   -1.153977   \n",
       "\n",
       "  groups id moda_city   country  numerator  denominator  conversion strata  \\\n",
       "0      A  0         3  0.502018          3            2           1   31-1   \n",
       "1      B  1         3  0.498014          1            4           1   34-1   \n",
       "2      A  2         2  0.498014          2            2           1   25-1   \n",
       "3      B  3         1  0.502018          3            2           0   15-1   \n",
       "4      B  4         1  0.498014          3            2           1   10-1   \n",
       "\n",
       "  group_name  \n",
       "0     target  \n",
       "1    control  \n",
       "2    control  \n",
       "3    control  \n",
       "4    control  "
      ]
     },
     "execution_count": 98,
     "metadata": {},
     "output_type": "execute_result"
    }
   ],
   "source": [
    "split.head()"
   ]
  },
  {
   "cell_type": "markdown",
   "metadata": {},
   "source": [
    "# Кейс №8. Препилот для непрерывной метрики."
   ]
  },
  {
   "cell_type": "code",
   "execution_count": 99,
   "metadata": {},
   "outputs": [],
   "source": [
    "df = pd.read_csv('./data/ab_data.csv')\n",
    "df = df.sample(n=20_000, random_state=1)"
   ]
  },
  {
   "cell_type": "code",
   "execution_count": 100,
   "metadata": {},
   "outputs": [],
   "source": [
    "data_params = DataParams(\n",
    "    id_col='id', \n",
    "    group_col='groups', \n",
    "    control_name='A',\n",
    "    treatment_name='B', \n",
    "    target='height_now', \n",
    "    is_grouped=True\n",
    ")\n",
    "\n",
    "hypothesis_params = HypothesisParams(\n",
    "    alpha=0.05, \n",
    "    beta=0.2, \n",
    "    alternative='two-sided', \n",
    "    metric_type='continuous',\n",
    "    metric=np.mean, \n",
    "    n_boot_samples=100, \n",
    ")\n",
    "\n",
    "ab_params = ABTestParams(data_params, hypothesis_params)"
   ]
  },
  {
   "cell_type": "code",
   "execution_count": 101,
   "metadata": {},
   "outputs": [],
   "source": [
    "experiment_params = MdeParams(\n",
    "    metrics_names=['height_now'],\n",
    "    injects=[1.0001,1.0002],\n",
    "    min_group_size=5000, \n",
    "    max_group_size=10000, \n",
    "    step=2500,\n",
    "    variance_reduction=None,\n",
    "    use_buckets=False,\n",
    "    stat_test=ABTest.test_boot_confint,\n",
    "    iterations_number=10,\n",
    "    max_beta_score=0.9,\n",
    "    min_beta_score=0.02,\n",
    ")"
   ]
  },
  {
   "cell_type": "code",
   "execution_count": 102,
   "metadata": {},
   "outputs": [],
   "source": [
    "prepilot = MdeResearchBuilder(df, ab_params,\n",
    "                                  experiment_params,\n",
    "                                  split_builder_params)"
   ]
  },
  {
   "cell_type": "code",
   "execution_count": 103,
   "metadata": {},
   "outputs": [],
   "source": [
    "beta, alpha = prepilot.collect()"
   ]
  },
  {
   "cell_type": "code",
   "execution_count": 104,
   "metadata": {},
   "outputs": [
    {
     "data": {
      "text/html": [
       "<div>\n",
       "<style scoped>\n",
       "    .dataframe tbody tr th:only-of-type {\n",
       "        vertical-align: middle;\n",
       "    }\n",
       "\n",
       "    .dataframe tbody tr th {\n",
       "        vertical-align: top;\n",
       "    }\n",
       "\n",
       "    .dataframe thead th {\n",
       "        text-align: right;\n",
       "    }\n",
       "</style>\n",
       "<table border=\"1\" class=\"dataframe\">\n",
       "  <thead>\n",
       "    <tr style=\"text-align: right;\">\n",
       "      <th></th>\n",
       "      <th>split_rate</th>\n",
       "      <th>(5000, 5000)</th>\n",
       "      <th>(7500, 7500)</th>\n",
       "      <th>(10000, 10000)</th>\n",
       "    </tr>\n",
       "    <tr>\n",
       "      <th>metric</th>\n",
       "      <th>Effect</th>\n",
       "      <th></th>\n",
       "      <th></th>\n",
       "      <th></th>\n",
       "    </tr>\n",
       "  </thead>\n",
       "  <tbody>\n",
       "    <tr>\n",
       "      <th rowspan=\"2\" valign=\"top\">height_now</th>\n",
       "      <th>0.01%</th>\n",
       "      <td>&gt;=0.9</td>\n",
       "      <td>&gt;=0.9</td>\n",
       "      <td>&gt;=0.9</td>\n",
       "    </tr>\n",
       "    <tr>\n",
       "      <th>0.02%</th>\n",
       "      <td>&gt;=0.9</td>\n",
       "      <td>&gt;=0.9</td>\n",
       "      <td>&gt;=0.9</td>\n",
       "    </tr>\n",
       "  </tbody>\n",
       "</table>\n",
       "</div>"
      ],
      "text/plain": [
       "split_rate        (5000, 5000) (7500, 7500) (10000, 10000)\n",
       "metric     Effect                                         \n",
       "height_now 0.01%         >=0.9        >=0.9          >=0.9\n",
       "           0.02%         >=0.9        >=0.9          >=0.9"
      ]
     },
     "execution_count": 104,
     "metadata": {},
     "output_type": "execute_result"
    }
   ],
   "source": [
    "beta"
   ]
  },
  {
   "cell_type": "code",
   "execution_count": 105,
   "metadata": {},
   "outputs": [
    {
     "data": {
      "text/html": [
       "<div>\n",
       "<style scoped>\n",
       "    .dataframe tbody tr th:only-of-type {\n",
       "        vertical-align: middle;\n",
       "    }\n",
       "\n",
       "    .dataframe tbody tr th {\n",
       "        vertical-align: top;\n",
       "    }\n",
       "\n",
       "    .dataframe thead th {\n",
       "        text-align: right;\n",
       "    }\n",
       "</style>\n",
       "<table border=\"1\" class=\"dataframe\">\n",
       "  <thead>\n",
       "    <tr style=\"text-align: right;\">\n",
       "      <th>split_rate</th>\n",
       "      <th>(5000, 5000)</th>\n",
       "      <th>(7500, 7500)</th>\n",
       "      <th>(10000, 10000)</th>\n",
       "    </tr>\n",
       "    <tr>\n",
       "      <th>metric</th>\n",
       "      <th></th>\n",
       "      <th></th>\n",
       "      <th></th>\n",
       "    </tr>\n",
       "  </thead>\n",
       "  <tbody>\n",
       "    <tr>\n",
       "      <th>height_now</th>\n",
       "      <td>0.0</td>\n",
       "      <td>0.0</td>\n",
       "      <td>0.0</td>\n",
       "    </tr>\n",
       "  </tbody>\n",
       "</table>\n",
       "</div>"
      ],
      "text/plain": [
       "split_rate  (5000, 5000)  (7500, 7500)  (10000, 10000)\n",
       "metric                                                \n",
       "height_now           0.0           0.0             0.0"
      ]
     },
     "execution_count": 105,
     "metadata": {},
     "output_type": "execute_result"
    }
   ],
   "source": [
    "alpha"
   ]
  },
  {
   "cell_type": "markdown",
   "metadata": {},
   "source": [
    "# Кейс №9. Препилот для непрерывной метрики со снижением дисперсии."
   ]
  },
  {
   "cell_type": "code",
   "execution_count": 106,
   "metadata": {},
   "outputs": [],
   "source": [
    "df = pd.read_csv('./data/ab_data.csv')\n",
    "df = df.sample(n=20_000, random_state=1)"
   ]
  },
  {
   "cell_type": "code",
   "execution_count": 111,
   "metadata": {},
   "outputs": [],
   "source": [
    "data_params = DataParams(\n",
    "    id_col='id', \n",
    "    group_col='groups', \n",
    "    control_name='A',\n",
    "    treatment_name='B', \n",
    "    target='height_now', \n",
    "    is_grouped=True\n",
    ")\n",
    "\n",
    "hypothesis_params = HypothesisParams(\n",
    "    alpha=0.05, \n",
    "    beta=0.2, \n",
    "    alternative='two-sided',\n",
    "    metric_type='continuous', \n",
    "    metric_name='mean', \n",
    "    metric=np.mean, \n",
    "    n_boot_samples=200, \n",
    "    n_buckets=50\n",
    ")\n",
    "\n",
    "ab_params = ABTestParams(data_params, hypothesis_params)"
   ]
  },
  {
   "cell_type": "code",
   "execution_count": 112,
   "metadata": {},
   "outputs": [],
   "source": [
    "prepilot_params = MdeParams(\n",
    "    metrics_names=['height_now'],\n",
    "    injects=[1.00046,1.00048,1.0005,1.001],\n",
    "    min_group_size=5000, \n",
    "    max_group_size=10000, \n",
    "    step=1000,\n",
    "    variance_reduction = ABTest.cuped,\n",
    "    use_buckets = False,\n",
    "    stat_test = ABTest.test_boot_confint,\n",
    "    iterations_number = 10,\n",
    "    max_beta_score=0.9,\n",
    "    min_beta_score=0.02,\n",
    ")"
   ]
  },
  {
   "cell_type": "code",
   "execution_count": 113,
   "metadata": {},
   "outputs": [],
   "source": [
    "prepilot = MdeResearchBuilder(df, ab_params,\n",
    "                                     prepilot_params,\n",
    "                                     split_builder_params)"
   ]
  },
  {
   "cell_type": "code",
   "execution_count": 114,
   "metadata": {},
   "outputs": [
    {
     "ename": "ValueError",
     "evalue": "The following columns are not in dataframe: ('',)",
     "output_type": "error",
     "traceback": [
      "\u001b[0;31m---------------------------------------------------------------------------\u001b[0m",
      "\u001b[0;31mValueError\u001b[0m                                Traceback (most recent call last)",
      "\u001b[0;32m<ipython-input-114-a089a8a9f885>\u001b[0m in \u001b[0;36m<module>\u001b[0;34m\u001b[0m\n\u001b[0;32m----> 1\u001b[0;31m \u001b[0mbeta\u001b[0m\u001b[0;34m,\u001b[0m \u001b[0malpha\u001b[0m \u001b[0;34m=\u001b[0m \u001b[0mprepilot\u001b[0m\u001b[0;34m.\u001b[0m\u001b[0mcollect\u001b[0m\u001b[0;34m(\u001b[0m\u001b[0;34m)\u001b[0m\u001b[0;34m\u001b[0m\u001b[0;34m\u001b[0m\u001b[0m\n\u001b[0m",
      "\u001b[0;32m~/Documents/Dev/DS/GBC/abacus/abacus/mde_researcher/mde_research_builder.py\u001b[0m in \u001b[0;36mcollect\u001b[0;34m(self, fill_with_default)\u001b[0m\n\u001b[1;32m    293\u001b[0m         \u001b[0mprepilot_guests\u001b[0m \u001b[0;34m=\u001b[0m \u001b[0mprepilot_split_builder\u001b[0m\u001b[0;34m.\u001b[0m\u001b[0mcollect\u001b[0m\u001b[0;34m(\u001b[0m\u001b[0;34m)\u001b[0m\u001b[0;34m\u001b[0m\u001b[0;34m\u001b[0m\u001b[0m\n\u001b[1;32m    294\u001b[0m \u001b[0;34m\u001b[0m\u001b[0m\n\u001b[0;32m--> 295\u001b[0;31m         \u001b[0mbeta\u001b[0m \u001b[0;34m=\u001b[0m \u001b[0mself\u001b[0m\u001b[0;34m.\u001b[0m\u001b[0m_calc_beta\u001b[0m\u001b[0;34m(\u001b[0m\u001b[0mprepilot_guests\u001b[0m\u001b[0;34m,\u001b[0m \u001b[0mfill_with_default\u001b[0m\u001b[0;34m)\u001b[0m\u001b[0;34m\u001b[0m\u001b[0;34m\u001b[0m\u001b[0m\n\u001b[0m\u001b[1;32m    296\u001b[0m         \u001b[0malpha\u001b[0m \u001b[0;34m=\u001b[0m \u001b[0mself\u001b[0m\u001b[0;34m.\u001b[0m\u001b[0mcalc_alpha\u001b[0m\u001b[0;34m(\u001b[0m\u001b[0mprepilot_guests\u001b[0m\u001b[0;34m,\u001b[0m \u001b[0mis_splitted\u001b[0m \u001b[0;34m=\u001b[0m \u001b[0;32mTrue\u001b[0m\u001b[0;34m)\u001b[0m\u001b[0;34m\u001b[0m\u001b[0;34m\u001b[0m\u001b[0m\n\u001b[1;32m    297\u001b[0m         \u001b[0;32mreturn\u001b[0m \u001b[0mbeta\u001b[0m\u001b[0;34m,\u001b[0m \u001b[0malpha\u001b[0m\u001b[0;34m\u001b[0m\u001b[0;34m\u001b[0m\u001b[0m\n",
      "\u001b[0;32m~/Documents/Dev/DS/GBC/abacus/abacus/mde_researcher/mde_research_builder.py\u001b[0m in \u001b[0;36m_calc_beta\u001b[0;34m(self, guests_with_splits, fill_with_default)\u001b[0m\n\u001b[1;32m    176\u001b[0m                             )\n\u001b[1;32m    177\u001b[0m                             experiment_res = self._calc_experiment_grid_cell(one_split_guests, \n\u001b[0;32m--> 178\u001b[0;31m                                                                              experiment_params)\n\u001b[0m\u001b[1;32m    179\u001b[0m                             \u001b[0mbeta_scores\u001b[0m \u001b[0;34m=\u001b[0m \u001b[0mbeta_scores\u001b[0m\u001b[0;34m.\u001b[0m\u001b[0mappend\u001b[0m\u001b[0;34m(\u001b[0m\u001b[0mexperiment_res\u001b[0m\u001b[0;34m)\u001b[0m\u001b[0;34m\u001b[0m\u001b[0;34m\u001b[0m\u001b[0m\n\u001b[1;32m    180\u001b[0m \u001b[0;34m\u001b[0m\u001b[0m\n",
      "\u001b[0;32m~/Documents/Dev/DS/GBC/abacus/abacus/mde_researcher/mde_research_builder.py\u001b[0m in \u001b[0;36m_calc_experiment_grid_cell\u001b[0;34m(self, guests_with_splits, grid_element)\u001b[0m\n\u001b[1;32m     66\u001b[0m \u001b[0;34m\u001b[0m\u001b[0m\n\u001b[1;32m     67\u001b[0m         \u001b[0mab_test\u001b[0m \u001b[0;34m=\u001b[0m \u001b[0mABTest\u001b[0m\u001b[0;34m(\u001b[0m\u001b[0mguests_with_splits\u001b[0m\u001b[0;34m,\u001b[0m \u001b[0mself\u001b[0m\u001b[0;34m.\u001b[0m\u001b[0mabtest_params\u001b[0m\u001b[0;34m)\u001b[0m\u001b[0;34m\u001b[0m\u001b[0;34m\u001b[0m\u001b[0m\n\u001b[0;32m---> 68\u001b[0;31m         \u001b[0mab_test\u001b[0m \u001b[0;34m=\u001b[0m \u001b[0mself\u001b[0m\u001b[0;34m.\u001b[0m\u001b[0mexperiment_params\u001b[0m\u001b[0;34m.\u001b[0m\u001b[0mtransformations\u001b[0m\u001b[0;34m(\u001b[0m\u001b[0mab_test\u001b[0m\u001b[0;34m)\u001b[0m\u001b[0;34m\u001b[0m\u001b[0;34m\u001b[0m\u001b[0m\n\u001b[0m\u001b[1;32m     69\u001b[0m         \u001b[0mrow_dict\u001b[0m\u001b[0;34m[\u001b[0m\u001b[0;34m\"effect_significance\"\u001b[0m\u001b[0;34m]\u001b[0m \u001b[0;34m=\u001b[0m \u001b[0mself\u001b[0m\u001b[0;34m.\u001b[0m\u001b[0mexperiment_params\u001b[0m\u001b[0;34m.\u001b[0m\u001b[0mstat_test\u001b[0m\u001b[0;34m(\u001b[0m\u001b[0mab_test\u001b[0m\u001b[0;34m)\u001b[0m\u001b[0;34m[\u001b[0m\u001b[0;34m\"result\"\u001b[0m\u001b[0;34m]\u001b[0m\u001b[0;34m\u001b[0m\u001b[0;34m\u001b[0m\u001b[0m\n\u001b[1;32m     70\u001b[0m         \u001b[0;32mreturn\u001b[0m \u001b[0mpd\u001b[0m\u001b[0;34m.\u001b[0m\u001b[0mDataFrame\u001b[0m\u001b[0;34m(\u001b[0m\u001b[0mrow_dict\u001b[0m\u001b[0;34m)\u001b[0m\u001b[0;34m\u001b[0m\u001b[0;34m\u001b[0m\u001b[0m\n",
      "\u001b[0;32m~/opt/anaconda3/lib/python3.7/site-packages/fastcore/transform.py\u001b[0m in \u001b[0;36m__call__\u001b[0;34m(self, o)\u001b[0m\n\u001b[1;32m    206\u001b[0m         \u001b[0mself\u001b[0m\u001b[0;34m.\u001b[0m\u001b[0mfs\u001b[0m \u001b[0;34m=\u001b[0m \u001b[0mself\u001b[0m\u001b[0;34m.\u001b[0m\u001b[0mfs\u001b[0m\u001b[0;34m.\u001b[0m\u001b[0msorted\u001b[0m\u001b[0;34m(\u001b[0m\u001b[0mkey\u001b[0m\u001b[0;34m=\u001b[0m\u001b[0;34m'order'\u001b[0m\u001b[0;34m)\u001b[0m\u001b[0;34m\u001b[0m\u001b[0;34m\u001b[0m\u001b[0m\n\u001b[1;32m    207\u001b[0m \u001b[0;34m\u001b[0m\u001b[0m\n\u001b[0;32m--> 208\u001b[0;31m     \u001b[0;32mdef\u001b[0m \u001b[0m__call__\u001b[0m\u001b[0;34m(\u001b[0m\u001b[0mself\u001b[0m\u001b[0;34m,\u001b[0m \u001b[0mo\u001b[0m\u001b[0;34m)\u001b[0m\u001b[0;34m:\u001b[0m \u001b[0;32mreturn\u001b[0m \u001b[0mcompose_tfms\u001b[0m\u001b[0;34m(\u001b[0m\u001b[0mo\u001b[0m\u001b[0;34m,\u001b[0m \u001b[0mtfms\u001b[0m\u001b[0;34m=\u001b[0m\u001b[0mself\u001b[0m\u001b[0;34m.\u001b[0m\u001b[0mfs\u001b[0m\u001b[0;34m,\u001b[0m \u001b[0msplit_idx\u001b[0m\u001b[0;34m=\u001b[0m\u001b[0mself\u001b[0m\u001b[0;34m.\u001b[0m\u001b[0msplit_idx\u001b[0m\u001b[0;34m)\u001b[0m\u001b[0;34m\u001b[0m\u001b[0;34m\u001b[0m\u001b[0m\n\u001b[0m\u001b[1;32m    209\u001b[0m     \u001b[0;32mdef\u001b[0m \u001b[0m__repr__\u001b[0m\u001b[0;34m(\u001b[0m\u001b[0mself\u001b[0m\u001b[0;34m)\u001b[0m\u001b[0;34m:\u001b[0m \u001b[0;32mreturn\u001b[0m \u001b[0;34mf\"Pipeline: {' -> '.join([f.name for f in self.fs if f.name != 'noop'])}\"\u001b[0m\u001b[0;34m\u001b[0m\u001b[0;34m\u001b[0m\u001b[0m\n\u001b[1;32m    210\u001b[0m     \u001b[0;32mdef\u001b[0m \u001b[0m__getitem__\u001b[0m\u001b[0;34m(\u001b[0m\u001b[0mself\u001b[0m\u001b[0;34m,\u001b[0m\u001b[0mi\u001b[0m\u001b[0;34m)\u001b[0m\u001b[0;34m:\u001b[0m \u001b[0;32mreturn\u001b[0m \u001b[0mself\u001b[0m\u001b[0;34m.\u001b[0m\u001b[0mfs\u001b[0m\u001b[0;34m[\u001b[0m\u001b[0mi\u001b[0m\u001b[0;34m]\u001b[0m\u001b[0;34m\u001b[0m\u001b[0;34m\u001b[0m\u001b[0m\n",
      "\u001b[0;32m~/opt/anaconda3/lib/python3.7/site-packages/fastcore/transform.py\u001b[0m in \u001b[0;36mcompose_tfms\u001b[0;34m(x, tfms, is_enc, reverse, **kwargs)\u001b[0m\n\u001b[1;32m    156\u001b[0m     \u001b[0;32mfor\u001b[0m \u001b[0mf\u001b[0m \u001b[0;32min\u001b[0m \u001b[0mtfms\u001b[0m\u001b[0;34m:\u001b[0m\u001b[0;34m\u001b[0m\u001b[0;34m\u001b[0m\u001b[0m\n\u001b[1;32m    157\u001b[0m         \u001b[0;32mif\u001b[0m \u001b[0;32mnot\u001b[0m \u001b[0mis_enc\u001b[0m\u001b[0;34m:\u001b[0m \u001b[0mf\u001b[0m \u001b[0;34m=\u001b[0m \u001b[0mf\u001b[0m\u001b[0;34m.\u001b[0m\u001b[0mdecode\u001b[0m\u001b[0;34m\u001b[0m\u001b[0;34m\u001b[0m\u001b[0m\n\u001b[0;32m--> 158\u001b[0;31m         \u001b[0mx\u001b[0m \u001b[0;34m=\u001b[0m \u001b[0mf\u001b[0m\u001b[0;34m(\u001b[0m\u001b[0mx\u001b[0m\u001b[0;34m,\u001b[0m \u001b[0;34m**\u001b[0m\u001b[0mkwargs\u001b[0m\u001b[0;34m)\u001b[0m\u001b[0;34m\u001b[0m\u001b[0;34m\u001b[0m\u001b[0m\n\u001b[0m\u001b[1;32m    159\u001b[0m     \u001b[0;32mreturn\u001b[0m \u001b[0mx\u001b[0m\u001b[0;34m\u001b[0m\u001b[0;34m\u001b[0m\u001b[0m\n\u001b[1;32m    160\u001b[0m \u001b[0;34m\u001b[0m\u001b[0m\n",
      "\u001b[0;32m~/opt/anaconda3/lib/python3.7/site-packages/fastcore/transform.py\u001b[0m in \u001b[0;36m__call__\u001b[0;34m(self, x, **kwargs)\u001b[0m\n\u001b[1;32m     79\u001b[0m     \u001b[0;34m@\u001b[0m\u001b[0mproperty\u001b[0m\u001b[0;34m\u001b[0m\u001b[0;34m\u001b[0m\u001b[0m\n\u001b[1;32m     80\u001b[0m     \u001b[0;32mdef\u001b[0m \u001b[0mname\u001b[0m\u001b[0;34m(\u001b[0m\u001b[0mself\u001b[0m\u001b[0;34m)\u001b[0m\u001b[0;34m:\u001b[0m \u001b[0;32mreturn\u001b[0m \u001b[0mgetattr\u001b[0m\u001b[0;34m(\u001b[0m\u001b[0mself\u001b[0m\u001b[0;34m,\u001b[0m \u001b[0;34m'_name'\u001b[0m\u001b[0;34m,\u001b[0m \u001b[0m_get_name\u001b[0m\u001b[0;34m(\u001b[0m\u001b[0mself\u001b[0m\u001b[0;34m)\u001b[0m\u001b[0;34m)\u001b[0m\u001b[0;34m\u001b[0m\u001b[0;34m\u001b[0m\u001b[0m\n\u001b[0;32m---> 81\u001b[0;31m     \u001b[0;32mdef\u001b[0m \u001b[0m__call__\u001b[0m\u001b[0;34m(\u001b[0m\u001b[0mself\u001b[0m\u001b[0;34m,\u001b[0m \u001b[0mx\u001b[0m\u001b[0;34m,\u001b[0m \u001b[0;34m**\u001b[0m\u001b[0mkwargs\u001b[0m\u001b[0;34m)\u001b[0m\u001b[0;34m:\u001b[0m \u001b[0;32mreturn\u001b[0m \u001b[0mself\u001b[0m\u001b[0;34m.\u001b[0m\u001b[0m_call\u001b[0m\u001b[0;34m(\u001b[0m\u001b[0;34m'encodes'\u001b[0m\u001b[0;34m,\u001b[0m \u001b[0mx\u001b[0m\u001b[0;34m,\u001b[0m \u001b[0;34m**\u001b[0m\u001b[0mkwargs\u001b[0m\u001b[0;34m)\u001b[0m\u001b[0;34m\u001b[0m\u001b[0;34m\u001b[0m\u001b[0m\n\u001b[0m\u001b[1;32m     82\u001b[0m     \u001b[0;32mdef\u001b[0m \u001b[0mdecode\u001b[0m  \u001b[0;34m(\u001b[0m\u001b[0mself\u001b[0m\u001b[0;34m,\u001b[0m \u001b[0mx\u001b[0m\u001b[0;34m,\u001b[0m \u001b[0;34m**\u001b[0m\u001b[0mkwargs\u001b[0m\u001b[0;34m)\u001b[0m\u001b[0;34m:\u001b[0m \u001b[0;32mreturn\u001b[0m \u001b[0mself\u001b[0m\u001b[0;34m.\u001b[0m\u001b[0m_call\u001b[0m\u001b[0;34m(\u001b[0m\u001b[0;34m'decodes'\u001b[0m\u001b[0;34m,\u001b[0m \u001b[0mx\u001b[0m\u001b[0;34m,\u001b[0m \u001b[0;34m**\u001b[0m\u001b[0mkwargs\u001b[0m\u001b[0;34m)\u001b[0m\u001b[0;34m\u001b[0m\u001b[0;34m\u001b[0m\u001b[0m\n\u001b[1;32m     83\u001b[0m     \u001b[0;32mdef\u001b[0m \u001b[0m__repr__\u001b[0m\u001b[0;34m(\u001b[0m\u001b[0mself\u001b[0m\u001b[0;34m)\u001b[0m\u001b[0;34m:\u001b[0m \u001b[0;32mreturn\u001b[0m \u001b[0;34mf'{self.name}:\\nencodes: {self.encodes}decodes: {self.decodes}'\u001b[0m\u001b[0;34m\u001b[0m\u001b[0;34m\u001b[0m\u001b[0m\n",
      "\u001b[0;32m~/opt/anaconda3/lib/python3.7/site-packages/fastcore/transform.py\u001b[0m in \u001b[0;36m_call\u001b[0;34m(self, fn, x, split_idx, **kwargs)\u001b[0m\n\u001b[1;32m     89\u001b[0m     \u001b[0;32mdef\u001b[0m \u001b[0m_call\u001b[0m\u001b[0;34m(\u001b[0m\u001b[0mself\u001b[0m\u001b[0;34m,\u001b[0m \u001b[0mfn\u001b[0m\u001b[0;34m,\u001b[0m \u001b[0mx\u001b[0m\u001b[0;34m,\u001b[0m \u001b[0msplit_idx\u001b[0m\u001b[0;34m=\u001b[0m\u001b[0;32mNone\u001b[0m\u001b[0;34m,\u001b[0m \u001b[0;34m**\u001b[0m\u001b[0mkwargs\u001b[0m\u001b[0;34m)\u001b[0m\u001b[0;34m:\u001b[0m\u001b[0;34m\u001b[0m\u001b[0;34m\u001b[0m\u001b[0m\n\u001b[1;32m     90\u001b[0m         \u001b[0;32mif\u001b[0m \u001b[0msplit_idx\u001b[0m\u001b[0;34m!=\u001b[0m\u001b[0mself\u001b[0m\u001b[0;34m.\u001b[0m\u001b[0msplit_idx\u001b[0m \u001b[0;32mand\u001b[0m \u001b[0mself\u001b[0m\u001b[0;34m.\u001b[0m\u001b[0msplit_idx\u001b[0m \u001b[0;32mis\u001b[0m \u001b[0;32mnot\u001b[0m \u001b[0;32mNone\u001b[0m\u001b[0;34m:\u001b[0m \u001b[0;32mreturn\u001b[0m \u001b[0mx\u001b[0m\u001b[0;34m\u001b[0m\u001b[0;34m\u001b[0m\u001b[0m\n\u001b[0;32m---> 91\u001b[0;31m         \u001b[0;32mreturn\u001b[0m \u001b[0mself\u001b[0m\u001b[0;34m.\u001b[0m\u001b[0m_do_call\u001b[0m\u001b[0;34m(\u001b[0m\u001b[0mgetattr\u001b[0m\u001b[0;34m(\u001b[0m\u001b[0mself\u001b[0m\u001b[0;34m,\u001b[0m \u001b[0mfn\u001b[0m\u001b[0;34m)\u001b[0m\u001b[0;34m,\u001b[0m \u001b[0mx\u001b[0m\u001b[0;34m,\u001b[0m \u001b[0;34m**\u001b[0m\u001b[0mkwargs\u001b[0m\u001b[0;34m)\u001b[0m\u001b[0;34m\u001b[0m\u001b[0;34m\u001b[0m\u001b[0m\n\u001b[0m\u001b[1;32m     92\u001b[0m \u001b[0;34m\u001b[0m\u001b[0m\n\u001b[1;32m     93\u001b[0m     \u001b[0;32mdef\u001b[0m \u001b[0m_do_call\u001b[0m\u001b[0;34m(\u001b[0m\u001b[0mself\u001b[0m\u001b[0;34m,\u001b[0m \u001b[0mf\u001b[0m\u001b[0;34m,\u001b[0m \u001b[0mx\u001b[0m\u001b[0;34m,\u001b[0m \u001b[0;34m**\u001b[0m\u001b[0mkwargs\u001b[0m\u001b[0;34m)\u001b[0m\u001b[0;34m:\u001b[0m\u001b[0;34m\u001b[0m\u001b[0;34m\u001b[0m\u001b[0m\n",
      "\u001b[0;32m~/opt/anaconda3/lib/python3.7/site-packages/fastcore/transform.py\u001b[0m in \u001b[0;36m_do_call\u001b[0;34m(self, f, x, **kwargs)\u001b[0m\n\u001b[1;32m     95\u001b[0m             \u001b[0;32mif\u001b[0m \u001b[0mf\u001b[0m \u001b[0;32mis\u001b[0m \u001b[0;32mNone\u001b[0m\u001b[0;34m:\u001b[0m \u001b[0;32mreturn\u001b[0m \u001b[0mx\u001b[0m\u001b[0;34m\u001b[0m\u001b[0;34m\u001b[0m\u001b[0m\n\u001b[1;32m     96\u001b[0m             \u001b[0mret\u001b[0m \u001b[0;34m=\u001b[0m \u001b[0mf\u001b[0m\u001b[0;34m.\u001b[0m\u001b[0mreturns\u001b[0m\u001b[0;34m(\u001b[0m\u001b[0mx\u001b[0m\u001b[0;34m)\u001b[0m \u001b[0;32mif\u001b[0m \u001b[0mhasattr\u001b[0m\u001b[0;34m(\u001b[0m\u001b[0mf\u001b[0m\u001b[0;34m,\u001b[0m\u001b[0;34m'returns'\u001b[0m\u001b[0;34m)\u001b[0m \u001b[0;32melse\u001b[0m \u001b[0;32mNone\u001b[0m\u001b[0;34m\u001b[0m\u001b[0;34m\u001b[0m\u001b[0m\n\u001b[0;32m---> 97\u001b[0;31m             \u001b[0;32mreturn\u001b[0m \u001b[0mretain_type\u001b[0m\u001b[0;34m(\u001b[0m\u001b[0mf\u001b[0m\u001b[0;34m(\u001b[0m\u001b[0mx\u001b[0m\u001b[0;34m,\u001b[0m \u001b[0;34m**\u001b[0m\u001b[0mkwargs\u001b[0m\u001b[0;34m)\u001b[0m\u001b[0;34m,\u001b[0m \u001b[0mx\u001b[0m\u001b[0;34m,\u001b[0m \u001b[0mret\u001b[0m\u001b[0;34m)\u001b[0m\u001b[0;34m\u001b[0m\u001b[0;34m\u001b[0m\u001b[0m\n\u001b[0m\u001b[1;32m     98\u001b[0m         \u001b[0mres\u001b[0m \u001b[0;34m=\u001b[0m \u001b[0mtuple\u001b[0m\u001b[0;34m(\u001b[0m\u001b[0mself\u001b[0m\u001b[0;34m.\u001b[0m\u001b[0m_do_call\u001b[0m\u001b[0;34m(\u001b[0m\u001b[0mf\u001b[0m\u001b[0;34m,\u001b[0m \u001b[0mx_\u001b[0m\u001b[0;34m,\u001b[0m \u001b[0;34m**\u001b[0m\u001b[0mkwargs\u001b[0m\u001b[0;34m)\u001b[0m \u001b[0;32mfor\u001b[0m \u001b[0mx_\u001b[0m \u001b[0;32min\u001b[0m \u001b[0mx\u001b[0m\u001b[0;34m)\u001b[0m\u001b[0;34m\u001b[0m\u001b[0;34m\u001b[0m\u001b[0m\n\u001b[1;32m     99\u001b[0m         \u001b[0;32mreturn\u001b[0m \u001b[0mretain_type\u001b[0m\u001b[0;34m(\u001b[0m\u001b[0mres\u001b[0m\u001b[0;34m,\u001b[0m \u001b[0mx\u001b[0m\u001b[0;34m)\u001b[0m\u001b[0;34m\u001b[0m\u001b[0;34m\u001b[0m\u001b[0m\n",
      "\u001b[0;32m~/opt/anaconda3/lib/python3.7/site-packages/fastcore/dispatch.py\u001b[0m in \u001b[0;36m__call__\u001b[0;34m(self, *args, **kwargs)\u001b[0m\n\u001b[1;32m    118\u001b[0m         \u001b[0;32melif\u001b[0m \u001b[0mself\u001b[0m\u001b[0;34m.\u001b[0m\u001b[0minst\u001b[0m \u001b[0;32mis\u001b[0m \u001b[0;32mnot\u001b[0m \u001b[0;32mNone\u001b[0m\u001b[0;34m:\u001b[0m \u001b[0mf\u001b[0m \u001b[0;34m=\u001b[0m \u001b[0mMethodType\u001b[0m\u001b[0;34m(\u001b[0m\u001b[0mf\u001b[0m\u001b[0;34m,\u001b[0m \u001b[0mself\u001b[0m\u001b[0;34m.\u001b[0m\u001b[0minst\u001b[0m\u001b[0;34m)\u001b[0m\u001b[0;34m\u001b[0m\u001b[0;34m\u001b[0m\u001b[0m\n\u001b[1;32m    119\u001b[0m         \u001b[0;32melif\u001b[0m \u001b[0mself\u001b[0m\u001b[0;34m.\u001b[0m\u001b[0mowner\u001b[0m \u001b[0;32mis\u001b[0m \u001b[0;32mnot\u001b[0m \u001b[0;32mNone\u001b[0m\u001b[0;34m:\u001b[0m \u001b[0mf\u001b[0m \u001b[0;34m=\u001b[0m \u001b[0mMethodType\u001b[0m\u001b[0;34m(\u001b[0m\u001b[0mf\u001b[0m\u001b[0;34m,\u001b[0m \u001b[0mself\u001b[0m\u001b[0;34m.\u001b[0m\u001b[0mowner\u001b[0m\u001b[0;34m)\u001b[0m\u001b[0;34m\u001b[0m\u001b[0;34m\u001b[0m\u001b[0m\n\u001b[0;32m--> 120\u001b[0;31m         \u001b[0;32mreturn\u001b[0m \u001b[0mf\u001b[0m\u001b[0;34m(\u001b[0m\u001b[0;34m*\u001b[0m\u001b[0margs\u001b[0m\u001b[0;34m,\u001b[0m \u001b[0;34m**\u001b[0m\u001b[0mkwargs\u001b[0m\u001b[0;34m)\u001b[0m\u001b[0;34m\u001b[0m\u001b[0;34m\u001b[0m\u001b[0m\n\u001b[0m\u001b[1;32m    121\u001b[0m \u001b[0;34m\u001b[0m\u001b[0m\n\u001b[1;32m    122\u001b[0m     \u001b[0;32mdef\u001b[0m \u001b[0m__get__\u001b[0m\u001b[0;34m(\u001b[0m\u001b[0mself\u001b[0m\u001b[0;34m,\u001b[0m \u001b[0minst\u001b[0m\u001b[0;34m,\u001b[0m \u001b[0mowner\u001b[0m\u001b[0;34m)\u001b[0m\u001b[0;34m:\u001b[0m\u001b[0;34m\u001b[0m\u001b[0;34m\u001b[0m\u001b[0m\n",
      "\u001b[0;32m~/Documents/Dev/DS/GBC/abacus/abacus/auto_ab/abtest.py\u001b[0m in \u001b[0;36mcuped\u001b[0;34m(self)\u001b[0m\n\u001b[1;32m    426\u001b[0m             \u001b[0mABTest\u001b[0m\u001b[0;34m:\u001b[0m \u001b[0mNew\u001b[0m \u001b[0minstance\u001b[0m \u001b[0mof\u001b[0m\u001b[0;31m \u001b[0m\u001b[0;31m`\u001b[0m\u001b[0;31m`\u001b[0m\u001b[0mABTest\u001b[0m\u001b[0;31m`\u001b[0m\u001b[0;31m`\u001b[0m \u001b[0;32mclass\u001b[0m \u001b[0;32mwith\u001b[0m \u001b[0mmodified\u001b[0m \u001b[0mcontrol\u001b[0m \u001b[0;32mand\u001b[0m \u001b[0mtreatment\u001b[0m\u001b[0;34m.\u001b[0m\u001b[0;34m\u001b[0m\u001b[0;34m\u001b[0m\u001b[0m\n\u001b[1;32m    427\u001b[0m         \"\"\"\n\u001b[0;32m--> 428\u001b[0;31m         \u001b[0mself\u001b[0m\u001b[0;34m.\u001b[0m\u001b[0m__check_required_columns\u001b[0m\u001b[0;34m(\u001b[0m\u001b[0mself\u001b[0m\u001b[0;34m.\u001b[0m\u001b[0m__dataset\u001b[0m\u001b[0;34m,\u001b[0m \u001b[0;34m'cuped'\u001b[0m\u001b[0;34m)\u001b[0m\u001b[0;34m\u001b[0m\u001b[0;34m\u001b[0m\u001b[0m\n\u001b[0m\u001b[1;32m    429\u001b[0m         result_df = VarianceReduction.cuped(self.__dataset,\n\u001b[1;32m    430\u001b[0m                                             \u001b[0mtarget_col\u001b[0m\u001b[0;34m=\u001b[0m\u001b[0mself\u001b[0m\u001b[0;34m.\u001b[0m\u001b[0mparams\u001b[0m\u001b[0;34m.\u001b[0m\u001b[0mdata_params\u001b[0m\u001b[0;34m.\u001b[0m\u001b[0mtarget\u001b[0m\u001b[0;34m,\u001b[0m\u001b[0;34m\u001b[0m\u001b[0;34m\u001b[0m\u001b[0m\n",
      "\u001b[0;32m~/Documents/Dev/DS/GBC/abacus/abacus/auto_ab/abtest.py\u001b[0m in \u001b[0;36m__check_required_columns\u001b[0;34m(self, df, method)\u001b[0m\n\u001b[1;32m    106\u001b[0m \u001b[0;34m\u001b[0m\u001b[0m\n\u001b[1;32m    107\u001b[0m         \u001b[0;32mif\u001b[0m \u001b[0;32mnot\u001b[0m \u001b[0mis_valid_col\u001b[0m\u001b[0;34m:\u001b[0m\u001b[0;34m\u001b[0m\u001b[0;34m\u001b[0m\u001b[0m\n\u001b[0;32m--> 108\u001b[0;31m             \u001b[0;32mraise\u001b[0m \u001b[0mValueError\u001b[0m\u001b[0;34m(\u001b[0m\u001b[0;34mf'The following columns are not in dataframe: {*invalid_cols,}'\u001b[0m\u001b[0;34m)\u001b[0m\u001b[0;34m\u001b[0m\u001b[0;34m\u001b[0m\u001b[0m\n\u001b[0m\u001b[1;32m    109\u001b[0m \u001b[0;34m\u001b[0m\u001b[0m\n\u001b[1;32m    110\u001b[0m     \u001b[0;32mdef\u001b[0m \u001b[0m__get_group\u001b[0m\u001b[0;34m(\u001b[0m\u001b[0mself\u001b[0m\u001b[0;34m,\u001b[0m \u001b[0mgroup_label\u001b[0m\u001b[0;34m:\u001b[0m \u001b[0mstr\u001b[0m\u001b[0;34m,\u001b[0m \u001b[0mdf\u001b[0m\u001b[0;34m:\u001b[0m \u001b[0mOptional\u001b[0m\u001b[0;34m[\u001b[0m\u001b[0mDataFrameType\u001b[0m\u001b[0;34m]\u001b[0m \u001b[0;34m=\u001b[0m \u001b[0;32mNone\u001b[0m\u001b[0;34m)\u001b[0m \u001b[0;34m->\u001b[0m \u001b[0mnp\u001b[0m\u001b[0;34m.\u001b[0m\u001b[0mndarray\u001b[0m\u001b[0;34m:\u001b[0m\u001b[0;34m\u001b[0m\u001b[0;34m\u001b[0m\u001b[0m\n",
      "\u001b[0;31mValueError\u001b[0m: The following columns are not in dataframe: ('',)"
     ]
    }
   ],
   "source": [
    "beta, alpha = prepilot.collect()"
   ]
  },
  {
   "cell_type": "code",
   "execution_count": null,
   "metadata": {},
   "outputs": [],
   "source": [
    "beta"
   ]
  },
  {
   "cell_type": "code",
   "execution_count": null,
   "metadata": {},
   "outputs": [],
   "source": [
    "alpha"
   ]
  },
  {
   "cell_type": "markdown",
   "metadata": {},
   "source": [
    "# Кейс №10. Препилот для бинарной метрики."
   ]
  },
  {
   "cell_type": "code",
   "execution_count": 120,
   "metadata": {},
   "outputs": [
    {
     "data": {
      "text/html": [
       "<div>\n",
       "<style scoped>\n",
       "    .dataframe tbody tr th:only-of-type {\n",
       "        vertical-align: middle;\n",
       "    }\n",
       "\n",
       "    .dataframe tbody tr th {\n",
       "        vertical-align: top;\n",
       "    }\n",
       "\n",
       "    .dataframe thead th {\n",
       "        text-align: right;\n",
       "    }\n",
       "</style>\n",
       "<table border=\"1\" class=\"dataframe\">\n",
       "  <thead>\n",
       "    <tr style=\"text-align: right;\">\n",
       "      <th></th>\n",
       "      <th>height_now</th>\n",
       "      <th>height_prev</th>\n",
       "      <th>weight_now</th>\n",
       "      <th>weight_prev</th>\n",
       "      <th>noise_now</th>\n",
       "      <th>noise_prev</th>\n",
       "      <th>groups</th>\n",
       "      <th>id</th>\n",
       "      <th>moda_city</th>\n",
       "      <th>country</th>\n",
       "      <th>numerator</th>\n",
       "      <th>denominator</th>\n",
       "      <th>conversion</th>\n",
       "    </tr>\n",
       "  </thead>\n",
       "  <tbody>\n",
       "    <tr>\n",
       "      <th>49673</th>\n",
       "      <td>176.962204</td>\n",
       "      <td>173.282588</td>\n",
       "      <td>168.286558</td>\n",
       "      <td>178.545051</td>\n",
       "      <td>8.332472</td>\n",
       "      <td>0.749710</td>\n",
       "      <td>B</td>\n",
       "      <td>49673</td>\n",
       "      <td>2</td>\n",
       "      <td>1</td>\n",
       "      <td>3</td>\n",
       "      <td>3</td>\n",
       "      <td>1</td>\n",
       "    </tr>\n",
       "    <tr>\n",
       "      <th>171551</th>\n",
       "      <td>167.719994</td>\n",
       "      <td>164.153443</td>\n",
       "      <td>159.805620</td>\n",
       "      <td>169.937810</td>\n",
       "      <td>6.185760</td>\n",
       "      <td>2.257602</td>\n",
       "      <td>A</td>\n",
       "      <td>171551</td>\n",
       "      <td>4</td>\n",
       "      <td>1</td>\n",
       "      <td>1</td>\n",
       "      <td>2</td>\n",
       "      <td>1</td>\n",
       "    </tr>\n",
       "    <tr>\n",
       "      <th>5506</th>\n",
       "      <td>173.478204</td>\n",
       "      <td>172.284449</td>\n",
       "      <td>168.578427</td>\n",
       "      <td>175.216619</td>\n",
       "      <td>7.729058</td>\n",
       "      <td>6.635701</td>\n",
       "      <td>B</td>\n",
       "      <td>5506</td>\n",
       "      <td>2</td>\n",
       "      <td>1</td>\n",
       "      <td>1</td>\n",
       "      <td>2</td>\n",
       "      <td>1</td>\n",
       "    </tr>\n",
       "    <tr>\n",
       "      <th>38370</th>\n",
       "      <td>174.789978</td>\n",
       "      <td>172.517970</td>\n",
       "      <td>168.646945</td>\n",
       "      <td>177.518410</td>\n",
       "      <td>9.830704</td>\n",
       "      <td>-1.382761</td>\n",
       "      <td>A</td>\n",
       "      <td>38370</td>\n",
       "      <td>3</td>\n",
       "      <td>1</td>\n",
       "      <td>4</td>\n",
       "      <td>3</td>\n",
       "      <td>1</td>\n",
       "    </tr>\n",
       "    <tr>\n",
       "      <th>36930</th>\n",
       "      <td>171.939344</td>\n",
       "      <td>172.241240</td>\n",
       "      <td>166.103368</td>\n",
       "      <td>175.124307</td>\n",
       "      <td>5.606161</td>\n",
       "      <td>6.901354</td>\n",
       "      <td>B</td>\n",
       "      <td>36930</td>\n",
       "      <td>4</td>\n",
       "      <td>2</td>\n",
       "      <td>4</td>\n",
       "      <td>3</td>\n",
       "      <td>1</td>\n",
       "    </tr>\n",
       "  </tbody>\n",
       "</table>\n",
       "</div>"
      ],
      "text/plain": [
       "        height_now  height_prev  weight_now  weight_prev  noise_now  \\\n",
       "49673   176.962204   173.282588  168.286558   178.545051   8.332472   \n",
       "171551  167.719994   164.153443  159.805620   169.937810   6.185760   \n",
       "5506    173.478204   172.284449  168.578427   175.216619   7.729058   \n",
       "38370   174.789978   172.517970  168.646945   177.518410   9.830704   \n",
       "36930   171.939344   172.241240  166.103368   175.124307   5.606161   \n",
       "\n",
       "        noise_prev groups      id  moda_city  country  numerator  denominator  \\\n",
       "49673     0.749710      B   49673          2        1          3            3   \n",
       "171551    2.257602      A  171551          4        1          1            2   \n",
       "5506      6.635701      B    5506          2        1          1            2   \n",
       "38370    -1.382761      A   38370          3        1          4            3   \n",
       "36930     6.901354      B   36930          4        2          4            3   \n",
       "\n",
       "        conversion  \n",
       "49673            1  \n",
       "171551           1  \n",
       "5506             1  \n",
       "38370            1  \n",
       "36930            1  "
      ]
     },
     "execution_count": 120,
     "metadata": {},
     "output_type": "execute_result"
    }
   ],
   "source": [
    "df = pd.read_csv('./data/ab_data.csv')\n",
    "df = df.sample(n=10_000, random_state=1)\n",
    "df.head()"
   ]
  },
  {
   "cell_type": "code",
   "execution_count": 122,
   "metadata": {},
   "outputs": [],
   "source": [
    "data_params = DataParams(\n",
    "    id_col='id', \n",
    "    group_col='groups',\n",
    "    target_flg='conversion', \n",
    "    is_grouped=True\n",
    ")\n",
    "\n",
    "hypothesis_params = HypothesisParams(\n",
    "    alpha=0.05, \n",
    "    beta=0.2, \n",
    "    alternative='two-sided',\n",
    "    metric_type='binary', \n",
    "    metric_name='mean', \n",
    "    metric=np.mean, \n",
    "    n_boot_samples=200, \n",
    "    n_buckets=50\n",
    ")\n",
    "\n",
    "ab_params = ABTestParams(data_params, hypothesis_params)"
   ]
  },
  {
   "cell_type": "code",
   "execution_count": 123,
   "metadata": {},
   "outputs": [],
   "source": [
    "split_builder_params = SplitBuilderParams(\n",
    "    map_group_names_to_sizes={\n",
    "        'control': None,\n",
    "        'target': None\n",
    "    },\n",
    "    main_strata_col = \"moda_city\",\n",
    "    split_metric_col = \"height_now\",\n",
    "    id_col = \"id\",\n",
    "    cols = [\"height_prev\"],\n",
    "    cat_cols=[\"country\"],\n",
    "    pvalue=0.05,\n",
    "    n_bins = 6,\n",
    "    min_cluster_size = 500\n",
    ")"
   ]
  },
  {
   "cell_type": "markdown",
   "metadata": {},
   "source": [
    "### Препилот без бакетирования"
   ]
  },
  {
   "cell_type": "code",
   "execution_count": 124,
   "metadata": {},
   "outputs": [],
   "source": [
    "prepilot_params = MdeParams(\n",
    "    metrics_names=['conversion'],\n",
    "    injects=[1.001,1.005,1.01],\n",
    "    min_group_size=2000, \n",
    "    max_group_size=5000, \n",
    "    step=1000,\n",
    "    variance_reduction = None,\n",
    "    use_buckets = False,\n",
    "    stat_test = ABTest.test_z_proportions,\n",
    "    iterations_number = 5,\n",
    "    max_beta_score=0.9,\n",
    "    min_beta_score=0.01,\n",
    ")\n",
    "\n",
    "prepilot = MdeResearchBuilder(df, ab_params,\n",
    "                                  prepilot_params,\n",
    "                                  split_builder_params)"
   ]
  },
  {
   "cell_type": "code",
   "execution_count": 125,
   "metadata": {},
   "outputs": [
    {
     "name": "stdout",
     "output_type": "stream",
     "text": [
      "CPU times: user 4.03 s, sys: 166 ms, total: 4.2 s\n",
      "Wall time: 5.1 s\n"
     ]
    }
   ],
   "source": [
    "%%time \n",
    "beta, alpha = prepilot.collect()"
   ]
  },
  {
   "cell_type": "code",
   "execution_count": 126,
   "metadata": {},
   "outputs": [
    {
     "data": {
      "text/html": [
       "<div>\n",
       "<style scoped>\n",
       "    .dataframe tbody tr th:only-of-type {\n",
       "        vertical-align: middle;\n",
       "    }\n",
       "\n",
       "    .dataframe tbody tr th {\n",
       "        vertical-align: top;\n",
       "    }\n",
       "\n",
       "    .dataframe thead th {\n",
       "        text-align: right;\n",
       "    }\n",
       "</style>\n",
       "<table border=\"1\" class=\"dataframe\">\n",
       "  <thead>\n",
       "    <tr style=\"text-align: right;\">\n",
       "      <th></th>\n",
       "      <th>split_rate</th>\n",
       "      <th>(2000, 2000)</th>\n",
       "      <th>(3000, 3000)</th>\n",
       "      <th>(4000, 4000)</th>\n",
       "      <th>(5000, 5000)</th>\n",
       "    </tr>\n",
       "    <tr>\n",
       "      <th>metric</th>\n",
       "      <th>Effect</th>\n",
       "      <th></th>\n",
       "      <th></th>\n",
       "      <th></th>\n",
       "      <th></th>\n",
       "    </tr>\n",
       "  </thead>\n",
       "  <tbody>\n",
       "    <tr>\n",
       "      <th rowspan=\"3\" valign=\"top\">conversion</th>\n",
       "      <th>0.1%</th>\n",
       "      <td>&gt;=0.9</td>\n",
       "      <td>&gt;=0.9</td>\n",
       "      <td>&gt;=0.9</td>\n",
       "      <td>&gt;=0.9</td>\n",
       "    </tr>\n",
       "    <tr>\n",
       "      <th>0.5%</th>\n",
       "      <td>&gt;=0.9</td>\n",
       "      <td>&gt;=0.9</td>\n",
       "      <td>&gt;=0.9</td>\n",
       "      <td>0.8</td>\n",
       "    </tr>\n",
       "    <tr>\n",
       "      <th>1.0%</th>\n",
       "      <td>0.4</td>\n",
       "      <td>0.8</td>\n",
       "      <td>0.8</td>\n",
       "      <td>0.4</td>\n",
       "    </tr>\n",
       "  </tbody>\n",
       "</table>\n",
       "</div>"
      ],
      "text/plain": [
       "split_rate        (2000, 2000) (3000, 3000) (4000, 4000) (5000, 5000)\n",
       "metric     Effect                                                    \n",
       "conversion 0.1%          >=0.9        >=0.9        >=0.9        >=0.9\n",
       "           0.5%          >=0.9        >=0.9        >=0.9          0.8\n",
       "           1.0%            0.4          0.8          0.8          0.4"
      ]
     },
     "execution_count": 126,
     "metadata": {},
     "output_type": "execute_result"
    }
   ],
   "source": [
    "beta"
   ]
  },
  {
   "cell_type": "code",
   "execution_count": 127,
   "metadata": {},
   "outputs": [
    {
     "data": {
      "text/html": [
       "<div>\n",
       "<style scoped>\n",
       "    .dataframe tbody tr th:only-of-type {\n",
       "        vertical-align: middle;\n",
       "    }\n",
       "\n",
       "    .dataframe tbody tr th {\n",
       "        vertical-align: top;\n",
       "    }\n",
       "\n",
       "    .dataframe thead th {\n",
       "        text-align: right;\n",
       "    }\n",
       "</style>\n",
       "<table border=\"1\" class=\"dataframe\">\n",
       "  <thead>\n",
       "    <tr style=\"text-align: right;\">\n",
       "      <th>split_rate</th>\n",
       "      <th>(2000, 2000)</th>\n",
       "      <th>(3000, 3000)</th>\n",
       "      <th>(4000, 4000)</th>\n",
       "      <th>(5000, 5000)</th>\n",
       "    </tr>\n",
       "    <tr>\n",
       "      <th>metric</th>\n",
       "      <th></th>\n",
       "      <th></th>\n",
       "      <th></th>\n",
       "      <th></th>\n",
       "    </tr>\n",
       "  </thead>\n",
       "  <tbody>\n",
       "    <tr>\n",
       "      <th>conversion</th>\n",
       "      <td>0.0</td>\n",
       "      <td>0.0</td>\n",
       "      <td>0.0</td>\n",
       "      <td>0.0</td>\n",
       "    </tr>\n",
       "  </tbody>\n",
       "</table>\n",
       "</div>"
      ],
      "text/plain": [
       "split_rate  (2000, 2000)  (3000, 3000)  (4000, 4000)  (5000, 5000)\n",
       "metric                                                            \n",
       "conversion           0.0           0.0           0.0           0.0"
      ]
     },
     "execution_count": 127,
     "metadata": {},
     "output_type": "execute_result"
    }
   ],
   "source": [
    "alpha"
   ]
  },
  {
   "cell_type": "markdown",
   "metadata": {},
   "source": [
    "# Кейс №11. Линеаризация"
   ]
  },
  {
   "cell_type": "code",
   "execution_count": 148,
   "metadata": {},
   "outputs": [
    {
     "data": {
      "text/html": [
       "<div>\n",
       "<style scoped>\n",
       "    .dataframe tbody tr th:only-of-type {\n",
       "        vertical-align: middle;\n",
       "    }\n",
       "\n",
       "    .dataframe tbody tr th {\n",
       "        vertical-align: top;\n",
       "    }\n",
       "\n",
       "    .dataframe thead th {\n",
       "        text-align: right;\n",
       "    }\n",
       "</style>\n",
       "<table border=\"1\" class=\"dataframe\">\n",
       "  <thead>\n",
       "    <tr style=\"text-align: right;\">\n",
       "      <th></th>\n",
       "      <th>height_now</th>\n",
       "      <th>height_prev</th>\n",
       "      <th>weight_now</th>\n",
       "      <th>weight_prev</th>\n",
       "      <th>noise_now</th>\n",
       "      <th>noise_prev</th>\n",
       "      <th>groups</th>\n",
       "      <th>id</th>\n",
       "      <th>moda_city</th>\n",
       "      <th>country</th>\n",
       "      <th>numerator</th>\n",
       "      <th>denominator</th>\n",
       "      <th>conversion</th>\n",
       "    </tr>\n",
       "  </thead>\n",
       "  <tbody>\n",
       "    <tr>\n",
       "      <th>0</th>\n",
       "      <td>172.470442</td>\n",
       "      <td>166.382868</td>\n",
       "      <td>163.648256</td>\n",
       "      <td>173.422115</td>\n",
       "      <td>5.644384</td>\n",
       "      <td>-1.923929</td>\n",
       "      <td>A</td>\n",
       "      <td>0</td>\n",
       "      <td>3</td>\n",
       "      <td>2</td>\n",
       "      <td>3</td>\n",
       "      <td>2</td>\n",
       "      <td>1</td>\n",
       "    </tr>\n",
       "    <tr>\n",
       "      <th>1</th>\n",
       "      <td>178.610565</td>\n",
       "      <td>173.386388</td>\n",
       "      <td>173.195935</td>\n",
       "      <td>180.831845</td>\n",
       "      <td>11.664751</td>\n",
       "      <td>2.711829</td>\n",
       "      <td>B</td>\n",
       "      <td>1</td>\n",
       "      <td>2</td>\n",
       "      <td>2</td>\n",
       "      <td>1</td>\n",
       "      <td>4</td>\n",
       "      <td>1</td>\n",
       "    </tr>\n",
       "    <tr>\n",
       "      <th>2</th>\n",
       "      <td>180.382301</td>\n",
       "      <td>178.563579</td>\n",
       "      <td>174.520065</td>\n",
       "      <td>181.571024</td>\n",
       "      <td>7.183178</td>\n",
       "      <td>-0.453939</td>\n",
       "      <td>A</td>\n",
       "      <td>2</td>\n",
       "      <td>3</td>\n",
       "      <td>1</td>\n",
       "      <td>2</td>\n",
       "      <td>2</td>\n",
       "      <td>1</td>\n",
       "    </tr>\n",
       "    <tr>\n",
       "      <th>3</th>\n",
       "      <td>180.954018</td>\n",
       "      <td>179.732080</td>\n",
       "      <td>175.731245</td>\n",
       "      <td>182.840388</td>\n",
       "      <td>-4.682656</td>\n",
       "      <td>6.358723</td>\n",
       "      <td>B</td>\n",
       "      <td>3</td>\n",
       "      <td>4</td>\n",
       "      <td>1</td>\n",
       "      <td>3</td>\n",
       "      <td>2</td>\n",
       "      <td>0</td>\n",
       "    </tr>\n",
       "    <tr>\n",
       "      <th>4</th>\n",
       "      <td>167.590042</td>\n",
       "      <td>167.684244</td>\n",
       "      <td>166.109779</td>\n",
       "      <td>170.189261</td>\n",
       "      <td>9.134517</td>\n",
       "      <td>-1.153977</td>\n",
       "      <td>B</td>\n",
       "      <td>4</td>\n",
       "      <td>2</td>\n",
       "      <td>1</td>\n",
       "      <td>3</td>\n",
       "      <td>2</td>\n",
       "      <td>1</td>\n",
       "    </tr>\n",
       "  </tbody>\n",
       "</table>\n",
       "</div>"
      ],
      "text/plain": [
       "   height_now  height_prev  weight_now  weight_prev  noise_now  noise_prev  \\\n",
       "0  172.470442   166.382868  163.648256   173.422115   5.644384   -1.923929   \n",
       "1  178.610565   173.386388  173.195935   180.831845  11.664751    2.711829   \n",
       "2  180.382301   178.563579  174.520065   181.571024   7.183178   -0.453939   \n",
       "3  180.954018   179.732080  175.731245   182.840388  -4.682656    6.358723   \n",
       "4  167.590042   167.684244  166.109779   170.189261   9.134517   -1.153977   \n",
       "\n",
       "  groups  id  moda_city  country  numerator  denominator  conversion  \n",
       "0      A   0          3        2          3            2           1  \n",
       "1      B   1          2        2          1            4           1  \n",
       "2      A   2          3        1          2            2           1  \n",
       "3      B   3          4        1          3            2           0  \n",
       "4      B   4          2        1          3            2           1  "
      ]
     },
     "execution_count": 148,
     "metadata": {},
     "output_type": "execute_result"
    }
   ],
   "source": [
    "df = pd.read_csv('./data/ab_data.csv')\n",
    "df.head()"
   ]
  },
  {
   "cell_type": "code",
   "execution_count": 151,
   "metadata": {},
   "outputs": [],
   "source": [
    "data_params = DataParams(\n",
    "    id_col='id', \n",
    "    group_col='groups', \n",
    "    control_name='A',\n",
    "    treatment_name='B',\n",
    "    numerator='numerator', \n",
    "    denominator='denominator', \n",
    "    is_grouped=False\n",
    ")\n",
    "\n",
    "hypothesis_params = HypothesisParams(\n",
    "    alpha=0.05, \n",
    "    beta=0.2, \n",
    "    alternative='two-sided', \n",
    "    metric_type='ratio', \n",
    "    metric_name='mean', \n",
    "    metric=np.mean, \n",
    "    n_boot_samples=200, \n",
    "    n_buckets=50\n",
    ")\n",
    "\n",
    "ab_params = ABTestParams(data_params, hypothesis_params)"
   ]
  },
  {
   "cell_type": "code",
   "execution_count": 152,
   "metadata": {},
   "outputs": [
    {
     "ename": "ValueError",
     "evalue": "The following columns are not in dataframe: ('',)",
     "output_type": "error",
     "traceback": [
      "\u001b[0;31m---------------------------------------------------------------------------\u001b[0m",
      "\u001b[0;31mValueError\u001b[0m                                Traceback (most recent call last)",
      "\u001b[0;32m<ipython-input-152-381b2b0a3a86>\u001b[0m in \u001b[0;36m<module>\u001b[0;34m\u001b[0m\n\u001b[1;32m      1\u001b[0m \u001b[0mab_test\u001b[0m \u001b[0;34m=\u001b[0m \u001b[0mABTest\u001b[0m\u001b[0;34m(\u001b[0m\u001b[0mdf\u001b[0m\u001b[0;34m,\u001b[0m \u001b[0mab_params\u001b[0m\u001b[0;34m)\u001b[0m\u001b[0;34m\u001b[0m\u001b[0;34m\u001b[0m\u001b[0m\n\u001b[1;32m      2\u001b[0m \u001b[0mab_test_1\u001b[0m \u001b[0;34m=\u001b[0m \u001b[0mab_test\u001b[0m\u001b[0;34m.\u001b[0m\u001b[0mlinearization\u001b[0m\u001b[0;34m(\u001b[0m\u001b[0;34m)\u001b[0m\u001b[0;34m\u001b[0m\u001b[0;34m\u001b[0m\u001b[0m\n\u001b[0;32m----> 3\u001b[0;31m \u001b[0mab_test_2\u001b[0m \u001b[0;34m=\u001b[0m \u001b[0mab_test_1\u001b[0m\u001b[0;34m.\u001b[0m\u001b[0mcuped\u001b[0m\u001b[0;34m(\u001b[0m\u001b[0;34m)\u001b[0m\u001b[0;34m\u001b[0m\u001b[0;34m\u001b[0m\u001b[0m\n\u001b[0m",
      "\u001b[0;32m~/Documents/Dev/DS/GBC/abacus/abacus/auto_ab/abtest.py\u001b[0m in \u001b[0;36mcuped\u001b[0;34m(self)\u001b[0m\n\u001b[1;32m    426\u001b[0m             \u001b[0mABTest\u001b[0m\u001b[0;34m:\u001b[0m \u001b[0mNew\u001b[0m \u001b[0minstance\u001b[0m \u001b[0mof\u001b[0m\u001b[0;31m \u001b[0m\u001b[0;31m`\u001b[0m\u001b[0;31m`\u001b[0m\u001b[0mABTest\u001b[0m\u001b[0;31m`\u001b[0m\u001b[0;31m`\u001b[0m \u001b[0;32mclass\u001b[0m \u001b[0;32mwith\u001b[0m \u001b[0mmodified\u001b[0m \u001b[0mcontrol\u001b[0m \u001b[0;32mand\u001b[0m \u001b[0mtreatment\u001b[0m\u001b[0;34m.\u001b[0m\u001b[0;34m\u001b[0m\u001b[0;34m\u001b[0m\u001b[0m\n\u001b[1;32m    427\u001b[0m         \"\"\"\n\u001b[0;32m--> 428\u001b[0;31m         \u001b[0mself\u001b[0m\u001b[0;34m.\u001b[0m\u001b[0m__check_required_columns\u001b[0m\u001b[0;34m(\u001b[0m\u001b[0mself\u001b[0m\u001b[0;34m.\u001b[0m\u001b[0m__dataset\u001b[0m\u001b[0;34m,\u001b[0m \u001b[0;34m'cuped'\u001b[0m\u001b[0;34m)\u001b[0m\u001b[0;34m\u001b[0m\u001b[0;34m\u001b[0m\u001b[0m\n\u001b[0m\u001b[1;32m    429\u001b[0m         result_df = VarianceReduction.cuped(self.__dataset,\n\u001b[1;32m    430\u001b[0m                                             \u001b[0mtarget_col\u001b[0m\u001b[0;34m=\u001b[0m\u001b[0mself\u001b[0m\u001b[0;34m.\u001b[0m\u001b[0mparams\u001b[0m\u001b[0;34m.\u001b[0m\u001b[0mdata_params\u001b[0m\u001b[0;34m.\u001b[0m\u001b[0mtarget\u001b[0m\u001b[0;34m,\u001b[0m\u001b[0;34m\u001b[0m\u001b[0;34m\u001b[0m\u001b[0m\n",
      "\u001b[0;32m~/Documents/Dev/DS/GBC/abacus/abacus/auto_ab/abtest.py\u001b[0m in \u001b[0;36m__check_required_columns\u001b[0;34m(self, df, method)\u001b[0m\n\u001b[1;32m    106\u001b[0m \u001b[0;34m\u001b[0m\u001b[0m\n\u001b[1;32m    107\u001b[0m         \u001b[0;32mif\u001b[0m \u001b[0;32mnot\u001b[0m \u001b[0mis_valid_col\u001b[0m\u001b[0;34m:\u001b[0m\u001b[0;34m\u001b[0m\u001b[0;34m\u001b[0m\u001b[0m\n\u001b[0;32m--> 108\u001b[0;31m             \u001b[0;32mraise\u001b[0m \u001b[0mValueError\u001b[0m\u001b[0;34m(\u001b[0m\u001b[0;34mf'The following columns are not in dataframe: {*invalid_cols,}'\u001b[0m\u001b[0;34m)\u001b[0m\u001b[0;34m\u001b[0m\u001b[0;34m\u001b[0m\u001b[0m\n\u001b[0m\u001b[1;32m    109\u001b[0m \u001b[0;34m\u001b[0m\u001b[0m\n\u001b[1;32m    110\u001b[0m     \u001b[0;32mdef\u001b[0m \u001b[0m__get_group\u001b[0m\u001b[0;34m(\u001b[0m\u001b[0mself\u001b[0m\u001b[0;34m,\u001b[0m \u001b[0mgroup_label\u001b[0m\u001b[0;34m:\u001b[0m \u001b[0mstr\u001b[0m\u001b[0;34m,\u001b[0m \u001b[0mdf\u001b[0m\u001b[0;34m:\u001b[0m \u001b[0mOptional\u001b[0m\u001b[0;34m[\u001b[0m\u001b[0mDataFrameType\u001b[0m\u001b[0;34m]\u001b[0m \u001b[0;34m=\u001b[0m \u001b[0;32mNone\u001b[0m\u001b[0;34m)\u001b[0m \u001b[0;34m->\u001b[0m \u001b[0mnp\u001b[0m\u001b[0;34m.\u001b[0m\u001b[0mndarray\u001b[0m\u001b[0;34m:\u001b[0m\u001b[0;34m\u001b[0m\u001b[0;34m\u001b[0m\u001b[0m\n",
      "\u001b[0;31mValueError\u001b[0m: The following columns are not in dataframe: ('',)"
     ]
    }
   ],
   "source": [
    "ab_test = ABTest(df, ab_params)\n",
    "ab_test_1 = ab_test.linearization()\n",
    "ab_test_2 = ab_test_1.cuped()"
   ]
  },
  {
   "cell_type": "code",
   "execution_count": null,
   "metadata": {},
   "outputs": [],
   "source": []
  },
  {
   "cell_type": "code",
   "execution_count": 258,
   "metadata": {},
   "outputs": [],
   "source": [
    "df_linear = pd.DataFrame(data={\n",
    "    'id': list(range(0, len(ab_test_1._ABTest__dataset.numerator_denominator), 1)),\n",
    "    'ratio_linear': ab_test_1._ABTest__dataset.numerator_denominator\n",
    "})"
   ]
  },
  {
   "cell_type": "code",
   "execution_count": 259,
   "metadata": {},
   "outputs": [
    {
     "data": {
      "text/html": [
       "<div>\n",
       "<style scoped>\n",
       "    .dataframe tbody tr th:only-of-type {\n",
       "        vertical-align: middle;\n",
       "    }\n",
       "\n",
       "    .dataframe tbody tr th {\n",
       "        vertical-align: top;\n",
       "    }\n",
       "\n",
       "    .dataframe thead th {\n",
       "        text-align: right;\n",
       "    }\n",
       "</style>\n",
       "<table border=\"1\" class=\"dataframe\">\n",
       "  <thead>\n",
       "    <tr style=\"text-align: right;\">\n",
       "      <th></th>\n",
       "      <th>id</th>\n",
       "      <th>groups</th>\n",
       "      <th>numerator</th>\n",
       "      <th>denominator</th>\n",
       "      <th>ratio_real</th>\n",
       "      <th>ratio_linear</th>\n",
       "    </tr>\n",
       "  </thead>\n",
       "  <tbody>\n",
       "    <tr>\n",
       "      <th>0</th>\n",
       "      <td>0</td>\n",
       "      <td>A</td>\n",
       "      <td>3</td>\n",
       "      <td>2</td>\n",
       "      <td>1.50</td>\n",
       "      <td>0.9978</td>\n",
       "    </tr>\n",
       "    <tr>\n",
       "      <th>1</th>\n",
       "      <td>1</td>\n",
       "      <td>B</td>\n",
       "      <td>1</td>\n",
       "      <td>4</td>\n",
       "      <td>0.25</td>\n",
       "      <td>-3.0044</td>\n",
       "    </tr>\n",
       "    <tr>\n",
       "      <th>2</th>\n",
       "      <td>2</td>\n",
       "      <td>A</td>\n",
       "      <td>2</td>\n",
       "      <td>2</td>\n",
       "      <td>1.00</td>\n",
       "      <td>-0.0022</td>\n",
       "    </tr>\n",
       "    <tr>\n",
       "      <th>3</th>\n",
       "      <td>3</td>\n",
       "      <td>B</td>\n",
       "      <td>3</td>\n",
       "      <td>2</td>\n",
       "      <td>1.50</td>\n",
       "      <td>0.9978</td>\n",
       "    </tr>\n",
       "    <tr>\n",
       "      <th>4</th>\n",
       "      <td>4</td>\n",
       "      <td>B</td>\n",
       "      <td>3</td>\n",
       "      <td>2</td>\n",
       "      <td>1.50</td>\n",
       "      <td>0.9978</td>\n",
       "    </tr>\n",
       "  </tbody>\n",
       "</table>\n",
       "</div>"
      ],
      "text/plain": [
       "   id groups  numerator  denominator  ratio_real  ratio_linear\n",
       "0   0      A          3            2        1.50        0.9978\n",
       "1   1      B          1            4        0.25       -3.0044\n",
       "2   2      A          2            2        1.00       -0.0022\n",
       "3   3      B          3            2        1.50        0.9978\n",
       "4   4      B          3            2        1.50        0.9978"
      ]
     },
     "execution_count": 259,
     "metadata": {},
     "output_type": "execute_result"
    }
   ],
   "source": [
    "df_grouped = df.groupby(by=['id', 'groups'], as_index=False).agg({\n",
    "                'numerator': 'sum',\n",
    "                'denominator': 'sum'\n",
    "            })\n",
    "df_grouped['ratio_real'] = df_grouped.numerator / df_grouped.denominator\n",
    "df_grouped = df_grouped.merge(df_linear, how='left', on='id')\n",
    "df_grouped.head()"
   ]
  },
  {
   "cell_type": "code",
   "execution_count": 260,
   "metadata": {},
   "outputs": [
    {
     "data": {
      "text/html": [
       "<div>\n",
       "<style scoped>\n",
       "    .dataframe tbody tr th:only-of-type {\n",
       "        vertical-align: middle;\n",
       "    }\n",
       "\n",
       "    .dataframe tbody tr th {\n",
       "        vertical-align: top;\n",
       "    }\n",
       "\n",
       "    .dataframe thead th {\n",
       "        text-align: right;\n",
       "    }\n",
       "</style>\n",
       "<table border=\"1\" class=\"dataframe\">\n",
       "  <thead>\n",
       "    <tr style=\"text-align: right;\">\n",
       "      <th></th>\n",
       "      <th>ratio_real</th>\n",
       "      <th>ratio_linear</th>\n",
       "    </tr>\n",
       "  </thead>\n",
       "  <tbody>\n",
       "    <tr>\n",
       "      <th>ratio_real</th>\n",
       "      <td>1.000000</td>\n",
       "      <td>0.901641</td>\n",
       "    </tr>\n",
       "    <tr>\n",
       "      <th>ratio_linear</th>\n",
       "      <td>0.901641</td>\n",
       "      <td>1.000000</td>\n",
       "    </tr>\n",
       "  </tbody>\n",
       "</table>\n",
       "</div>"
      ],
      "text/plain": [
       "              ratio_real  ratio_linear\n",
       "ratio_real      1.000000      0.901641\n",
       "ratio_linear    0.901641      1.000000"
      ]
     },
     "execution_count": 260,
     "metadata": {},
     "output_type": "execute_result"
    }
   ],
   "source": [
    "df_grouped[['ratio_real', 'ratio_linear']].corr()"
   ]
  },
  {
   "cell_type": "code",
   "execution_count": 223,
   "metadata": {},
   "outputs": [],
   "source": [
    "import seaborn as sns\n",
    "\n",
    "plt.rcParams.update({'font.size': 16})\n",
    "plt.figure(figsize=(10, 10))\n",
    "sns.scatterplot(data=df_grouped,\n",
    "            x='ratio_real', y='ratio_linear',\n",
    "            hue='groups', s=80)\n",
    "plt.legend()\n",
    "plt.xlabel('ratio_real', fontsize=16)\n",
    "plt.ylabel('ratio_linear', fontsize=16)\n",
    "# plt.show()\n",
    "plt.savefig('linearization.png', dpi=300, bbox_inches='tight')\n",
    "plt.close()"
   ]
  },
  {
   "cell_type": "code",
   "execution_count": 228,
   "metadata": {},
   "outputs": [
    {
     "data": {
      "text/plain": [
       "array(['linearization'], dtype='<U32')"
      ]
     },
     "execution_count": 228,
     "metadata": {},
     "output_type": "execute_result"
    }
   ],
   "source": [
    "ab_test_1.params.data_params.transforms"
   ]
  },
  {
   "cell_type": "code",
   "execution_count": 229,
   "metadata": {},
   "outputs": [
    {
     "data": {
      "text/plain": [
       "array([], dtype=float64)"
      ]
     },
     "execution_count": 229,
     "metadata": {},
     "output_type": "execute_result"
    }
   ],
   "source": [
    "ab_test.params.data_params.transforms"
   ]
  },
  {
   "cell_type": "code",
   "execution_count": 263,
   "metadata": {},
   "outputs": [
    {
     "name": "stdout",
     "output_type": "stream",
     "text": [
      "\n",
      "        Parameters of experiment:\n",
      "        - Metric: mean.\n",
      "        - Errors: alpha = 0.05, beta = 0.2.\n",
      "        - Alternative: two-sided.\n",
      "        \n",
      "        Control group:\n",
      "        - Observations: 99684\n",
      "        - Mean: 0.0000\n",
      "        - Median: -0.0027\n",
      "        - 25th quantile: -1.0040\n",
      "        - 75th quantile: 0.9985\n",
      "        - Minimum: -3.0094\n",
      "        - Maximum: 3.0029\n",
      "        \n",
      "        Treatment group:\n",
      "        - Observations: 100316\n",
      "        - Mean: 0.0011\n",
      "        - Median: -0.0027\n",
      "        - 25th quantile: -1.0039\n",
      "        - 75th quantile: 0.9985\n",
      "        - Minimum: -3.0093\n",
      "        - Maximum: 3.0033\n",
      "        \n",
      "        Transformations applied: linearization -> cuped.\n",
      "        Number of bootstrap iterations: 200. \n",
      "        \n",
      "        \n",
      "        Following statistical tests are used:\n",
      "        - Welch's t-test: 0.15, p-value = 0.8786, H0 is not rejected.\n",
      "        - Mann Whitney's U-test: 4998264011.00, p-value = 0.8961, H0 is not rejected.\n",
      "        - Bootstrap test: H0 is not rejected.\n",
      "        \n",
      "        All three stat. tests showed that H0 is not rejected.\n",
      "        \n"
     ]
    }
   ],
   "source": [
    "print(ab_test_2.report())"
   ]
  },
  {
   "cell_type": "markdown",
   "metadata": {},
   "source": [
    "# Кейс №11. Пайплайн как вызов цепочки методов"
   ]
  },
  {
   "cell_type": "code",
   "execution_count": 568,
   "metadata": {},
   "outputs": [],
   "source": [
    "data_params = DataParams(\n",
    "    id_col='id', \n",
    "    group_col='groups', \n",
    "    strata_col='country', \n",
    "    target='height_now', \n",
    "    target_flg='bought', \n",
    "    predictors=['weight_now'], \n",
    "    numerator='clicks', \n",
    "    denominator='sessions', \n",
    "    covariate='height_prev', \n",
    "    target_prev='height_prev', \n",
    "    predictors_prev=['weight_prev'], \n",
    "    is_grouped=False\n",
    ")\n",
    "\n",
    "hypothesis_params = HypothesisParams(\n",
    "    alpha=0.05, \n",
    "    beta=0.2, \n",
    "    alternative='two-sided', \n",
    "    strata='country', \n",
    "    strata_weights={1: 0.8, 2: 0.2}, \n",
    "    metric_type='solid', \n",
    "    metric_name='mean', \n",
    "    metric=np.mean, \n",
    "    n_boot_samples=100, \n",
    "    n_buckets=2000\n",
    ")\n",
    "\n",
    "ab_params = ABTestParams(data_params, hypothesis_params)"
   ]
  },
  {
   "cell_type": "code",
   "execution_count": 607,
   "metadata": {},
   "outputs": [],
   "source": [
    "df = pd.read_csv('./data/ab_data.csv')\n",
    "df['height_now'].where(df['groups'] == 'A',\n",
    "                       df['height_now'] * 1.003,\n",
    "                       axis=0,\n",
    "                       inplace=True)\n",
    "df['id'] = np.random.randint(0, 150_000, df.shape[0])\n",
    "df = df.drop_duplicates(['id'])"
   ]
  },
  {
   "cell_type": "code",
   "execution_count": 608,
   "metadata": {},
   "outputs": [],
   "source": [
    "ab_test = ABTest(df, ab_params).linearization().cuped().bucketing()"
   ]
  },
  {
   "cell_type": "code",
   "execution_count": 609,
   "metadata": {},
   "outputs": [
    {
     "data": {
      "text/plain": [
       "array(['linearization', 'cuped', 'bucketing'], dtype='<U32')"
      ]
     },
     "execution_count": 609,
     "metadata": {},
     "output_type": "execute_result"
    }
   ],
   "source": [
    "ab_test.params.data_params.transforms"
   ]
  },
  {
   "cell_type": "code",
   "execution_count": 610,
   "metadata": {},
   "outputs": [
    {
     "data": {
      "text/plain": [
       "{'stat': 46.02832859989284, 'p-value': 0.0, 'result': 1}"
      ]
     },
     "execution_count": 610,
     "metadata": {},
     "output_type": "execute_result"
    }
   ],
   "source": [
    "ab_test.test_welch()"
   ]
  },
  {
   "cell_type": "code",
   "execution_count": 611,
   "metadata": {},
   "outputs": [
    {
     "name": "stdout",
     "output_type": "stream",
     "text": [
      "\n",
      "        Parameters of experiment:\n",
      "        - Metric: mean.\n",
      "        - Errors: alpha = 0.05, beta = 0.2.\n",
      "        - Alternative: two-sided.\n",
      "        \n",
      "        Control group:\n",
      "        - Observations: 2000\n",
      "        - Mean: 0.0000\n",
      "        - Median: -0.0087\n",
      "        - 25th quantile: -0.2375\n",
      "        - 75th quantile: 0.2345\n",
      "        - Minimum: -0.9290\n",
      "        - Maximum: 1.3808\n",
      "        \n",
      "        Treatment group:\n",
      "        - Observations: 2000\n",
      "        - Mean: 0.5106\n",
      "        - Median: 0.5069\n",
      "        - 25th quantile: 0.2748\n",
      "        - 75th quantile: 0.7528\n",
      "        - Minimum: -0.6368\n",
      "        - Maximum: 1.6810\n",
      "        \n",
      "        Transformations applied: linearization -> cuped -> bucketing.\n",
      "        Number of bootstrap iterations: 100. \n",
      "        Number of buckets: 2000\n",
      "        \n",
      "        Following statistical tests are used:\n",
      "        - Welch's t-test: 46.03, p-value = 0.0000, H0 is rejected.\n",
      "        - Mann Whitney's U-test: 610126.00, p-value = 0.0000, H0 is rejected.\n",
      "        - Bootstrap test: H0 is rejected.\n",
      "        \n",
      "        All three stat. tests showed that H0 is rejected.\n",
      "        \n"
     ]
    }
   ],
   "source": [
    "ab_test.report()"
   ]
  },
  {
   "cell_type": "code",
   "execution_count": 612,
   "metadata": {},
   "outputs": [
    {
     "data": {
      "image/png": "[encoded data removed]",
      "text/plain": [
       "<Figure size 1440x864 with 1 Axes>"
      ]
     },
     "metadata": {
      "needs_background": "light"
     },
     "output_type": "display_data"
    }
   ],
   "source": [
    "ab_test.plot()"
   ]
  },
  {
   "cell_type": "markdown",
   "metadata": {},
   "source": [
    "# Кейс №12. Анализ эксперимента с помощью пост-стратификации"
   ]
  },
  {
   "cell_type": "code",
   "execution_count": 682,
   "metadata": {},
   "outputs": [
    {
     "data": {
      "text/html": [
       "<div>\n",
       "<style scoped>\n",
       "    .dataframe tbody tr th:only-of-type {\n",
       "        vertical-align: middle;\n",
       "    }\n",
       "\n",
       "    .dataframe tbody tr th {\n",
       "        vertical-align: top;\n",
       "    }\n",
       "\n",
       "    .dataframe thead th {\n",
       "        text-align: right;\n",
       "    }\n",
       "</style>\n",
       "<table border=\"1\" class=\"dataframe\">\n",
       "  <thead>\n",
       "    <tr style=\"text-align: right;\">\n",
       "      <th></th>\n",
       "      <th>height_now</th>\n",
       "      <th>height_prev</th>\n",
       "      <th>weight_now</th>\n",
       "      <th>weight_prev</th>\n",
       "      <th>noise_now</th>\n",
       "      <th>noise_prev</th>\n",
       "      <th>groups</th>\n",
       "      <th>id</th>\n",
       "      <th>moda_city</th>\n",
       "      <th>country</th>\n",
       "      <th>numerator</th>\n",
       "      <th>denominator</th>\n",
       "      <th>conversion</th>\n",
       "    </tr>\n",
       "  </thead>\n",
       "  <tbody>\n",
       "    <tr>\n",
       "      <th>0</th>\n",
       "      <td>186.470442</td>\n",
       "      <td>166.382868</td>\n",
       "      <td>163.648256</td>\n",
       "      <td>173.422115</td>\n",
       "      <td>5.644384</td>\n",
       "      <td>-1.923929</td>\n",
       "      <td>A</td>\n",
       "      <td>0</td>\n",
       "      <td>3</td>\n",
       "      <td>Spain</td>\n",
       "      <td>3</td>\n",
       "      <td>2</td>\n",
       "      <td>1</td>\n",
       "    </tr>\n",
       "    <tr>\n",
       "      <th>1</th>\n",
       "      <td>182.682229</td>\n",
       "      <td>173.386388</td>\n",
       "      <td>173.195935</td>\n",
       "      <td>180.831845</td>\n",
       "      <td>11.664751</td>\n",
       "      <td>2.711829</td>\n",
       "      <td>B</td>\n",
       "      <td>1</td>\n",
       "      <td>2</td>\n",
       "      <td>Spain</td>\n",
       "      <td>1</td>\n",
       "      <td>4</td>\n",
       "      <td>1</td>\n",
       "    </tr>\n",
       "    <tr>\n",
       "      <th>2</th>\n",
       "      <td>180.382301</td>\n",
       "      <td>178.563579</td>\n",
       "      <td>174.520065</td>\n",
       "      <td>181.571024</td>\n",
       "      <td>7.183178</td>\n",
       "      <td>-0.453939</td>\n",
       "      <td>A</td>\n",
       "      <td>2</td>\n",
       "      <td>3</td>\n",
       "      <td>France</td>\n",
       "      <td>2</td>\n",
       "      <td>2</td>\n",
       "      <td>1</td>\n",
       "    </tr>\n",
       "    <tr>\n",
       "      <th>3</th>\n",
       "      <td>182.039742</td>\n",
       "      <td>179.732080</td>\n",
       "      <td>175.731245</td>\n",
       "      <td>182.840388</td>\n",
       "      <td>-4.682656</td>\n",
       "      <td>6.358723</td>\n",
       "      <td>B</td>\n",
       "      <td>3</td>\n",
       "      <td>4</td>\n",
       "      <td>France</td>\n",
       "      <td>3</td>\n",
       "      <td>2</td>\n",
       "      <td>0</td>\n",
       "    </tr>\n",
       "    <tr>\n",
       "      <th>4</th>\n",
       "      <td>168.595582</td>\n",
       "      <td>167.684244</td>\n",
       "      <td>166.109779</td>\n",
       "      <td>170.189261</td>\n",
       "      <td>9.134517</td>\n",
       "      <td>-1.153977</td>\n",
       "      <td>B</td>\n",
       "      <td>4</td>\n",
       "      <td>2</td>\n",
       "      <td>France</td>\n",
       "      <td>3</td>\n",
       "      <td>2</td>\n",
       "      <td>1</td>\n",
       "    </tr>\n",
       "  </tbody>\n",
       "</table>\n",
       "</div>"
      ],
      "text/plain": [
       "   height_now  height_prev  weight_now  weight_prev  noise_now  noise_prev  \\\n",
       "0  186.470442   166.382868  163.648256   173.422115   5.644384   -1.923929   \n",
       "1  182.682229   173.386388  173.195935   180.831845  11.664751    2.711829   \n",
       "2  180.382301   178.563579  174.520065   181.571024   7.183178   -0.453939   \n",
       "3  182.039742   179.732080  175.731245   182.840388  -4.682656    6.358723   \n",
       "4  168.595582   167.684244  166.109779   170.189261   9.134517   -1.153977   \n",
       "\n",
       "  groups  id  moda_city country  numerator  denominator  conversion  \n",
       "0      A   0          3   Spain          3            2           1  \n",
       "1      B   1          2   Spain          1            4           1  \n",
       "2      A   2          3  France          2            2           1  \n",
       "3      B   3          4  France          3            2           0  \n",
       "4      B   4          2  France          3            2           1  "
      ]
     },
     "execution_count": 682,
     "metadata": {},
     "output_type": "execute_result"
    }
   ],
   "source": [
    "df = pd.read_csv('./data/ab_data.csv')\n",
    "df['height_now'].where(df['groups'] == 'A',\n",
    "                       df['height_now'] * 1.006,\n",
    "                       axis=0,\n",
    "                       inplace=True)\n",
    "# df['id'] = np.random.randint(0, 150_000, df.shape[0])\n",
    "# df = df.drop_duplicates(['id'])\n",
    "\n",
    "df.loc[df.country == 1, 'country'] = 'France'\n",
    "df.loc[df.country == 2, 'country'] = 'Spain'\n",
    "\n",
    "df.loc[df.country == 'Spain', 'height_now'] = df.loc[df.country == 'Spain', \n",
    "                                                     'height_now'] + np.random.randint(0, 20, df.loc[df.country == 'Spain'].shape[0])\n",
    "\n",
    "df.head()"
   ]
  },
  {
   "cell_type": "code",
   "execution_count": 684,
   "metadata": {},
   "outputs": [
    {
     "data": {
      "text/plain": [
       "array(['Spain', 'France'], dtype=object)"
      ]
     },
     "execution_count": 684,
     "metadata": {},
     "output_type": "execute_result"
    }
   ],
   "source": [
    "df.country.unique()"
   ]
  },
  {
   "cell_type": "code",
   "execution_count": 685,
   "metadata": {},
   "outputs": [
    {
     "data": {
      "text/plain": [
       "Spain     100211\n",
       "France     99789\n",
       "Name: country, dtype: int64"
      ]
     },
     "execution_count": 685,
     "metadata": {},
     "output_type": "execute_result"
    }
   ],
   "source": [
    "df.country.value_counts()"
   ]
  },
  {
   "cell_type": "code",
   "execution_count": 707,
   "metadata": {},
   "outputs": [
    {
     "data": {
      "text/html": [
       "<div>\n",
       "<style scoped>\n",
       "    .dataframe tbody tr th:only-of-type {\n",
       "        vertical-align: middle;\n",
       "    }\n",
       "\n",
       "    .dataframe tbody tr th {\n",
       "        vertical-align: top;\n",
       "    }\n",
       "\n",
       "    .dataframe thead th {\n",
       "        text-align: right;\n",
       "    }\n",
       "</style>\n",
       "<table border=\"1\" class=\"dataframe\">\n",
       "  <thead>\n",
       "    <tr style=\"text-align: right;\">\n",
       "      <th></th>\n",
       "      <th></th>\n",
       "      <th>mean</th>\n",
       "      <th>count</th>\n",
       "      <th>var</th>\n",
       "    </tr>\n",
       "    <tr>\n",
       "      <th>groups</th>\n",
       "      <th>country</th>\n",
       "      <th></th>\n",
       "      <th></th>\n",
       "      <th></th>\n",
       "    </tr>\n",
       "  </thead>\n",
       "  <tbody>\n",
       "    <tr>\n",
       "      <th rowspan=\"2\" valign=\"top\">A</th>\n",
       "      <th>France</th>\n",
       "      <td>174.990129</td>\n",
       "      <td>49627</td>\n",
       "      <td>24.823831</td>\n",
       "    </tr>\n",
       "    <tr>\n",
       "      <th>Spain</th>\n",
       "      <td>184.513655</td>\n",
       "      <td>50057</td>\n",
       "      <td>58.111197</td>\n",
       "    </tr>\n",
       "    <tr>\n",
       "      <th rowspan=\"2\" valign=\"top\">B</th>\n",
       "      <th>France</th>\n",
       "      <td>176.038852</td>\n",
       "      <td>50162</td>\n",
       "      <td>25.099130</td>\n",
       "    </tr>\n",
       "    <tr>\n",
       "      <th>Spain</th>\n",
       "      <td>185.527235</td>\n",
       "      <td>50154</td>\n",
       "      <td>58.122163</td>\n",
       "    </tr>\n",
       "  </tbody>\n",
       "</table>\n",
       "</div>"
      ],
      "text/plain": [
       "                      mean  count        var\n",
       "groups country                              \n",
       "A      France   174.990129  49627  24.823831\n",
       "       Spain    184.513655  50057  58.111197\n",
       "B      France   176.038852  50162  25.099130\n",
       "       Spain    185.527235  50154  58.122163"
      ]
     },
     "execution_count": 707,
     "metadata": {},
     "output_type": "execute_result"
    }
   ],
   "source": [
    "df.groupby(['groups', 'country']).height_now.agg(['mean', 'count', 'var'])"
   ]
  },
  {
   "cell_type": "code",
   "execution_count": 714,
   "metadata": {},
   "outputs": [],
   "source": [
    "data_params = DataParams(\n",
    "    id_col='id', \n",
    "    group_col='groups', \n",
    "    strata_col='country', \n",
    "    target='height_now', \n",
    "    target_flg='bought', \n",
    "    predictors=['weight_now'], \n",
    "    numerator='clicks', \n",
    "    denominator='sessions', \n",
    "    covariate='height_prev', \n",
    "    target_prev='height_prev', \n",
    "    predictors_prev=['weight_prev'], \n",
    "    is_grouped=False\n",
    ")\n",
    "\n",
    "hypothesis_params = HypothesisParams(\n",
    "    alpha=0.05, \n",
    "    beta=0.2, \n",
    "    alternative='greater', \n",
    "    strata='country', \n",
    "    strata_weights={'Spain': 0.4, 'France': 0.6}, \n",
    "    metric_type='solid', \n",
    "    metric_name='mean', \n",
    "    metric=np.mean, \n",
    "    n_boot_samples=200, \n",
    "    n_buckets=2000\n",
    ")\n",
    "\n",
    "ab_params = ABTestParams(data_params, hypothesis_params)"
   ]
  },
  {
   "cell_type": "code",
   "execution_count": 715,
   "metadata": {},
   "outputs": [],
   "source": [
    "ab_test = ABTest(df, ab_params)"
   ]
  },
  {
   "cell_type": "code",
   "execution_count": 716,
   "metadata": {},
   "outputs": [
    {
     "name": "stdout",
     "output_type": "stream",
     "text": [
      "179.77243247420418\n",
      "178.79701798299263\n",
      "180.7826649825664\n",
      "179.80483243247767\n",
      "SRS\n",
      "1.0363\n",
      "0.0007\n",
      "PS\n",
      "1.0094\n",
      "0.0011\n",
      "Relation\n",
      "1.0266\n",
      "0.6634\n"
     ]
    },
    {
     "data": {
      "text/plain": [
       "{'stat': None, 'p-value': None, 'result': 1}"
      ]
     },
     "execution_count": 716,
     "metadata": {},
     "output_type": "execute_result"
    }
   ],
   "source": [
    "ab_test.test_post_strat_confint()"
   ]
  },
  {
   "cell_type": "code",
   "execution_count": null,
   "metadata": {},
   "outputs": [],
   "source": []
  }
 ],
 "metadata": {
  "kernelspec": {
   "display_name": "Python 3",
   "language": "python",
   "name": "python3"
  },
  "language_info": {
   "codemirror_mode": {
    "name": "ipython",
    "version": 3
   },
   "file_extension": ".py",
   "mimetype": "text/x-python",
   "name": "python",
   "nbconvert_exporter": "python",
   "pygments_lexer": "ipython3",
   "version": "3.7.8"
  },
  "vscode": {
   "interpreter": {
    "hash": "626acd8304246c39c892b04a088b1f86fa4d1e9c8375290e6951e511351ad7f7"
   }
  }
 },
 "nbformat": 4,
 "nbformat_minor": 5
}
