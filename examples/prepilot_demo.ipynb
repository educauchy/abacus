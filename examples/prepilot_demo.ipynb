{
 "cells": [
  {
   "cell_type": "code",
   "execution_count": 1,
   "metadata": {},
   "outputs": [],
   "source": [
    "import warnings\n",
    "warnings.filterwarnings('ignore')\n",
    "\n",
    "import os\n",
    "import sys\n",
    "import logging\n",
    "import pandas as pd\n",
    "import numpy as np\n",
    "import yaml\n",
    "\n",
    "sys.path.append(os.path.dirname(os.path.abspath('')))\n",
    "\n",
    "from auto_ab.splitter.params import SplitBuilderParams\n",
    "from auto_ab.prepilot.params import PrepilotParams\n",
    "from auto_ab.prepilot.prepilot_experiment_builder import PrepilotExperimentBuilder\n",
    "from auto_ab.prepilot.prepilot_split_builder import PrepilotSplitBuilder\n",
    "from auto_ab.auto_ab.abtest import ABTest\n",
    "from auto_ab.auto_ab.params import ABTestParams\n",
    "\n",
    "logging.basicConfig(level = logging.INFO)\n",
    "\n",
    "%load_ext autoreload\n",
    "%autoreload 2"
   ]
  },
  {
   "cell_type": "code",
   "execution_count": 2,
   "metadata": {},
   "outputs": [],
   "source": [
    "df = pd.read_csv('./data/ab_data.csv')\n",
    "\n",
    "with open(\"./config/prepilot_demo_config.yaml\", \"r\") as stream:\n",
    "    try:\n",
    "        ab_config = yaml.safe_load(stream)\n",
    "    except yaml.YAMLError as exc:\n",
    "        print(exc)"
   ]
  },
  {
   "cell_type": "code",
   "execution_count": 3,
   "metadata": {},
   "outputs": [],
   "source": [
    "from auto_ab.auto_ab.params import DataParams, HypothesisParams\n",
    "\n",
    "data_params = DataParams(\n",
    "    id_col='id', \n",
    "    group_col='groups',\n",
    "    control_name='control',\n",
    "    treatment_name='target',\n",
    "    strata_col='country', \n",
    "    target='height_now', \n",
    "    target_flg='bought', \n",
    "    predictors=['weight_now'], \n",
    "    numerator='clicks', \n",
    "    denominator='sessions', \n",
    "    covariate='height_prev', \n",
    "    target_prev='height_prev', \n",
    "    predictors_prev=['weight_prev'], \n",
    "    cluster_col='kl-divergence', \n",
    "    clustering_cols=['col1', 'col2', 'col3'], \n",
    "    is_grouped=True\n",
    ")\n",
    "\n",
    "hypothesis_params = HypothesisParams(\n",
    "    alpha=0.05, \n",
    "    beta=0.2, \n",
    "    alternative='two-sided', \n",
    "    split_ratios=(0.5, 0.5), \n",
    "    strategy='simple_test', \n",
    "    strata='country', \n",
    "    strata_weights={'US': 0.8, 'UK': 0.2}, \n",
    "    metric_type='solid', \n",
    "    metric_name='mean', \n",
    "    metric=np.mean, \n",
    "    n_boot_samples=200, \n",
    "    n_buckets=50\n",
    ")\n",
    "\n",
    "ab_params = ABTestParams(data_params, hypothesis_params)"
   ]
  },
  {
   "cell_type": "code",
   "execution_count": 4,
   "metadata": {},
   "outputs": [],
   "source": [
    "split_builder_params = SplitBuilderParams(\n",
    "    map_group_names_to_sizes={\n",
    "        'control': None,\n",
    "        'target': None\n",
    "    },\n",
    "    main_strata_col = \"moda_city\",\n",
    "    split_metric_col = \"height_now\",\n",
    "    id_col = \"id\",\n",
    "    cols = [\"height_prev\"],\n",
    "    cat_cols=[\"country\"],\n",
    "    pvalue=0.05,\n",
    "    n_top_cat=5,\n",
    "    stat_test=\"ttest_ind\",\n",
    "    n_bins_rto = 6,\n",
    "    bin_min_size = 500\n",
    ")"
   ]
  },
  {
   "cell_type": "markdown",
   "metadata": {},
   "source": [
    "# Кейс №7. Препилот для числовой переменной"
   ]
  },
  {
   "cell_type": "code",
   "execution_count": 5,
   "metadata": {},
   "outputs": [],
   "source": [
    "prepilot_params = PrepilotParams(\n",
    "    metrics_names=['height_now'],\n",
    "    injects=[1.0001,1.0002,1.0003],\n",
    "    min_group_size=35000, \n",
    "    max_group_size=50000, \n",
    "    step=5000,\n",
    "    variance_reduction = None,\n",
    "    use_buckets = False,\n",
    "    stat_test = ABTest.test_hypothesis_boot_confint,\n",
    "    iterations_number = 10,\n",
    "    max_beta_score=0.9,\n",
    "    min_beta_score=0.02,\n",
    ")"
   ]
  },
  {
   "cell_type": "code",
   "execution_count": 6,
   "metadata": {},
   "outputs": [],
   "source": [
    "prepilot = PrepilotExperimentBuilder(df, ab_params,\n",
    "                                     prepilot_params,\n",
    "                                     split_builder_params)"
   ]
  },
  {
   "cell_type": "code",
   "execution_count": 7,
   "metadata": {
    "scrolled": true
   },
   "outputs": [],
   "source": [
    "beta,alpha = prepilot.collect()"
   ]
  },
  {
   "cell_type": "code",
   "execution_count": 8,
   "metadata": {},
   "outputs": [
    {
     "data": {
      "text/html": [
       "<div>\n",
       "<style scoped>\n",
       "    .dataframe tbody tr th:only-of-type {\n",
       "        vertical-align: middle;\n",
       "    }\n",
       "\n",
       "    .dataframe tbody tr th {\n",
       "        vertical-align: top;\n",
       "    }\n",
       "\n",
       "    .dataframe thead th {\n",
       "        text-align: right;\n",
       "    }\n",
       "</style>\n",
       "<table border=\"1\" class=\"dataframe\">\n",
       "  <thead>\n",
       "    <tr style=\"text-align: right;\">\n",
       "      <th></th>\n",
       "      <th>split_rate</th>\n",
       "      <th>(35000, 35000)</th>\n",
       "      <th>(40000, 40000)</th>\n",
       "      <th>(45000, 45000)</th>\n",
       "      <th>(50000, 50000)</th>\n",
       "    </tr>\n",
       "    <tr>\n",
       "      <th>metric</th>\n",
       "      <th>MDE</th>\n",
       "      <th></th>\n",
       "      <th></th>\n",
       "      <th></th>\n",
       "      <th></th>\n",
       "    </tr>\n",
       "  </thead>\n",
       "  <tbody>\n",
       "    <tr>\n",
       "      <th rowspan=\"3\" valign=\"top\">height_now</th>\n",
       "      <th>0.01%</th>\n",
       "      <td>&gt;=0.9</td>\n",
       "      <td>&gt;=0.9</td>\n",
       "      <td>&gt;=0.9</td>\n",
       "      <td>&gt;=0.9</td>\n",
       "    </tr>\n",
       "    <tr>\n",
       "      <th>0.02%</th>\n",
       "      <td>&gt;=0.9</td>\n",
       "      <td>&gt;=0.9</td>\n",
       "      <td>&gt;=0.9</td>\n",
       "      <td>&gt;=0.9</td>\n",
       "    </tr>\n",
       "    <tr>\n",
       "      <th>0.03%</th>\n",
       "      <td>0.8</td>\n",
       "      <td>&gt;=0.9</td>\n",
       "      <td>&gt;=0.9</td>\n",
       "      <td>0.7</td>\n",
       "    </tr>\n",
       "  </tbody>\n",
       "</table>\n",
       "</div>"
      ],
      "text/plain": [
       "split_rate       (35000, 35000) (40000, 40000) (45000, 45000) (50000, 50000)\n",
       "metric     MDE                                                              \n",
       "height_now 0.01%          >=0.9          >=0.9          >=0.9          >=0.9\n",
       "           0.02%          >=0.9          >=0.9          >=0.9          >=0.9\n",
       "           0.03%            0.8          >=0.9          >=0.9            0.7"
      ]
     },
     "execution_count": 8,
     "metadata": {},
     "output_type": "execute_result"
    }
   ],
   "source": [
    "beta"
   ]
  },
  {
   "cell_type": "code",
   "execution_count": 9,
   "metadata": {},
   "outputs": [
    {
     "data": {
      "text/html": [
       "<div>\n",
       "<style scoped>\n",
       "    .dataframe tbody tr th:only-of-type {\n",
       "        vertical-align: middle;\n",
       "    }\n",
       "\n",
       "    .dataframe tbody tr th {\n",
       "        vertical-align: top;\n",
       "    }\n",
       "\n",
       "    .dataframe thead th {\n",
       "        text-align: right;\n",
       "    }\n",
       "</style>\n",
       "<table border=\"1\" class=\"dataframe\">\n",
       "  <thead>\n",
       "    <tr style=\"text-align: right;\">\n",
       "      <th>split_rate</th>\n",
       "      <th>(35000, 35000)</th>\n",
       "      <th>(40000, 40000)</th>\n",
       "      <th>(45000, 45000)</th>\n",
       "      <th>(50000, 50000)</th>\n",
       "    </tr>\n",
       "    <tr>\n",
       "      <th>metric</th>\n",
       "      <th></th>\n",
       "      <th></th>\n",
       "      <th></th>\n",
       "      <th></th>\n",
       "    </tr>\n",
       "  </thead>\n",
       "  <tbody>\n",
       "    <tr>\n",
       "      <th>height_now</th>\n",
       "      <td>0.0</td>\n",
       "      <td>0.0</td>\n",
       "      <td>0.0</td>\n",
       "      <td>0.0</td>\n",
       "    </tr>\n",
       "  </tbody>\n",
       "</table>\n",
       "</div>"
      ],
      "text/plain": [
       "split_rate  (35000, 35000)  (40000, 40000)  (45000, 45000)  (50000, 50000)\n",
       "metric                                                                    \n",
       "height_now             0.0             0.0             0.0             0.0"
      ]
     },
     "execution_count": 9,
     "metadata": {},
     "output_type": "execute_result"
    }
   ],
   "source": [
    "alpha"
   ]
  },
  {
   "cell_type": "markdown",
   "metadata": {},
   "source": [
    "# Кейс №8.  Препилот для числовой переменной со снижением дисперсии"
   ]
  },
  {
   "cell_type": "code",
   "execution_count": null,
   "metadata": {},
   "outputs": [],
   "source": [
    "prepilot_params = PrepilotParams(\n",
    "    metrics_names=['height_now'],\n",
    "    injects=[1.0001,1.0002,1.0003,1.0004,1.00042,1.00044,1.00046,1.00048,1.0005,1.001],\n",
    "    min_group_size=35000, \n",
    "    max_group_size=45000, \n",
    "    step=5000,\n",
    "    variance_reduction = ABTest.cuped,\n",
    "    use_buckets = False,\n",
    "    stat_test = ABTest.test_hypothesis_boot_confint,\n",
    "    iterations_number = 50,\n",
    "    max_beta_score=0.9,\n",
    "    min_beta_score=0.02,\n",
    ")"
   ]
  },
  {
   "cell_type": "code",
   "execution_count": null,
   "metadata": {},
   "outputs": [],
   "source": [
    "prepilot = PrepilotExperimentBuilder(df, ab_params,\n",
    "                                     prepilot_params,\n",
    "                                     split_builder_params)"
   ]
  },
  {
   "cell_type": "code",
   "execution_count": null,
   "metadata": {},
   "outputs": [],
   "source": [
    "beta,alpha = prepilot.collect()"
   ]
  },
  {
   "cell_type": "code",
   "execution_count": null,
   "metadata": {},
   "outputs": [],
   "source": [
    "beta"
   ]
  },
  {
   "cell_type": "code",
   "execution_count": null,
   "metadata": {},
   "outputs": [],
   "source": [
    "alpha"
   ]
  },
  {
   "cell_type": "markdown",
   "metadata": {},
   "source": [
    "# Кейс №9. Препилот для бинарной переменной"
   ]
  },
  {
   "cell_type": "code",
   "execution_count": null,
   "metadata": {},
   "outputs": [],
   "source": [
    "df = pd.read_csv('ab_data.csv')"
   ]
  },
  {
   "cell_type": "code",
   "execution_count": null,
   "metadata": {},
   "outputs": [],
   "source": [
    "data_params = DataParams(\n",
    "    id_col='id', \n",
    "    group_col='groups', \n",
    "    strata_col='country', \n",
    "    target='conversion', \n",
    "    target_flg='bought', \n",
    "    predictors=['weight_now'], \n",
    "    numerator='clicks', \n",
    "    denominator='sessions', \n",
    "    covariate='height_prev', \n",
    "    target_prev='height_prev', \n",
    "    predictors_prev=['weight_prev'], \n",
    "    cluster_col='kl-divergence', \n",
    "    clustering_cols=['col1', 'col2', 'col3'], \n",
    "    is_grouped=True\n",
    ")\n",
    "\n",
    "ab_params = ABTestParams(data_params,simulation_params,hypothesis_params,result_params,splitter_params)"
   ]
  },
  {
   "cell_type": "code",
   "execution_count": null,
   "metadata": {},
   "outputs": [],
   "source": [
    "split_builder_params = SplitBuilderParams(\n",
    "    map_group_names_to_sizes={\n",
    "        'control': None,\n",
    "        'target': None\n",
    "    },\n",
    "    region_col = \"moda_city\",\n",
    "    split_metric_col = \"conversion\",\n",
    "    customer_col = \"id\",\n",
    "    cols = [],\n",
    "    cat_cols=[\n",
    "        \n",
    "    ],\n",
    "    pvalue=0.05,\n",
    "    n_top_cat=100,\n",
    "    stat_test=\"ttest_ind\"\n",
    ")"
   ]
  },
  {
   "cell_type": "code",
   "execution_count": null,
   "metadata": {},
   "outputs": [],
   "source": [
    "prepilot_params = PrepilotParams(\n",
    "    metrics_names=['conversion'],\n",
    "    injects=[1.001,1.002,1.0022,1.0024,1.0026,1.0028,1.003,1.005,1.01],\n",
    "    min_group_size=35000, \n",
    "    max_group_size=55000, \n",
    "    step=5000,\n",
    "    variance_reduction = None,\n",
    "    use_buckets = False,\n",
    "    stat_test = ABTest.test_hypothesis_boot_confint,\n",
    "    iterations_number = 50,\n",
    "    max_beta_score=0.9,\n",
    "    min_beta_score=0.01,\n",
    ")\n",
    "\n",
    "ab_params = ABTestParams(data_params,simulation_params,hypothesis_params,result_params,splitter_params)"
   ]
  },
  {
   "cell_type": "code",
   "execution_count": null,
   "metadata": {},
   "outputs": [],
   "source": [
    "prepilot = PrepilotExperimentBuilder(df, ab_params,\n",
    "                                     prepilot_params,\n",
    "                                     split_builder_params)"
   ]
  },
  {
   "cell_type": "code",
   "execution_count": null,
   "metadata": {},
   "outputs": [],
   "source": [
    "beta,alpha = prepilot.collect()"
   ]
  },
  {
   "cell_type": "code",
   "execution_count": null,
   "metadata": {},
   "outputs": [],
   "source": [
    "beta"
   ]
  },
  {
   "cell_type": "code",
   "execution_count": null,
   "metadata": {},
   "outputs": [],
   "source": [
    "alpha"
   ]
  }
 ],
 "metadata": {
  "kernelspec": {
   "display_name": "base",
   "language": "python",
   "name": "python3"
  },
  "language_info": {
   "codemirror_mode": {
    "name": "ipython",
    "version": 3
   },
   "file_extension": ".py",
   "mimetype": "text/x-python",
   "name": "python",
   "nbconvert_exporter": "python",
   "pygments_lexer": "ipython3",
   "version": "3.9.7"
  },
  "vscode": {
   "interpreter": {
    "hash": "626acd8304246c39c892b04a088b1f86fa4d1e9c8375290e6951e511351ad7f7"
   }
  }
 },
 "nbformat": 4,
 "nbformat_minor": 2
}
