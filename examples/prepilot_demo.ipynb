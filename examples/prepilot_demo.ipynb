{
 "cells": [
  {
   "cell_type": "code",
   "execution_count": null,
   "metadata": {},
   "outputs": [],
   "source": [
    "import warnings\n",
    "warnings.filterwarnings('ignore')\n",
    "\n",
    "import os\n",
    "import sys\n",
    "import logging\n",
    "import pandas as pd\n",
    "import numpy as np\n",
    "import yaml\n",
    "\n",
    "#sys.path.append(os.path.dirname(os.path.abspath('')))\n",
    "sys.path.append('../')\n",
    "\n",
    "from abacus.splitter.params import SplitBuilderParams\n",
    "from abacus.mde_researcher.params import MdeParams\n",
    "from abacus.mde_researcher.mde_research_builder import MdeResearchBuilder\n",
    "from abacus.mde_researcher.multiple_split_builder import MultipleSplitBuilder\n",
    "from abacus.auto_ab.abtest import ABTest\n",
    "from abacus.auto_ab.params import ABTestParams\n",
    "from abacus.auto_ab.params import DataParams, HypothesisParams\n",
    "\n",
    "logging.basicConfig(level = logging.INFO)\n",
    "\n",
    "%load_ext autoreload\n",
    "%autoreload 2"
   ]
  },
  {
   "cell_type": "code",
   "execution_count": null,
   "metadata": {},
   "outputs": [],
   "source": [
    "df = pd.read_csv('./data/ab_data.csv')\n",
    "\n",
    "with open(\"./config/prepilot_demo_config.yaml\", \"r\") as stream:\n",
    "    try:\n",
    "        ab_config = yaml.safe_load(stream)\n",
    "    except yaml.YAMLError as exc:\n",
    "        print(exc)"
   ]
  },
  {
   "cell_type": "code",
   "execution_count": null,
   "metadata": {},
   "outputs": [],
   "source": [
    "data_params = DataParams(\n",
    "    id_col='id', \n",
    "    group_col='groups',\n",
    "    control_name='control',\n",
    "    treatment_name='target',\n",
    "    strata_col='country', \n",
    "    target='height_now', \n",
    "    target_flg='bought', \n",
    "    predictors=['weight_now'], \n",
    "    numerator='clicks', \n",
    "    denominator='sessions', \n",
    "    covariate='height_prev', \n",
    "    target_prev='height_prev', \n",
    "    predictors_prev=['weight_prev'], \n",
    "    cluster_col='kl-divergence', \n",
    "    clustering_cols=['col1', 'col2', 'col3'], \n",
    "    is_grouped=True\n",
    ")\n",
    "\n",
    "hypothesis_params = HypothesisParams(\n",
    "    alpha=0.05, \n",
    "    beta=0.2, \n",
    "    alternative='two-sided', \n",
    "    split_ratios=(0.5, 0.5), \n",
    "    strategy='simple_test', \n",
    "    strata='country', \n",
    "    strata_weights={'US': 0.8, 'UK': 0.2}, \n",
    "    metric_type='solid', \n",
    "    metric_name='mean', \n",
    "    metric=np.mean, \n",
    "    n_boot_samples=200, \n",
    "    n_buckets=50\n",
    ")\n",
    "\n",
    "ab_params = ABTestParams(data_params, hypothesis_params)"
   ]
  },
  {
   "cell_type": "code",
   "execution_count": null,
   "metadata": {},
   "outputs": [],
   "source": [
    "split_builder_params = SplitBuilderParams(\n",
    "    map_group_names_to_sizes={\n",
    "        'control': None,\n",
    "        'target': None\n",
    "    },\n",
    "    main_strata_col = \"moda_city\",\n",
    "    split_metric_col = \"height_now\",\n",
    "    id_col = \"id\",\n",
    "    cols = [\"height_prev\"],\n",
    "    cat_cols=[\"country\"],\n",
    "    pvalue=0.05,\n",
    "    n_bins = 6,\n",
    "    min_cluster_size = 500\n",
    ")"
   ]
  },
  {
   "cell_type": "markdown",
   "metadata": {},
   "source": [
    "# Кейс №7. Препилот для числовой переменной"
   ]
  },
  {
   "cell_type": "code",
   "execution_count": null,
   "metadata": {},
   "outputs": [],
   "source": [
    "prepilot_params = MdeParams(\n",
    "    metrics_names=['height_now'],\n",
    "    injects=[1.0001,1.0002,1.0003],\n",
    "    min_group_size=35000, \n",
    "    max_group_size=50000, \n",
    "    step=5000,\n",
    "    variance_reduction = None,\n",
    "    use_buckets = False,\n",
    "    stat_test = ABTest.test_boot_confint,\n",
    "    iterations_number = 10,\n",
    "    max_beta_score=0.9,\n",
    "    min_beta_score=0.02,\n",
    ")"
   ]
  },
  {
   "cell_type": "code",
   "execution_count": null,
   "metadata": {},
   "outputs": [],
   "source": [
    "prepilot = MdeResearchBuilder(df, ab_params,\n",
    "                                     prepilot_params,\n",
    "                                     split_builder_params)"
   ]
  },
  {
   "cell_type": "code",
   "execution_count": null,
   "metadata": {
    "scrolled": true
   },
   "outputs": [],
   "source": [
    "beta,alpha = prepilot.collect()"
   ]
  },
  {
   "cell_type": "code",
   "execution_count": null,
   "metadata": {},
   "outputs": [],
   "source": [
    "beta"
   ]
  },
  {
   "cell_type": "code",
   "execution_count": null,
   "metadata": {},
   "outputs": [],
   "source": [
    "alpha"
   ]
  },
  {
   "cell_type": "markdown",
   "metadata": {},
   "source": [
    "# Кейс №8.  Препилот для числовой переменной со снижением дисперсии"
   ]
  },
  {
   "cell_type": "code",
   "execution_count": null,
   "metadata": {},
   "outputs": [],
   "source": [
    "prepilot_params = MdeParams(\n",
    "    metrics_names=['height_now'],\n",
    "    injects=[1.0001,1.0002,1.0003,1.0004,1.00042,1.00044,1.00046,1.00048,1.0005,1.001],\n",
    "    min_group_size=35000, \n",
    "    max_group_size=45000, \n",
    "    step=5000,\n",
    "    variance_reduction = ABTest.cuped,\n",
    "    use_buckets = False,\n",
    "    stat_test = ABTest.test_boot_confint,\n",
    "    iterations_number = 50,\n",
    "    max_beta_score=0.9,\n",
    "    min_beta_score=0.02,\n",
    ")"
   ]
  },
  {
   "cell_type": "code",
   "execution_count": null,
   "metadata": {},
   "outputs": [],
   "source": [
    "prepilot = MdeResearchBuilder(df, ab_params,\n",
    "                                     prepilot_params,\n",
    "                                     split_builder_params)"
   ]
  },
  {
   "cell_type": "code",
   "execution_count": null,
   "metadata": {},
   "outputs": [],
   "source": [
    "beta,alpha = prepilot.collect()"
   ]
  },
  {
   "cell_type": "code",
   "execution_count": null,
   "metadata": {},
   "outputs": [],
   "source": [
    "beta"
   ]
  },
  {
   "cell_type": "code",
   "execution_count": null,
   "metadata": {},
   "outputs": [],
   "source": [
    "alpha"
   ]
  },
  {
   "cell_type": "markdown",
   "metadata": {},
   "source": [
    "# Кейс №9. Препилот для бинарной переменной"
   ]
  },
  {
   "cell_type": "code",
   "execution_count": null,
   "metadata": {},
   "outputs": [],
   "source": [
    "df = pd.read_csv('./data/ab_data.csv')"
   ]
  },
  {
   "cell_type": "code",
   "execution_count": null,
   "metadata": {},
   "outputs": [],
   "source": [
    "data_params = DataParams(\n",
    "    id_col='id', \n",
    "    group_col='groups', \n",
    "    strata_col='country', \n",
    "    target='conversion', \n",
    "    target_flg='bought', \n",
    "    predictors=['weight_now'], \n",
    "    numerator='clicks', \n",
    "    denominator='sessions', \n",
    "    covariate='height_prev', \n",
    "    target_prev='height_prev', \n",
    "    predictors_prev=['weight_prev'], \n",
    "    cluster_col='kl-divergence', \n",
    "    clustering_cols=['col1', 'col2', 'col3'], \n",
    "    is_grouped=True\n",
    ")\n",
    "\n",
    "ab_params = ABTestParams(data_params,hypothesis_params)"
   ]
  },
  {
   "cell_type": "code",
   "execution_count": null,
   "metadata": {},
   "outputs": [],
   "source": [
    "split_builder_params = SplitBuilderParams(\n",
    "    map_group_names_to_sizes={\n",
    "        'control': None,\n",
    "        'target': None\n",
    "    },\n",
    "    main_strata_col = \"moda_city\",\n",
    "    split_metric_col = \"height_now\",\n",
    "    id_col = \"id\",\n",
    "    cols = [\"height_prev\"],\n",
    "    cat_cols=[\"country\"],\n",
    "    pvalue=0.05,\n",
    "    n_bins = 6,\n",
    "    min_cluster_size = 500\n",
    ")"
   ]
  },
  {
   "cell_type": "code",
   "execution_count": null,
   "metadata": {},
   "outputs": [],
   "source": [
    "prepilot_params = MdeParams(\n",
    "    metrics_names=['conversion'],\n",
    "    injects=[1.001,1.002,1.0022,1.0024,1.0026,1.0028,1.003,1.005,1.01],\n",
    "    min_group_size=35000, \n",
    "    max_group_size=55000, \n",
    "    step=5000,\n",
    "    variance_reduction = None,\n",
    "    use_buckets = False,\n",
    "    stat_test = ABTest.test_boot_confint,\n",
    "    iterations_number = 50,\n",
    "    max_beta_score=0.9,\n",
    "    min_beta_score=0.01,\n",
    ")\n",
    "\n",
    "ab_params = ABTestParams(data_params, hypothesis_params)"
   ]
  },
  {
   "cell_type": "code",
   "execution_count": null,
   "metadata": {},
   "outputs": [],
   "source": [
    "prepilot = MdeResearchBuilder(df, ab_params,\n",
    "                                     prepilot_params,\n",
    "                                     split_builder_params)"
   ]
  },
  {
   "cell_type": "code",
   "execution_count": null,
   "metadata": {},
   "outputs": [],
   "source": [
    "beta,alpha = prepilot.collect()"
   ]
  },
  {
   "cell_type": "code",
   "execution_count": null,
   "metadata": {},
   "outputs": [],
   "source": [
    "beta"
   ]
  },
  {
   "cell_type": "code",
   "execution_count": null,
   "metadata": {},
   "outputs": [],
   "source": [
    "alpha"
   ]
  },
  {
   "cell_type": "code",
   "execution_count": null,
   "metadata": {},
   "outputs": [],
   "source": []
  }
 ],
 "metadata": {
  "kernelspec": {
   "display_name": "Python 3 (ipykernel)",
   "language": "python",
   "name": "python3"
  },
  "language_info": {
   "codemirror_mode": {
    "name": "ipython",
    "version": 3
   },
   "file_extension": ".py",
   "mimetype": "text/x-python",
   "name": "python",
   "nbconvert_exporter": "python",
   "pygments_lexer": "ipython3",
   "version": "3.11.4"
  },
  "vscode": {
   "interpreter": {
    "hash": "626acd8304246c39c892b04a088b1f86fa4d1e9c8375290e6951e511351ad7f7"
   }
  }
 },
 "nbformat": 4,
 "nbformat_minor": 4
}
