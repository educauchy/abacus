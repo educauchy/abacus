{
 "cells": [
  {
   "cell_type": "markdown",
   "id": "2719f1c3-5973-48ba-ac0f-6320286101e6",
   "metadata": {},
   "source": [
    "# Transformations\n",
    "\n",
    "This example notebook will show you how to apply transformations and clean experiment data before the actual analysis."
   ]
  },
  {
   "cell_type": "code",
   "execution_count": null,
   "id": "02b20f44-2dce-4c4b-856f-c06a8fb92319",
   "metadata": {},
   "outputs": [],
   "source": []
  },
  {
   "cell_type": "code",
   "execution_count": null,
   "id": "dac12ca0-b47b-4223-afb2-c2508bb4740e",
   "metadata": {},
   "outputs": [],
   "source": []
  }
 ],
 "metadata": {
  "kernelspec": {
   "display_name": "Python 3 (ipykernel)",
   "language": "python",
   "name": "python3"
  },
  "language_info": {
   "codemirror_mode": {
    "name": "ipython",
    "version": 3
   },
   "file_extension": ".py",
   "mimetype": "text/x-python",
   "name": "python",
   "nbconvert_exporter": "python",
   "pygments_lexer": "ipython3",
   "version": "3.11.4"
  }
 },
 "nbformat": 4,
 "nbformat_minor": 5
}
