{
 "cells": [
  {
   "cell_type": "code",
   "execution_count": 1,
   "metadata": {},
   "outputs": [],
   "source": [
    "import warnings\n",
    "warnings.filterwarnings('ignore')\n",
    "\n",
    "import os\n",
    "import sys\n",
    "import logging\n",
    "import pandas as pd\n",
    "import numpy as np\n",
    "import scipy\n",
    "import yaml\n",
    "import matplotlib.pyplot as plt\n",
    "\n",
    "sys.path.append('../')\n",
    "\n",
    "from abacus.auto_ab.abtest import ABTest\n",
    "from abacus.auto_ab.params import ABTestParams\n",
    "from abacus.auto_ab.params import DataParams, HypothesisParams\n",
    "from abacus.splitter.split_builder import SplitBuilder\n",
    "from abacus.splitter.params import SplitBuilderParams\n",
    "from abacus.mde_researcher.params import MdeParams\n",
    "from abacus.mde_researcher.mde_research_builder import MdeResearchBuilder\n",
    "from abacus.mde_researcher.multiple_split_builder import MultipleSplitBuilder\n",
    "\n",
    "\n",
    "logging.basicConfig(level = logging.INFO)\n",
    "\n",
    "\n",
    "%load_ext autoreload\n",
    "%autoreload 2"
   ]
  },
  {
   "cell_type": "markdown",
   "metadata": {},
   "source": [
    "# Готовим данные"
   ]
  },
  {
   "cell_type": "code",
   "execution_count": 2,
   "metadata": {},
   "outputs": [
    {
     "data": {
      "text/html": [
       "<div>\n",
       "<style scoped>\n",
       "    .dataframe tbody tr th:only-of-type {\n",
       "        vertical-align: middle;\n",
       "    }\n",
       "\n",
       "    .dataframe tbody tr th {\n",
       "        vertical-align: top;\n",
       "    }\n",
       "\n",
       "    .dataframe thead th {\n",
       "        text-align: right;\n",
       "    }\n",
       "</style>\n",
       "<table border=\"1\" class=\"dataframe\">\n",
       "  <thead>\n",
       "    <tr style=\"text-align: right;\">\n",
       "      <th></th>\n",
       "      <th>groups</th>\n",
       "      <th>user_id</th>\n",
       "      <th>gender</th>\n",
       "      <th>age</th>\n",
       "      <th>city</th>\n",
       "      <th>check_rub_campaign</th>\n",
       "      <th>check_rub_pre_campaign</th>\n",
       "      <th>has_transaction</th>\n",
       "      <th>clicks</th>\n",
       "      <th>session_duration</th>\n",
       "    </tr>\n",
       "  </thead>\n",
       "  <tbody>\n",
       "    <tr>\n",
       "      <th>0</th>\n",
       "      <td>control</td>\n",
       "      <td>18552</td>\n",
       "      <td>female</td>\n",
       "      <td>22</td>\n",
       "      <td>Moscow</td>\n",
       "      <td>26.9</td>\n",
       "      <td>24.605145</td>\n",
       "      <td>0</td>\n",
       "      <td>34</td>\n",
       "      <td>4</td>\n",
       "    </tr>\n",
       "    <tr>\n",
       "      <th>1</th>\n",
       "      <td>control</td>\n",
       "      <td>86133</td>\n",
       "      <td>female</td>\n",
       "      <td>65</td>\n",
       "      <td>St.Petersburg</td>\n",
       "      <td>247.8</td>\n",
       "      <td>241.853127</td>\n",
       "      <td>0</td>\n",
       "      <td>26</td>\n",
       "      <td>35</td>\n",
       "    </tr>\n",
       "    <tr>\n",
       "      <th>2</th>\n",
       "      <td>treatment</td>\n",
       "      <td>127815</td>\n",
       "      <td>male</td>\n",
       "      <td>26</td>\n",
       "      <td>Moscow</td>\n",
       "      <td>1028.4</td>\n",
       "      <td>1025.731490</td>\n",
       "      <td>0</td>\n",
       "      <td>48</td>\n",
       "      <td>7</td>\n",
       "    </tr>\n",
       "    <tr>\n",
       "      <th>3</th>\n",
       "      <td>treatment</td>\n",
       "      <td>108774</td>\n",
       "      <td>female</td>\n",
       "      <td>43</td>\n",
       "      <td>Moscow</td>\n",
       "      <td>125.6</td>\n",
       "      <td>127.394025</td>\n",
       "      <td>0</td>\n",
       "      <td>39</td>\n",
       "      <td>53</td>\n",
       "    </tr>\n",
       "    <tr>\n",
       "      <th>4</th>\n",
       "      <td>treatment</td>\n",
       "      <td>164071</td>\n",
       "      <td>female</td>\n",
       "      <td>21</td>\n",
       "      <td>Moscow</td>\n",
       "      <td>278.2</td>\n",
       "      <td>276.548045</td>\n",
       "      <td>0</td>\n",
       "      <td>47</td>\n",
       "      <td>54</td>\n",
       "    </tr>\n",
       "  </tbody>\n",
       "</table>\n",
       "</div>"
      ],
      "text/plain": [
       "      groups  user_id  gender  age           city  check_rub_campaign  \\\n",
       "0    control    18552  female   22         Moscow                26.9   \n",
       "1    control    86133  female   65  St.Petersburg               247.8   \n",
       "2  treatment   127815    male   26         Moscow              1028.4   \n",
       "3  treatment   108774  female   43         Moscow               125.6   \n",
       "4  treatment   164071  female   21         Moscow               278.2   \n",
       "\n",
       "   check_rub_pre_campaign  has_transaction  clicks  session_duration  \n",
       "0               24.605145                0      34                 4  \n",
       "1              241.853127                0      26                35  \n",
       "2             1025.731490                0      48                 7  \n",
       "3              127.394025                0      39                53  \n",
       "4              276.548045                0      47                54  "
      ]
     },
     "execution_count": 2,
     "metadata": {},
     "output_type": "execute_result"
    }
   ],
   "source": [
    "n_rows = 200_000\n",
    "\n",
    "d = pd.DataFrame(data={\n",
    "    'groups': np.random.choice(['control', 'treatment'], p=[0.5, 0.5], size=n_rows),\n",
    "})\n",
    "\n",
    "control_len = d.loc[d.groups == 'control'].shape[0]\n",
    "treatment_len = d.loc[d.groups == 'treatment'].shape[0]\n",
    "\n",
    "# user_id\n",
    "d.loc[d.groups == 'control', 'user_id'] = np.random.randint(1, control_len-1500, control_len)\n",
    "d.loc[d.groups == 'treatment', 'user_id'] = np.random.randint(control_len-1500+1, control_len-1500+1+treatment_len-1500, treatment_len)\n",
    "d['user_id'] = d['user_id'].astype(int)\n",
    "\n",
    "# demographics\n",
    "d_unique = d.drop_duplicates(['user_id', 'groups'])\n",
    "d_unique['gender'] = np.random.choice(['male', 'female'], p=[0.35, 0.65], size=d_unique.shape[0])\n",
    "d_unique['age'] = np.random.randint(18, 68, size=d_unique.shape[0])\n",
    "d_unique['city'] = np.random.choice(['Moscow', 'St.Petersburg', 'Kazan', 'Samara', 'Perm'], p=[0.59, 0.25, 0.06, 0.055, 0.045], size=d_unique.shape[0])\n",
    "d = d.merge(d_unique, how='left', on=['user_id', 'groups'])\n",
    "\n",
    "# check_rub, continuous target\n",
    "checks_control_camp = np.round(np.random.gamma(2, 125, control_len), 1)  # mean = 200 rub\n",
    "checks_treatment = np.random.gamma(2, 125, treatment_len)\n",
    "checks_treatment_camp = np.round(checks_treatment + np.round(np.random.binomial(1, p=0.04, size=treatment_len), 1) * 80, 1)  # 20 rub uplift for 4% of treatment group\n",
    "d.loc[d.groups == 'control', 'check_rub_campaign'] = checks_control_camp\n",
    "d.loc[d.groups == 'treatment', 'check_rub_campaign'] = checks_treatment_camp\n",
    "\n",
    "# check_rub, pre-campaign period\n",
    "checks_control_pre_camp = np.absolute(checks_control_camp + np.random.normal(0, 10, len(checks_control_camp)))\n",
    "checks_treatment_pre_camp = np.absolute(checks_treatment_camp + np.random.normal(0, 10, len(checks_treatment_camp)))\n",
    "d.loc[d.groups == 'control', 'check_rub_pre_campaign'] = checks_control_pre_camp\n",
    "d.loc[d.groups == 'treatment', 'check_rub_pre_campaign'] = checks_treatment_pre_camp\n",
    "\n",
    "# has_transaction, binary target\n",
    "d.loc[d.groups == 'control', 'has_transaction'] = np.random.binomial(1, p=0.04, size=control_len)\n",
    "d.loc[d.groups == 'treatment', 'has_transaction'] = np.random.binomial(1, p=0.065, size=treatment_len)\n",
    "d['has_transaction'] = d['has_transaction'].astype(int)\n",
    "\n",
    "# ratio metric\n",
    "d['clicks'] = np.random.gamma(1, 20, d.shape[0]).astype(int)\n",
    "d['session_duration'] = np.round(np.random.gamma(1, 20, d.shape[0]), 1).astype(int)\n",
    "\n",
    "d.to_csv('./data/ab_data_new.csv', index=False)\n",
    "d.head()"
   ]
  },
  {
   "cell_type": "code",
   "execution_count": 3,
   "metadata": {},
   "outputs": [],
   "source": [
    "# import statsmodels.api as sm\n",
    "\n",
    "# y = d['check_rub_campaign'].to_numpy()\n",
    "# x_train = d[['gender', 'age', 'city']].to_numpy()\n",
    "# model = sm.OLS(y, x_train)\n",
    "# results = model.fit()\n",
    "\n",
    "# print(results.summary())"
   ]
  },
  {
   "cell_type": "markdown",
   "metadata": {},
   "source": [
    "Проверяем пересечение user_id в группах:"
   ]
  },
  {
   "cell_type": "markdown",
   "metadata": {},
   "source": [
    "# Данные, с которыми будем работать"
   ]
  },
  {
   "cell_type": "code",
   "execution_count": 4,
   "metadata": {},
   "outputs": [
    {
     "data": {
      "text/html": [
       "<div>\n",
       "<style scoped>\n",
       "    .dataframe tbody tr th:only-of-type {\n",
       "        vertical-align: middle;\n",
       "    }\n",
       "\n",
       "    .dataframe tbody tr th {\n",
       "        vertical-align: top;\n",
       "    }\n",
       "\n",
       "    .dataframe thead th {\n",
       "        text-align: right;\n",
       "    }\n",
       "</style>\n",
       "<table border=\"1\" class=\"dataframe\">\n",
       "  <thead>\n",
       "    <tr style=\"text-align: right;\">\n",
       "      <th></th>\n",
       "      <th>groups</th>\n",
       "      <th>user_id</th>\n",
       "      <th>gender</th>\n",
       "      <th>age</th>\n",
       "      <th>city</th>\n",
       "      <th>check_rub_campaign</th>\n",
       "      <th>check_rub_pre_campaign</th>\n",
       "      <th>has_transaction</th>\n",
       "      <th>clicks</th>\n",
       "      <th>session_duration</th>\n",
       "    </tr>\n",
       "  </thead>\n",
       "  <tbody>\n",
       "    <tr>\n",
       "      <th>0</th>\n",
       "      <td>control</td>\n",
       "      <td>18552</td>\n",
       "      <td>female</td>\n",
       "      <td>22</td>\n",
       "      <td>Moscow</td>\n",
       "      <td>26.9</td>\n",
       "      <td>24.605145</td>\n",
       "      <td>0</td>\n",
       "      <td>34</td>\n",
       "      <td>4</td>\n",
       "    </tr>\n",
       "    <tr>\n",
       "      <th>1</th>\n",
       "      <td>control</td>\n",
       "      <td>86133</td>\n",
       "      <td>female</td>\n",
       "      <td>65</td>\n",
       "      <td>St.Petersburg</td>\n",
       "      <td>247.8</td>\n",
       "      <td>241.853127</td>\n",
       "      <td>0</td>\n",
       "      <td>26</td>\n",
       "      <td>35</td>\n",
       "    </tr>\n",
       "    <tr>\n",
       "      <th>2</th>\n",
       "      <td>treatment</td>\n",
       "      <td>127815</td>\n",
       "      <td>male</td>\n",
       "      <td>26</td>\n",
       "      <td>Moscow</td>\n",
       "      <td>1028.4</td>\n",
       "      <td>1025.731490</td>\n",
       "      <td>0</td>\n",
       "      <td>48</td>\n",
       "      <td>7</td>\n",
       "    </tr>\n",
       "    <tr>\n",
       "      <th>3</th>\n",
       "      <td>treatment</td>\n",
       "      <td>108774</td>\n",
       "      <td>female</td>\n",
       "      <td>43</td>\n",
       "      <td>Moscow</td>\n",
       "      <td>125.6</td>\n",
       "      <td>127.394025</td>\n",
       "      <td>0</td>\n",
       "      <td>39</td>\n",
       "      <td>53</td>\n",
       "    </tr>\n",
       "    <tr>\n",
       "      <th>4</th>\n",
       "      <td>treatment</td>\n",
       "      <td>164071</td>\n",
       "      <td>female</td>\n",
       "      <td>21</td>\n",
       "      <td>Moscow</td>\n",
       "      <td>278.2</td>\n",
       "      <td>276.548045</td>\n",
       "      <td>0</td>\n",
       "      <td>47</td>\n",
       "      <td>54</td>\n",
       "    </tr>\n",
       "  </tbody>\n",
       "</table>\n",
       "</div>"
      ],
      "text/plain": [
       "      groups  user_id  gender  age           city  check_rub_campaign  \\\n",
       "0    control    18552  female   22         Moscow                26.9   \n",
       "1    control    86133  female   65  St.Petersburg               247.8   \n",
       "2  treatment   127815    male   26         Moscow              1028.4   \n",
       "3  treatment   108774  female   43         Moscow               125.6   \n",
       "4  treatment   164071  female   21         Moscow               278.2   \n",
       "\n",
       "   check_rub_pre_campaign  has_transaction  clicks  session_duration  \n",
       "0               24.605145                0      34                 4  \n",
       "1              241.853127                0      26                35  \n",
       "2             1025.731490                0      48                 7  \n",
       "3              127.394025                0      39                53  \n",
       "4              276.548045                0      47                54  "
      ]
     },
     "execution_count": 4,
     "metadata": {},
     "output_type": "execute_result"
    }
   ],
   "source": [
    "df = pd.read_csv('./data/ab_data_new.csv')\n",
    "df.head()"
   ]
  },
  {
   "cell_type": "code",
   "execution_count": 5,
   "metadata": {},
   "outputs": [
    {
     "data": {
      "text/html": [
       "<div>\n",
       "<style scoped>\n",
       "    .dataframe tbody tr th:only-of-type {\n",
       "        vertical-align: middle;\n",
       "    }\n",
       "\n",
       "    .dataframe tbody tr th {\n",
       "        vertical-align: top;\n",
       "    }\n",
       "\n",
       "    .dataframe thead th {\n",
       "        text-align: right;\n",
       "    }\n",
       "</style>\n",
       "<table border=\"1\" class=\"dataframe\">\n",
       "  <thead>\n",
       "    <tr style=\"text-align: right;\">\n",
       "      <th></th>\n",
       "      <th>mean</th>\n",
       "      <th>count</th>\n",
       "    </tr>\n",
       "    <tr>\n",
       "      <th>groups</th>\n",
       "      <th></th>\n",
       "      <th></th>\n",
       "    </tr>\n",
       "  </thead>\n",
       "  <tbody>\n",
       "    <tr>\n",
       "      <th>control</th>\n",
       "      <td>249.848807</td>\n",
       "      <td>99683</td>\n",
       "    </tr>\n",
       "    <tr>\n",
       "      <th>treatment</th>\n",
       "      <td>252.882088</td>\n",
       "      <td>100317</td>\n",
       "    </tr>\n",
       "  </tbody>\n",
       "</table>\n",
       "</div>"
      ],
      "text/plain": [
       "                 mean   count\n",
       "groups                       \n",
       "control    249.848807   99683\n",
       "treatment  252.882088  100317"
      ]
     },
     "execution_count": 5,
     "metadata": {},
     "output_type": "execute_result"
    }
   ],
   "source": [
    "df.groupby(['groups']).check_rub_campaign.agg(['mean', 'count'])"
   ]
  },
  {
   "cell_type": "markdown",
   "metadata": {},
   "source": [
    "# Пост-анализ непрерывной метрики\n",
    "## Инициализация теста, илюстрация, запуск теста и отчет"
   ]
  },
  {
   "cell_type": "code",
   "execution_count": 6,
   "metadata": {},
   "outputs": [],
   "source": [
    "df = pd.read_csv('./data/ab_data_new.csv')\n",
    "\n",
    "data_params = DataParams(\n",
    "    id_col='user_id', \n",
    "    group_col='groups',\n",
    "    control_name='control',\n",
    "    treatment_name='treatment',\n",
    "    is_grouped=True,\n",
    "    target='check_rub_campaign', \n",
    ")\n",
    "\n",
    "hypothesis_params = HypothesisParams(\n",
    "    alpha=0.01, \n",
    "    beta=0.2, \n",
    "    alternative='greater', \n",
    "    metric_type='solid', \n",
    "    metric_name='95th quantile',  # <----- стандартные: 'mean', 'median'; если использовать кастомную метрику, то функцию для нее нужно объявить\n",
    "    metric=lambda x: np.quantile(x, 0.95),  # <----- здесь\n",
    "    n_boot_samples=1000\n",
    ")\n",
    "\n",
    "ab_params = ABTestParams(data_params, hypothesis_params)\n",
    "ab_test = ABTest(df, ab_params)"
   ]
  },
  {
   "cell_type": "code",
   "execution_count": 7,
   "metadata": {},
   "outputs": [
    {
     "data": {
      "image/png": "[encoded data removed]",
      "text/plain": [
       "<Figure size 1440x864 with 1 Axes>"
      ]
     },
     "metadata": {
      "needs_background": "light"
     },
     "output_type": "display_data"
    }
   ],
   "source": [
    "ab_test.plot()"
   ]
  },
  {
   "cell_type": "code",
   "execution_count": 8,
   "metadata": {},
   "outputs": [
    {
     "data": {
      "text/plain": [
       "{'stat': 3.826835288277082, 'p-value': 6.492037933029886e-05, 'result': 1}"
      ]
     },
     "execution_count": 8,
     "metadata": {},
     "output_type": "execute_result"
    }
   ],
   "source": [
    "ab_test.test_welch()"
   ]
  },
  {
   "cell_type": "code",
   "execution_count": 9,
   "metadata": {},
   "outputs": [
    {
     "name": "stdout",
     "output_type": "stream",
     "text": [
      "\n",
      "        Parameters of experiment:\n",
      "        - Metric type: continuous.\n",
      "        - Metric: 95th quantile.\n",
      "        - Errors: alpha = 0.01, beta = 0.2.\n",
      "        - Alternative: greater.\n",
      "\n",
      "        Control group:\n",
      "        - Observations: 99683\n",
      "        - Mean: 249.8488\n",
      "        - Median: 209.2000\n",
      "        - 25th quantile: 120.3500\n",
      "        - 75th quantile: 334.5000\n",
      "        - Minimum: 0.3000\n",
      "        - Maximum: 2000.1000\n",
      "        - St.deviation: 177.3074\n",
      "        - Variance: 31437.9144\n",
      "\n",
      "        Treatment group:\n",
      "        - Observations: 100317\n",
      "        - Mean: 252.8821\n",
      "        - Median: 212.6000\n",
      "        - 25th quantile: 122.5000\n",
      "        - 75th quantile: 340.9000\n",
      "        - Minimum: 0.7000\n",
      "        - Maximum: 1631.0000\n",
      "        - St.deviation: 177.3074\n",
      "        - Variance: 31437.9144\n",
      "\n",
      "        No transformations applied.\n",
      "        Number of bootstrap iterations: 1000. \n",
      "\n",
      "        Following statistical tests are used:\n",
      "        - Welch's t-test: 3.83, p-value = 0.0001, H0 is rejected.\n",
      "        - Mann Whitney's U-test: 4940415397.50, p-value = 1.0000, H0 is not rejected.\n",
      "        - Bootstrap test: H0 is not rejected.\n",
      "\n",
      "        Two out of three stat. tests showed that H0 is not rejected.\n",
      "        \n"
     ]
    }
   ],
   "source": [
    "ab_test.report()"
   ]
  },
  {
   "cell_type": "markdown",
   "metadata": {},
   "source": [
    "## Фильтрация выбросов"
   ]
  },
  {
   "cell_type": "code",
   "execution_count": 10,
   "metadata": {},
   "outputs": [],
   "source": [
    "df = pd.read_csv('./data/ab_data_new.csv')\n",
    "\n",
    "data_params = DataParams(\n",
    "    id_col='user_id', \n",
    "    group_col='groups',\n",
    "    control_name='control',\n",
    "    treatment_name='treatment',\n",
    "    is_grouped=True,\n",
    "    target='check_rub_campaign'\n",
    ")\n",
    "\n",
    "hypothesis_params = HypothesisParams(\n",
    "    alpha=0.01, \n",
    "    beta=0.2, \n",
    "    alternative='greater', \n",
    "    metric_type='solid', \n",
    "    metric_name='mean',\n",
    "    filter_method='top_5',  # <----- метод фильтрации метрики эксперимента: top_5, isolation_forest\n",
    "    n_boot_samples=1000\n",
    ")\n",
    "\n",
    "ab_params = ABTestParams(data_params, hypothesis_params)\n",
    "ab_test = ABTest(df, ab_params)"
   ]
  },
  {
   "cell_type": "code",
   "execution_count": 11,
   "metadata": {},
   "outputs": [
    {
     "data": {
      "image/png": "[encoded data removed]",
      "text/plain": [
       "<Figure size 1440x864 with 1 Axes>"
      ]
     },
     "metadata": {
      "needs_background": "light"
     },
     "output_type": "display_data"
    }
   ],
   "source": [
    "ab_test.plot()"
   ]
  },
  {
   "cell_type": "code",
   "execution_count": 12,
   "metadata": {},
   "outputs": [
    {
     "data": {
      "text/plain": [
       "{'stat': 3.826835288277082, 'p-value': 6.492037933029886e-05, 'result': 1}"
      ]
     },
     "execution_count": 12,
     "metadata": {},
     "output_type": "execute_result"
    }
   ],
   "source": [
    "ab_test.test_welch()"
   ]
  },
  {
   "cell_type": "code",
   "execution_count": 13,
   "metadata": {},
   "outputs": [],
   "source": [
    "ab_test_1 = ab_test.filter_outliers()"
   ]
  },
  {
   "cell_type": "code",
   "execution_count": 14,
   "metadata": {},
   "outputs": [
    {
     "data": {
      "image/png": "[encoded data removed]",
      "text/plain": [
       "<Figure size 1440x864 with 1 Axes>"
      ]
     },
     "metadata": {
      "needs_background": "light"
     },
     "output_type": "display_data"
    }
   ],
   "source": [
    "ab_test_1.plot()"
   ]
  },
  {
   "cell_type": "markdown",
   "metadata": {},
   "source": [
    "## Функциональная трансформация метрики"
   ]
  },
  {
   "cell_type": "code",
   "execution_count": 15,
   "metadata": {},
   "outputs": [],
   "source": [
    "df = pd.read_csv('./data/ab_data_new.csv')\n",
    "\n",
    "data_params = DataParams(\n",
    "    id_col='user_id', \n",
    "    group_col='groups',\n",
    "    control_name='control',\n",
    "    treatment_name='treatment',\n",
    "    is_grouped=True,\n",
    "    target='check_rub_campaign', \n",
    ")\n",
    "\n",
    "hypothesis_params = HypothesisParams(\n",
    "    alpha=0.01, \n",
    "    beta=0.2, \n",
    "    alternative='greater', \n",
    "    metric_type='solid', \n",
    "    metric_name='mean', \n",
    "    metric_transform=np.sqrt,  # <----- добавлена трансформация\n",
    "    n_boot_samples=1000\n",
    ")\n",
    "\n",
    "ab_params = ABTestParams(data_params, hypothesis_params)\n",
    "ab_test = ABTest(df, ab_params)"
   ]
  },
  {
   "cell_type": "code",
   "execution_count": 16,
   "metadata": {},
   "outputs": [
    {
     "data": {
      "image/png": "[encoded data removed]",
      "text/plain": [
       "<Figure size 1440x864 with 1 Axes>"
      ]
     },
     "metadata": {
      "needs_background": "light"
     },
     "output_type": "display_data"
    }
   ],
   "source": [
    "ab_test.plot()"
   ]
  },
  {
   "cell_type": "code",
   "execution_count": 17,
   "metadata": {},
   "outputs": [],
   "source": [
    "ab_test_1 = ab_test.metric_transform()"
   ]
  },
  {
   "cell_type": "code",
   "execution_count": 18,
   "metadata": {},
   "outputs": [
    {
     "data": {
      "image/png": "[encoded data removed]",
      "text/plain": [
       "<Figure size 1440x864 with 1 Axes>"
      ]
     },
     "metadata": {
      "needs_background": "light"
     },
     "output_type": "display_data"
    }
   ],
   "source": [
    "ab_test_1.plot()"
   ]
  },
  {
   "cell_type": "code",
   "execution_count": 19,
   "metadata": {},
   "outputs": [
    {
     "name": "stdout",
     "output_type": "stream",
     "text": [
      "\n",
      "        Parameters of experiment:\n",
      "        - Metric type: continuous.\n",
      "        - Metric: mean.\n",
      "        - Errors: alpha = 0.01, beta = 0.2.\n",
      "        - Alternative: greater.\n",
      "\n",
      "        Control group:\n",
      "        - Observations: 99683\n",
      "        - Mean: 3.7877\n",
      "        - Median: 3.8031\n",
      "        - 25th quantile: 3.3122\n",
      "        - 75th quantile: 4.2766\n",
      "        - Minimum: 0.7401\n",
      "        - Maximum: 6.6875\n",
      "        - St.deviation: 0.7128\n",
      "        - Variance: 0.5080\n",
      "\n",
      "        Treatment group:\n",
      "        - Observations: 100317\n",
      "        - Mean: 3.8015\n",
      "        - Median: 3.8185\n",
      "        - 25th quantile: 3.3269\n",
      "        - 75th quantile: 4.2969\n",
      "        - Minimum: 0.9147\n",
      "        - Maximum: 6.3550\n",
      "        - St.deviation: 0.7128\n",
      "        - Variance: 0.5080\n",
      "\n",
      "        Transformations applied: metric transform.\n",
      "        Number of bootstrap iterations: 1000. Metric transformation applied: sqrt. \n",
      "\n",
      "        Following statistical tests are used:\n",
      "        - Welch's t-test: 4.33, p-value = 0.0000, H0 is rejected.\n",
      "        - Mann Whitney's U-test: 4940415397.50, p-value = 1.0000, H0 is not rejected.\n",
      "        - Bootstrap test: H0 is rejected.\n",
      "\n",
      "        Two out of three stat. tests showed that H0 is rejected.\n",
      "        \n"
     ]
    }
   ],
   "source": [
    "ab_test_1.report()"
   ]
  },
  {
   "cell_type": "markdown",
   "metadata": {},
   "source": [
    "## Увеличение чувствительности метрики"
   ]
  },
  {
   "cell_type": "code",
   "execution_count": 20,
   "metadata": {},
   "outputs": [],
   "source": [
    "df = pd.read_csv('./data/ab_data_new.csv')\n",
    "\n",
    "data_params = DataParams(\n",
    "    id_col='user_id', \n",
    "    group_col='groups',\n",
    "    control_name='control',\n",
    "    treatment_name='treatment',\n",
    "    is_grouped=True,\n",
    "    target='check_rub_campaign', \n",
    "    covariate='check_rub_pre_campaign',  # <----- добавляем информацию о ковариате\n",
    ")\n",
    "\n",
    "hypothesis_params = HypothesisParams(\n",
    "    alpha=0.01, \n",
    "    beta=0.2, \n",
    "    alternative='greater', \n",
    "    metric_type='solid', \n",
    "    metric_name='mean', \n",
    "    n_boot_samples=1000\n",
    ")\n",
    "\n",
    "ab_params = ABTestParams(data_params, hypothesis_params)\n",
    "ab_test = ABTest(df, ab_params)"
   ]
  },
  {
   "cell_type": "code",
   "execution_count": 21,
   "metadata": {},
   "outputs": [],
   "source": [
    "ab_test_1 = ab_test.cuped()"
   ]
  },
  {
   "cell_type": "markdown",
   "metadata": {},
   "source": [
    "Среднее и ст.отклонение до CUPED:"
   ]
  },
  {
   "cell_type": "code",
   "execution_count": 22,
   "metadata": {},
   "outputs": [
    {
     "name": "stdout",
     "output_type": "stream",
     "text": [
      "249.84880671729383\n",
      "177.16631805039285\n"
     ]
    }
   ],
   "source": [
    "print(np.mean(ab_test.params.data_params.control))\n",
    "print(np.std(ab_test.params.data_params.control))"
   ]
  },
  {
   "cell_type": "markdown",
   "metadata": {},
   "source": [
    "Среднее и ст.отклонение после CUPED:"
   ]
  },
  {
   "cell_type": "code",
   "execution_count": 23,
   "metadata": {},
   "outputs": [
    {
     "name": "stdout",
     "output_type": "stream",
     "text": [
      "249.84880671729024\n",
      "10.007087044876895\n"
     ]
    }
   ],
   "source": [
    "print(np.mean(ab_test_1.params.data_params.control))\n",
    "print(np.std(ab_test_1.params.data_params.control))"
   ]
  },
  {
   "cell_type": "markdown",
   "metadata": {},
   "source": [
    "## Линеаризация и зависимые наблюдения"
   ]
  },
  {
   "cell_type": "code",
   "execution_count": 24,
   "metadata": {},
   "outputs": [],
   "source": [
    "df = pd.read_csv('./data/ab_data_new.csv')\n",
    "\n",
    "data_params = DataParams(\n",
    "    id_col='user_id', \n",
    "    group_col='groups',\n",
    "    control_name='control',\n",
    "    treatment_name='treatment',\n",
    "    is_grouped=False,   # <----- данные не сгрупированы по user_id — по каждому user_id одна и более запись\n",
    "    target='check_rub_campaign'\n",
    ")\n",
    "\n",
    "hypothesis_params = HypothesisParams(\n",
    "    alpha=0.01, \n",
    "    beta=0.2, \n",
    "    alternative='greater', \n",
    "    metric_type='solid', \n",
    "    metric_name='mean', \n",
    "    n_boot_samples=1000\n",
    ")\n",
    "\n",
    "ab_params = ABTestParams(data_params, hypothesis_params)\n",
    "ab_test = ABTest(df, ab_params)"
   ]
  },
  {
   "cell_type": "code",
   "execution_count": 25,
   "metadata": {},
   "outputs": [
    {
     "name": "stdout",
     "output_type": "stream",
     "text": [
      "Строк в старом датасете: 200000\n",
      "Уникальных user_id в старом датасете: 125533\n"
     ]
    }
   ],
   "source": [
    "print(f'Строк в старом датасете: {df.shape[0]}')\n",
    "print(f'Уникальных user_id в старом датасете: {df.user_id.nunique()}')"
   ]
  },
  {
   "cell_type": "code",
   "execution_count": 26,
   "metadata": {},
   "outputs": [],
   "source": [
    "ab_test_1 = ab_test.linearization()"
   ]
  },
  {
   "cell_type": "code",
   "execution_count": 27,
   "metadata": {},
   "outputs": [
    {
     "name": "stdout",
     "output_type": "stream",
     "text": [
      "Строк в новом датасете: 125533\n",
      "Уникальных user_id в новом датасете: 125533\n"
     ]
    }
   ],
   "source": [
    "print('Строк в новом датасете: ' + str(ab_test_1._ABTest__dataset.shape[0]))\n",
    "print('Уникальных user_id в новом датасете: ' + str(ab_test_1._ABTest__dataset.user_id.nunique()))"
   ]
  },
  {
   "cell_type": "code",
   "execution_count": 28,
   "metadata": {},
   "outputs": [
    {
     "data": {
      "text/html": [
       "<div>\n",
       "<style scoped>\n",
       "    .dataframe tbody tr th:only-of-type {\n",
       "        vertical-align: middle;\n",
       "    }\n",
       "\n",
       "    .dataframe tbody tr th {\n",
       "        vertical-align: top;\n",
       "    }\n",
       "\n",
       "    .dataframe thead th {\n",
       "        text-align: right;\n",
       "    }\n",
       "</style>\n",
       "<table border=\"1\" class=\"dataframe\">\n",
       "  <thead>\n",
       "    <tr style=\"text-align: right;\">\n",
       "      <th></th>\n",
       "      <th>groups</th>\n",
       "      <th>user_id</th>\n",
       "      <th>gender</th>\n",
       "      <th>age</th>\n",
       "      <th>city</th>\n",
       "      <th>check_rub_campaign</th>\n",
       "      <th>check_rub_pre_campaign</th>\n",
       "      <th>has_transaction</th>\n",
       "      <th>clicks</th>\n",
       "      <th>session_duration</th>\n",
       "      <th>target_linearized</th>\n",
       "    </tr>\n",
       "  </thead>\n",
       "  <tbody>\n",
       "    <tr>\n",
       "      <th>0</th>\n",
       "      <td>control</td>\n",
       "      <td>18552</td>\n",
       "      <td>female</td>\n",
       "      <td>22</td>\n",
       "      <td>Moscow</td>\n",
       "      <td>26.9</td>\n",
       "      <td>24.605145</td>\n",
       "      <td>0</td>\n",
       "      <td>34</td>\n",
       "      <td>4</td>\n",
       "      <td>-222.94881</td>\n",
       "    </tr>\n",
       "    <tr>\n",
       "      <th>1</th>\n",
       "      <td>control</td>\n",
       "      <td>86133</td>\n",
       "      <td>female</td>\n",
       "      <td>65</td>\n",
       "      <td>St.Petersburg</td>\n",
       "      <td>247.8</td>\n",
       "      <td>241.853127</td>\n",
       "      <td>0</td>\n",
       "      <td>26</td>\n",
       "      <td>35</td>\n",
       "      <td>-2.04881</td>\n",
       "    </tr>\n",
       "    <tr>\n",
       "      <th>2</th>\n",
       "      <td>treatment</td>\n",
       "      <td>127815</td>\n",
       "      <td>male</td>\n",
       "      <td>26</td>\n",
       "      <td>Moscow</td>\n",
       "      <td>1028.4</td>\n",
       "      <td>1025.731490</td>\n",
       "      <td>0</td>\n",
       "      <td>48</td>\n",
       "      <td>7</td>\n",
       "      <td>785.70238</td>\n",
       "    </tr>\n",
       "    <tr>\n",
       "      <th>3</th>\n",
       "      <td>treatment</td>\n",
       "      <td>108774</td>\n",
       "      <td>female</td>\n",
       "      <td>43</td>\n",
       "      <td>Moscow</td>\n",
       "      <td>125.6</td>\n",
       "      <td>127.394025</td>\n",
       "      <td>0</td>\n",
       "      <td>39</td>\n",
       "      <td>53</td>\n",
       "      <td>-124.24881</td>\n",
       "    </tr>\n",
       "    <tr>\n",
       "      <th>4</th>\n",
       "      <td>treatment</td>\n",
       "      <td>164071</td>\n",
       "      <td>female</td>\n",
       "      <td>21</td>\n",
       "      <td>Moscow</td>\n",
       "      <td>278.2</td>\n",
       "      <td>276.548045</td>\n",
       "      <td>0</td>\n",
       "      <td>47</td>\n",
       "      <td>54</td>\n",
       "      <td>28.35119</td>\n",
       "    </tr>\n",
       "  </tbody>\n",
       "</table>\n",
       "</div>"
      ],
      "text/plain": [
       "      groups  user_id  gender  age           city  check_rub_campaign  \\\n",
       "0    control    18552  female   22         Moscow                26.9   \n",
       "1    control    86133  female   65  St.Petersburg               247.8   \n",
       "2  treatment   127815    male   26         Moscow              1028.4   \n",
       "3  treatment   108774  female   43         Moscow               125.6   \n",
       "4  treatment   164071  female   21         Moscow               278.2   \n",
       "\n",
       "   check_rub_pre_campaign  has_transaction  clicks  session_duration  \\\n",
       "0               24.605145                0      34                 4   \n",
       "1              241.853127                0      26                35   \n",
       "2             1025.731490                0      48                 7   \n",
       "3              127.394025                0      39                53   \n",
       "4              276.548045                0      47                54   \n",
       "\n",
       "   target_linearized  \n",
       "0         -222.94881  \n",
       "1           -2.04881  \n",
       "2          785.70238  \n",
       "3         -124.24881  \n",
       "4           28.35119  "
      ]
     },
     "execution_count": 28,
     "metadata": {},
     "output_type": "execute_result"
    }
   ],
   "source": [
    "ab_test_1._ABTest__dataset.head()"
   ]
  },
  {
   "cell_type": "code",
   "execution_count": 29,
   "metadata": {},
   "outputs": [
    {
     "data": {
      "image/png": "[encoded data removed]",
      "text/plain": [
       "<Figure size 1440x864 with 1 Axes>"
      ]
     },
     "metadata": {
      "needs_background": "light"
     },
     "output_type": "display_data"
    }
   ],
   "source": [
    "ab_test.plot()"
   ]
  },
  {
   "cell_type": "code",
   "execution_count": 30,
   "metadata": {},
   "outputs": [
    {
     "data": {
      "image/png": "[encoded data removed]",
      "text/plain": [
       "<Figure size 1440x864 with 1 Axes>"
      ]
     },
     "metadata": {
      "needs_background": "light"
     },
     "output_type": "display_data"
    }
   ],
   "source": [
    "ab_test_1.plot()"
   ]
  },
  {
   "cell_type": "code",
   "execution_count": 31,
   "metadata": {},
   "outputs": [
    {
     "name": "stdout",
     "output_type": "stream",
     "text": [
      "\n",
      "        Parameters of experiment:\n",
      "        - Metric type: continuous.\n",
      "        - Metric: mean.\n",
      "        - Errors: alpha = 0.01, beta = 0.2.\n",
      "        - Alternative: greater.\n",
      "\n",
      "        Control group:\n",
      "        - Observations: 99683\n",
      "        - Mean: 249.8488\n",
      "        - Median: 209.2000\n",
      "        - 25th quantile: 120.3500\n",
      "        - 75th quantile: 334.5000\n",
      "        - Minimum: 0.3000\n",
      "        - Maximum: 2000.1000\n",
      "        - St.deviation: 177.3074\n",
      "        - Variance: 31437.9144\n",
      "\n",
      "        Treatment group:\n",
      "        - Observations: 100317\n",
      "        - Mean: 252.8821\n",
      "        - Median: 212.6000\n",
      "        - 25th quantile: 122.5000\n",
      "        - 75th quantile: 340.9000\n",
      "        - Minimum: 0.7000\n",
      "        - Maximum: 1631.0000\n",
      "        - St.deviation: 177.3074\n",
      "        - Variance: 31437.9144\n",
      "\n",
      "        No transformations applied.\n",
      "        Number of bootstrap iterations: 1000. \n",
      "\n",
      "        Following statistical tests are used:\n",
      "        - Welch's t-test: 3.83, p-value = 0.0001, H0 is rejected.\n",
      "        - Mann Whitney's U-test: 4940415397.50, p-value = 1.0000, H0 is not rejected.\n",
      "        - Bootstrap test: H0 is rejected.\n",
      "\n",
      "        Two out of three stat. tests showed that H0 is rejected.\n",
      "        \n"
     ]
    }
   ],
   "source": [
    "ab_test.report()"
   ]
  },
  {
   "cell_type": "code",
   "execution_count": 32,
   "metadata": {},
   "outputs": [
    {
     "name": "stdout",
     "output_type": "stream",
     "text": [
      "\n",
      "        Parameters of experiment:\n",
      "        - Metric type: continuous.\n",
      "        - Metric: mean.\n",
      "        - Errors: alpha = 0.01, beta = 0.2.\n",
      "        - Alternative: greater.\n",
      "\n",
      "        Control group:\n",
      "        - Observations: 62527\n",
      "        - Mean: -0.0000\n",
      "        - Median: -40.6488\n",
      "        - 25th quantile: -148.7488\n",
      "        - 75th quantile: 109.3768\n",
      "        - Minimum: -902.5929\n",
      "        - Maximum: 1968.5024\n",
      "        - St.deviation: 223.7597\n",
      "        - Variance: 50068.4225\n",
      "\n",
      "        Treatment group:\n",
      "        - Observations: 63006\n",
      "        - Mean: 4.8295\n",
      "        - Median: -35.9464\n",
      "        - 25th quantile: -144.9488\n",
      "        - 75th quantile: 116.3512\n",
      "        - Minimum: -781.5440\n",
      "        - Maximum: 1732.2536\n",
      "        - St.deviation: 223.7597\n",
      "        - Variance: 50068.4225\n",
      "\n",
      "        Transformations applied: linearization.\n",
      "        Number of bootstrap iterations: 1000. \n",
      "\n",
      "        Following statistical tests are used:\n",
      "        - Welch's t-test: 3.83, p-value = 0.0001, H0 is rejected.\n",
      "        - Mann Whitney's U-test: 1941736557.00, p-value = 1.0000, H0 is not rejected.\n",
      "        - Bootstrap test: H0 is rejected.\n",
      "\n",
      "        Two out of three stat. tests showed that H0 is rejected.\n",
      "        \n"
     ]
    }
   ],
   "source": [
    "ab_test_1.report()"
   ]
  },
  {
   "cell_type": "markdown",
   "metadata": {},
   "source": [
    "## Метрика-отношение"
   ]
  },
  {
   "cell_type": "code",
   "execution_count": 33,
   "metadata": {},
   "outputs": [],
   "source": [
    "df = pd.read_csv('./data/ab_data_new.csv')\n",
    "\n",
    "data_params = DataParams(\n",
    "    id_col='user_id', \n",
    "    group_col='groups',\n",
    "    control_name='control',\n",
    "    treatment_name='treatment',\n",
    "    is_grouped=False,\n",
    "    numerator='clicks',  # <----- числитель\n",
    "    denominator='session_duration'  # <----- знаменатель\n",
    ")\n",
    "\n",
    "hypothesis_params = HypothesisParams(\n",
    "    alpha=0.01, \n",
    "    beta=0.2, \n",
    "    alternative='greater', \n",
    "    metric_type='ratio', \n",
    "    metric_name='mean',  # <----- обязательное использование метрики \"среднее\"\n",
    "    n_boot_samples=1000\n",
    ")\n",
    "\n",
    "ab_params = ABTestParams(data_params, hypothesis_params)\n",
    "ab_test = ABTest(df, ab_params)"
   ]
  },
  {
   "cell_type": "code",
   "execution_count": 34,
   "metadata": {},
   "outputs": [
    {
     "data": {
      "text/plain": [
       "{'stat': -82.61980556022617, 'p-value': None, 'result': 0}"
      ]
     },
     "execution_count": 34,
     "metadata": {},
     "output_type": "execute_result"
    }
   ],
   "source": [
    "ab_test.test_taylor_ratio()"
   ]
  },
  {
   "cell_type": "markdown",
   "metadata": {},
   "source": [
    "Добавляем в числитель клики:"
   ]
  },
  {
   "cell_type": "code",
   "execution_count": 35,
   "metadata": {},
   "outputs": [
    {
     "data": {
      "text/plain": [
       "{'stat': 2147.821946020265, 'p-value': None, 'result': 0}"
      ]
     },
     "execution_count": 35,
     "metadata": {},
     "output_type": "execute_result"
    }
   ],
   "source": [
    "df1 = df.copy(deep=True)\n",
    "df1.loc[df.groups == 'treatment', 'clicks'] = df1.loc[df1.groups == 'treatment', 'clicks'] \\\n",
    "                                                    + np.random.normal(2, 1, df1.loc[df.groups == 'treatment'].shape[0])\n",
    "ab_test_up = ABTest(df1, ab_params)\n",
    "ab_test_up.test_taylor_ratio()"
   ]
  },
  {
   "cell_type": "markdown",
   "metadata": {},
   "source": [
    "Линеаризируем и смотрим результат после применения:"
   ]
  },
  {
   "cell_type": "code",
   "execution_count": 36,
   "metadata": {},
   "outputs": [],
   "source": [
    "ab_test_1 = ab_test.linearization()\n",
    "ab_test_up_1 = ab_test_up.linearization()"
   ]
  },
  {
   "cell_type": "code",
   "execution_count": 37,
   "metadata": {},
   "outputs": [
    {
     "name": "stdout",
     "output_type": "stream",
     "text": [
      "{'stat': -0.5960722385963354, 'p-value': 0.7244359780572207, 'result': 0}\n",
      "{'stat': 15.24048758870443, 'p-value': 1.0610673227841184e-52, 'result': 1}\n"
     ]
    }
   ],
   "source": [
    "print(ab_test_1.test_welch())\n",
    "print(ab_test_up_1.test_welch())"
   ]
  },
  {
   "cell_type": "markdown",
   "metadata": {},
   "source": [
    "## Бакетирование"
   ]
  },
  {
   "cell_type": "code",
   "execution_count": 38,
   "metadata": {},
   "outputs": [],
   "source": [
    "df = pd.read_csv('./data/ab_data_new.csv')\n",
    "\n",
    "data_params = DataParams(\n",
    "    id_col='user_id', \n",
    "    group_col='groups',\n",
    "    control_name='control',\n",
    "    treatment_name='treatment',\n",
    "    is_grouped=True,\n",
    "    target='check_rub_campaign'\n",
    ")\n",
    "\n",
    "hypothesis_params = HypothesisParams(\n",
    "    alpha=0.01, \n",
    "    beta=0.2, \n",
    "    alternative='greater', \n",
    "    metric_type='solid', \n",
    "    metric_name='mean',  # <----- обязательное использование метрики \"среднее\"\n",
    "    n_boot_samples=1000,\n",
    "    n_buckets=1000  # <----- количество бакетов\n",
    ")\n",
    "\n",
    "ab_params = ABTestParams(data_params, hypothesis_params)\n",
    "ab_test = ABTest(df, ab_params)"
   ]
  },
  {
   "cell_type": "code",
   "execution_count": 39,
   "metadata": {},
   "outputs": [
    {
     "data": {
      "image/png": "[encoded data removed]",
      "text/plain": [
       "<Figure size 1440x864 with 1 Axes>"
      ]
     },
     "metadata": {
      "needs_background": "light"
     },
     "output_type": "display_data"
    }
   ],
   "source": [
    "ab_test.plot()"
   ]
  },
  {
   "cell_type": "code",
   "execution_count": 40,
   "metadata": {},
   "outputs": [],
   "source": [
    "ab_test_1 = ab_test.bucketing()"
   ]
  },
  {
   "cell_type": "code",
   "execution_count": 41,
   "metadata": {},
   "outputs": [
    {
     "data": {
      "image/png": "[encoded data removed]",
      "text/plain": [
       "<Figure size 1440x864 with 1 Axes>"
      ]
     },
     "metadata": {
      "needs_background": "light"
     },
     "output_type": "display_data"
    }
   ],
   "source": [
    "ab_test_1.plot()"
   ]
  },
  {
   "cell_type": "markdown",
   "metadata": {},
   "source": [
    "Сравниваем средние до и после бакетирования:"
   ]
  },
  {
   "cell_type": "code",
   "execution_count": 42,
   "metadata": {},
   "outputs": [
    {
     "name": "stdout",
     "output_type": "stream",
     "text": [
      "До бакетирования:\n",
      "249.84880671729383\n",
      "252.88208778173188\n",
      "\n",
      "После бакетирования:\n",
      "249.84525268686872\n",
      "252.88275974257425\n"
     ]
    }
   ],
   "source": [
    "print('До бакетирования:')\n",
    "print(np.mean(ab_test.params.data_params.control))\n",
    "print(np.mean(ab_test.params.data_params.treatment))\n",
    "print('\\nПосле бакетирования:')\n",
    "print(np.mean(ab_test_1.params.data_params.control))\n",
    "print(np.mean(ab_test_1.params.data_params.treatment))"
   ]
  },
  {
   "cell_type": "markdown",
   "metadata": {},
   "source": [
    "## Всё вместе"
   ]
  },
  {
   "cell_type": "code",
   "execution_count": 44,
   "metadata": {},
   "outputs": [],
   "source": [
    "df = pd.read_csv('./data/ab_data_new.csv')\n",
    "\n",
    "data_params = DataParams(\n",
    "    id_col='user_id', \n",
    "    group_col='groups',\n",
    "    control_name='control',\n",
    "    treatment_name='treatment',\n",
    "    covariate='check_rub_pre_campaign',\n",
    "    is_grouped=False,\n",
    "    target='check_rub_campaign'\n",
    ")\n",
    "\n",
    "hypothesis_params = HypothesisParams(\n",
    "    alpha=0.01, \n",
    "    beta=0.2, \n",
    "    alternative='greater', \n",
    "    metric_type='solid', \n",
    "    metric_name='median',\n",
    "    metric_transform=np.sqrt,\n",
    "    filter_method='top_5',\n",
    "    n_boot_samples=1000,\n",
    "    n_buckets=1000\n",
    ")\n",
    "\n",
    "ab_params = ABTestParams(data_params, hypothesis_params)"
   ]
  },
  {
   "cell_type": "code",
   "execution_count": 45,
   "metadata": {},
   "outputs": [],
   "source": [
    "ab_test = ABTest(df, ab_params).metric_transform().filter_outliers().linearization().cuped().bucketing()"
   ]
  },
  {
   "cell_type": "code",
   "execution_count": 46,
   "metadata": {},
   "outputs": [
    {
     "name": "stdout",
     "output_type": "stream",
     "text": [
      "\n",
      "        Parameters of experiment:\n",
      "        - Metric type: continuous.\n",
      "        - Metric: median.\n",
      "        - Errors: alpha = 0.01, beta = 0.2.\n",
      "        - Alternative: greater.\n",
      "\n",
      "        Control group:\n",
      "        - Observations: 1000\n",
      "        - Mean: 0.1987\n",
      "        - Median: 0.2146\n",
      "        - 25th quantile: 0.0868\n",
      "        - 75th quantile: 0.3247\n",
      "        - Minimum: -0.7493\n",
      "        - Maximum: 0.7020\n",
      "        - St.deviation: 0.1915\n",
      "        - Variance: 0.0367\n",
      "\n",
      "        Treatment group:\n",
      "        - Observations: 1000\n",
      "        - Mean: 0.3395\n",
      "        - Median: 0.3578\n",
      "        - 25th quantile: 0.2260\n",
      "        - 75th quantile: 0.4809\n",
      "        - Minimum: -0.6354\n",
      "        - Maximum: 0.8430\n",
      "        - St.deviation: 0.1915\n",
      "        - Variance: 0.0367\n",
      "\n",
      "        Transformations applied: metric transform -> filter outliers -> linearization -> cuped -> bucketing.\n",
      "        Number of bootstrap iterations: 1000. Number of buckets: 1000. Metric transformation applied: sqrt. Outliers filtering method applied: top_5. \n",
      "\n",
      "        Following statistical tests are used:\n",
      "        - Welch's t-test: 16.68, p-value = 0.0000, H0 is rejected.\n",
      "        - Mann Whitney's U-test: 289411.00, p-value = 1.0000, H0 is not rejected.\n",
      "        - Bootstrap test: H0 is rejected.\n",
      "\n",
      "        Two out of three stat. tests showed that H0 is rejected.\n",
      "        \n"
     ]
    }
   ],
   "source": [
    "ab_test.report()"
   ]
  },
  {
   "cell_type": "markdown",
   "metadata": {},
   "source": [
    "# Пост-анализ для метрики \"конверсия\"\n",
    "## Инициализация теста, иллюстрация, запуск теста и отчет"
   ]
  },
  {
   "cell_type": "code",
   "execution_count": 47,
   "metadata": {},
   "outputs": [],
   "source": [
    "df = pd.read_csv('./data/ab_data_new.csv')\n",
    "df = df.drop_duplicates(['user_id'])\n",
    "\n",
    "data_params = DataParams(\n",
    "    id_col='user_id', \n",
    "    group_col='groups',\n",
    "    control_name='control',\n",
    "    treatment_name='treatment',\n",
    "    is_grouped=True,\n",
    "    target_flg='has_transaction'  # <----- для конверсии задаем целевую колонку в этот аргумент\n",
    ")\n",
    "\n",
    "hypothesis_params = HypothesisParams(\n",
    "    alpha=0.01, \n",
    "    beta=0.2, \n",
    "    alternative='greater', \n",
    "    metric_type='binary', \n",
    "    metric_name='mean',  # <----- обязательное использование метрики \"среднее\"\n",
    "    n_boot_samples=1000\n",
    ")\n",
    "\n",
    "ab_params = ABTestParams(data_params, hypothesis_params)\n",
    "ab_test = ABTest(df, ab_params)"
   ]
  },
  {
   "cell_type": "code",
   "execution_count": 48,
   "metadata": {},
   "outputs": [
    {
     "ename": "ValueError",
     "evalue": "For each axis slice, the sum of the observed frequencies must agree with the sum of the expected frequencies to a relative tolerance of 1e-08, but the percent differences are:\n0.007660690581668719",
     "output_type": "error",
     "traceback": [
      "\u001b[0;31m---------------------------------------------------------------------------\u001b[0m",
      "\u001b[0;31mValueError\u001b[0m                                Traceback (most recent call last)",
      "\u001b[0;32m/var/folders/7r/n_prgqpn7898pkrs_50zgvmw0000gn/T/ipykernel_40112/4201848688.py\u001b[0m in \u001b[0;36m<module>\u001b[0;34m\u001b[0m\n\u001b[0;32m----> 1\u001b[0;31m \u001b[0mab_test\u001b[0m\u001b[0;34m.\u001b[0m\u001b[0mreport\u001b[0m\u001b[0;34m(\u001b[0m\u001b[0;34m)\u001b[0m\u001b[0;34m\u001b[0m\u001b[0;34m\u001b[0m\u001b[0m\n\u001b[0m",
      "\u001b[0;32m~/opt/anaconda3/lib/python3.9/site-packages/ABacus-0.0.1-py3.9.egg/abacus/auto_ab/abtest.py\u001b[0m in \u001b[0;36mreport\u001b[0;34m(self)\u001b[0m\n\u001b[1;32m    572\u001b[0m \u001b[0;34m\u001b[0m\u001b[0m\n\u001b[1;32m    573\u001b[0m         \u001b[0;32mif\u001b[0m \u001b[0mself\u001b[0m\u001b[0;34m.\u001b[0m\u001b[0mparams\u001b[0m\u001b[0;34m.\u001b[0m\u001b[0mhypothesis_params\u001b[0m\u001b[0;34m.\u001b[0m\u001b[0mmetric_type\u001b[0m \u001b[0;34m==\u001b[0m \u001b[0;34m'binary'\u001b[0m\u001b[0;34m:\u001b[0m\u001b[0;34m\u001b[0m\u001b[0;34m\u001b[0m\u001b[0m\n\u001b[0;32m--> 574\u001b[0;31m             \u001b[0mreport_output\u001b[0m \u001b[0;34m=\u001b[0m \u001b[0mself\u001b[0m\u001b[0;34m.\u001b[0m\u001b[0m__report_binary\u001b[0m\u001b[0;34m(\u001b[0m\u001b[0;34m)\u001b[0m\u001b[0;34m\u001b[0m\u001b[0;34m\u001b[0m\u001b[0m\n\u001b[0m\u001b[1;32m    575\u001b[0m \u001b[0;34m\u001b[0m\u001b[0m\n\u001b[1;32m    576\u001b[0m         \u001b[0mprint\u001b[0m\u001b[0;34m(\u001b[0m\u001b[0mreport_output\u001b[0m\u001b[0;34m)\u001b[0m\u001b[0;34m\u001b[0m\u001b[0;34m\u001b[0m\u001b[0m\n",
      "\u001b[0;32m~/opt/anaconda3/lib/python3.9/site-packages/ABacus-0.0.1-py3.9.egg/abacus/auto_ab/abtest.py\u001b[0m in \u001b[0;36m__report_binary\u001b[0;34m(self)\u001b[0m\n\u001b[1;32m    235\u001b[0m         \u001b[0mtrtm\u001b[0m \u001b[0;34m=\u001b[0m \u001b[0mself\u001b[0m\u001b[0;34m.\u001b[0m\u001b[0mparams\u001b[0m\u001b[0;34m.\u001b[0m\u001b[0mdata_params\u001b[0m\u001b[0;34m.\u001b[0m\u001b[0mtreatment\u001b[0m\u001b[0;34m\u001b[0m\u001b[0;34m\u001b[0m\u001b[0m\n\u001b[1;32m    236\u001b[0m \u001b[0;34m\u001b[0m\u001b[0m\n\u001b[0;32m--> 237\u001b[0;31m         \u001b[0mchisq\u001b[0m \u001b[0;34m=\u001b[0m \u001b[0mself\u001b[0m\u001b[0;34m.\u001b[0m\u001b[0mtest_chisquare\u001b[0m\u001b[0;34m(\u001b[0m\u001b[0;34m)\u001b[0m\u001b[0;34m\u001b[0m\u001b[0;34m\u001b[0m\u001b[0m\n\u001b[0m\u001b[1;32m    238\u001b[0m         \u001b[0mchisq_res\u001b[0m \u001b[0;34m=\u001b[0m \u001b[0;34m'H0 is not rejected'\u001b[0m \u001b[0;32mif\u001b[0m \u001b[0mchisq\u001b[0m\u001b[0;34m[\u001b[0m\u001b[0;34m'result'\u001b[0m\u001b[0;34m]\u001b[0m \u001b[0;34m==\u001b[0m \u001b[0;36m0\u001b[0m \u001b[0;32melse\u001b[0m \u001b[0;34m'H0 is rejected'\u001b[0m\u001b[0;34m\u001b[0m\u001b[0;34m\u001b[0m\u001b[0m\n\u001b[1;32m    239\u001b[0m         \u001b[0mztest\u001b[0m \u001b[0;34m=\u001b[0m \u001b[0mself\u001b[0m\u001b[0;34m.\u001b[0m\u001b[0mtest_z_proportions\u001b[0m\u001b[0;34m(\u001b[0m\u001b[0;34m)\u001b[0m\u001b[0;34m\u001b[0m\u001b[0;34m\u001b[0m\u001b[0m\n",
      "\u001b[0;32m~/opt/anaconda3/lib/python3.9/site-packages/ABacus-0.0.1-py3.9.egg/abacus/auto_ab/abtest.py\u001b[0m in \u001b[0;36mtest_chisquare\u001b[0;34m(self)\u001b[0m\n\u001b[1;32m    825\u001b[0m         \u001b[0mobserved\u001b[0m \u001b[0;34m=\u001b[0m \u001b[0mnp\u001b[0m\u001b[0;34m.\u001b[0m\u001b[0marray\u001b[0m\u001b[0;34m(\u001b[0m\u001b[0;34m[\u001b[0m\u001b[0msum\u001b[0m\u001b[0;34m(\u001b[0m\u001b[0my\u001b[0m\u001b[0;34m)\u001b[0m\u001b[0;34m,\u001b[0m \u001b[0mlen\u001b[0m\u001b[0;34m(\u001b[0m\u001b[0my\u001b[0m\u001b[0;34m)\u001b[0m \u001b[0;34m-\u001b[0m \u001b[0msum\u001b[0m\u001b[0;34m(\u001b[0m\u001b[0my\u001b[0m\u001b[0;34m)\u001b[0m\u001b[0;34m]\u001b[0m\u001b[0;34m)\u001b[0m\u001b[0;34m\u001b[0m\u001b[0;34m\u001b[0m\u001b[0m\n\u001b[1;32m    826\u001b[0m         \u001b[0mexpected\u001b[0m \u001b[0;34m=\u001b[0m \u001b[0mnp\u001b[0m\u001b[0;34m.\u001b[0m\u001b[0marray\u001b[0m\u001b[0;34m(\u001b[0m\u001b[0;34m[\u001b[0m\u001b[0msum\u001b[0m\u001b[0;34m(\u001b[0m\u001b[0mx\u001b[0m\u001b[0;34m)\u001b[0m\u001b[0;34m,\u001b[0m \u001b[0mlen\u001b[0m\u001b[0;34m(\u001b[0m\u001b[0mx\u001b[0m\u001b[0;34m)\u001b[0m \u001b[0;34m-\u001b[0m \u001b[0msum\u001b[0m\u001b[0;34m(\u001b[0m\u001b[0mx\u001b[0m\u001b[0;34m)\u001b[0m\u001b[0;34m]\u001b[0m\u001b[0;34m)\u001b[0m\u001b[0;34m\u001b[0m\u001b[0;34m\u001b[0m\u001b[0m\n\u001b[0;32m--> 827\u001b[0;31m         \u001b[0mstat\u001b[0m\u001b[0;34m,\u001b[0m \u001b[0mpvalue\u001b[0m \u001b[0;34m=\u001b[0m \u001b[0mchisquare\u001b[0m\u001b[0;34m(\u001b[0m\u001b[0mobserved\u001b[0m\u001b[0;34m,\u001b[0m \u001b[0mexpected\u001b[0m\u001b[0;34m)\u001b[0m\u001b[0;34m\u001b[0m\u001b[0;34m\u001b[0m\u001b[0m\n\u001b[0m\u001b[1;32m    828\u001b[0m \u001b[0;34m\u001b[0m\u001b[0m\n\u001b[1;32m    829\u001b[0m         \u001b[0mtest_result\u001b[0m\u001b[0;34m:\u001b[0m \u001b[0mint\u001b[0m \u001b[0;34m=\u001b[0m \u001b[0;36m0\u001b[0m\u001b[0;34m\u001b[0m\u001b[0;34m\u001b[0m\u001b[0m\n",
      "\u001b[0;32m~/opt/anaconda3/lib/python3.9/site-packages/scipy/stats/stats.py\u001b[0m in \u001b[0;36mchisquare\u001b[0;34m(f_obs, f_exp, ddof, axis)\u001b[0m\n\u001b[1;32m   6850\u001b[0m \u001b[0;34m\u001b[0m\u001b[0m\n\u001b[1;32m   6851\u001b[0m     \"\"\"\n\u001b[0;32m-> 6852\u001b[0;31m     return power_divergence(f_obs, f_exp=f_exp, ddof=ddof, axis=axis,\n\u001b[0m\u001b[1;32m   6853\u001b[0m                             lambda_=\"pearson\")\n\u001b[1;32m   6854\u001b[0m \u001b[0;34m\u001b[0m\u001b[0m\n",
      "\u001b[0;32m~/opt/anaconda3/lib/python3.9/site-packages/scipy/stats/stats.py\u001b[0m in \u001b[0;36mpower_divergence\u001b[0;34m(f_obs, f_exp, ddof, axis, lambda_)\u001b[0m\n\u001b[1;32m   6692\u001b[0m                    \u001b[0;34mf\"of {rtol}, but the percent differences are:\\n\"\u001b[0m\u001b[0;34m\u001b[0m\u001b[0;34m\u001b[0m\u001b[0m\n\u001b[1;32m   6693\u001b[0m                    f\"{relative_diff}\")\n\u001b[0;32m-> 6694\u001b[0;31m             \u001b[0;32mraise\u001b[0m \u001b[0mValueError\u001b[0m\u001b[0;34m(\u001b[0m\u001b[0mmsg\u001b[0m\u001b[0;34m)\u001b[0m\u001b[0;34m\u001b[0m\u001b[0;34m\u001b[0m\u001b[0m\n\u001b[0m\u001b[1;32m   6695\u001b[0m \u001b[0;34m\u001b[0m\u001b[0m\n\u001b[1;32m   6696\u001b[0m     \u001b[0;32melse\u001b[0m\u001b[0;34m:\u001b[0m\u001b[0;34m\u001b[0m\u001b[0;34m\u001b[0m\u001b[0m\n",
      "\u001b[0;31mValueError\u001b[0m: For each axis slice, the sum of the observed frequencies must agree with the sum of the expected frequencies to a relative tolerance of 1e-08, but the percent differences are:\n0.007660690581668719"
     ]
    }
   ],
   "source": [
    "ab_test.report()"
   ]
  },
  {
   "cell_type": "code",
   "execution_count": 50,
   "metadata": {},
   "outputs": [
    {
     "data": {
      "image/png": "[encoded data removed]",
      "text/plain": [
       "<Figure size 6000x3600 with 1 Axes>"
      ]
     },
     "metadata": {
      "needs_background": "light"
     },
     "output_type": "display_data"
    }
   ],
   "source": [
    "ab_test.plot()"
   ]
  },
  {
   "cell_type": "markdown",
   "metadata": {},
   "source": [
    "# Выделение групп эксперимента\n",
    "## Разделение на группы всех имеющихся данных"
   ]
  },
  {
   "cell_type": "code",
   "execution_count": 51,
   "metadata": {},
   "outputs": [],
   "source": [
    "df = pd.read_csv('./data/ab_data_new.csv')\n",
    "df = df.drop(columns=['groups'])\n",
    "df = df.drop_duplicates(['user_id'])"
   ]
  },
  {
   "cell_type": "code",
   "execution_count": 53,
   "metadata": {},
   "outputs": [],
   "source": [
    "split_builder_params = SplitBuilderParams(\n",
    "    map_group_names_to_sizes={\n",
    "        'control': None,\n",
    "        'target': None\n",
    "    },\n",
    "    main_strata_col = \"city\",\n",
    "    split_metric_col = \"check_rub_campaign\",\n",
    "    id_col = \"user_id\",\n",
    "    cols = [\"check_rub_pre_campaign\"],\n",
    "    cat_cols=[\"gender\"],\n",
    "    alpha=0.05,\n",
    "    n_bins = 6,\n",
    "    min_cluster_size = 100\n",
    ")"
   ]
  },
  {
   "cell_type": "code",
   "execution_count": 54,
   "metadata": {},
   "outputs": [],
   "source": [
    "split_builder = SplitBuilder(df, split_builder_params)"
   ]
  },
  {
   "cell_type": "code",
   "execution_count": 55,
   "metadata": {},
   "outputs": [],
   "source": [
    "split = split_builder.collect()"
   ]
  },
  {
   "cell_type": "code",
   "execution_count": 56,
   "metadata": {},
   "outputs": [
    {
     "data": {
      "text/html": [
       "<div>\n",
       "<style scoped>\n",
       "    .dataframe tbody tr th:only-of-type {\n",
       "        vertical-align: middle;\n",
       "    }\n",
       "\n",
       "    .dataframe tbody tr th {\n",
       "        vertical-align: top;\n",
       "    }\n",
       "\n",
       "    .dataframe thead th {\n",
       "        text-align: right;\n",
       "    }\n",
       "</style>\n",
       "<table border=\"1\" class=\"dataframe\">\n",
       "  <thead>\n",
       "    <tr style=\"text-align: right;\">\n",
       "      <th></th>\n",
       "      <th>user_id</th>\n",
       "      <th>gender</th>\n",
       "      <th>age</th>\n",
       "      <th>city</th>\n",
       "      <th>check_rub_campaign</th>\n",
       "      <th>check_rub_pre_campaign</th>\n",
       "      <th>has_transaction</th>\n",
       "      <th>clicks</th>\n",
       "      <th>session_duration</th>\n",
       "      <th>strata</th>\n",
       "      <th>group_name</th>\n",
       "    </tr>\n",
       "  </thead>\n",
       "  <tbody>\n",
       "    <tr>\n",
       "      <th>0</th>\n",
       "      <td>18552</td>\n",
       "      <td>0.648427</td>\n",
       "      <td>22</td>\n",
       "      <td>Moscow</td>\n",
       "      <td>26.9</td>\n",
       "      <td>24.605145</td>\n",
       "      <td>0</td>\n",
       "      <td>34</td>\n",
       "      <td>4</td>\n",
       "      <td>Moscow0-1</td>\n",
       "      <td>target</td>\n",
       "    </tr>\n",
       "    <tr>\n",
       "      <th>1</th>\n",
       "      <td>86133</td>\n",
       "      <td>0.648427</td>\n",
       "      <td>65</td>\n",
       "      <td>St.Petersburg</td>\n",
       "      <td>247.8</td>\n",
       "      <td>241.853127</td>\n",
       "      <td>0</td>\n",
       "      <td>26</td>\n",
       "      <td>35</td>\n",
       "      <td>St.Petersburg3-1</td>\n",
       "      <td>control</td>\n",
       "    </tr>\n",
       "    <tr>\n",
       "      <th>2</th>\n",
       "      <td>127815</td>\n",
       "      <td>0.351573</td>\n",
       "      <td>26</td>\n",
       "      <td>Moscow</td>\n",
       "      <td>1028.4</td>\n",
       "      <td>1025.731490</td>\n",
       "      <td>0</td>\n",
       "      <td>48</td>\n",
       "      <td>7</td>\n",
       "      <td>Moscow5-1</td>\n",
       "      <td>target</td>\n",
       "    </tr>\n",
       "    <tr>\n",
       "      <th>3</th>\n",
       "      <td>108774</td>\n",
       "      <td>0.648427</td>\n",
       "      <td>43</td>\n",
       "      <td>Moscow</td>\n",
       "      <td>125.6</td>\n",
       "      <td>127.394025</td>\n",
       "      <td>0</td>\n",
       "      <td>39</td>\n",
       "      <td>53</td>\n",
       "      <td>Moscow14</td>\n",
       "      <td>target</td>\n",
       "    </tr>\n",
       "    <tr>\n",
       "      <th>4</th>\n",
       "      <td>164071</td>\n",
       "      <td>0.648427</td>\n",
       "      <td>21</td>\n",
       "      <td>Moscow</td>\n",
       "      <td>278.2</td>\n",
       "      <td>276.548045</td>\n",
       "      <td>0</td>\n",
       "      <td>47</td>\n",
       "      <td>54</td>\n",
       "      <td>Moscow30</td>\n",
       "      <td>target</td>\n",
       "    </tr>\n",
       "  </tbody>\n",
       "</table>\n",
       "</div>"
      ],
      "text/plain": [
       "  user_id    gender  age           city  check_rub_campaign  \\\n",
       "0   18552  0.648427   22         Moscow                26.9   \n",
       "1   86133  0.648427   65  St.Petersburg               247.8   \n",
       "2  127815  0.351573   26         Moscow              1028.4   \n",
       "3  108774  0.648427   43         Moscow               125.6   \n",
       "4  164071  0.648427   21         Moscow               278.2   \n",
       "\n",
       "   check_rub_pre_campaign  has_transaction  clicks  session_duration  \\\n",
       "0               24.605145                0      34                 4   \n",
       "1              241.853127                0      26                35   \n",
       "2             1025.731490                0      48                 7   \n",
       "3              127.394025                0      39                53   \n",
       "4              276.548045                0      47                54   \n",
       "\n",
       "             strata group_name  \n",
       "0         Moscow0-1     target  \n",
       "1  St.Petersburg3-1    control  \n",
       "2         Moscow5-1     target  \n",
       "3          Moscow14     target  \n",
       "4          Moscow30     target  "
      ]
     },
     "execution_count": 56,
     "metadata": {},
     "output_type": "execute_result"
    }
   ],
   "source": [
    "split.head()"
   ]
  },
  {
   "cell_type": "code",
   "execution_count": 57,
   "metadata": {},
   "outputs": [
    {
     "name": "stdout",
     "output_type": "stream",
     "text": [
      "Количество строк исходно: 125533\n",
      "Количество строк в сплите: 125519\n"
     ]
    }
   ],
   "source": [
    "print(f'Количество строк исходно: {df.shape[0]}')\n",
    "print(f'Количество строк в сплите: {split.shape[0]}')"
   ]
  },
  {
   "cell_type": "markdown",
   "metadata": {},
   "source": [
    "## Разделение на группы с требуемым размером"
   ]
  },
  {
   "cell_type": "code",
   "execution_count": 58,
   "metadata": {},
   "outputs": [],
   "source": [
    "df = pd.read_csv('./data/ab_data_new.csv')\n",
    "df = df.drop(columns=['groups'])\n",
    "df = df.drop_duplicates(['user_id'])"
   ]
  },
  {
   "cell_type": "code",
   "execution_count": 60,
   "metadata": {},
   "outputs": [],
   "source": [
    "split_builder_params = SplitBuilderParams(\n",
    "    map_group_names_to_sizes={\n",
    "        'control': 20_000,  # <----- размер контрольной группы\n",
    "        'target': 30_000  # <----- размер тестовой группы\n",
    "    },\n",
    "    main_strata_col = \"city\",\n",
    "    split_metric_col = \"check_rub_campaign\",\n",
    "    id_col = \"user_id\",\n",
    "    cols = [\"check_rub_pre_campaign\"],\n",
    "    cat_cols=[\"gender\"],\n",
    "    alpha=0.05,\n",
    "    n_bins = 6,\n",
    "    min_cluster_size = 500\n",
    ")"
   ]
  },
  {
   "cell_type": "code",
   "execution_count": 61,
   "metadata": {},
   "outputs": [],
   "source": [
    "split_builder = SplitBuilder(df, split_builder_params)"
   ]
  },
  {
   "cell_type": "code",
   "execution_count": 62,
   "metadata": {},
   "outputs": [],
   "source": [
    "split = split_builder.collect()"
   ]
  },
  {
   "cell_type": "code",
   "execution_count": 63,
   "metadata": {},
   "outputs": [
    {
     "data": {
      "text/html": [
       "<div>\n",
       "<style scoped>\n",
       "    .dataframe tbody tr th:only-of-type {\n",
       "        vertical-align: middle;\n",
       "    }\n",
       "\n",
       "    .dataframe tbody tr th {\n",
       "        vertical-align: top;\n",
       "    }\n",
       "\n",
       "    .dataframe thead th {\n",
       "        text-align: right;\n",
       "    }\n",
       "</style>\n",
       "<table border=\"1\" class=\"dataframe\">\n",
       "  <thead>\n",
       "    <tr style=\"text-align: right;\">\n",
       "      <th></th>\n",
       "      <th>user_id</th>\n",
       "      <th>gender</th>\n",
       "      <th>age</th>\n",
       "      <th>city</th>\n",
       "      <th>check_rub_campaign</th>\n",
       "      <th>check_rub_pre_campaign</th>\n",
       "      <th>has_transaction</th>\n",
       "      <th>clicks</th>\n",
       "      <th>session_duration</th>\n",
       "      <th>strata</th>\n",
       "      <th>group_name</th>\n",
       "    </tr>\n",
       "  </thead>\n",
       "  <tbody>\n",
       "    <tr>\n",
       "      <th>0</th>\n",
       "      <td>127815</td>\n",
       "      <td>0.351573</td>\n",
       "      <td>26</td>\n",
       "      <td>Moscow</td>\n",
       "      <td>1028.4</td>\n",
       "      <td>1025.731490</td>\n",
       "      <td>0</td>\n",
       "      <td>48</td>\n",
       "      <td>7</td>\n",
       "      <td>Moscow5-1</td>\n",
       "      <td>control</td>\n",
       "    </tr>\n",
       "    <tr>\n",
       "      <th>1</th>\n",
       "      <td>92766</td>\n",
       "      <td>0.648428</td>\n",
       "      <td>21</td>\n",
       "      <td>Moscow</td>\n",
       "      <td>345.9</td>\n",
       "      <td>358.387740</td>\n",
       "      <td>0</td>\n",
       "      <td>7</td>\n",
       "      <td>29</td>\n",
       "      <td>Moscow4-1</td>\n",
       "      <td>control</td>\n",
       "    </tr>\n",
       "    <tr>\n",
       "      <th>2</th>\n",
       "      <td>49963</td>\n",
       "      <td>0.351573</td>\n",
       "      <td>42</td>\n",
       "      <td>Moscow</td>\n",
       "      <td>145.3</td>\n",
       "      <td>129.911655</td>\n",
       "      <td>0</td>\n",
       "      <td>5</td>\n",
       "      <td>49</td>\n",
       "      <td>Moscow1-1</td>\n",
       "      <td>target</td>\n",
       "    </tr>\n",
       "    <tr>\n",
       "      <th>3</th>\n",
       "      <td>10020</td>\n",
       "      <td>0.648428</td>\n",
       "      <td>54</td>\n",
       "      <td>St.Petersburg</td>\n",
       "      <td>275.7</td>\n",
       "      <td>262.848778</td>\n",
       "      <td>0</td>\n",
       "      <td>7</td>\n",
       "      <td>57</td>\n",
       "      <td>St.Petersburg3-1</td>\n",
       "      <td>target</td>\n",
       "    </tr>\n",
       "    <tr>\n",
       "      <th>4</th>\n",
       "      <td>191969</td>\n",
       "      <td>0.351573</td>\n",
       "      <td>59</td>\n",
       "      <td>Moscow</td>\n",
       "      <td>105.3</td>\n",
       "      <td>99.209423</td>\n",
       "      <td>0</td>\n",
       "      <td>24</td>\n",
       "      <td>107</td>\n",
       "      <td>Moscow1-1</td>\n",
       "      <td>control</td>\n",
       "    </tr>\n",
       "  </tbody>\n",
       "</table>\n",
       "</div>"
      ],
      "text/plain": [
       "  user_id    gender  age           city  check_rub_campaign  \\\n",
       "0  127815  0.351573   26         Moscow              1028.4   \n",
       "1   92766  0.648428   21         Moscow               345.9   \n",
       "2   49963  0.351573   42         Moscow               145.3   \n",
       "3   10020  0.648428   54  St.Petersburg               275.7   \n",
       "4  191969  0.351573   59         Moscow               105.3   \n",
       "\n",
       "   check_rub_pre_campaign  has_transaction  clicks  session_duration  \\\n",
       "0             1025.731490                0      48                 7   \n",
       "1              358.387740                0       7                29   \n",
       "2              129.911655                0       5                49   \n",
       "3              262.848778                0       7                57   \n",
       "4               99.209423                0      24               107   \n",
       "\n",
       "             strata group_name  \n",
       "0         Moscow5-1    control  \n",
       "1         Moscow4-1    control  \n",
       "2         Moscow1-1     target  \n",
       "3  St.Petersburg3-1     target  \n",
       "4         Moscow1-1    control  "
      ]
     },
     "execution_count": 63,
     "metadata": {},
     "output_type": "execute_result"
    }
   ],
   "source": [
    "split.head()"
   ]
  },
  {
   "cell_type": "code",
   "execution_count": 64,
   "metadata": {},
   "outputs": [
    {
     "name": "stdout",
     "output_type": "stream",
     "text": [
      "Количество строк исходно: 125533\n",
      "Количество строк в сплите: 49998\n",
      "Количество строк в контроле: 20000\n",
      "Количество строк в тесте: 29998\n"
     ]
    }
   ],
   "source": [
    "print(f'Количество строк исходно: {df.shape[0]}')\n",
    "print(f'Количество строк в сплите: {split.shape[0]}')\n",
    "print(f'Количество строк в контроле: {split[split.group_name == \"control\"].shape[0]}')\n",
    "print(f'Количество строк в тесте: {split[split.group_name == \"target\"].shape[0]}')"
   ]
  },
  {
   "cell_type": "markdown",
   "metadata": {},
   "source": [
    "# Подбор параметров эксперимента\n",
    "## Непрерывная метрика, без трансформаций"
   ]
  },
  {
   "cell_type": "code",
   "execution_count": 65,
   "metadata": {},
   "outputs": [],
   "source": [
    "df = pd.read_csv('./data/ab_data_new.csv')\n",
    "df = df.drop_duplicates(['user_id'])"
   ]
  },
  {
   "cell_type": "code",
   "execution_count": 66,
   "metadata": {},
   "outputs": [],
   "source": [
    "data_params = DataParams(\n",
    "    id_col='user_id', \n",
    "    group_col='groups',\n",
    "    control_name='control',\n",
    "    treatment_name='treatment',\n",
    "    is_grouped=True,\n",
    "    target='check_rub_campaign' \n",
    ")\n",
    "\n",
    "hypothesis_params = HypothesisParams(\n",
    "    alpha=0.01, \n",
    "    beta=0.2, \n",
    "    alternative='greater', \n",
    "    metric_type='solid', \n",
    "    metric_name='mean', \n",
    "    n_boot_samples=1000\n",
    ")\n",
    "\n",
    "ab_params = ABTestParams(data_params, hypothesis_params)\n",
    "ab_test = ABTest(df, ab_params)"
   ]
  },
  {
   "cell_type": "code",
   "execution_count": 68,
   "metadata": {},
   "outputs": [],
   "source": [
    "split_builder_params = SplitBuilderParams(\n",
    "    map_group_names_to_sizes={\n",
    "        'control': None, \n",
    "        'target': None\n",
    "    },\n",
    "    main_strata_col = \"city\",\n",
    "    split_metric_col = \"check_rub_campaign\",\n",
    "    id_col = \"user_id\",\n",
    "    cols = [\"check_rub_pre_campaign\"],\n",
    "    cat_cols=[\"gender\"],\n",
    "    alpha=0.05,\n",
    "    n_bins = 6,\n",
    "    min_cluster_size = 500\n",
    ")"
   ]
  },
  {
   "cell_type": "code",
   "execution_count": 69,
   "metadata": {},
   "outputs": [],
   "source": [
    "experiment_params = MdeParams(\n",
    "    metrics_names=['check_rub_campaign'],\n",
    "    injects=[1.010, 1.013, 1.015, 1.018, 1.02, 1.030],\n",
    "    min_group_size=5_000, \n",
    "    max_group_size=30_000, \n",
    "    step=5_000,\n",
    "    variance_reduction=None,\n",
    "    use_buckets=False,\n",
    "    stat_test=ABTest.test_welch,\n",
    "    iterations_number=10,\n",
    "    max_beta_score=0.9,\n",
    "    min_beta_score=0.2,\n",
    ")"
   ]
  },
  {
   "cell_type": "code",
   "execution_count": 70,
   "metadata": {},
   "outputs": [],
   "source": [
    "prepilot = MdeResearchBuilder(df, \n",
    "                              ab_params,\n",
    "                              experiment_params,\n",
    "                              split_builder_params)"
   ]
  },
  {
   "cell_type": "code",
   "execution_count": 71,
   "metadata": {},
   "outputs": [],
   "source": [
    "beta, alpha = prepilot.collect()"
   ]
  },
  {
   "cell_type": "code",
   "execution_count": 74,
   "metadata": {},
   "outputs": [
    {
     "data": {
      "text/html": [
       "<div>\n",
       "<style scoped>\n",
       "    .dataframe tbody tr th:only-of-type {\n",
       "        vertical-align: middle;\n",
       "    }\n",
       "\n",
       "    .dataframe tbody tr th {\n",
       "        vertical-align: top;\n",
       "    }\n",
       "\n",
       "    .dataframe thead th {\n",
       "        text-align: right;\n",
       "    }\n",
       "</style>\n",
       "<table border=\"1\" class=\"dataframe\">\n",
       "  <thead>\n",
       "    <tr style=\"text-align: right;\">\n",
       "      <th></th>\n",
       "      <th>split_rate</th>\n",
       "      <th>(5000, 5000)</th>\n",
       "      <th>(10000, 10000)</th>\n",
       "      <th>(15000, 15000)</th>\n",
       "      <th>(20000, 20000)</th>\n",
       "      <th>(25000, 25000)</th>\n",
       "      <th>(30000, 30000)</th>\n",
       "    </tr>\n",
       "    <tr>\n",
       "      <th>metric</th>\n",
       "      <th>Effect</th>\n",
       "      <th></th>\n",
       "      <th></th>\n",
       "      <th></th>\n",
       "      <th></th>\n",
       "      <th></th>\n",
       "      <th></th>\n",
       "    </tr>\n",
       "  </thead>\n",
       "  <tbody>\n",
       "    <tr>\n",
       "      <th rowspan=\"6\" valign=\"top\">check_rub_campaign</th>\n",
       "      <th>1.0%</th>\n",
       "      <td>&gt;=0.9</td>\n",
       "      <td>&gt;=0.9</td>\n",
       "      <td>&gt;=0.9</td>\n",
       "      <td>&gt;=0.9</td>\n",
       "      <td>&gt;=0.9</td>\n",
       "      <td>&gt;=0.9</td>\n",
       "    </tr>\n",
       "    <tr>\n",
       "      <th>1.3%</th>\n",
       "      <td>&gt;=0.9</td>\n",
       "      <td>&gt;=0.9</td>\n",
       "      <td>&gt;=0.9</td>\n",
       "      <td>&gt;=0.9</td>\n",
       "      <td>&gt;=0.9</td>\n",
       "      <td>0.5</td>\n",
       "    </tr>\n",
       "    <tr>\n",
       "      <th>1.5%</th>\n",
       "      <td>&gt;=0.9</td>\n",
       "      <td>&gt;=0.9</td>\n",
       "      <td>&gt;=0.9</td>\n",
       "      <td>0.8</td>\n",
       "      <td>0.5</td>\n",
       "      <td>0.3</td>\n",
       "    </tr>\n",
       "    <tr>\n",
       "      <th>1.8%</th>\n",
       "      <td>&gt;=0.9</td>\n",
       "      <td>&gt;=0.9</td>\n",
       "      <td>0.5</td>\n",
       "      <td>0.4</td>\n",
       "      <td>&lt;=0.2</td>\n",
       "      <td>&lt;=0.2</td>\n",
       "    </tr>\n",
       "    <tr>\n",
       "      <th>2.0%</th>\n",
       "      <td>&gt;=0.9</td>\n",
       "      <td>&gt;=0.9</td>\n",
       "      <td>&lt;=0.2</td>\n",
       "      <td>&lt;=0.2</td>\n",
       "      <td>&lt;=0.2</td>\n",
       "      <td>&lt;=0.2</td>\n",
       "    </tr>\n",
       "    <tr>\n",
       "      <th>3.0%</th>\n",
       "      <td>0.8</td>\n",
       "      <td>&lt;=0.2</td>\n",
       "      <td>&lt;=0.2</td>\n",
       "      <td>&lt;=0.2</td>\n",
       "      <td>&lt;=0.2</td>\n",
       "      <td>&lt;=0.2</td>\n",
       "    </tr>\n",
       "  </tbody>\n",
       "</table>\n",
       "</div>"
      ],
      "text/plain": [
       "split_rate                (5000, 5000) (10000, 10000) (15000, 15000)  \\\n",
       "metric             Effect                                              \n",
       "check_rub_campaign 1.0%          >=0.9          >=0.9          >=0.9   \n",
       "                   1.3%          >=0.9          >=0.9          >=0.9   \n",
       "                   1.5%          >=0.9          >=0.9          >=0.9   \n",
       "                   1.8%          >=0.9          >=0.9            0.5   \n",
       "                   2.0%          >=0.9          >=0.9          <=0.2   \n",
       "                   3.0%            0.8          <=0.2          <=0.2   \n",
       "\n",
       "split_rate                (20000, 20000) (25000, 25000) (30000, 30000)  \n",
       "metric             Effect                                               \n",
       "check_rub_campaign 1.0%            >=0.9          >=0.9          >=0.9  \n",
       "                   1.3%            >=0.9          >=0.9            0.5  \n",
       "                   1.5%              0.8            0.5            0.3  \n",
       "                   1.8%              0.4          <=0.2          <=0.2  \n",
       "                   2.0%            <=0.2          <=0.2          <=0.2  \n",
       "                   3.0%            <=0.2          <=0.2          <=0.2  "
      ]
     },
     "execution_count": 74,
     "metadata": {},
     "output_type": "execute_result"
    }
   ],
   "source": [
    "beta"
   ]
  },
  {
   "cell_type": "code",
   "execution_count": 75,
   "metadata": {},
   "outputs": [
    {
     "data": {
      "text/html": [
       "<div>\n",
       "<style scoped>\n",
       "    .dataframe tbody tr th:only-of-type {\n",
       "        vertical-align: middle;\n",
       "    }\n",
       "\n",
       "    .dataframe tbody tr th {\n",
       "        vertical-align: top;\n",
       "    }\n",
       "\n",
       "    .dataframe thead th {\n",
       "        text-align: right;\n",
       "    }\n",
       "</style>\n",
       "<table border=\"1\" class=\"dataframe\">\n",
       "  <thead>\n",
       "    <tr style=\"text-align: right;\">\n",
       "      <th>split_rate</th>\n",
       "      <th>(5000, 5000)</th>\n",
       "      <th>(10000, 10000)</th>\n",
       "      <th>(15000, 15000)</th>\n",
       "      <th>(20000, 20000)</th>\n",
       "      <th>(25000, 25000)</th>\n",
       "      <th>(30000, 30000)</th>\n",
       "    </tr>\n",
       "    <tr>\n",
       "      <th>metric</th>\n",
       "      <th></th>\n",
       "      <th></th>\n",
       "      <th></th>\n",
       "      <th></th>\n",
       "      <th></th>\n",
       "      <th></th>\n",
       "    </tr>\n",
       "  </thead>\n",
       "  <tbody>\n",
       "    <tr>\n",
       "      <th>check_rub_campaign</th>\n",
       "      <td>0.0</td>\n",
       "      <td>0.0</td>\n",
       "      <td>0.0</td>\n",
       "      <td>0.0</td>\n",
       "      <td>0.0</td>\n",
       "      <td>0.0</td>\n",
       "    </tr>\n",
       "  </tbody>\n",
       "</table>\n",
       "</div>"
      ],
      "text/plain": [
       "split_rate          (5000, 5000)  (10000, 10000)  (15000, 15000)  \\\n",
       "metric                                                             \n",
       "check_rub_campaign           0.0             0.0             0.0   \n",
       "\n",
       "split_rate          (20000, 20000)  (25000, 25000)  (30000, 30000)  \n",
       "metric                                                              \n",
       "check_rub_campaign             0.0             0.0             0.0  "
      ]
     },
     "execution_count": 75,
     "metadata": {},
     "output_type": "execute_result"
    }
   ],
   "source": [
    "alpha"
   ]
  },
  {
   "cell_type": "markdown",
   "metadata": {},
   "source": [
    "## Непрерывная метрика, понижение дисперсии"
   ]
  },
  {
   "cell_type": "code",
   "execution_count": 76,
   "metadata": {},
   "outputs": [],
   "source": [
    "data_params = DataParams(\n",
    "    id_col='user_id', \n",
    "    group_col='groups',\n",
    "    control_name='control',\n",
    "    treatment_name='treatment',\n",
    "    is_grouped=True,\n",
    "    target='check_rub_campaign', \n",
    "    covariate='check_rub_pre_campaign'  # <----- добавили ковариату\n",
    ")\n",
    "\n",
    "hypothesis_params = HypothesisParams(\n",
    "    alpha=0.01, \n",
    "    beta=0.2, \n",
    "    alternative='greater', \n",
    "    metric_type='solid', \n",
    "    metric_name='mean', \n",
    "    n_boot_samples=1000\n",
    ")\n",
    "\n",
    "ab_params = ABTestParams(data_params, hypothesis_params)\n",
    "ab_test = ABTest(df, ab_params)"
   ]
  },
  {
   "cell_type": "code",
   "execution_count": 77,
   "metadata": {},
   "outputs": [],
   "source": [
    "experiment_params = MdeParams(\n",
    "    metrics_names=['check_rub_campaign'],\n",
    "    injects=[1.010, 1.013, 1.015, 1.018, 1.02, 1.030],\n",
    "    min_group_size=5_000, \n",
    "    max_group_size=30_000, \n",
    "    step=5_000,\n",
    "    variance_reduction=ABTest.cuped,\n",
    "    use_buckets=False,\n",
    "    stat_test=ABTest.test_welch,\n",
    "    iterations_number=10,\n",
    "    max_beta_score=0.9,\n",
    "    min_beta_score=0.2,\n",
    ")"
   ]
  },
  {
   "cell_type": "code",
   "execution_count": 78,
   "metadata": {},
   "outputs": [],
   "source": [
    "prepilot = MdeResearchBuilder(df, \n",
    "                              ab_params,\n",
    "                              experiment_params,\n",
    "                              split_builder_params)"
   ]
  },
  {
   "cell_type": "code",
   "execution_count": 79,
   "metadata": {},
   "outputs": [],
   "source": [
    "beta, alpha = prepilot.collect()"
   ]
  },
  {
   "cell_type": "code",
   "execution_count": 80,
   "metadata": {},
   "outputs": [
    {
     "data": {
      "text/html": [
       "<div>\n",
       "<style scoped>\n",
       "    .dataframe tbody tr th:only-of-type {\n",
       "        vertical-align: middle;\n",
       "    }\n",
       "\n",
       "    .dataframe tbody tr th {\n",
       "        vertical-align: top;\n",
       "    }\n",
       "\n",
       "    .dataframe thead th {\n",
       "        text-align: right;\n",
       "    }\n",
       "</style>\n",
       "<table border=\"1\" class=\"dataframe\">\n",
       "  <thead>\n",
       "    <tr style=\"text-align: right;\">\n",
       "      <th></th>\n",
       "      <th>split_rate</th>\n",
       "      <th>(5000, 5000)</th>\n",
       "      <th>(10000, 10000)</th>\n",
       "      <th>(15000, 15000)</th>\n",
       "      <th>(20000, 20000)</th>\n",
       "      <th>(25000, 25000)</th>\n",
       "      <th>(30000, 30000)</th>\n",
       "    </tr>\n",
       "    <tr>\n",
       "      <th>metric</th>\n",
       "      <th>Effect</th>\n",
       "      <th></th>\n",
       "      <th></th>\n",
       "      <th></th>\n",
       "      <th></th>\n",
       "      <th></th>\n",
       "      <th></th>\n",
       "    </tr>\n",
       "  </thead>\n",
       "  <tbody>\n",
       "    <tr>\n",
       "      <th rowspan=\"6\" valign=\"top\">check_rub_campaign</th>\n",
       "      <th>1.0%</th>\n",
       "      <td>&lt;=0.2</td>\n",
       "      <td>&lt;=0.2</td>\n",
       "      <td>&lt;=0.2</td>\n",
       "      <td>&lt;=0.2</td>\n",
       "      <td>&lt;=0.2</td>\n",
       "      <td>&lt;=0.2</td>\n",
       "    </tr>\n",
       "    <tr>\n",
       "      <th>1.3%</th>\n",
       "      <td>&lt;=0.2</td>\n",
       "      <td>&lt;=0.2</td>\n",
       "      <td>&lt;=0.2</td>\n",
       "      <td>&lt;=0.2</td>\n",
       "      <td>&lt;=0.2</td>\n",
       "      <td>&lt;=0.2</td>\n",
       "    </tr>\n",
       "    <tr>\n",
       "      <th>1.5%</th>\n",
       "      <td>&lt;=0.2</td>\n",
       "      <td>&lt;=0.2</td>\n",
       "      <td>&lt;=0.2</td>\n",
       "      <td>&lt;=0.2</td>\n",
       "      <td>&lt;=0.2</td>\n",
       "      <td>&lt;=0.2</td>\n",
       "    </tr>\n",
       "    <tr>\n",
       "      <th>1.8%</th>\n",
       "      <td>&lt;=0.2</td>\n",
       "      <td>&lt;=0.2</td>\n",
       "      <td>&lt;=0.2</td>\n",
       "      <td>&lt;=0.2</td>\n",
       "      <td>&lt;=0.2</td>\n",
       "      <td>&lt;=0.2</td>\n",
       "    </tr>\n",
       "    <tr>\n",
       "      <th>2.0%</th>\n",
       "      <td>&lt;=0.2</td>\n",
       "      <td>&lt;=0.2</td>\n",
       "      <td>&lt;=0.2</td>\n",
       "      <td>&lt;=0.2</td>\n",
       "      <td>&lt;=0.2</td>\n",
       "      <td>&lt;=0.2</td>\n",
       "    </tr>\n",
       "    <tr>\n",
       "      <th>3.0%</th>\n",
       "      <td>&lt;=0.2</td>\n",
       "      <td>&lt;=0.2</td>\n",
       "      <td>&lt;=0.2</td>\n",
       "      <td>&lt;=0.2</td>\n",
       "      <td>&lt;=0.2</td>\n",
       "      <td>&lt;=0.2</td>\n",
       "    </tr>\n",
       "  </tbody>\n",
       "</table>\n",
       "</div>"
      ],
      "text/plain": [
       "split_rate                (5000, 5000) (10000, 10000) (15000, 15000)  \\\n",
       "metric             Effect                                              \n",
       "check_rub_campaign 1.0%          <=0.2          <=0.2          <=0.2   \n",
       "                   1.3%          <=0.2          <=0.2          <=0.2   \n",
       "                   1.5%          <=0.2          <=0.2          <=0.2   \n",
       "                   1.8%          <=0.2          <=0.2          <=0.2   \n",
       "                   2.0%          <=0.2          <=0.2          <=0.2   \n",
       "                   3.0%          <=0.2          <=0.2          <=0.2   \n",
       "\n",
       "split_rate                (20000, 20000) (25000, 25000) (30000, 30000)  \n",
       "metric             Effect                                               \n",
       "check_rub_campaign 1.0%            <=0.2          <=0.2          <=0.2  \n",
       "                   1.3%            <=0.2          <=0.2          <=0.2  \n",
       "                   1.5%            <=0.2          <=0.2          <=0.2  \n",
       "                   1.8%            <=0.2          <=0.2          <=0.2  \n",
       "                   2.0%            <=0.2          <=0.2          <=0.2  \n",
       "                   3.0%            <=0.2          <=0.2          <=0.2  "
      ]
     },
     "execution_count": 80,
     "metadata": {},
     "output_type": "execute_result"
    }
   ],
   "source": [
    "beta"
   ]
  },
  {
   "cell_type": "code",
   "execution_count": 81,
   "metadata": {},
   "outputs": [
    {
     "data": {
      "text/html": [
       "<div>\n",
       "<style scoped>\n",
       "    .dataframe tbody tr th:only-of-type {\n",
       "        vertical-align: middle;\n",
       "    }\n",
       "\n",
       "    .dataframe tbody tr th {\n",
       "        vertical-align: top;\n",
       "    }\n",
       "\n",
       "    .dataframe thead th {\n",
       "        text-align: right;\n",
       "    }\n",
       "</style>\n",
       "<table border=\"1\" class=\"dataframe\">\n",
       "  <thead>\n",
       "    <tr style=\"text-align: right;\">\n",
       "      <th>split_rate</th>\n",
       "      <th>(5000, 5000)</th>\n",
       "      <th>(10000, 10000)</th>\n",
       "      <th>(15000, 15000)</th>\n",
       "      <th>(20000, 20000)</th>\n",
       "      <th>(25000, 25000)</th>\n",
       "      <th>(30000, 30000)</th>\n",
       "    </tr>\n",
       "    <tr>\n",
       "      <th>metric</th>\n",
       "      <th></th>\n",
       "      <th></th>\n",
       "      <th></th>\n",
       "      <th></th>\n",
       "      <th></th>\n",
       "      <th></th>\n",
       "    </tr>\n",
       "  </thead>\n",
       "  <tbody>\n",
       "    <tr>\n",
       "      <th>check_rub_campaign</th>\n",
       "      <td>0.1</td>\n",
       "      <td>0.2</td>\n",
       "      <td>0.4</td>\n",
       "      <td>0.7</td>\n",
       "      <td>0.3</td>\n",
       "      <td>0.3</td>\n",
       "    </tr>\n",
       "  </tbody>\n",
       "</table>\n",
       "</div>"
      ],
      "text/plain": [
       "split_rate          (5000, 5000)  (10000, 10000)  (15000, 15000)  \\\n",
       "metric                                                             \n",
       "check_rub_campaign           0.1             0.2             0.4   \n",
       "\n",
       "split_rate          (20000, 20000)  (25000, 25000)  (30000, 30000)  \n",
       "metric                                                              \n",
       "check_rub_campaign             0.7             0.3             0.3  "
      ]
     },
     "execution_count": 81,
     "metadata": {},
     "output_type": "execute_result"
    }
   ],
   "source": [
    "alpha"
   ]
  },
  {
   "cell_type": "markdown",
   "metadata": {},
   "source": [
    "## Непрерывная метрика, бакетирование"
   ]
  },
  {
   "cell_type": "code",
   "execution_count": 82,
   "metadata": {},
   "outputs": [],
   "source": [
    "experiment_params = MdeParams(\n",
    "    metrics_names=['check_rub_campaign'],\n",
    "    injects=[1.010, 1.013, 1.015, 1.018, 1.02, 1.030],\n",
    "    min_group_size=5_000, \n",
    "    max_group_size=30_000, \n",
    "    step=5_000,\n",
    "    variance_reduction=ABTest.cuped,\n",
    "    use_buckets=True,\n",
    "    stat_test=ABTest.test_welch,\n",
    "    iterations_number=10,\n",
    "    max_beta_score=0.9,\n",
    "    min_beta_score=0.2,\n",
    ")"
   ]
  },
  {
   "cell_type": "code",
   "execution_count": 83,
   "metadata": {},
   "outputs": [],
   "source": [
    "prepilot = MdeResearchBuilder(df, \n",
    "                              ab_params,\n",
    "                              experiment_params,\n",
    "                              split_builder_params)"
   ]
  },
  {
   "cell_type": "code",
   "execution_count": 84,
   "metadata": {},
   "outputs": [],
   "source": [
    "beta, alpha = prepilot.collect()"
   ]
  },
  {
   "cell_type": "code",
   "execution_count": 85,
   "metadata": {},
   "outputs": [
    {
     "data": {
      "text/html": [
       "<div>\n",
       "<style scoped>\n",
       "    .dataframe tbody tr th:only-of-type {\n",
       "        vertical-align: middle;\n",
       "    }\n",
       "\n",
       "    .dataframe tbody tr th {\n",
       "        vertical-align: top;\n",
       "    }\n",
       "\n",
       "    .dataframe thead th {\n",
       "        text-align: right;\n",
       "    }\n",
       "</style>\n",
       "<table border=\"1\" class=\"dataframe\">\n",
       "  <thead>\n",
       "    <tr style=\"text-align: right;\">\n",
       "      <th></th>\n",
       "      <th>split_rate</th>\n",
       "      <th>(5000, 5000)</th>\n",
       "      <th>(10000, 10000)</th>\n",
       "      <th>(15000, 15000)</th>\n",
       "      <th>(20000, 20000)</th>\n",
       "      <th>(25000, 25000)</th>\n",
       "      <th>(30000, 30000)</th>\n",
       "    </tr>\n",
       "    <tr>\n",
       "      <th>metric</th>\n",
       "      <th>Effect</th>\n",
       "      <th></th>\n",
       "      <th></th>\n",
       "      <th></th>\n",
       "      <th></th>\n",
       "      <th></th>\n",
       "      <th></th>\n",
       "    </tr>\n",
       "  </thead>\n",
       "  <tbody>\n",
       "    <tr>\n",
       "      <th rowspan=\"6\" valign=\"top\">check_rub_campaign</th>\n",
       "      <th>1.0%</th>\n",
       "      <td>0.3</td>\n",
       "      <td>&lt;=0.2</td>\n",
       "      <td>&lt;=0.2</td>\n",
       "      <td>&lt;=0.2</td>\n",
       "      <td>&lt;=0.2</td>\n",
       "      <td>&lt;=0.2</td>\n",
       "    </tr>\n",
       "    <tr>\n",
       "      <th>1.3%</th>\n",
       "      <td>&lt;=0.2</td>\n",
       "      <td>&lt;=0.2</td>\n",
       "      <td>&lt;=0.2</td>\n",
       "      <td>&lt;=0.2</td>\n",
       "      <td>&lt;=0.2</td>\n",
       "      <td>&lt;=0.2</td>\n",
       "    </tr>\n",
       "    <tr>\n",
       "      <th>1.5%</th>\n",
       "      <td>&lt;=0.2</td>\n",
       "      <td>&lt;=0.2</td>\n",
       "      <td>&lt;=0.2</td>\n",
       "      <td>&lt;=0.2</td>\n",
       "      <td>&lt;=0.2</td>\n",
       "      <td>&lt;=0.2</td>\n",
       "    </tr>\n",
       "    <tr>\n",
       "      <th>1.8%</th>\n",
       "      <td>&lt;=0.2</td>\n",
       "      <td>&lt;=0.2</td>\n",
       "      <td>&lt;=0.2</td>\n",
       "      <td>&lt;=0.2</td>\n",
       "      <td>&lt;=0.2</td>\n",
       "      <td>&lt;=0.2</td>\n",
       "    </tr>\n",
       "    <tr>\n",
       "      <th>2.0%</th>\n",
       "      <td>&lt;=0.2</td>\n",
       "      <td>&lt;=0.2</td>\n",
       "      <td>&lt;=0.2</td>\n",
       "      <td>&lt;=0.2</td>\n",
       "      <td>&lt;=0.2</td>\n",
       "      <td>&lt;=0.2</td>\n",
       "    </tr>\n",
       "    <tr>\n",
       "      <th>3.0%</th>\n",
       "      <td>&lt;=0.2</td>\n",
       "      <td>&lt;=0.2</td>\n",
       "      <td>&lt;=0.2</td>\n",
       "      <td>&lt;=0.2</td>\n",
       "      <td>&lt;=0.2</td>\n",
       "      <td>&lt;=0.2</td>\n",
       "    </tr>\n",
       "  </tbody>\n",
       "</table>\n",
       "</div>"
      ],
      "text/plain": [
       "split_rate                (5000, 5000) (10000, 10000) (15000, 15000)  \\\n",
       "metric             Effect                                              \n",
       "check_rub_campaign 1.0%            0.3          <=0.2          <=0.2   \n",
       "                   1.3%          <=0.2          <=0.2          <=0.2   \n",
       "                   1.5%          <=0.2          <=0.2          <=0.2   \n",
       "                   1.8%          <=0.2          <=0.2          <=0.2   \n",
       "                   2.0%          <=0.2          <=0.2          <=0.2   \n",
       "                   3.0%          <=0.2          <=0.2          <=0.2   \n",
       "\n",
       "split_rate                (20000, 20000) (25000, 25000) (30000, 30000)  \n",
       "metric             Effect                                               \n",
       "check_rub_campaign 1.0%            <=0.2          <=0.2          <=0.2  \n",
       "                   1.3%            <=0.2          <=0.2          <=0.2  \n",
       "                   1.5%            <=0.2          <=0.2          <=0.2  \n",
       "                   1.8%            <=0.2          <=0.2          <=0.2  \n",
       "                   2.0%            <=0.2          <=0.2          <=0.2  \n",
       "                   3.0%            <=0.2          <=0.2          <=0.2  "
      ]
     },
     "execution_count": 85,
     "metadata": {},
     "output_type": "execute_result"
    }
   ],
   "source": [
    "beta"
   ]
  },
  {
   "cell_type": "code",
   "execution_count": 86,
   "metadata": {},
   "outputs": [
    {
     "data": {
      "text/html": [
       "<div>\n",
       "<style scoped>\n",
       "    .dataframe tbody tr th:only-of-type {\n",
       "        vertical-align: middle;\n",
       "    }\n",
       "\n",
       "    .dataframe tbody tr th {\n",
       "        vertical-align: top;\n",
       "    }\n",
       "\n",
       "    .dataframe thead th {\n",
       "        text-align: right;\n",
       "    }\n",
       "</style>\n",
       "<table border=\"1\" class=\"dataframe\">\n",
       "  <thead>\n",
       "    <tr style=\"text-align: right;\">\n",
       "      <th>split_rate</th>\n",
       "      <th>(5000, 5000)</th>\n",
       "      <th>(10000, 10000)</th>\n",
       "      <th>(15000, 15000)</th>\n",
       "      <th>(20000, 20000)</th>\n",
       "      <th>(25000, 25000)</th>\n",
       "      <th>(30000, 30000)</th>\n",
       "    </tr>\n",
       "    <tr>\n",
       "      <th>metric</th>\n",
       "      <th></th>\n",
       "      <th></th>\n",
       "      <th></th>\n",
       "      <th></th>\n",
       "      <th></th>\n",
       "      <th></th>\n",
       "    </tr>\n",
       "  </thead>\n",
       "  <tbody>\n",
       "    <tr>\n",
       "      <th>check_rub_campaign</th>\n",
       "      <td>0.2</td>\n",
       "      <td>0.1</td>\n",
       "      <td>0.4</td>\n",
       "      <td>0.5</td>\n",
       "      <td>0.3</td>\n",
       "      <td>0.3</td>\n",
       "    </tr>\n",
       "  </tbody>\n",
       "</table>\n",
       "</div>"
      ],
      "text/plain": [
       "split_rate          (5000, 5000)  (10000, 10000)  (15000, 15000)  \\\n",
       "metric                                                             \n",
       "check_rub_campaign           0.2             0.1             0.4   \n",
       "\n",
       "split_rate          (20000, 20000)  (25000, 25000)  (30000, 30000)  \n",
       "metric                                                              \n",
       "check_rub_campaign             0.5             0.3             0.3  "
      ]
     },
     "execution_count": 86,
     "metadata": {},
     "output_type": "execute_result"
    }
   ],
   "source": [
    "alpha"
   ]
  },
  {
   "cell_type": "markdown",
   "metadata": {},
   "source": [
    "## Бинарная метрика"
   ]
  },
  {
   "cell_type": "code",
   "execution_count": 87,
   "metadata": {},
   "outputs": [],
   "source": [
    "data_params = DataParams(\n",
    "    id_col='user_id', \n",
    "    group_col='groups',\n",
    "    control_name='control',\n",
    "    treatment_name='treatment',\n",
    "    is_grouped=True,\n",
    "    target_flg='has_transaction', \n",
    ")\n",
    "\n",
    "hypothesis_params = HypothesisParams(\n",
    "    alpha=0.01, \n",
    "    beta=0.2, \n",
    "    alternative='greater', \n",
    "    metric_type='binary', \n",
    "    metric_name='mean', \n",
    "    n_boot_samples=1000\n",
    ")\n",
    "\n",
    "ab_params = ABTestParams(data_params, hypothesis_params)\n",
    "ab_test = ABTest(df, ab_params)"
   ]
  },
  {
   "cell_type": "code",
   "execution_count": 88,
   "metadata": {},
   "outputs": [],
   "source": [
    "experiment_params = MdeParams(\n",
    "    metrics_names=['has_transaction'],\n",
    "    injects=[1.05, 1.10, 1.15, 1.20],\n",
    "    min_group_size=10_000, \n",
    "    max_group_size=30_000, \n",
    "    step=10_000,\n",
    "    variance_reduction=None,\n",
    "    use_buckets=False,\n",
    "    stat_test=ABTest.test_z_proportions,\n",
    "    iterations_number=100,\n",
    "    max_beta_score=0.9,\n",
    "    min_beta_score=0.2,\n",
    ")"
   ]
  },
  {
   "cell_type": "code",
   "execution_count": 89,
   "metadata": {},
   "outputs": [],
   "source": [
    "prepilot = MdeResearchBuilder(df, \n",
    "                              ab_params,\n",
    "                              experiment_params,\n",
    "                              split_builder_params)"
   ]
  },
  {
   "cell_type": "code",
   "execution_count": 90,
   "metadata": {},
   "outputs": [],
   "source": [
    "beta, alpha = prepilot.collect()"
   ]
  },
  {
   "cell_type": "code",
   "execution_count": 91,
   "metadata": {},
   "outputs": [
    {
     "data": {
      "text/html": [
       "<div>\n",
       "<style scoped>\n",
       "    .dataframe tbody tr th:only-of-type {\n",
       "        vertical-align: middle;\n",
       "    }\n",
       "\n",
       "    .dataframe tbody tr th {\n",
       "        vertical-align: top;\n",
       "    }\n",
       "\n",
       "    .dataframe thead th {\n",
       "        text-align: right;\n",
       "    }\n",
       "</style>\n",
       "<table border=\"1\" class=\"dataframe\">\n",
       "  <thead>\n",
       "    <tr style=\"text-align: right;\">\n",
       "      <th></th>\n",
       "      <th>split_rate</th>\n",
       "      <th>(10000, 10000)</th>\n",
       "      <th>(20000, 20000)</th>\n",
       "      <th>(30000, 30000)</th>\n",
       "    </tr>\n",
       "    <tr>\n",
       "      <th>metric</th>\n",
       "      <th>Effect</th>\n",
       "      <th></th>\n",
       "      <th></th>\n",
       "      <th></th>\n",
       "    </tr>\n",
       "  </thead>\n",
       "  <tbody>\n",
       "    <tr>\n",
       "      <th rowspan=\"4\" valign=\"top\">has_transaction</th>\n",
       "      <th>10.0%</th>\n",
       "      <td>0.79</td>\n",
       "      <td>0.43</td>\n",
       "      <td>0.34</td>\n",
       "    </tr>\n",
       "    <tr>\n",
       "      <th>15.0%</th>\n",
       "      <td>0.39</td>\n",
       "      <td>&lt;=0.2</td>\n",
       "      <td>&lt;=0.2</td>\n",
       "    </tr>\n",
       "    <tr>\n",
       "      <th>20.0%</th>\n",
       "      <td>0.28</td>\n",
       "      <td>&lt;=0.2</td>\n",
       "      <td>&lt;=0.2</td>\n",
       "    </tr>\n",
       "    <tr>\n",
       "      <th>5.0%</th>\n",
       "      <td>&gt;=0.9</td>\n",
       "      <td>0.85</td>\n",
       "      <td>0.81</td>\n",
       "    </tr>\n",
       "  </tbody>\n",
       "</table>\n",
       "</div>"
      ],
      "text/plain": [
       "split_rate             (10000, 10000) (20000, 20000) (30000, 30000)\n",
       "metric          Effect                                             \n",
       "has_transaction 10.0%            0.79           0.43           0.34\n",
       "                15.0%            0.39          <=0.2          <=0.2\n",
       "                20.0%            0.28          <=0.2          <=0.2\n",
       "                5.0%            >=0.9           0.85           0.81"
      ]
     },
     "execution_count": 91,
     "metadata": {},
     "output_type": "execute_result"
    }
   ],
   "source": [
    "beta"
   ]
  },
  {
   "cell_type": "code",
   "execution_count": 93,
   "metadata": {},
   "outputs": [
    {
     "data": {
      "text/html": [
       "<div>\n",
       "<style scoped>\n",
       "    .dataframe tbody tr th:only-of-type {\n",
       "        vertical-align: middle;\n",
       "    }\n",
       "\n",
       "    .dataframe tbody tr th {\n",
       "        vertical-align: top;\n",
       "    }\n",
       "\n",
       "    .dataframe thead th {\n",
       "        text-align: right;\n",
       "    }\n",
       "</style>\n",
       "<table border=\"1\" class=\"dataframe\">\n",
       "  <thead>\n",
       "    <tr style=\"text-align: right;\">\n",
       "      <th>split_rate</th>\n",
       "      <th>(10000, 10000)</th>\n",
       "      <th>(20000, 20000)</th>\n",
       "      <th>(30000, 30000)</th>\n",
       "    </tr>\n",
       "    <tr>\n",
       "      <th>metric</th>\n",
       "      <th></th>\n",
       "      <th></th>\n",
       "      <th></th>\n",
       "    </tr>\n",
       "  </thead>\n",
       "  <tbody>\n",
       "    <tr>\n",
       "      <th>has_transaction</th>\n",
       "      <td>0.01</td>\n",
       "      <td>0.01</td>\n",
       "      <td>0.01</td>\n",
       "    </tr>\n",
       "  </tbody>\n",
       "</table>\n",
       "</div>"
      ],
      "text/plain": [
       "split_rate       (10000, 10000)  (20000, 20000)  (30000, 30000)\n",
       "metric                                                         \n",
       "has_transaction            0.01            0.01            0.01"
      ]
     },
     "execution_count": 93,
     "metadata": {},
     "output_type": "execute_result"
    }
   ],
   "source": [
    "alpha"
   ]
  }
 ],
 "metadata": {
  "kernelspec": {
   "display_name": "Python 3",
   "language": "python",
   "name": "python3"
  },
  "language_info": {
   "codemirror_mode": {
    "name": "ipython",
    "version": 3
   },
   "file_extension": ".py",
   "mimetype": "text/x-python",
   "name": "python",
   "nbconvert_exporter": "python",
   "pygments_lexer": "ipython3",
   "version": "3.9.7"
  },
  "vscode": {
   "interpreter": {
    "hash": "626acd8304246c39c892b04a088b1f86fa4d1e9c8375290e6951e511351ad7f7"
   }
  }
 },
 "nbformat": 4,
 "nbformat_minor": 5
}
