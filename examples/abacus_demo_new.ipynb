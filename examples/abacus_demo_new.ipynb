{
 "cells": [
  {
   "cell_type": "code",
   "execution_count": 666,
   "metadata": {},
   "outputs": [
    {
     "name": "stdout",
     "output_type": "stream",
     "text": [
      "The autoreload extension is already loaded. To reload it, use:\n",
      "  %reload_ext autoreload\n"
     ]
    }
   ],
   "source": [
    "import warnings\n",
    "warnings.filterwarnings('ignore')\n",
    "\n",
    "import os\n",
    "import sys\n",
    "import logging\n",
    "import pandas as pd\n",
    "import numpy as np\n",
    "import scipy\n",
    "import yaml\n",
    "import matplotlib.pyplot as plt\n",
    "\n",
    "sys.path.append('../')\n",
    "\n",
    "from abacus.auto_ab.abtest import ABTest\n",
    "from abacus.auto_ab.params import ABTestParams\n",
    "from abacus.auto_ab.params import DataParams, HypothesisParams\n",
    "from abacus.splitter.split_builder import SplitBuilder\n",
    "from abacus.splitter.params import SplitBuilderParams\n",
    "from abacus.mde_researcher.params import MdeParams\n",
    "from abacus.mde_researcher.mde_research_builder import MdeResearchBuilder\n",
    "from abacus.mde_researcher.multiple_split_builder import MultipleSplitBuilder\n",
    "\n",
    "\n",
    "logging.basicConfig(level = logging.INFO)\n",
    "\n",
    "\n",
    "%load_ext autoreload\n",
    "%autoreload 2"
   ]
  },
  {
   "cell_type": "markdown",
   "metadata": {},
   "source": [
    "# Готовим данные"
   ]
  },
  {
   "cell_type": "code",
   "execution_count": 480,
   "metadata": {},
   "outputs": [
    {
     "data": {
      "text/html": [
       "<div>\n",
       "<style scoped>\n",
       "    .dataframe tbody tr th:only-of-type {\n",
       "        vertical-align: middle;\n",
       "    }\n",
       "\n",
       "    .dataframe tbody tr th {\n",
       "        vertical-align: top;\n",
       "    }\n",
       "\n",
       "    .dataframe thead th {\n",
       "        text-align: right;\n",
       "    }\n",
       "</style>\n",
       "<table border=\"1\" class=\"dataframe\">\n",
       "  <thead>\n",
       "    <tr style=\"text-align: right;\">\n",
       "      <th></th>\n",
       "      <th>groups</th>\n",
       "      <th>user_id</th>\n",
       "      <th>gender</th>\n",
       "      <th>age</th>\n",
       "      <th>city</th>\n",
       "      <th>check_rub_campaign</th>\n",
       "      <th>check_rub_pre_campaign</th>\n",
       "      <th>has_transaction</th>\n",
       "      <th>clicks</th>\n",
       "      <th>session_duration</th>\n",
       "    </tr>\n",
       "  </thead>\n",
       "  <tbody>\n",
       "    <tr>\n",
       "      <th>0</th>\n",
       "      <td>treatment</td>\n",
       "      <td>189963</td>\n",
       "      <td>male</td>\n",
       "      <td>64</td>\n",
       "      <td>Moscow</td>\n",
       "      <td>337.9</td>\n",
       "      <td>322.498048</td>\n",
       "      <td>0</td>\n",
       "      <td>12</td>\n",
       "      <td>91</td>\n",
       "    </tr>\n",
       "    <tr>\n",
       "      <th>1</th>\n",
       "      <td>control</td>\n",
       "      <td>42186</td>\n",
       "      <td>female</td>\n",
       "      <td>44</td>\n",
       "      <td>Perm</td>\n",
       "      <td>84.8</td>\n",
       "      <td>80.795804</td>\n",
       "      <td>0</td>\n",
       "      <td>18</td>\n",
       "      <td>7</td>\n",
       "    </tr>\n",
       "    <tr>\n",
       "      <th>2</th>\n",
       "      <td>control</td>\n",
       "      <td>3038</td>\n",
       "      <td>female</td>\n",
       "      <td>35</td>\n",
       "      <td>Moscow</td>\n",
       "      <td>428.9</td>\n",
       "      <td>410.870342</td>\n",
       "      <td>0</td>\n",
       "      <td>13</td>\n",
       "      <td>12</td>\n",
       "    </tr>\n",
       "    <tr>\n",
       "      <th>3</th>\n",
       "      <td>treatment</td>\n",
       "      <td>125577</td>\n",
       "      <td>male</td>\n",
       "      <td>49</td>\n",
       "      <td>St.Petersburg</td>\n",
       "      <td>401.4</td>\n",
       "      <td>416.752732</td>\n",
       "      <td>0</td>\n",
       "      <td>3</td>\n",
       "      <td>10</td>\n",
       "    </tr>\n",
       "    <tr>\n",
       "      <th>4</th>\n",
       "      <td>control</td>\n",
       "      <td>10191</td>\n",
       "      <td>male</td>\n",
       "      <td>53</td>\n",
       "      <td>St.Petersburg</td>\n",
       "      <td>122.8</td>\n",
       "      <td>108.475735</td>\n",
       "      <td>0</td>\n",
       "      <td>29</td>\n",
       "      <td>24</td>\n",
       "    </tr>\n",
       "  </tbody>\n",
       "</table>\n",
       "</div>"
      ],
      "text/plain": [
       "      groups  user_id  gender  age           city  check_rub_campaign  \\\n",
       "0  treatment   189963    male   64         Moscow               337.9   \n",
       "1    control    42186  female   44           Perm                84.8   \n",
       "2    control     3038  female   35         Moscow               428.9   \n",
       "3  treatment   125577    male   49  St.Petersburg               401.4   \n",
       "4    control    10191    male   53  St.Petersburg               122.8   \n",
       "\n",
       "   check_rub_pre_campaign  has_transaction  clicks  session_duration  \n",
       "0              322.498048                0      12                91  \n",
       "1               80.795804                0      18                 7  \n",
       "2              410.870342                0      13                12  \n",
       "3              416.752732                0       3                10  \n",
       "4              108.475735                0      29                24  "
      ]
     },
     "execution_count": 480,
     "metadata": {},
     "output_type": "execute_result"
    }
   ],
   "source": [
    "n_rows = 200_000\n",
    "\n",
    "d = pd.DataFrame(data={\n",
    "    'groups': np.random.choice(['control', 'treatment'], p=[0.5, 0.5], size=n_rows),\n",
    "})\n",
    "\n",
    "control_len = d.loc[d.groups == 'control'].shape[0]\n",
    "treatment_len = d.loc[d.groups == 'treatment'].shape[0]\n",
    "\n",
    "# user_id\n",
    "d.loc[d.groups == 'control', 'user_id'] = np.random.randint(1, control_len-1500, control_len)\n",
    "d.loc[d.groups == 'treatment', 'user_id'] = np.random.randint(control_len-1500+1, control_len-1500+1+treatment_len-1500, treatment_len)\n",
    "d['user_id'] = d['user_id'].astype(int)\n",
    "\n",
    "# demographics\n",
    "d_unique = d.drop_duplicates(['user_id', 'groups'])\n",
    "d_unique['gender'] = np.random.choice(['male', 'female'], p=[0.35, 0.65], size=d_unique.shape[0])\n",
    "d_unique['age'] = np.random.randint(18, 68, size=d_unique.shape[0])\n",
    "d_unique['city'] = np.random.choice(['Moscow', 'St.Petersburg', 'Kazan', 'Samara', 'Perm'], p=[0.59, 0.25, 0.06, 0.055, 0.045], size=d_unique.shape[0])\n",
    "d = d.merge(d_unique, how='left', on=['user_id', 'groups'])\n",
    "\n",
    "# check_rub, continuous target\n",
    "checks_control_camp = np.round(np.random.gamma(2, 125, control_len), 1)  # mean = 200 rub\n",
    "checks_treatment = np.random.gamma(2, 125, treatment_len)\n",
    "checks_treatment_camp = np.round(checks_treatment + np.round(np.random.binomial(1, p=0.04, size=treatment_len), 1) * 80, 1)  # 20 rub uplift for 4% of treatment group\n",
    "d.loc[d.groups == 'control', 'check_rub_campaign'] = checks_control_camp\n",
    "d.loc[d.groups == 'treatment', 'check_rub_campaign'] = checks_treatment_camp\n",
    "\n",
    "# check_rub, pre-campaign period\n",
    "checks_control_pre_camp = np.absolute(checks_control_camp + np.random.normal(0, 10, len(checks_control_camp)))\n",
    "checks_treatment_pre_camp = np.absolute(checks_treatment_camp + np.random.normal(0, 10, len(checks_treatment_camp)))\n",
    "d.loc[d.groups == 'control', 'check_rub_pre_campaign'] = checks_control_pre_camp\n",
    "d.loc[d.groups == 'treatment', 'check_rub_pre_campaign'] = checks_treatment_pre_camp\n",
    "\n",
    "# has_transaction, binary target\n",
    "d.loc[d.groups == 'control', 'has_transaction'] = np.random.binomial(1, p=0.04, size=control_len)\n",
    "d.loc[d.groups == 'treatment', 'has_transaction'] = np.random.binomial(1, p=0.065, size=treatment_len)\n",
    "d['has_transaction'] = d['has_transaction'].astype(int)\n",
    "\n",
    "# ratio metric\n",
    "d['clicks'] = np.random.gamma(1, 20, d.shape[0]).astype(int)\n",
    "d['session_duration'] = np.round(np.random.gamma(1, 20, d.shape[0]), 1).astype(int)\n",
    "\n",
    "d.to_csv('./data/ab_data_new.csv', index=False)\n",
    "d.head()"
   ]
  },
  {
   "cell_type": "code",
   "execution_count": 321,
   "metadata": {},
   "outputs": [],
   "source": [
    "# import statsmodels.api as sm\n",
    "\n",
    "# y = d['check_rub_campaign'].to_numpy()\n",
    "# x_train = d[['gender', 'age', 'city']].to_numpy()\n",
    "# model = sm.OLS(y, x_train)\n",
    "# results = model.fit()\n",
    "\n",
    "# print(results.summary())"
   ]
  },
  {
   "cell_type": "markdown",
   "metadata": {},
   "source": [
    "Проверяем пересечение user_id в группах:"
   ]
  },
  {
   "cell_type": "markdown",
   "metadata": {},
   "source": [
    "# Данные, с которыми будем работать"
   ]
  },
  {
   "cell_type": "code",
   "execution_count": 322,
   "metadata": {},
   "outputs": [
    {
     "data": {
      "text/html": [
       "<div>\n",
       "<style scoped>\n",
       "    .dataframe tbody tr th:only-of-type {\n",
       "        vertical-align: middle;\n",
       "    }\n",
       "\n",
       "    .dataframe tbody tr th {\n",
       "        vertical-align: top;\n",
       "    }\n",
       "\n",
       "    .dataframe thead th {\n",
       "        text-align: right;\n",
       "    }\n",
       "</style>\n",
       "<table border=\"1\" class=\"dataframe\">\n",
       "  <thead>\n",
       "    <tr style=\"text-align: right;\">\n",
       "      <th></th>\n",
       "      <th>groups</th>\n",
       "      <th>user_id</th>\n",
       "      <th>gender</th>\n",
       "      <th>age</th>\n",
       "      <th>city</th>\n",
       "      <th>check_rub_campaign</th>\n",
       "      <th>check_rub_pre_campaign</th>\n",
       "      <th>has_transaction</th>\n",
       "    </tr>\n",
       "  </thead>\n",
       "  <tbody>\n",
       "    <tr>\n",
       "      <th>0</th>\n",
       "      <td>control</td>\n",
       "      <td>47542</td>\n",
       "      <td>male</td>\n",
       "      <td>64</td>\n",
       "      <td>Samara</td>\n",
       "      <td>164.4</td>\n",
       "      <td>154.193628</td>\n",
       "      <td>1</td>\n",
       "    </tr>\n",
       "    <tr>\n",
       "      <th>1</th>\n",
       "      <td>treatment</td>\n",
       "      <td>167063</td>\n",
       "      <td>female</td>\n",
       "      <td>61</td>\n",
       "      <td>St.Petersburg</td>\n",
       "      <td>65.1</td>\n",
       "      <td>64.248267</td>\n",
       "      <td>0</td>\n",
       "    </tr>\n",
       "    <tr>\n",
       "      <th>2</th>\n",
       "      <td>control</td>\n",
       "      <td>51292</td>\n",
       "      <td>female</td>\n",
       "      <td>35</td>\n",
       "      <td>Moscow</td>\n",
       "      <td>26.2</td>\n",
       "      <td>30.407282</td>\n",
       "      <td>0</td>\n",
       "    </tr>\n",
       "    <tr>\n",
       "      <th>3</th>\n",
       "      <td>control</td>\n",
       "      <td>7711</td>\n",
       "      <td>male</td>\n",
       "      <td>53</td>\n",
       "      <td>Kazan</td>\n",
       "      <td>579.8</td>\n",
       "      <td>585.625137</td>\n",
       "      <td>0</td>\n",
       "    </tr>\n",
       "    <tr>\n",
       "      <th>4</th>\n",
       "      <td>control</td>\n",
       "      <td>1586</td>\n",
       "      <td>male</td>\n",
       "      <td>51</td>\n",
       "      <td>St.Petersburg</td>\n",
       "      <td>101.4</td>\n",
       "      <td>97.601358</td>\n",
       "      <td>0</td>\n",
       "    </tr>\n",
       "  </tbody>\n",
       "</table>\n",
       "</div>"
      ],
      "text/plain": [
       "      groups  user_id  gender  age           city  check_rub_campaign  \\\n",
       "0    control    47542    male   64         Samara               164.4   \n",
       "1  treatment   167063  female   61  St.Petersburg                65.1   \n",
       "2    control    51292  female   35         Moscow                26.2   \n",
       "3    control     7711    male   53          Kazan               579.8   \n",
       "4    control     1586    male   51  St.Petersburg               101.4   \n",
       "\n",
       "   check_rub_pre_campaign  has_transaction  \n",
       "0              154.193628                1  \n",
       "1               64.248267                0  \n",
       "2               30.407282                0  \n",
       "3              585.625137                0  \n",
       "4               97.601358                0  "
      ]
     },
     "execution_count": 322,
     "metadata": {},
     "output_type": "execute_result"
    }
   ],
   "source": [
    "df = pd.read_csv('./data/ab_data_new.csv')\n",
    "df.head()"
   ]
  },
  {
   "cell_type": "code",
   "execution_count": 323,
   "metadata": {},
   "outputs": [
    {
     "data": {
      "text/html": [
       "<div>\n",
       "<style scoped>\n",
       "    .dataframe tbody tr th:only-of-type {\n",
       "        vertical-align: middle;\n",
       "    }\n",
       "\n",
       "    .dataframe tbody tr th {\n",
       "        vertical-align: top;\n",
       "    }\n",
       "\n",
       "    .dataframe thead th {\n",
       "        text-align: right;\n",
       "    }\n",
       "</style>\n",
       "<table border=\"1\" class=\"dataframe\">\n",
       "  <thead>\n",
       "    <tr style=\"text-align: right;\">\n",
       "      <th></th>\n",
       "      <th>mean</th>\n",
       "      <th>count</th>\n",
       "    </tr>\n",
       "    <tr>\n",
       "      <th>groups</th>\n",
       "      <th></th>\n",
       "      <th></th>\n",
       "    </tr>\n",
       "  </thead>\n",
       "  <tbody>\n",
       "    <tr>\n",
       "      <th>control</th>\n",
       "      <td>249.722249</td>\n",
       "      <td>100033</td>\n",
       "    </tr>\n",
       "    <tr>\n",
       "      <th>treatment</th>\n",
       "      <td>253.756524</td>\n",
       "      <td>99967</td>\n",
       "    </tr>\n",
       "  </tbody>\n",
       "</table>\n",
       "</div>"
      ],
      "text/plain": [
       "                 mean   count\n",
       "groups                       \n",
       "control    249.722249  100033\n",
       "treatment  253.756524   99967"
      ]
     },
     "execution_count": 323,
     "metadata": {},
     "output_type": "execute_result"
    }
   ],
   "source": [
    "df.groupby(['groups']).check_rub_campaign.agg(['mean', 'count'])"
   ]
  },
  {
   "cell_type": "markdown",
   "metadata": {},
   "source": [
    "# Пост-анализ непрерывной метрики\n",
    "## Инициализация теста, илюстрация, запуск теста и отчет"
   ]
  },
  {
   "cell_type": "code",
   "execution_count": 433,
   "metadata": {},
   "outputs": [],
   "source": [
    "df = pd.read_csv('./data/ab_data_new.csv')\n",
    "\n",
    "data_params = DataParams(\n",
    "    id_col='user_id', \n",
    "    group_col='groups',\n",
    "    control_name='control',\n",
    "    treatment_name='treatment',\n",
    "    is_grouped=True,\n",
    "    target='check_rub_campaign', \n",
    ")\n",
    "\n",
    "hypothesis_params = HypothesisParams(\n",
    "    alpha=0.01, \n",
    "    beta=0.2, \n",
    "    alternative='greater', \n",
    "    metric_type='solid', \n",
    "    metric_name='95th quantile',  # <----- стандартные: 'mean', 'median'; если использовать кастомную метрику, то функцию для нее нужно объявить\n",
    "    metric=lambda x: np.quantile(x, 0.95),  # <----- здесь\n",
    "    n_boot_samples=1000\n",
    ")\n",
    "\n",
    "ab_params = ABTestParams(data_params, hypothesis_params)\n",
    "ab_test = ABTest(df, ab_params)"
   ]
  },
  {
   "cell_type": "code",
   "execution_count": 439,
   "metadata": {},
   "outputs": [
    {
     "data": {
      "image/png": "[encoded data removed]",
      "text/plain": [
       "<Figure size 1440x864 with 1 Axes>"
      ]
     },
     "metadata": {
      "needs_background": "light"
     },
     "output_type": "display_data"
    }
   ],
   "source": [
    "ab_test.plot()"
   ]
  },
  {
   "cell_type": "code",
   "execution_count": 326,
   "metadata": {},
   "outputs": [
    {
     "data": {
      "text/plain": [
       "{'stat': 5.095147809096066, 'p-value': 1.743926295519406e-07, 'result': 1}"
      ]
     },
     "execution_count": 326,
     "metadata": {},
     "output_type": "execute_result"
    }
   ],
   "source": [
    "ab_test.test_welch()"
   ]
  },
  {
   "cell_type": "code",
   "execution_count": 328,
   "metadata": {},
   "outputs": [
    {
     "name": "stdout",
     "output_type": "stream",
     "text": [
      "\n",
      "        Parameters of experiment:\n",
      "        - Metric type: continuous.\n",
      "        - Metric: mean.\n",
      "        - Errors: alpha = 0.01, beta = 0.2.\n",
      "        - Alternative: greater.\n",
      "\n",
      "        Control group:\n",
      "        - Observations: 100033\n",
      "        - Mean: 249.7222\n",
      "        - Median: 210.4000\n",
      "        - 25th quantile: 119.6000\n",
      "        - 75th quantile: 336.4000\n",
      "        - Minimum: 0.2000\n",
      "        - Maximum: 1885.8000\n",
      "        - St.deviation: 177.7386\n",
      "        - Variance: 31590.9955\n",
      "\n",
      "        Treatment group:\n",
      "        - Observations: 99967\n",
      "        - Mean: 253.7565\n",
      "        - Median: 213.7000\n",
      "        - 25th quantile: 122.8000\n",
      "        - 75th quantile: 341.7000\n",
      "        - Minimum: 0.4000\n",
      "        - Maximum: 1756.3000\n",
      "        - St.deviation: 177.7386\n",
      "        - Variance: 31590.9955\n",
      "\n",
      "        No transformations applied.\n",
      "        Number of bootstrap iterations: 1000. \n",
      "\n",
      "        Following statistical tests are used:\n",
      "        - Welch's t-test: 5.10, p-value = 0.0000, H0 is rejected.\n",
      "        - Mann Whitney's U-test: 4930727787.50, p-value = 1.0000, H0 is not rejected.\n",
      "        - Bootstrap test: H0 is rejected.\n",
      "\n",
      "        Two out of three stat. tests showed that H0 is rejected.\n",
      "        \n"
     ]
    }
   ],
   "source": [
    "ab_test.report()"
   ]
  },
  {
   "cell_type": "markdown",
   "metadata": {},
   "source": [
    "## Фильтрация выбросов"
   ]
  },
  {
   "cell_type": "code",
   "execution_count": 402,
   "metadata": {},
   "outputs": [],
   "source": [
    "df = pd.read_csv('./data/ab_data_new.csv')\n",
    "\n",
    "data_params = DataParams(\n",
    "    id_col='user_id', \n",
    "    group_col='groups',\n",
    "    control_name='control',\n",
    "    treatment_name='treatment',\n",
    "    is_grouped=True,\n",
    "    target='check_rub_campaign'\n",
    ")\n",
    "\n",
    "hypothesis_params = HypothesisParams(\n",
    "    alpha=0.01, \n",
    "    beta=0.2, \n",
    "    alternative='greater', \n",
    "    metric_type='solid', \n",
    "    metric_name='mean',\n",
    "    filter_method='top_5',  # <----- метод фильтрации метрики эксперимента: top_5, isolation_forest\n",
    "    n_boot_samples=1000\n",
    ")\n",
    "\n",
    "ab_params = ABTestParams(data_params, hypothesis_params)\n",
    "ab_test = ABTest(df, ab_params)"
   ]
  },
  {
   "cell_type": "code",
   "execution_count": 403,
   "metadata": {},
   "outputs": [
    {
     "data": {
      "image/png": "[encoded data removed]",
      "text/plain": [
       "<Figure size 1440x864 with 1 Axes>"
      ]
     },
     "metadata": {
      "needs_background": "light"
     },
     "output_type": "display_data"
    }
   ],
   "source": [
    "ab_test.plot()"
   ]
  },
  {
   "cell_type": "code",
   "execution_count": 406,
   "metadata": {},
   "outputs": [
    {
     "data": {
      "text/plain": [
       "{'stat': 3.1154764586556727, 'p-value': 0.0009183698612269156, 'result': 1}"
      ]
     },
     "execution_count": 406,
     "metadata": {},
     "output_type": "execute_result"
    }
   ],
   "source": [
    "ab_test.test_welch()"
   ]
  },
  {
   "cell_type": "code",
   "execution_count": 412,
   "metadata": {},
   "outputs": [
    {
     "name": "stdout",
     "output_type": "stream",
     "text": [
      "Rows before: 200000\n",
      "Rows left: 190001\n"
     ]
    }
   ],
   "source": [
    "ab_test_1 = ab_test.filter_outliers()"
   ]
  },
  {
   "cell_type": "code",
   "execution_count": 411,
   "metadata": {},
   "outputs": [
    {
     "data": {
      "image/png": "[encoded data removed]",
      "text/plain": [
       "<Figure size 1440x864 with 1 Axes>"
      ]
     },
     "metadata": {
      "needs_background": "light"
     },
     "output_type": "display_data"
    }
   ],
   "source": [
    "ab_test_1.plot()"
   ]
  },
  {
   "cell_type": "markdown",
   "metadata": {},
   "source": [
    "## Функциональная трансформация метрики"
   ]
  },
  {
   "cell_type": "code",
   "execution_count": 329,
   "metadata": {},
   "outputs": [],
   "source": [
    "df = pd.read_csv('./data/ab_data_new.csv')\n",
    "\n",
    "data_params = DataParams(\n",
    "    id_col='user_id', \n",
    "    group_col='groups',\n",
    "    control_name='control',\n",
    "    treatment_name='treatment',\n",
    "    is_grouped=True,\n",
    "    target='check_rub_campaign', \n",
    ")\n",
    "\n",
    "hypothesis_params = HypothesisParams(\n",
    "    alpha=0.01, \n",
    "    beta=0.2, \n",
    "    alternative='greater', \n",
    "    metric_type='solid', \n",
    "    metric_name='mean', \n",
    "    metric_transform=np.sqrt,  # <----- добавлена трансформация\n",
    "    n_boot_samples=1000\n",
    ")\n",
    "\n",
    "ab_params = ABTestParams(data_params, hypothesis_params)\n",
    "ab_test = ABTest(df, ab_params)"
   ]
  },
  {
   "cell_type": "code",
   "execution_count": 330,
   "metadata": {},
   "outputs": [
    {
     "data": {
      "image/png": "[encoded data removed]",
      "text/plain": [
       "<Figure size 1440x864 with 1 Axes>"
      ]
     },
     "metadata": {
      "needs_background": "light"
     },
     "output_type": "display_data"
    }
   ],
   "source": [
    "ab_test.plot()"
   ]
  },
  {
   "cell_type": "code",
   "execution_count": 331,
   "metadata": {},
   "outputs": [],
   "source": [
    "ab_test_1 = ab_test.metric_transform()"
   ]
  },
  {
   "cell_type": "code",
   "execution_count": 332,
   "metadata": {},
   "outputs": [
    {
     "data": {
      "image/png": "[encoded data removed]",
      "text/plain": [
       "<Figure size 1440x864 with 1 Axes>"
      ]
     },
     "metadata": {
      "needs_background": "light"
     },
     "output_type": "display_data"
    }
   ],
   "source": [
    "ab_test_1.plot()"
   ]
  },
  {
   "cell_type": "code",
   "execution_count": 333,
   "metadata": {},
   "outputs": [
    {
     "name": "stdout",
     "output_type": "stream",
     "text": [
      "\n",
      "        Parameters of experiment:\n",
      "        - Metric type: continuous.\n",
      "        - Metric: mean.\n",
      "        - Errors: alpha = 0.01, beta = 0.2.\n",
      "        - Alternative: greater.\n",
      "\n",
      "        Control group:\n",
      "        - Observations: 100033\n",
      "        - Mean: 3.7879\n",
      "        - Median: 3.8086\n",
      "        - 25th quantile: 3.3070\n",
      "        - 75th quantile: 4.2827\n",
      "        - Minimum: 0.6687\n",
      "        - Maximum: 6.5898\n",
      "        - St.deviation: 0.7127\n",
      "        - Variance: 0.5080\n",
      "\n",
      "        Treatment group:\n",
      "        - Observations: 99967\n",
      "        - Mean: 3.8050\n",
      "        - Median: 3.8234\n",
      "        - 25th quantile: 3.3289\n",
      "        - 75th quantile: 4.2994\n",
      "        - Minimum: 0.7953\n",
      "        - Maximum: 6.4737\n",
      "        - St.deviation: 0.7127\n",
      "        - Variance: 0.5080\n",
      "\n",
      "        Transformations applied: metric transform.\n",
      "        Number of bootstrap iterations: 1000. Metric transformation applied: sqrt. \n",
      "\n",
      "        Following statistical tests are used:\n",
      "        - Welch's t-test: 5.37, p-value = 0.0000, H0 is rejected.\n",
      "        - Mann Whitney's U-test: 4930727787.50, p-value = 1.0000, H0 is not rejected.\n",
      "        - Bootstrap test: H0 is rejected.\n",
      "\n",
      "        Two out of three stat. tests showed that H0 is rejected.\n",
      "        \n"
     ]
    }
   ],
   "source": [
    "ab_test_1.report()"
   ]
  },
  {
   "cell_type": "markdown",
   "metadata": {},
   "source": [
    "## Увеличение чувствительности метрики"
   ]
  },
  {
   "cell_type": "code",
   "execution_count": 354,
   "metadata": {},
   "outputs": [],
   "source": [
    "df = pd.read_csv('./data/ab_data_new.csv')\n",
    "\n",
    "data_params = DataParams(\n",
    "    id_col='user_id', \n",
    "    group_col='groups',\n",
    "    control_name='control',\n",
    "    treatment_name='treatment',\n",
    "    is_grouped=True,\n",
    "    target='check_rub_campaign', \n",
    "    covariate='check_rub_pre_campaign',  # <----- добавляем информацию о ковариате\n",
    ")\n",
    "\n",
    "hypothesis_params = HypothesisParams(\n",
    "    alpha=0.01, \n",
    "    beta=0.2, \n",
    "    alternative='greater', \n",
    "    metric_type='solid', \n",
    "    metric_name='mean', \n",
    "    n_boot_samples=1000\n",
    ")\n",
    "\n",
    "ab_params = ABTestParams(data_params, hypothesis_params)\n",
    "ab_test = ABTest(df, ab_params)"
   ]
  },
  {
   "cell_type": "code",
   "execution_count": 357,
   "metadata": {},
   "outputs": [],
   "source": [
    "ab_test_1 = ab_test.cuped()"
   ]
  },
  {
   "cell_type": "markdown",
   "metadata": {},
   "source": [
    "Среднее и ст.отклонение до CUPED:"
   ]
  },
  {
   "cell_type": "code",
   "execution_count": 363,
   "metadata": {},
   "outputs": [
    {
     "name": "stdout",
     "output_type": "stream",
     "text": [
      "249.8689014774862\n",
      "177.21644651574334\n"
     ]
    }
   ],
   "source": [
    "print(np.mean(ab_test.params.data_params.control))\n",
    "print(np.std(ab_test.params.data_params.control))"
   ]
  },
  {
   "cell_type": "markdown",
   "metadata": {},
   "source": [
    "Среднее и ст.отклонение после CUPED:"
   ]
  },
  {
   "cell_type": "code",
   "execution_count": 362,
   "metadata": {},
   "outputs": [
    {
     "name": "stdout",
     "output_type": "stream",
     "text": [
      "249.86890147748133\n",
      "9.973593435603677\n"
     ]
    }
   ],
   "source": [
    "print(np.mean(ab_test_1.params.data_params.control))\n",
    "print(np.std(ab_test_1.params.data_params.control))"
   ]
  },
  {
   "cell_type": "markdown",
   "metadata": {},
   "source": [
    "## Линеаризация и зависимые наблюдения"
   ]
  },
  {
   "cell_type": "code",
   "execution_count": 447,
   "metadata": {},
   "outputs": [],
   "source": [
    "df = pd.read_csv('./data/ab_data_new.csv')\n",
    "\n",
    "data_params = DataParams(\n",
    "    id_col='user_id', \n",
    "    group_col='groups',\n",
    "    control_name='control',\n",
    "    treatment_name='treatment',\n",
    "    is_grouped=False,   # <----- данные не сгрупированы по user_id — по каждому user_id одна и более запись\n",
    "    target='check_rub_campaign'\n",
    ")\n",
    "\n",
    "hypothesis_params = HypothesisParams(\n",
    "    alpha=0.01, \n",
    "    beta=0.2, \n",
    "    alternative='greater', \n",
    "    metric_type='solid', \n",
    "    metric_name='mean', \n",
    "    n_boot_samples=1000\n",
    ")\n",
    "\n",
    "ab_params = ABTestParams(data_params, hypothesis_params)\n",
    "ab_test = ABTest(df, ab_params)"
   ]
  },
  {
   "cell_type": "code",
   "execution_count": 448,
   "metadata": {},
   "outputs": [
    {
     "name": "stdout",
     "output_type": "stream",
     "text": [
      "Строк в старом датасете: 200000\n",
      "Уникальных user_id в старом датасете: 125892\n"
     ]
    }
   ],
   "source": [
    "print(f'Строк в старом датасете: {df.shape[0]}')\n",
    "print(f'Уникальных user_id в старом датасете: {df.user_id.nunique()}')"
   ]
  },
  {
   "cell_type": "code",
   "execution_count": 449,
   "metadata": {},
   "outputs": [],
   "source": [
    "ab_test_1 = ab_test.linearization()"
   ]
  },
  {
   "cell_type": "code",
   "execution_count": 450,
   "metadata": {},
   "outputs": [
    {
     "name": "stdout",
     "output_type": "stream",
     "text": [
      "Строк в новом датасете: 125892\n",
      "Уникальных user_id в новом датасете: 125892\n"
     ]
    }
   ],
   "source": [
    "print('Строк в новом датасете: ' + str(ab_test_1._ABTest__dataset.shape[0]))\n",
    "print('Уникальных user_id в новом датасете: ' + str(ab_test_1._ABTest__dataset.user_id.nunique()))"
   ]
  },
  {
   "cell_type": "code",
   "execution_count": 451,
   "metadata": {},
   "outputs": [
    {
     "data": {
      "text/html": [
       "<div>\n",
       "<style scoped>\n",
       "    .dataframe tbody tr th:only-of-type {\n",
       "        vertical-align: middle;\n",
       "    }\n",
       "\n",
       "    .dataframe tbody tr th {\n",
       "        vertical-align: top;\n",
       "    }\n",
       "\n",
       "    .dataframe thead th {\n",
       "        text-align: right;\n",
       "    }\n",
       "</style>\n",
       "<table border=\"1\" class=\"dataframe\">\n",
       "  <thead>\n",
       "    <tr style=\"text-align: right;\">\n",
       "      <th></th>\n",
       "      <th>groups</th>\n",
       "      <th>user_id</th>\n",
       "      <th>gender</th>\n",
       "      <th>age</th>\n",
       "      <th>city</th>\n",
       "      <th>check_rub_campaign</th>\n",
       "      <th>check_rub_pre_campaign</th>\n",
       "      <th>has_transaction</th>\n",
       "      <th>target_linearized</th>\n",
       "    </tr>\n",
       "  </thead>\n",
       "  <tbody>\n",
       "    <tr>\n",
       "      <th>0</th>\n",
       "      <td>treatment</td>\n",
       "      <td>142889</td>\n",
       "      <td>female</td>\n",
       "      <td>23</td>\n",
       "      <td>Kazan</td>\n",
       "      <td>208.9</td>\n",
       "      <td>214.280719</td>\n",
       "      <td>0</td>\n",
       "      <td>-40.9689</td>\n",
       "    </tr>\n",
       "    <tr>\n",
       "      <th>1</th>\n",
       "      <td>control</td>\n",
       "      <td>57262</td>\n",
       "      <td>female</td>\n",
       "      <td>29</td>\n",
       "      <td>Moscow</td>\n",
       "      <td>42.1</td>\n",
       "      <td>50.913604</td>\n",
       "      <td>0</td>\n",
       "      <td>-207.7689</td>\n",
       "    </tr>\n",
       "    <tr>\n",
       "      <th>2</th>\n",
       "      <td>treatment</td>\n",
       "      <td>176187</td>\n",
       "      <td>male</td>\n",
       "      <td>18</td>\n",
       "      <td>Perm</td>\n",
       "      <td>249.5</td>\n",
       "      <td>245.942624</td>\n",
       "      <td>0</td>\n",
       "      <td>-112.2378</td>\n",
       "    </tr>\n",
       "    <tr>\n",
       "      <th>3</th>\n",
       "      <td>control</td>\n",
       "      <td>54612</td>\n",
       "      <td>female</td>\n",
       "      <td>38</td>\n",
       "      <td>Moscow</td>\n",
       "      <td>174.1</td>\n",
       "      <td>184.729590</td>\n",
       "      <td>0</td>\n",
       "      <td>-199.2378</td>\n",
       "    </tr>\n",
       "    <tr>\n",
       "      <th>4</th>\n",
       "      <td>control</td>\n",
       "      <td>5453</td>\n",
       "      <td>female</td>\n",
       "      <td>29</td>\n",
       "      <td>Moscow</td>\n",
       "      <td>240.7</td>\n",
       "      <td>230.755215</td>\n",
       "      <td>0</td>\n",
       "      <td>-9.1689</td>\n",
       "    </tr>\n",
       "  </tbody>\n",
       "</table>\n",
       "</div>"
      ],
      "text/plain": [
       "      groups  user_id  gender  age    city  check_rub_campaign  \\\n",
       "0  treatment   142889  female   23   Kazan               208.9   \n",
       "1    control    57262  female   29  Moscow                42.1   \n",
       "2  treatment   176187    male   18    Perm               249.5   \n",
       "3    control    54612  female   38  Moscow               174.1   \n",
       "4    control     5453  female   29  Moscow               240.7   \n",
       "\n",
       "   check_rub_pre_campaign  has_transaction  target_linearized  \n",
       "0              214.280719                0           -40.9689  \n",
       "1               50.913604                0          -207.7689  \n",
       "2              245.942624                0          -112.2378  \n",
       "3              184.729590                0          -199.2378  \n",
       "4              230.755215                0            -9.1689  "
      ]
     },
     "execution_count": 451,
     "metadata": {},
     "output_type": "execute_result"
    }
   ],
   "source": [
    "ab_test_1._ABTest__dataset.head()"
   ]
  },
  {
   "cell_type": "code",
   "execution_count": 452,
   "metadata": {},
   "outputs": [
    {
     "data": {
      "image/png": "[encoded data removed]",
      "text/plain": [
       "<Figure size 1440x864 with 1 Axes>"
      ]
     },
     "metadata": {
      "needs_background": "light"
     },
     "output_type": "display_data"
    }
   ],
   "source": [
    "ab_test.plot()"
   ]
  },
  {
   "cell_type": "code",
   "execution_count": 453,
   "metadata": {},
   "outputs": [
    {
     "data": {
      "image/png": "[encoded data removed]",
      "text/plain": [
       "<Figure size 1440x864 with 1 Axes>"
      ]
     },
     "metadata": {
      "needs_background": "light"
     },
     "output_type": "display_data"
    }
   ],
   "source": [
    "ab_test_1.plot()"
   ]
  },
  {
   "cell_type": "code",
   "execution_count": 454,
   "metadata": {},
   "outputs": [
    {
     "name": "stdout",
     "output_type": "stream",
     "text": [
      "\n",
      "        Parameters of experiment:\n",
      "        - Metric type: continuous.\n",
      "        - Metric: mean.\n",
      "        - Errors: alpha = 0.01, beta = 0.2.\n",
      "        - Alternative: greater.\n",
      "\n",
      "        Control group:\n",
      "        - Observations: 99561\n",
      "        - Mean: 249.8689\n",
      "        - Median: 209.6000\n",
      "        - 25th quantile: 119.8000\n",
      "        - 75th quantile: 335.6000\n",
      "        - Minimum: 0.1000\n",
      "        - Maximum: 1827.5000\n",
      "        - St.deviation: 177.1699\n",
      "        - Variance: 31389.1803\n",
      "\n",
      "        Treatment group:\n",
      "        - Observations: 100439\n",
      "        - Mean: 252.3377\n",
      "        - Median: 211.7000\n",
      "        - 25th quantile: 122.4000\n",
      "        - 75th quantile: 339.9000\n",
      "        - Minimum: 0.4000\n",
      "        - Maximum: 1815.3000\n",
      "        - St.deviation: 177.1699\n",
      "        - Variance: 31389.1803\n",
      "\n",
      "        No transformations applied.\n",
      "        Number of bootstrap iterations: 1000. \n",
      "\n",
      "        Following statistical tests are used:\n",
      "        - Welch's t-test: 3.12, p-value = 0.0009, H0 is rejected.\n",
      "        - Mann Whitney's U-test: 4952210089.00, p-value = 0.9999, H0 is not rejected.\n",
      "        - Bootstrap test: H0 is rejected.\n",
      "\n",
      "        Two out of three stat. tests showed that H0 is rejected.\n",
      "        \n"
     ]
    }
   ],
   "source": [
    "ab_test.report()"
   ]
  },
  {
   "cell_type": "code",
   "execution_count": 455,
   "metadata": {},
   "outputs": [
    {
     "name": "stdout",
     "output_type": "stream",
     "text": [
      "\n",
      "        Parameters of experiment:\n",
      "        - Metric type: continuous.\n",
      "        - Metric: mean.\n",
      "        - Errors: alpha = 0.01, beta = 0.2.\n",
      "        - Alternative: greater.\n",
      "\n",
      "        Control group:\n",
      "        - Observations: 62571\n",
      "        - Mean: 0.0000\n",
      "        - Median: -40.8689\n",
      "        - 25th quantile: -148.1689\n",
      "        - 75th quantile: 109.5311\n",
      "        - Minimum: -908.5445\n",
      "        - Maximum: 1797.6933\n",
      "        - St.deviation: 222.3560\n",
      "        - Variance: 49442.1686\n",
      "\n",
      "        Treatment group:\n",
      "        - Observations: 63321\n",
      "        - Mean: 3.9160\n",
      "        - Median: -37.2689\n",
      "        - 25th quantile: -145.0067\n",
      "        - 75th quantile: 113.6311\n",
      "        - Minimum: -819.3134\n",
      "        - Maximum: 1605.3933\n",
      "        - St.deviation: 222.3560\n",
      "        - Variance: 49442.1686\n",
      "\n",
      "        Transformations applied: linearization.\n",
      "        Number of bootstrap iterations: 1000. \n",
      "\n",
      "        Following statistical tests are used:\n",
      "        - Welch's t-test: 3.12, p-value = 0.0009, H0 is rejected.\n",
      "        - Mann Whitney's U-test: 1957741903.50, p-value = 0.9998, H0 is not rejected.\n",
      "        - Bootstrap test: H0 is rejected.\n",
      "\n",
      "        Two out of three stat. tests showed that H0 is rejected.\n",
      "        \n"
     ]
    }
   ],
   "source": [
    "ab_test_1.report()"
   ]
  },
  {
   "cell_type": "markdown",
   "metadata": {},
   "source": [
    "## Метрика-отношение"
   ]
  },
  {
   "cell_type": "code",
   "execution_count": 525,
   "metadata": {},
   "outputs": [],
   "source": [
    "df = pd.read_csv('./data/ab_data_new.csv')\n",
    "\n",
    "data_params = DataParams(\n",
    "    id_col='user_id', \n",
    "    group_col='groups',\n",
    "    control_name='control',\n",
    "    treatment_name='treatment',\n",
    "    is_grouped=False,\n",
    "    numerator='clicks',  # <----- числитель\n",
    "    denominator='session_duration'  # <----- знаменатель\n",
    ")\n",
    "\n",
    "hypothesis_params = HypothesisParams(\n",
    "    alpha=0.01, \n",
    "    beta=0.2, \n",
    "    alternative='greater', \n",
    "    metric_type='ratio', \n",
    "    metric_name='mean',  # <----- обязательное использование метрики \"среднее\"\n",
    "    n_boot_samples=1000\n",
    ")\n",
    "\n",
    "ab_params = ABTestParams(data_params, hypothesis_params)\n",
    "ab_test = ABTest(df, ab_params)"
   ]
  },
  {
   "cell_type": "code",
   "execution_count": 526,
   "metadata": {},
   "outputs": [
    {
     "data": {
      "text/plain": [
       "{'stat': -20.06346061753186, 'p-value': None, 'result': 0}"
      ]
     },
     "execution_count": 526,
     "metadata": {},
     "output_type": "execute_result"
    }
   ],
   "source": [
    "ab_test.test_taylor_ratio()"
   ]
  },
  {
   "cell_type": "markdown",
   "metadata": {},
   "source": [
    "Добавляем в числитель клики:"
   ]
  },
  {
   "cell_type": "code",
   "execution_count": 530,
   "metadata": {},
   "outputs": [
    {
     "data": {
      "text/plain": [
       "{'stat': 452.8102414921475, 'p-value': None, 'result': 1}"
      ]
     },
     "execution_count": 530,
     "metadata": {},
     "output_type": "execute_result"
    }
   ],
   "source": [
    "df1 = df.copy(deep=True)\n",
    "df1.loc[df.groups == 'treatment', 'clicks'] = df1.loc[df1.groups == 'treatment', 'clicks'] \\\n",
    "                                                    + np.random.normal(2, 1, df1.loc[df.groups == 'treatment'].shape[0])\n",
    "ab_test_up = ABTest(df1, ab_params)\n",
    "ab_test_up.test_taylor_ratio()"
   ]
  },
  {
   "cell_type": "markdown",
   "metadata": {},
   "source": [
    "Линеаризируем и смотрим результат после применения:"
   ]
  },
  {
   "cell_type": "code",
   "execution_count": 528,
   "metadata": {},
   "outputs": [],
   "source": [
    "ab_test_1 = ab_test.linearization()\n",
    "ab_test_up_1 = ab_test_up.linearization()"
   ]
  },
  {
   "cell_type": "code",
   "execution_count": 529,
   "metadata": {},
   "outputs": [
    {
     "name": "stdout",
     "output_type": "stream",
     "text": [
      "{'stat': -0.6724058815733444, 'p-value': 0.7493367126182489, 'result': 0}\n",
      "{'stat': 15.151431998966926, 'p-value': 4.119271453564585e-52, 'result': 1}\n"
     ]
    }
   ],
   "source": [
    "print(ab_test_1.test_welch())\n",
    "print(ab_test_up_1.test_welch())"
   ]
  },
  {
   "cell_type": "markdown",
   "metadata": {},
   "source": [
    "## Бакетирование"
   ]
  },
  {
   "cell_type": "code",
   "execution_count": 456,
   "metadata": {},
   "outputs": [],
   "source": [
    "df = pd.read_csv('./data/ab_data_new.csv')\n",
    "\n",
    "data_params = DataParams(\n",
    "    id_col='user_id', \n",
    "    group_col='groups',\n",
    "    control_name='control',\n",
    "    treatment_name='treatment',\n",
    "    is_grouped=True,\n",
    "    target='check_rub_campaign'\n",
    ")\n",
    "\n",
    "hypothesis_params = HypothesisParams(\n",
    "    alpha=0.01, \n",
    "    beta=0.2, \n",
    "    alternative='greater', \n",
    "    metric_type='solid', \n",
    "    metric_name='mean',  # <----- обязательное использование метрики \"среднее\"\n",
    "    n_boot_samples=1000,\n",
    "    n_buckets=1000  # <----- количество бакетов\n",
    ")\n",
    "\n",
    "ab_params = ABTestParams(data_params, hypothesis_params)\n",
    "ab_test = ABTest(df, ab_params)"
   ]
  },
  {
   "cell_type": "code",
   "execution_count": 457,
   "metadata": {},
   "outputs": [
    {
     "data": {
      "image/png": "[encoded data removed]",
      "text/plain": [
       "<Figure size 1440x864 with 1 Axes>"
      ]
     },
     "metadata": {
      "needs_background": "light"
     },
     "output_type": "display_data"
    }
   ],
   "source": [
    "ab_test.plot()"
   ]
  },
  {
   "cell_type": "code",
   "execution_count": 458,
   "metadata": {},
   "outputs": [],
   "source": [
    "ab_test_1 = ab_test.bucketing()"
   ]
  },
  {
   "cell_type": "code",
   "execution_count": 459,
   "metadata": {},
   "outputs": [
    {
     "data": {
      "image/png": "[encoded data removed]",
      "text/plain": [
       "<Figure size 1440x864 with 1 Axes>"
      ]
     },
     "metadata": {
      "needs_background": "light"
     },
     "output_type": "display_data"
    }
   ],
   "source": [
    "ab_test_1.plot()"
   ]
  },
  {
   "cell_type": "markdown",
   "metadata": {},
   "source": [
    "Сравниваем средние до и после бакетирования:"
   ]
  },
  {
   "cell_type": "code",
   "execution_count": 464,
   "metadata": {},
   "outputs": [
    {
     "name": "stdout",
     "output_type": "stream",
     "text": [
      "До бакетирования:\n",
      "249.86890147748616\n",
      "252.3377423112536\n",
      "\n",
      "После бакетирования:\n",
      "249.86930191919194\n",
      "252.3396230891089\n"
     ]
    }
   ],
   "source": [
    "print('До бакетирования:')\n",
    "print(np.mean(ab_test.params.data_params.control))\n",
    "print(np.mean(ab_test.params.data_params.treatment))\n",
    "print('\\nПосле бакетирования:')\n",
    "print(np.mean(ab_test_1.params.data_params.control))\n",
    "print(np.mean(ab_test_1.params.data_params.treatment))"
   ]
  },
  {
   "cell_type": "markdown",
   "metadata": {},
   "source": [
    "## Всё вместе"
   ]
  },
  {
   "cell_type": "code",
   "execution_count": 562,
   "metadata": {},
   "outputs": [],
   "source": [
    "df = pd.read_csv('./data/ab_data_new.csv')\n",
    "\n",
    "data_params = DataParams(\n",
    "    id_col='user_id', \n",
    "    group_col='groups',\n",
    "    control_name='control',\n",
    "    treatment_name='treatment',\n",
    "    covariate='check_rub_pre_campaign',\n",
    "    is_grouped=False,\n",
    "    target='check_rub_campaign'\n",
    ")\n",
    "\n",
    "hypothesis_params = HypothesisParams(\n",
    "    alpha=0.01, \n",
    "    beta=0.2, \n",
    "    alternative='greater', \n",
    "    metric_type='solid', \n",
    "    metric_name='median',\n",
    "    metric_transform=np.sqrt,\n",
    "    filter_outliers='top_5',\n",
    "    n_boot_samples=1000,\n",
    "    n_buckets=1000\n",
    ")\n",
    "\n",
    "ab_params = ABTestParams(data_params, hypothesis_params)"
   ]
  },
  {
   "cell_type": "code",
   "execution_count": 563,
   "metadata": {},
   "outputs": [],
   "source": [
    "ab_test = ABTest(df, ab_params).metric_transform().filter_outliers().linearization().cuped().bucketing()"
   ]
  },
  {
   "cell_type": "code",
   "execution_count": 564,
   "metadata": {},
   "outputs": [
    {
     "name": "stdout",
     "output_type": "stream",
     "text": [
      "\n",
      "        Parameters of experiment:\n",
      "        - Metric type: continuous.\n",
      "        - Metric: median.\n",
      "        - Errors: alpha = 0.01, beta = 0.2.\n",
      "        - Alternative: greater.\n",
      "\n",
      "        Control group:\n",
      "        - Observations: 1000\n",
      "        - Mean: 0.2205\n",
      "        - Median: 0.2326\n",
      "        - 25th quantile: 0.1160\n",
      "        - 75th quantile: 0.3450\n",
      "        - Minimum: -0.6086\n",
      "        - Maximum: 0.7122\n",
      "        - St.deviation: 0.1882\n",
      "        - Variance: 0.0354\n",
      "\n",
      "        Treatment group:\n",
      "        - Observations: 1000\n",
      "        - Mean: 0.3420\n",
      "        - Median: 0.3522\n",
      "        - 25th quantile: 0.2331\n",
      "        - 75th quantile: 0.4725\n",
      "        - Minimum: -0.6369\n",
      "        - Maximum: 0.8563\n",
      "        - St.deviation: 0.1882\n",
      "        - Variance: 0.0354\n",
      "\n",
      "        Transformations applied: metric transform -> filter outliers -> linearization -> cuped -> bucketing.\n",
      "        Number of bootstrap iterations: 1000. Number of buckets: 1000. Metric transformation applied: sqrt. Outliers filtering method applied: top_5. \n",
      "\n",
      "        Following statistical tests are used:\n",
      "        - Welch's t-test: 14.44, p-value = 0.0000, H0 is rejected.\n",
      "        - Mann Whitney's U-test: 316263.00, p-value = 1.0000, H0 is not rejected.\n",
      "        - Bootstrap test: H0 is rejected.\n",
      "\n",
      "        Two out of three stat. tests showed that H0 is rejected.\n",
      "        \n"
     ]
    }
   ],
   "source": [
    "ab_test.report()"
   ]
  },
  {
   "cell_type": "markdown",
   "metadata": {},
   "source": [
    "# Пост-анализ для метрики \"конверсия\"\n",
    "## Инициализация теста, иллюстрация, запуск теста и отчет"
   ]
  },
  {
   "cell_type": "code",
   "execution_count": 540,
   "metadata": {},
   "outputs": [],
   "source": [
    "df = pd.read_csv('./data/ab_data_new.csv')\n",
    "df = df.drop_duplicates(['user_id'])\n",
    "\n",
    "data_params = DataParams(\n",
    "    id_col='user_id', \n",
    "    group_col='groups',\n",
    "    control_name='control',\n",
    "    treatment_name='treatment',\n",
    "    is_grouped=True,\n",
    "    target_flg='has_transaction'  # <----- для конверсии задаем целевую колонку в этот аргумент\n",
    ")\n",
    "\n",
    "hypothesis_params = HypothesisParams(\n",
    "    alpha=0.01, \n",
    "    beta=0.2, \n",
    "    alternative='greater', \n",
    "    metric_type='binary', \n",
    "    metric_name='mean',  # <----- обязательное использование метрики \"среднее\"\n",
    "    n_boot_samples=1000\n",
    ")\n",
    "\n",
    "ab_params = ABTestParams(data_params, hypothesis_params)\n",
    "ab_test = ABTest(df, ab_params)"
   ]
  },
  {
   "cell_type": "code",
   "execution_count": 541,
   "metadata": {},
   "outputs": [
    {
     "name": "stdout",
     "output_type": "stream",
     "text": [
      "\n",
      "        Parameters of experiment:\n",
      "        - Metric type: binary.\n",
      "        - Metric: mean.\n",
      "        - Errors: alpha = 0.01, beta = 0.2.\n",
      "        - Alternative: greater.\n",
      "\n",
      "        Control group:\n",
      "        - Observations: 62892\n",
      "        - Conversion: 0.038669465114799975\n",
      "\n",
      "        Treatment group:\n",
      "        - Observations: 62886\n",
      "        - Conversion: 0.06576980568011959\n",
      "\n",
      "        No transformations applied.\n",
      "\n",
      "        Following statistical tests are used:\n",
      "        - Z-test: 21.60, p-value = 0.0000, H0 is rejected.\n",
      "        - Chi-square test: 1242.29, p-value = 0.0000, H0 is rejected.\n",
      "\n",
      "        All two stat. tests showed that H0 is rejected.\n",
      "        \n"
     ]
    }
   ],
   "source": [
    "ab_test.report()"
   ]
  },
  {
   "cell_type": "code",
   "execution_count": 542,
   "metadata": {},
   "outputs": [
    {
     "data": {
      "image/png": "[encoded data removed]",
      "text/plain": [
       "<Figure size 6000x3600 with 1 Axes>"
      ]
     },
     "metadata": {
      "needs_background": "light"
     },
     "output_type": "display_data"
    }
   ],
   "source": [
    "ab_test.plot()"
   ]
  },
  {
   "cell_type": "markdown",
   "metadata": {},
   "source": [
    "# Выделение групп эксперимента\n",
    "## Разделение на группы всех имеющихся данных"
   ]
  },
  {
   "cell_type": "code",
   "execution_count": 649,
   "metadata": {},
   "outputs": [],
   "source": [
    "df = pd.read_csv('./data/ab_data_new.csv')\n",
    "df = df.drop(columns=['groups'])\n",
    "df = df.drop_duplicates(['user_id'])"
   ]
  },
  {
   "cell_type": "code",
   "execution_count": 644,
   "metadata": {},
   "outputs": [],
   "source": [
    "split_builder_params = SplitBuilderParams(\n",
    "    map_group_names_to_sizes={\n",
    "        'control': None,\n",
    "        'target': None\n",
    "    },\n",
    "    main_strata_col = \"city\",\n",
    "    split_metric_col = \"check_rub_campaign\",\n",
    "    id_col = \"user_id\",\n",
    "    cols = [\"check_rub_pre_campaign\"],\n",
    "    cat_cols=[\"gender\"],\n",
    "    pvalue=0.05,\n",
    "    n_bins = 6,\n",
    "    min_cluster_size = 100\n",
    ")"
   ]
  },
  {
   "cell_type": "code",
   "execution_count": 645,
   "metadata": {},
   "outputs": [],
   "source": [
    "split_builder = SplitBuilder(df, split_builder_params)"
   ]
  },
  {
   "cell_type": "code",
   "execution_count": 646,
   "metadata": {},
   "outputs": [],
   "source": [
    "split = split_builder.collect()"
   ]
  },
  {
   "cell_type": "code",
   "execution_count": 647,
   "metadata": {},
   "outputs": [
    {
     "data": {
      "text/html": [
       "<div>\n",
       "<style scoped>\n",
       "    .dataframe tbody tr th:only-of-type {\n",
       "        vertical-align: middle;\n",
       "    }\n",
       "\n",
       "    .dataframe tbody tr th {\n",
       "        vertical-align: top;\n",
       "    }\n",
       "\n",
       "    .dataframe thead th {\n",
       "        text-align: right;\n",
       "    }\n",
       "</style>\n",
       "<table border=\"1\" class=\"dataframe\">\n",
       "  <thead>\n",
       "    <tr style=\"text-align: right;\">\n",
       "      <th></th>\n",
       "      <th>user_id</th>\n",
       "      <th>gender</th>\n",
       "      <th>age</th>\n",
       "      <th>city</th>\n",
       "      <th>check_rub_campaign</th>\n",
       "      <th>check_rub_pre_campaign</th>\n",
       "      <th>has_transaction</th>\n",
       "      <th>clicks</th>\n",
       "      <th>session_duration</th>\n",
       "      <th>strata</th>\n",
       "      <th>group_name</th>\n",
       "    </tr>\n",
       "  </thead>\n",
       "  <tbody>\n",
       "    <tr>\n",
       "      <th>0</th>\n",
       "      <td>189963</td>\n",
       "      <td>0.351604</td>\n",
       "      <td>64</td>\n",
       "      <td>Moscow</td>\n",
       "      <td>337.9</td>\n",
       "      <td>322.498048</td>\n",
       "      <td>0</td>\n",
       "      <td>12</td>\n",
       "      <td>91</td>\n",
       "      <td>Moscow4-1</td>\n",
       "      <td>target</td>\n",
       "    </tr>\n",
       "    <tr>\n",
       "      <th>1</th>\n",
       "      <td>42186</td>\n",
       "      <td>0.648396</td>\n",
       "      <td>44</td>\n",
       "      <td>Perm</td>\n",
       "      <td>84.8</td>\n",
       "      <td>80.795804</td>\n",
       "      <td>0</td>\n",
       "      <td>18</td>\n",
       "      <td>7</td>\n",
       "      <td>Perm0-1</td>\n",
       "      <td>control</td>\n",
       "    </tr>\n",
       "    <tr>\n",
       "      <th>2</th>\n",
       "      <td>3038</td>\n",
       "      <td>0.648396</td>\n",
       "      <td>35</td>\n",
       "      <td>Moscow</td>\n",
       "      <td>428.9</td>\n",
       "      <td>410.870342</td>\n",
       "      <td>0</td>\n",
       "      <td>13</td>\n",
       "      <td>12</td>\n",
       "      <td>Moscow5-1</td>\n",
       "      <td>control</td>\n",
       "    </tr>\n",
       "    <tr>\n",
       "      <th>3</th>\n",
       "      <td>125577</td>\n",
       "      <td>0.351604</td>\n",
       "      <td>49</td>\n",
       "      <td>St.Petersburg</td>\n",
       "      <td>401.4</td>\n",
       "      <td>416.752732</td>\n",
       "      <td>0</td>\n",
       "      <td>3</td>\n",
       "      <td>10</td>\n",
       "      <td>St.Petersburg4-1</td>\n",
       "      <td>control</td>\n",
       "    </tr>\n",
       "    <tr>\n",
       "      <th>4</th>\n",
       "      <td>10191</td>\n",
       "      <td>0.351604</td>\n",
       "      <td>53</td>\n",
       "      <td>St.Petersburg</td>\n",
       "      <td>122.8</td>\n",
       "      <td>108.475735</td>\n",
       "      <td>0</td>\n",
       "      <td>29</td>\n",
       "      <td>24</td>\n",
       "      <td>St.Petersburg1-1</td>\n",
       "      <td>target</td>\n",
       "    </tr>\n",
       "  </tbody>\n",
       "</table>\n",
       "</div>"
      ],
      "text/plain": [
       "  user_id    gender  age           city  check_rub_campaign  \\\n",
       "0  189963  0.351604   64         Moscow               337.9   \n",
       "1   42186  0.648396   44           Perm                84.8   \n",
       "2    3038  0.648396   35         Moscow               428.9   \n",
       "3  125577  0.351604   49  St.Petersburg               401.4   \n",
       "4   10191  0.351604   53  St.Petersburg               122.8   \n",
       "\n",
       "   check_rub_pre_campaign  has_transaction  clicks  session_duration  \\\n",
       "0              322.498048                0      12                91   \n",
       "1               80.795804                0      18                 7   \n",
       "2              410.870342                0      13                12   \n",
       "3              416.752732                0       3                10   \n",
       "4              108.475735                0      29                24   \n",
       "\n",
       "             strata group_name  \n",
       "0         Moscow4-1     target  \n",
       "1           Perm0-1    control  \n",
       "2         Moscow5-1    control  \n",
       "3  St.Petersburg4-1    control  \n",
       "4  St.Petersburg1-1     target  "
      ]
     },
     "execution_count": 647,
     "metadata": {},
     "output_type": "execute_result"
    }
   ],
   "source": [
    "split.head()"
   ]
  },
  {
   "cell_type": "code",
   "execution_count": 648,
   "metadata": {},
   "outputs": [
    {
     "name": "stdout",
     "output_type": "stream",
     "text": [
      "Количество строк исходно: 125778\n",
      "Количество строк в сплите: 125778\n"
     ]
    }
   ],
   "source": [
    "print(f'Количество строк исходно: {df.shape[0]}')\n",
    "print(f'Количество строк в сплите: {split.shape[0]}')"
   ]
  },
  {
   "cell_type": "markdown",
   "metadata": {},
   "source": [
    "## Разделение на группы с требуемым размером"
   ]
  },
  {
   "cell_type": "code",
   "execution_count": 650,
   "metadata": {},
   "outputs": [],
   "source": [
    "df = pd.read_csv('./data/ab_data_new.csv')\n",
    "df = df.drop(columns=['groups'])\n",
    "df = df.drop_duplicates(['user_id'])"
   ]
  },
  {
   "cell_type": "code",
   "execution_count": 651,
   "metadata": {},
   "outputs": [],
   "source": [
    "split_builder_params = SplitBuilderParams(\n",
    "    map_group_names_to_sizes={\n",
    "        'control': 20_000,  # <----- размер контрольной группы\n",
    "        'target': 30_000  # <----- размер тестовой группы\n",
    "    },\n",
    "    main_strata_col = \"city\",\n",
    "    split_metric_col = \"check_rub_campaign\",\n",
    "    id_col = \"user_id\",\n",
    "    cols = [\"check_rub_pre_campaign\"],\n",
    "    cat_cols=[\"gender\"],\n",
    "    pvalue=0.05,\n",
    "    n_bins = 6,\n",
    "    min_cluster_size = 500\n",
    ")"
   ]
  },
  {
   "cell_type": "code",
   "execution_count": 652,
   "metadata": {},
   "outputs": [],
   "source": [
    "split_builder = SplitBuilder(df, split_builder_params)"
   ]
  },
  {
   "cell_type": "code",
   "execution_count": 653,
   "metadata": {},
   "outputs": [],
   "source": [
    "split = split_builder.collect()"
   ]
  },
  {
   "cell_type": "code",
   "execution_count": 654,
   "metadata": {},
   "outputs": [
    {
     "data": {
      "text/html": [
       "<div>\n",
       "<style scoped>\n",
       "    .dataframe tbody tr th:only-of-type {\n",
       "        vertical-align: middle;\n",
       "    }\n",
       "\n",
       "    .dataframe tbody tr th {\n",
       "        vertical-align: top;\n",
       "    }\n",
       "\n",
       "    .dataframe thead th {\n",
       "        text-align: right;\n",
       "    }\n",
       "</style>\n",
       "<table border=\"1\" class=\"dataframe\">\n",
       "  <thead>\n",
       "    <tr style=\"text-align: right;\">\n",
       "      <th></th>\n",
       "      <th>user_id</th>\n",
       "      <th>gender</th>\n",
       "      <th>age</th>\n",
       "      <th>city</th>\n",
       "      <th>check_rub_campaign</th>\n",
       "      <th>check_rub_pre_campaign</th>\n",
       "      <th>has_transaction</th>\n",
       "      <th>clicks</th>\n",
       "      <th>session_duration</th>\n",
       "      <th>strata</th>\n",
       "      <th>group_name</th>\n",
       "    </tr>\n",
       "  </thead>\n",
       "  <tbody>\n",
       "    <tr>\n",
       "      <th>0</th>\n",
       "      <td>189963</td>\n",
       "      <td>0.351604</td>\n",
       "      <td>64</td>\n",
       "      <td>Moscow</td>\n",
       "      <td>337.9</td>\n",
       "      <td>322.498048</td>\n",
       "      <td>0</td>\n",
       "      <td>12</td>\n",
       "      <td>91</td>\n",
       "      <td>Moscow4-1</td>\n",
       "      <td>target</td>\n",
       "    </tr>\n",
       "    <tr>\n",
       "      <th>1</th>\n",
       "      <td>27297</td>\n",
       "      <td>0.648397</td>\n",
       "      <td>31</td>\n",
       "      <td>Moscow</td>\n",
       "      <td>231.3</td>\n",
       "      <td>228.023670</td>\n",
       "      <td>0</td>\n",
       "      <td>4</td>\n",
       "      <td>17</td>\n",
       "      <td>Moscow3-1</td>\n",
       "      <td>control</td>\n",
       "    </tr>\n",
       "    <tr>\n",
       "      <th>2</th>\n",
       "      <td>3849</td>\n",
       "      <td>0.351604</td>\n",
       "      <td>50</td>\n",
       "      <td>Moscow</td>\n",
       "      <td>501.6</td>\n",
       "      <td>511.261485</td>\n",
       "      <td>0</td>\n",
       "      <td>12</td>\n",
       "      <td>15</td>\n",
       "      <td>Moscow5-1</td>\n",
       "      <td>control</td>\n",
       "    </tr>\n",
       "    <tr>\n",
       "      <th>3</th>\n",
       "      <td>85797</td>\n",
       "      <td>0.648397</td>\n",
       "      <td>26</td>\n",
       "      <td>Samara</td>\n",
       "      <td>474.6</td>\n",
       "      <td>483.766226</td>\n",
       "      <td>0</td>\n",
       "      <td>6</td>\n",
       "      <td>18</td>\n",
       "      <td>Samara5-1</td>\n",
       "      <td>control</td>\n",
       "    </tr>\n",
       "    <tr>\n",
       "      <th>4</th>\n",
       "      <td>117775</td>\n",
       "      <td>0.648397</td>\n",
       "      <td>66</td>\n",
       "      <td>Moscow</td>\n",
       "      <td>37.2</td>\n",
       "      <td>34.252079</td>\n",
       "      <td>0</td>\n",
       "      <td>60</td>\n",
       "      <td>10</td>\n",
       "      <td>Moscow0-1</td>\n",
       "      <td>target</td>\n",
       "    </tr>\n",
       "  </tbody>\n",
       "</table>\n",
       "</div>"
      ],
      "text/plain": [
       "  user_id    gender  age    city  check_rub_campaign  check_rub_pre_campaign  \\\n",
       "0  189963  0.351604   64  Moscow               337.9              322.498048   \n",
       "1   27297  0.648397   31  Moscow               231.3              228.023670   \n",
       "2    3849  0.351604   50  Moscow               501.6              511.261485   \n",
       "3   85797  0.648397   26  Samara               474.6              483.766226   \n",
       "4  117775  0.648397   66  Moscow                37.2               34.252079   \n",
       "\n",
       "   has_transaction  clicks  session_duration     strata group_name  \n",
       "0                0      12                91  Moscow4-1     target  \n",
       "1                0       4                17  Moscow3-1    control  \n",
       "2                0      12                15  Moscow5-1    control  \n",
       "3                0       6                18  Samara5-1    control  \n",
       "4                0      60                10  Moscow0-1     target  "
      ]
     },
     "execution_count": 654,
     "metadata": {},
     "output_type": "execute_result"
    }
   ],
   "source": [
    "split.head()"
   ]
  },
  {
   "cell_type": "code",
   "execution_count": 655,
   "metadata": {},
   "outputs": [
    {
     "name": "stdout",
     "output_type": "stream",
     "text": [
      "Количество строк исходно: 125778\n",
      "Количество строк в сплите: 50000\n",
      "Количество строк в контроле: 19999\n",
      "Количество строк в тесте: 30001\n"
     ]
    }
   ],
   "source": [
    "print(f'Количество строк исходно: {df.shape[0]}')\n",
    "print(f'Количество строк в сплите: {split.shape[0]}')\n",
    "print(f'Количество строк в контроле: {split[split.group_name == \"control\"].shape[0]}')\n",
    "print(f'Количество строк в тесте: {split[split.group_name == \"target\"].shape[0]}')"
   ]
  },
  {
   "cell_type": "markdown",
   "metadata": {},
   "source": [
    "# Подбор параметров эксперимента\n",
    "## Непрерывная метрика, без трансформаций"
   ]
  },
  {
   "cell_type": "code",
   "execution_count": 667,
   "metadata": {},
   "outputs": [],
   "source": [
    "df = pd.read_csv('./data/ab_data_new.csv')\n",
    "df = df.drop_duplicates(['user_id'])"
   ]
  },
  {
   "cell_type": "code",
   "execution_count": 668,
   "metadata": {},
   "outputs": [],
   "source": [
    "data_params = DataParams(\n",
    "    id_col='user_id', \n",
    "    group_col='groups',\n",
    "    control_name='control',\n",
    "    treatment_name='treatment',\n",
    "    is_grouped=True,\n",
    "    target='check_rub_campaign' \n",
    ")\n",
    "\n",
    "hypothesis_params = HypothesisParams(\n",
    "    alpha=0.01, \n",
    "    beta=0.2, \n",
    "    alternative='greater', \n",
    "    metric_type='solid', \n",
    "    metric_name='mean', \n",
    "    n_boot_samples=1000\n",
    ")\n",
    "\n",
    "ab_params = ABTestParams(data_params, hypothesis_params)\n",
    "ab_test = ABTest(df, ab_params)"
   ]
  },
  {
   "cell_type": "code",
   "execution_count": 669,
   "metadata": {},
   "outputs": [],
   "source": [
    "split_builder_params = SplitBuilderParams(\n",
    "    map_group_names_to_sizes={\n",
    "        'control': None, \n",
    "        'target': None\n",
    "    },\n",
    "    main_strata_col = \"city\",\n",
    "    split_metric_col = \"check_rub_campaign\",\n",
    "    id_col = \"user_id\",\n",
    "    cols = [\"check_rub_pre_campaign\"],\n",
    "    cat_cols=[\"gender\"],\n",
    "    pvalue=0.05,\n",
    "    n_bins = 6,\n",
    "    min_cluster_size = 500\n",
    ")"
   ]
  },
  {
   "cell_type": "code",
   "execution_count": 716,
   "metadata": {},
   "outputs": [],
   "source": [
    "experiment_params = MdeParams(\n",
    "    metrics_names=['check_rub_campaign'],\n",
    "    injects=[1.010, 1.013, 1.015, 1.018, 1.02, 1.030],\n",
    "    min_group_size=5_000, \n",
    "    max_group_size=30_000, \n",
    "    step=5_000,\n",
    "    variance_reduction=None,\n",
    "    use_buckets=False,\n",
    "    stat_test=ABTest.test_welch,\n",
    "    iterations_number=10,\n",
    "    max_beta_score=0.9,\n",
    "    min_beta_score=0.2,\n",
    ")"
   ]
  },
  {
   "cell_type": "code",
   "execution_count": 717,
   "metadata": {},
   "outputs": [],
   "source": [
    "prepilot = MdeResearchBuilder(df, \n",
    "                              ab_params,\n",
    "                              experiment_params,\n",
    "                              split_builder_params)"
   ]
  },
  {
   "cell_type": "code",
   "execution_count": 718,
   "metadata": {},
   "outputs": [],
   "source": [
    "beta, alpha = prepilot.collect()"
   ]
  },
  {
   "cell_type": "code",
   "execution_count": 719,
   "metadata": {},
   "outputs": [
    {
     "data": {
      "text/html": [
       "<div>\n",
       "<style scoped>\n",
       "    .dataframe tbody tr th:only-of-type {\n",
       "        vertical-align: middle;\n",
       "    }\n",
       "\n",
       "    .dataframe tbody tr th {\n",
       "        vertical-align: top;\n",
       "    }\n",
       "\n",
       "    .dataframe thead th {\n",
       "        text-align: right;\n",
       "    }\n",
       "</style>\n",
       "<table border=\"1\" class=\"dataframe\">\n",
       "  <thead>\n",
       "    <tr style=\"text-align: right;\">\n",
       "      <th></th>\n",
       "      <th>split_rate</th>\n",
       "      <th>(5000, 5000)</th>\n",
       "      <th>(10000, 10000)</th>\n",
       "      <th>(15000, 15000)</th>\n",
       "      <th>(20000, 20000)</th>\n",
       "      <th>(25000, 25000)</th>\n",
       "      <th>(30000, 30000)</th>\n",
       "    </tr>\n",
       "    <tr>\n",
       "      <th>metric</th>\n",
       "      <th>MDE</th>\n",
       "      <th></th>\n",
       "      <th></th>\n",
       "      <th></th>\n",
       "      <th></th>\n",
       "      <th></th>\n",
       "      <th></th>\n",
       "    </tr>\n",
       "  </thead>\n",
       "  <tbody>\n",
       "    <tr>\n",
       "      <th rowspan=\"6\" valign=\"top\">check_rub_campaign</th>\n",
       "      <th>1.0%</th>\n",
       "      <td>&gt;=0.9</td>\n",
       "      <td>&gt;=0.9</td>\n",
       "      <td>&gt;=0.9</td>\n",
       "      <td>&gt;=0.9</td>\n",
       "      <td>&gt;=0.9</td>\n",
       "      <td>&gt;=0.9</td>\n",
       "    </tr>\n",
       "    <tr>\n",
       "      <th>1.3%</th>\n",
       "      <td>&gt;=0.9</td>\n",
       "      <td>&gt;=0.9</td>\n",
       "      <td>&gt;=0.9</td>\n",
       "      <td>&gt;=0.9</td>\n",
       "      <td>0.8</td>\n",
       "      <td>0.4</td>\n",
       "    </tr>\n",
       "    <tr>\n",
       "      <th>1.5%</th>\n",
       "      <td>&gt;=0.9</td>\n",
       "      <td>&gt;=0.9</td>\n",
       "      <td>&gt;=0.9</td>\n",
       "      <td>0.5</td>\n",
       "      <td>&lt;=0.2</td>\n",
       "      <td>&lt;=0.2</td>\n",
       "    </tr>\n",
       "    <tr>\n",
       "      <th>1.8%</th>\n",
       "      <td>&gt;=0.9</td>\n",
       "      <td>&gt;=0.9</td>\n",
       "      <td>0.6</td>\n",
       "      <td>0.3</td>\n",
       "      <td>&lt;=0.2</td>\n",
       "      <td>&lt;=0.2</td>\n",
       "    </tr>\n",
       "    <tr>\n",
       "      <th>2.0%</th>\n",
       "      <td>&gt;=0.9</td>\n",
       "      <td>0.8</td>\n",
       "      <td>0.3</td>\n",
       "      <td>&lt;=0.2</td>\n",
       "      <td>&lt;=0.2</td>\n",
       "      <td>&lt;=0.2</td>\n",
       "    </tr>\n",
       "    <tr>\n",
       "      <th>3.0%</th>\n",
       "      <td>&gt;=0.9</td>\n",
       "      <td>&lt;=0.2</td>\n",
       "      <td>&lt;=0.2</td>\n",
       "      <td>&lt;=0.2</td>\n",
       "      <td>&lt;=0.2</td>\n",
       "      <td>&lt;=0.2</td>\n",
       "    </tr>\n",
       "  </tbody>\n",
       "</table>\n",
       "</div>"
      ],
      "text/plain": [
       "split_rate              (5000, 5000) (10000, 10000) (15000, 15000)  \\\n",
       "metric             MDE                                               \n",
       "check_rub_campaign 1.0%        >=0.9          >=0.9          >=0.9   \n",
       "                   1.3%        >=0.9          >=0.9          >=0.9   \n",
       "                   1.5%        >=0.9          >=0.9          >=0.9   \n",
       "                   1.8%        >=0.9          >=0.9            0.6   \n",
       "                   2.0%        >=0.9            0.8            0.3   \n",
       "                   3.0%        >=0.9          <=0.2          <=0.2   \n",
       "\n",
       "split_rate              (20000, 20000) (25000, 25000) (30000, 30000)  \n",
       "metric             MDE                                                \n",
       "check_rub_campaign 1.0%          >=0.9          >=0.9          >=0.9  \n",
       "                   1.3%          >=0.9            0.8            0.4  \n",
       "                   1.5%            0.5          <=0.2          <=0.2  \n",
       "                   1.8%            0.3          <=0.2          <=0.2  \n",
       "                   2.0%          <=0.2          <=0.2          <=0.2  \n",
       "                   3.0%          <=0.2          <=0.2          <=0.2  "
      ]
     },
     "execution_count": 719,
     "metadata": {},
     "output_type": "execute_result"
    }
   ],
   "source": [
    "beta"
   ]
  },
  {
   "cell_type": "code",
   "execution_count": 720,
   "metadata": {},
   "outputs": [
    {
     "data": {
      "text/html": [
       "<div>\n",
       "<style scoped>\n",
       "    .dataframe tbody tr th:only-of-type {\n",
       "        vertical-align: middle;\n",
       "    }\n",
       "\n",
       "    .dataframe tbody tr th {\n",
       "        vertical-align: top;\n",
       "    }\n",
       "\n",
       "    .dataframe thead th {\n",
       "        text-align: right;\n",
       "    }\n",
       "</style>\n",
       "<table border=\"1\" class=\"dataframe\">\n",
       "  <thead>\n",
       "    <tr style=\"text-align: right;\">\n",
       "      <th>split_rate</th>\n",
       "      <th>(5000, 5000)</th>\n",
       "      <th>(10000, 10000)</th>\n",
       "      <th>(15000, 15000)</th>\n",
       "      <th>(20000, 20000)</th>\n",
       "      <th>(25000, 25000)</th>\n",
       "      <th>(30000, 30000)</th>\n",
       "    </tr>\n",
       "    <tr>\n",
       "      <th>metric</th>\n",
       "      <th></th>\n",
       "      <th></th>\n",
       "      <th></th>\n",
       "      <th></th>\n",
       "      <th></th>\n",
       "      <th></th>\n",
       "    </tr>\n",
       "  </thead>\n",
       "  <tbody>\n",
       "    <tr>\n",
       "      <th>check_rub_campaign</th>\n",
       "      <td>0.0</td>\n",
       "      <td>0.0</td>\n",
       "      <td>0.0</td>\n",
       "      <td>0.0</td>\n",
       "      <td>0.0</td>\n",
       "      <td>0.0</td>\n",
       "    </tr>\n",
       "  </tbody>\n",
       "</table>\n",
       "</div>"
      ],
      "text/plain": [
       "split_rate          (5000, 5000)  (10000, 10000)  (15000, 15000)  \\\n",
       "metric                                                             \n",
       "check_rub_campaign           0.0             0.0             0.0   \n",
       "\n",
       "split_rate          (20000, 20000)  (25000, 25000)  (30000, 30000)  \n",
       "metric                                                              \n",
       "check_rub_campaign             0.0             0.0             0.0  "
      ]
     },
     "execution_count": 720,
     "metadata": {},
     "output_type": "execute_result"
    }
   ],
   "source": [
    "alpha"
   ]
  },
  {
   "cell_type": "markdown",
   "metadata": {},
   "source": [
    "## Непрерывная метрика, понижение дисперсии"
   ]
  },
  {
   "cell_type": "code",
   "execution_count": 722,
   "metadata": {},
   "outputs": [],
   "source": [
    "data_params = DataParams(\n",
    "    id_col='user_id', \n",
    "    group_col='groups',\n",
    "    control_name='control',\n",
    "    treatment_name='treatment',\n",
    "    is_grouped=True,\n",
    "    target='check_rub_campaign', \n",
    "    covariate='check_rub_pre_campaign'  # <----- добавили ковариату\n",
    ")\n",
    "\n",
    "hypothesis_params = HypothesisParams(\n",
    "    alpha=0.01, \n",
    "    beta=0.2, \n",
    "    alternative='greater', \n",
    "    metric_type='solid', \n",
    "    metric_name='mean', \n",
    "    n_boot_samples=1000\n",
    ")\n",
    "\n",
    "ab_params = ABTestParams(data_params, hypothesis_params)\n",
    "ab_test = ABTest(df, ab_params)"
   ]
  },
  {
   "cell_type": "code",
   "execution_count": 723,
   "metadata": {},
   "outputs": [],
   "source": [
    "experiment_params = MdeParams(\n",
    "    metrics_names=['check_rub_campaign'],\n",
    "    injects=[1.010, 1.013, 1.015, 1.018, 1.02, 1.030],\n",
    "    min_group_size=5_000, \n",
    "    max_group_size=30_000, \n",
    "    step=5_000,\n",
    "    variance_reduction=ABTest.cuped,\n",
    "    use_buckets=False,\n",
    "    stat_test=ABTest.test_welch,\n",
    "    iterations_number=10,\n",
    "    max_beta_score=0.9,\n",
    "    min_beta_score=0.2,\n",
    ")"
   ]
  },
  {
   "cell_type": "code",
   "execution_count": 724,
   "metadata": {},
   "outputs": [],
   "source": [
    "prepilot = MdeResearchBuilder(df, \n",
    "                              ab_params,\n",
    "                              experiment_params,\n",
    "                              split_builder_params)"
   ]
  },
  {
   "cell_type": "code",
   "execution_count": 725,
   "metadata": {},
   "outputs": [],
   "source": [
    "beta, alpha = prepilot.collect()"
   ]
  },
  {
   "cell_type": "code",
   "execution_count": 726,
   "metadata": {},
   "outputs": [
    {
     "data": {
      "text/html": [
       "<div>\n",
       "<style scoped>\n",
       "    .dataframe tbody tr th:only-of-type {\n",
       "        vertical-align: middle;\n",
       "    }\n",
       "\n",
       "    .dataframe tbody tr th {\n",
       "        vertical-align: top;\n",
       "    }\n",
       "\n",
       "    .dataframe thead th {\n",
       "        text-align: right;\n",
       "    }\n",
       "</style>\n",
       "<table border=\"1\" class=\"dataframe\">\n",
       "  <thead>\n",
       "    <tr style=\"text-align: right;\">\n",
       "      <th></th>\n",
       "      <th>split_rate</th>\n",
       "      <th>(5000, 5000)</th>\n",
       "      <th>(10000, 10000)</th>\n",
       "      <th>(15000, 15000)</th>\n",
       "      <th>(20000, 20000)</th>\n",
       "      <th>(25000, 25000)</th>\n",
       "      <th>(30000, 30000)</th>\n",
       "    </tr>\n",
       "    <tr>\n",
       "      <th>metric</th>\n",
       "      <th>MDE</th>\n",
       "      <th></th>\n",
       "      <th></th>\n",
       "      <th></th>\n",
       "      <th></th>\n",
       "      <th></th>\n",
       "      <th></th>\n",
       "    </tr>\n",
       "  </thead>\n",
       "  <tbody>\n",
       "    <tr>\n",
       "      <th rowspan=\"6\" valign=\"top\">check_rub_campaign</th>\n",
       "      <th>1.0%</th>\n",
       "      <td>&lt;=0.2</td>\n",
       "      <td>&lt;=0.2</td>\n",
       "      <td>&lt;=0.2</td>\n",
       "      <td>&lt;=0.2</td>\n",
       "      <td>&lt;=0.2</td>\n",
       "      <td>&lt;=0.2</td>\n",
       "    </tr>\n",
       "    <tr>\n",
       "      <th>1.3%</th>\n",
       "      <td>&lt;=0.2</td>\n",
       "      <td>&lt;=0.2</td>\n",
       "      <td>&lt;=0.2</td>\n",
       "      <td>&lt;=0.2</td>\n",
       "      <td>&lt;=0.2</td>\n",
       "      <td>&lt;=0.2</td>\n",
       "    </tr>\n",
       "    <tr>\n",
       "      <th>1.5%</th>\n",
       "      <td>&lt;=0.2</td>\n",
       "      <td>&lt;=0.2</td>\n",
       "      <td>&lt;=0.2</td>\n",
       "      <td>&lt;=0.2</td>\n",
       "      <td>&lt;=0.2</td>\n",
       "      <td>&lt;=0.2</td>\n",
       "    </tr>\n",
       "    <tr>\n",
       "      <th>1.8%</th>\n",
       "      <td>&lt;=0.2</td>\n",
       "      <td>&lt;=0.2</td>\n",
       "      <td>&lt;=0.2</td>\n",
       "      <td>&lt;=0.2</td>\n",
       "      <td>&lt;=0.2</td>\n",
       "      <td>&lt;=0.2</td>\n",
       "    </tr>\n",
       "    <tr>\n",
       "      <th>2.0%</th>\n",
       "      <td>&lt;=0.2</td>\n",
       "      <td>&lt;=0.2</td>\n",
       "      <td>&lt;=0.2</td>\n",
       "      <td>&lt;=0.2</td>\n",
       "      <td>&lt;=0.2</td>\n",
       "      <td>&lt;=0.2</td>\n",
       "    </tr>\n",
       "    <tr>\n",
       "      <th>3.0%</th>\n",
       "      <td>&lt;=0.2</td>\n",
       "      <td>&lt;=0.2</td>\n",
       "      <td>&lt;=0.2</td>\n",
       "      <td>&lt;=0.2</td>\n",
       "      <td>&lt;=0.2</td>\n",
       "      <td>&lt;=0.2</td>\n",
       "    </tr>\n",
       "  </tbody>\n",
       "</table>\n",
       "</div>"
      ],
      "text/plain": [
       "split_rate              (5000, 5000) (10000, 10000) (15000, 15000)  \\\n",
       "metric             MDE                                               \n",
       "check_rub_campaign 1.0%        <=0.2          <=0.2          <=0.2   \n",
       "                   1.3%        <=0.2          <=0.2          <=0.2   \n",
       "                   1.5%        <=0.2          <=0.2          <=0.2   \n",
       "                   1.8%        <=0.2          <=0.2          <=0.2   \n",
       "                   2.0%        <=0.2          <=0.2          <=0.2   \n",
       "                   3.0%        <=0.2          <=0.2          <=0.2   \n",
       "\n",
       "split_rate              (20000, 20000) (25000, 25000) (30000, 30000)  \n",
       "metric             MDE                                                \n",
       "check_rub_campaign 1.0%          <=0.2          <=0.2          <=0.2  \n",
       "                   1.3%          <=0.2          <=0.2          <=0.2  \n",
       "                   1.5%          <=0.2          <=0.2          <=0.2  \n",
       "                   1.8%          <=0.2          <=0.2          <=0.2  \n",
       "                   2.0%          <=0.2          <=0.2          <=0.2  \n",
       "                   3.0%          <=0.2          <=0.2          <=0.2  "
      ]
     },
     "execution_count": 726,
     "metadata": {},
     "output_type": "execute_result"
    }
   ],
   "source": [
    "beta"
   ]
  },
  {
   "cell_type": "code",
   "execution_count": 727,
   "metadata": {},
   "outputs": [
    {
     "data": {
      "text/html": [
       "<div>\n",
       "<style scoped>\n",
       "    .dataframe tbody tr th:only-of-type {\n",
       "        vertical-align: middle;\n",
       "    }\n",
       "\n",
       "    .dataframe tbody tr th {\n",
       "        vertical-align: top;\n",
       "    }\n",
       "\n",
       "    .dataframe thead th {\n",
       "        text-align: right;\n",
       "    }\n",
       "</style>\n",
       "<table border=\"1\" class=\"dataframe\">\n",
       "  <thead>\n",
       "    <tr style=\"text-align: right;\">\n",
       "      <th>split_rate</th>\n",
       "      <th>(5000, 5000)</th>\n",
       "      <th>(10000, 10000)</th>\n",
       "      <th>(15000, 15000)</th>\n",
       "      <th>(20000, 20000)</th>\n",
       "      <th>(25000, 25000)</th>\n",
       "      <th>(30000, 30000)</th>\n",
       "    </tr>\n",
       "    <tr>\n",
       "      <th>metric</th>\n",
       "      <th></th>\n",
       "      <th></th>\n",
       "      <th></th>\n",
       "      <th></th>\n",
       "      <th></th>\n",
       "      <th></th>\n",
       "    </tr>\n",
       "  </thead>\n",
       "  <tbody>\n",
       "    <tr>\n",
       "      <th>check_rub_campaign</th>\n",
       "      <td>0.3</td>\n",
       "      <td>0.4</td>\n",
       "      <td>0.5</td>\n",
       "      <td>0.3</td>\n",
       "      <td>0.4</td>\n",
       "      <td>0.3</td>\n",
       "    </tr>\n",
       "  </tbody>\n",
       "</table>\n",
       "</div>"
      ],
      "text/plain": [
       "split_rate          (5000, 5000)  (10000, 10000)  (15000, 15000)  \\\n",
       "metric                                                             \n",
       "check_rub_campaign           0.3             0.4             0.5   \n",
       "\n",
       "split_rate          (20000, 20000)  (25000, 25000)  (30000, 30000)  \n",
       "metric                                                              \n",
       "check_rub_campaign             0.3             0.4             0.3  "
      ]
     },
     "execution_count": 727,
     "metadata": {},
     "output_type": "execute_result"
    }
   ],
   "source": [
    "alpha"
   ]
  },
  {
   "cell_type": "markdown",
   "metadata": {},
   "source": [
    "## Непрерывная метрика, бакетирование"
   ]
  },
  {
   "cell_type": "code",
   "execution_count": 728,
   "metadata": {},
   "outputs": [],
   "source": [
    "experiment_params = MdeParams(\n",
    "    metrics_names=['check_rub_campaign'],\n",
    "    injects=[1.010, 1.013, 1.015, 1.018, 1.02, 1.030],\n",
    "    min_group_size=5_000, \n",
    "    max_group_size=30_000, \n",
    "    step=5_000,\n",
    "    variance_reduction=ABTest.cuped,\n",
    "    use_buckets=True,\n",
    "    stat_test=ABTest.test_welch,\n",
    "    iterations_number=10,\n",
    "    max_beta_score=0.9,\n",
    "    min_beta_score=0.2,\n",
    ")"
   ]
  },
  {
   "cell_type": "code",
   "execution_count": 729,
   "metadata": {},
   "outputs": [],
   "source": [
    "prepilot = MdeResearchBuilder(df, \n",
    "                              ab_params,\n",
    "                              experiment_params,\n",
    "                              split_builder_params)"
   ]
  },
  {
   "cell_type": "code",
   "execution_count": 730,
   "metadata": {},
   "outputs": [],
   "source": [
    "beta, alpha = prepilot.collect()"
   ]
  },
  {
   "cell_type": "code",
   "execution_count": 731,
   "metadata": {},
   "outputs": [
    {
     "data": {
      "text/html": [
       "<div>\n",
       "<style scoped>\n",
       "    .dataframe tbody tr th:only-of-type {\n",
       "        vertical-align: middle;\n",
       "    }\n",
       "\n",
       "    .dataframe tbody tr th {\n",
       "        vertical-align: top;\n",
       "    }\n",
       "\n",
       "    .dataframe thead th {\n",
       "        text-align: right;\n",
       "    }\n",
       "</style>\n",
       "<table border=\"1\" class=\"dataframe\">\n",
       "  <thead>\n",
       "    <tr style=\"text-align: right;\">\n",
       "      <th></th>\n",
       "      <th>split_rate</th>\n",
       "      <th>(5000, 5000)</th>\n",
       "      <th>(10000, 10000)</th>\n",
       "      <th>(15000, 15000)</th>\n",
       "      <th>(20000, 20000)</th>\n",
       "      <th>(25000, 25000)</th>\n",
       "      <th>(30000, 30000)</th>\n",
       "    </tr>\n",
       "    <tr>\n",
       "      <th>metric</th>\n",
       "      <th>MDE</th>\n",
       "      <th></th>\n",
       "      <th></th>\n",
       "      <th></th>\n",
       "      <th></th>\n",
       "      <th></th>\n",
       "      <th></th>\n",
       "    </tr>\n",
       "  </thead>\n",
       "  <tbody>\n",
       "    <tr>\n",
       "      <th rowspan=\"6\" valign=\"top\">check_rub_campaign</th>\n",
       "      <th>1.0%</th>\n",
       "      <td>&lt;=0.2</td>\n",
       "      <td>&lt;=0.2</td>\n",
       "      <td>&lt;=0.2</td>\n",
       "      <td>&lt;=0.2</td>\n",
       "      <td>&lt;=0.2</td>\n",
       "      <td>&lt;=0.2</td>\n",
       "    </tr>\n",
       "    <tr>\n",
       "      <th>1.3%</th>\n",
       "      <td>&lt;=0.2</td>\n",
       "      <td>&lt;=0.2</td>\n",
       "      <td>&lt;=0.2</td>\n",
       "      <td>&lt;=0.2</td>\n",
       "      <td>&lt;=0.2</td>\n",
       "      <td>&lt;=0.2</td>\n",
       "    </tr>\n",
       "    <tr>\n",
       "      <th>1.5%</th>\n",
       "      <td>&lt;=0.2</td>\n",
       "      <td>&lt;=0.2</td>\n",
       "      <td>&lt;=0.2</td>\n",
       "      <td>&lt;=0.2</td>\n",
       "      <td>&lt;=0.2</td>\n",
       "      <td>&lt;=0.2</td>\n",
       "    </tr>\n",
       "    <tr>\n",
       "      <th>1.8%</th>\n",
       "      <td>&lt;=0.2</td>\n",
       "      <td>&lt;=0.2</td>\n",
       "      <td>&lt;=0.2</td>\n",
       "      <td>&lt;=0.2</td>\n",
       "      <td>&lt;=0.2</td>\n",
       "      <td>&lt;=0.2</td>\n",
       "    </tr>\n",
       "    <tr>\n",
       "      <th>2.0%</th>\n",
       "      <td>&lt;=0.2</td>\n",
       "      <td>&lt;=0.2</td>\n",
       "      <td>&lt;=0.2</td>\n",
       "      <td>&lt;=0.2</td>\n",
       "      <td>&lt;=0.2</td>\n",
       "      <td>&lt;=0.2</td>\n",
       "    </tr>\n",
       "    <tr>\n",
       "      <th>3.0%</th>\n",
       "      <td>&lt;=0.2</td>\n",
       "      <td>&lt;=0.2</td>\n",
       "      <td>&lt;=0.2</td>\n",
       "      <td>&lt;=0.2</td>\n",
       "      <td>&lt;=0.2</td>\n",
       "      <td>&lt;=0.2</td>\n",
       "    </tr>\n",
       "  </tbody>\n",
       "</table>\n",
       "</div>"
      ],
      "text/plain": [
       "split_rate              (5000, 5000) (10000, 10000) (15000, 15000)  \\\n",
       "metric             MDE                                               \n",
       "check_rub_campaign 1.0%        <=0.2          <=0.2          <=0.2   \n",
       "                   1.3%        <=0.2          <=0.2          <=0.2   \n",
       "                   1.5%        <=0.2          <=0.2          <=0.2   \n",
       "                   1.8%        <=0.2          <=0.2          <=0.2   \n",
       "                   2.0%        <=0.2          <=0.2          <=0.2   \n",
       "                   3.0%        <=0.2          <=0.2          <=0.2   \n",
       "\n",
       "split_rate              (20000, 20000) (25000, 25000) (30000, 30000)  \n",
       "metric             MDE                                                \n",
       "check_rub_campaign 1.0%          <=0.2          <=0.2          <=0.2  \n",
       "                   1.3%          <=0.2          <=0.2          <=0.2  \n",
       "                   1.5%          <=0.2          <=0.2          <=0.2  \n",
       "                   1.8%          <=0.2          <=0.2          <=0.2  \n",
       "                   2.0%          <=0.2          <=0.2          <=0.2  \n",
       "                   3.0%          <=0.2          <=0.2          <=0.2  "
      ]
     },
     "execution_count": 731,
     "metadata": {},
     "output_type": "execute_result"
    }
   ],
   "source": [
    "beta"
   ]
  },
  {
   "cell_type": "code",
   "execution_count": 733,
   "metadata": {},
   "outputs": [
    {
     "data": {
      "text/html": [
       "<div>\n",
       "<style scoped>\n",
       "    .dataframe tbody tr th:only-of-type {\n",
       "        vertical-align: middle;\n",
       "    }\n",
       "\n",
       "    .dataframe tbody tr th {\n",
       "        vertical-align: top;\n",
       "    }\n",
       "\n",
       "    .dataframe thead th {\n",
       "        text-align: right;\n",
       "    }\n",
       "</style>\n",
       "<table border=\"1\" class=\"dataframe\">\n",
       "  <thead>\n",
       "    <tr style=\"text-align: right;\">\n",
       "      <th>split_rate</th>\n",
       "      <th>(5000, 5000)</th>\n",
       "      <th>(10000, 10000)</th>\n",
       "      <th>(15000, 15000)</th>\n",
       "      <th>(20000, 20000)</th>\n",
       "      <th>(25000, 25000)</th>\n",
       "      <th>(30000, 30000)</th>\n",
       "    </tr>\n",
       "    <tr>\n",
       "      <th>metric</th>\n",
       "      <th></th>\n",
       "      <th></th>\n",
       "      <th></th>\n",
       "      <th></th>\n",
       "      <th></th>\n",
       "      <th></th>\n",
       "    </tr>\n",
       "  </thead>\n",
       "  <tbody>\n",
       "    <tr>\n",
       "      <th>check_rub_campaign</th>\n",
       "      <td>0.5</td>\n",
       "      <td>0.5</td>\n",
       "      <td>0.4</td>\n",
       "      <td>0.4</td>\n",
       "      <td>0.1</td>\n",
       "      <td>0.2</td>\n",
       "    </tr>\n",
       "  </tbody>\n",
       "</table>\n",
       "</div>"
      ],
      "text/plain": [
       "split_rate          (5000, 5000)  (10000, 10000)  (15000, 15000)  \\\n",
       "metric                                                             \n",
       "check_rub_campaign           0.5             0.5             0.4   \n",
       "\n",
       "split_rate          (20000, 20000)  (25000, 25000)  (30000, 30000)  \n",
       "metric                                                              \n",
       "check_rub_campaign             0.4             0.1             0.2  "
      ]
     },
     "execution_count": 733,
     "metadata": {},
     "output_type": "execute_result"
    }
   ],
   "source": [
    "alpha"
   ]
  },
  {
   "cell_type": "markdown",
   "metadata": {},
   "source": [
    "## Бинарная метрика"
   ]
  },
  {
   "cell_type": "code",
   "execution_count": 740,
   "metadata": {},
   "outputs": [],
   "source": [
    "data_params = DataParams(\n",
    "    id_col='user_id', \n",
    "    group_col='groups',\n",
    "    control_name='control',\n",
    "    treatment_name='treatment',\n",
    "    is_grouped=True,\n",
    "    target_flg='has_transaction', \n",
    ")\n",
    "\n",
    "hypothesis_params = HypothesisParams(\n",
    "    alpha=0.01, \n",
    "    beta=0.2, \n",
    "    alternative='greater', \n",
    "    metric_type='binary', \n",
    "    metric_name='mean', \n",
    "    n_boot_samples=1000\n",
    ")\n",
    "\n",
    "ab_params = ABTestParams(data_params, hypothesis_params)\n",
    "ab_test = ABTest(df, ab_params)"
   ]
  },
  {
   "cell_type": "code",
   "execution_count": 757,
   "metadata": {},
   "outputs": [],
   "source": [
    "experiment_params = MdeParams(\n",
    "    metrics_names=['has_transaction'],\n",
    "    injects=[1.05, 1.10, 1.15, 1.20],\n",
    "    min_group_size=10_000, \n",
    "    max_group_size=30_000, \n",
    "    step=10_000,\n",
    "    variance_reduction=None,\n",
    "    use_buckets=False,\n",
    "    stat_test=ABTest.test_z_proportions,\n",
    "    iterations_number=100,\n",
    "    max_beta_score=0.9,\n",
    "    min_beta_score=0.2,\n",
    ")"
   ]
  },
  {
   "cell_type": "code",
   "execution_count": 758,
   "metadata": {},
   "outputs": [],
   "source": [
    "prepilot = MdeResearchBuilder(df, \n",
    "                              ab_params,\n",
    "                              experiment_params,\n",
    "                              split_builder_params)"
   ]
  },
  {
   "cell_type": "code",
   "execution_count": 759,
   "metadata": {},
   "outputs": [],
   "source": [
    "beta, alpha = prepilot.collect()"
   ]
  },
  {
   "cell_type": "code",
   "execution_count": 760,
   "metadata": {},
   "outputs": [
    {
     "data": {
      "text/html": [
       "<div>\n",
       "<style scoped>\n",
       "    .dataframe tbody tr th:only-of-type {\n",
       "        vertical-align: middle;\n",
       "    }\n",
       "\n",
       "    .dataframe tbody tr th {\n",
       "        vertical-align: top;\n",
       "    }\n",
       "\n",
       "    .dataframe thead th {\n",
       "        text-align: right;\n",
       "    }\n",
       "</style>\n",
       "<table border=\"1\" class=\"dataframe\">\n",
       "  <thead>\n",
       "    <tr style=\"text-align: right;\">\n",
       "      <th></th>\n",
       "      <th>split_rate</th>\n",
       "      <th>(10000, 10000)</th>\n",
       "      <th>(20000, 20000)</th>\n",
       "      <th>(30000, 30000)</th>\n",
       "    </tr>\n",
       "    <tr>\n",
       "      <th>metric</th>\n",
       "      <th>MDE</th>\n",
       "      <th></th>\n",
       "      <th></th>\n",
       "      <th></th>\n",
       "    </tr>\n",
       "  </thead>\n",
       "  <tbody>\n",
       "    <tr>\n",
       "      <th rowspan=\"4\" valign=\"top\">has_transaction</th>\n",
       "      <th>10.0%</th>\n",
       "      <td>0.79</td>\n",
       "      <td>0.53</td>\n",
       "      <td>0.29</td>\n",
       "    </tr>\n",
       "    <tr>\n",
       "      <th>15.0%</th>\n",
       "      <td>0.5</td>\n",
       "      <td>&lt;=0.2</td>\n",
       "      <td>&lt;=0.2</td>\n",
       "    </tr>\n",
       "    <tr>\n",
       "      <th>20.0%</th>\n",
       "      <td>&lt;=0.2</td>\n",
       "      <td>&lt;=0.2</td>\n",
       "      <td>&lt;=0.2</td>\n",
       "    </tr>\n",
       "    <tr>\n",
       "      <th>5.0%</th>\n",
       "      <td>&gt;=0.9</td>\n",
       "      <td>0.87</td>\n",
       "      <td>0.78</td>\n",
       "    </tr>\n",
       "  </tbody>\n",
       "</table>\n",
       "</div>"
      ],
      "text/plain": [
       "split_rate            (10000, 10000) (20000, 20000) (30000, 30000)\n",
       "metric          MDE                                               \n",
       "has_transaction 10.0%           0.79           0.53           0.29\n",
       "                15.0%            0.5          <=0.2          <=0.2\n",
       "                20.0%          <=0.2          <=0.2          <=0.2\n",
       "                5.0%           >=0.9           0.87           0.78"
      ]
     },
     "execution_count": 760,
     "metadata": {},
     "output_type": "execute_result"
    }
   ],
   "source": [
    "beta"
   ]
  },
  {
   "cell_type": "code",
   "execution_count": 761,
   "metadata": {},
   "outputs": [
    {
     "data": {
      "text/html": [
       "<div>\n",
       "<style scoped>\n",
       "    .dataframe tbody tr th:only-of-type {\n",
       "        vertical-align: middle;\n",
       "    }\n",
       "\n",
       "    .dataframe tbody tr th {\n",
       "        vertical-align: top;\n",
       "    }\n",
       "\n",
       "    .dataframe thead th {\n",
       "        text-align: right;\n",
       "    }\n",
       "</style>\n",
       "<table border=\"1\" class=\"dataframe\">\n",
       "  <thead>\n",
       "    <tr style=\"text-align: right;\">\n",
       "      <th>split_rate</th>\n",
       "      <th>(10000, 10000)</th>\n",
       "      <th>(20000, 20000)</th>\n",
       "      <th>(30000, 30000)</th>\n",
       "    </tr>\n",
       "    <tr>\n",
       "      <th>metric</th>\n",
       "      <th></th>\n",
       "      <th></th>\n",
       "      <th></th>\n",
       "    </tr>\n",
       "  </thead>\n",
       "  <tbody>\n",
       "    <tr>\n",
       "      <th>has_transaction</th>\n",
       "      <td>0.02</td>\n",
       "      <td>0.01</td>\n",
       "      <td>0.0</td>\n",
       "    </tr>\n",
       "  </tbody>\n",
       "</table>\n",
       "</div>"
      ],
      "text/plain": [
       "split_rate       (10000, 10000)  (20000, 20000)  (30000, 30000)\n",
       "metric                                                         \n",
       "has_transaction            0.02            0.01             0.0"
      ]
     },
     "execution_count": 761,
     "metadata": {},
     "output_type": "execute_result"
    }
   ],
   "source": [
    "alpha"
   ]
  }
 ],
 "metadata": {
  "kernelspec": {
   "display_name": "Python 3",
   "language": "python",
   "name": "python3"
  },
  "language_info": {
   "codemirror_mode": {
    "name": "ipython",
    "version": 3
   },
   "file_extension": ".py",
   "mimetype": "text/x-python",
   "name": "python",
   "nbconvert_exporter": "python",
   "pygments_lexer": "ipython3",
   "version": "3.7.8"
  },
  "vscode": {
   "interpreter": {
    "hash": "626acd8304246c39c892b04a088b1f86fa4d1e9c8375290e6951e511351ad7f7"
   }
  }
 },
 "nbformat": 4,
 "nbformat_minor": 5
}
