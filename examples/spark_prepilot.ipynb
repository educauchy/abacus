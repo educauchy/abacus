{
 "cells": [
  {
   "cell_type": "code",
   "execution_count": 1,
   "metadata": {},
   "outputs": [],
   "source": [
    "import sys\n",
    "import os\n",
    "from pyspark.sql import SparkSession\n",
    "import pyspark.sql.functions as F\n",
    "\n",
    "import logging\n",
    "import numpy as np\n",
    "\n",
    "sys.path.append(os.path.dirname(os.path.abspath('')))\n",
    "from stratification.params import SplitBuilderParams\n",
    "from prepilot.params import PrepilotParams\n",
    "from prepilot.prepilot_split_builder import PrepilotSplitBuilder\n",
    "from prepilot.prepilot_experiment_builder import PrepilotExperimentBuilder\n",
    "\n",
    "logging.basicConfig(level = logging.INFO)\n",
    "\n",
    "%load_ext autoreload\n",
    "%autoreload 2"
   ]
  },
  {
   "cell_type": "code",
   "execution_count": 2,
   "metadata": {},
   "outputs": [
    {
     "name": "stderr",
     "output_type": "stream",
     "text": [
      "22/05/04 19:16:51 WARN Utils: Your hostname, MacBook-Air-Egor.local resolves to a loopback address: 127.0.0.1; using 192.168.31.194 instead (on interface en0)\n",
      "22/05/04 19:16:51 WARN Utils: Set SPARK_LOCAL_IP if you need to bind to another address\n",
      "Using Spark's default log4j profile: org/apache/spark/log4j-defaults.properties\n",
      "Setting default log level to \"WARN\".\n",
      "To adjust logging level use sc.setLogLevel(newLevel). For SparkR, use setLogLevel(newLevel).\n",
      "22/05/04 19:16:51 WARN NativeCodeLoader: Unable to load native-hadoop library for your platform... using builtin-java classes where applicable\n"
     ]
    }
   ],
   "source": [
    "spark = (SparkSession\n",
    "         .builder\n",
    "         .master(\"local\")\n",
    "         .appName(\"gbc_ab_pyspark\")\n",
    "         # Add postgres jar\n",
    "         #.config(\"spark.driver.extraClassPath\", \"/home/jovyan/work/jars/postgresql-9.4.1207.jar\")\n",
    "         .getOrCreate())\n",
    "sc = spark.sparkContext"
   ]
  },
  {
   "cell_type": "code",
   "execution_count": 3,
   "metadata": {},
   "outputs": [],
   "source": [
    "prepilot_params = PrepilotParams(\n",
    "    metrics_names=['pre_gp_orders'],\n",
    "    injects=[ 1.01, 1.03, 1.04, 1.05],\n",
    "    min_group_size=50000, \n",
    "    max_group_size=150000, \n",
    "    step=50000,\n",
    "    bootstrap_metric = np.median,\n",
    "    iterations_number = 10,\n",
    "    n_buckets = 1000,\n",
    "    max_beta_score=0.2,\n",
    "    min_beta_score=0.05,\n",
    ")"
   ]
  },
  {
   "cell_type": "code",
   "execution_count": 4,
   "metadata": {},
   "outputs": [],
   "source": [
    "split_builder_params = SplitBuilderParams(\n",
    "    map_group_names_to_sizes={\n",
    "        'control': 10000,\n",
    "        'target': 10000\n",
    "    },\n",
    "    region_col = \"moda_city\",\n",
    "    split_metric_col = \"pre_gp_orders\",\n",
    "    customer_col = \"customer_id\",\n",
    "    cols = [],\n",
    "    cat_cols=[\n",
    "        #'offer_rk_goal',\n",
    "        #'offer_rk_campaign'\n",
    "    ],\n",
    "    pvalue=0.05,\n",
    "    n_top_cat=100,\n",
    "    stat_test=\"ttest_ind\"\n",
    ")"
   ]
  },
  {
   "cell_type": "code",
   "execution_count": 5,
   "metadata": {},
   "outputs": [
    {
     "name": "stderr",
     "output_type": "stream",
     "text": [
      "                                                                                \r"
     ]
    }
   ],
   "source": [
    "df = (\n",
    "    spark.read\n",
    "    .format(\"csv\")\n",
    "    .option(\"header\", True)\n",
    "    .option(\"inferSchema\",True)\n",
    "    .option(\"sep\", \";\")\n",
    "    .load(\"TLO.csv\")\n",
    ")"
   ]
  },
  {
   "cell_type": "code",
   "execution_count": 6,
   "metadata": {},
   "outputs": [],
   "source": [
    "prepilot_guests_collector = PrepilotSplitBuilder(spark, df,\n",
    "                                                [(10000,10000), (20000,20000)],\n",
    "                                                split_builder_params,\n",
    "                                                3)"
   ]
  },
  {
   "cell_type": "code",
   "execution_count": 7,
   "metadata": {},
   "outputs": [
    {
     "name": "stderr",
     "output_type": "stream",
     "text": [
      "/Users/egorshishkovets/opt/anaconda3/lib/python3.9/site-packages/pyspark/sql/pandas/group_ops.py:81: UserWarning: It is preferred to use 'applyInPandas' over this API. This API will be deprecated in the future releases. See SPARK-28264 for more details.\n",
      "  warnings.warn(\n"
     ]
    }
   ],
   "source": [
    "splited_df = prepilot_guests_collector.collect()"
   ]
  },
  {
   "cell_type": "code",
   "execution_count": 8,
   "metadata": {},
   "outputs": [
    {
     "name": "stderr",
     "output_type": "stream",
     "text": [
      "ERROR:root:KeyboardInterrupt while sending command.                 (0 + 1) / 1]\n",
      "Traceback (most recent call last):\n",
      "  File \"/Users/egorshishkovets/opt/anaconda3/lib/python3.9/site-packages/py4j/java_gateway.py\", line 1038, in send_command\n",
      "    response = connection.send_command(command)\n",
      "  File \"/Users/egorshishkovets/opt/anaconda3/lib/python3.9/site-packages/py4j/clientserver.py\", line 475, in send_command\n",
      "    answer = smart_decode(self.stream.readline()[:-1])\n",
      "  File \"/Users/egorshishkovets/opt/anaconda3/lib/python3.9/socket.py\", line 704, in readinto\n",
      "    return self._sock.recv_into(b)\n",
      "KeyboardInterrupt\n",
      "INFO:py4j.clientserver:Closing down clientserver connection\n"
     ]
    },
    {
     "ename": "KeyboardInterrupt",
     "evalue": "",
     "output_type": "error",
     "traceback": [
      "\u001b[0;31m---------------------------------------------------------------------------\u001b[0m",
      "\u001b[0;31mKeyboardInterrupt\u001b[0m                         Traceback (most recent call last)",
      "\u001b[0;32m/var/folders/7r/n_prgqpn7898pkrs_50zgvmw0000gn/T/ipykernel_20845/2728409667.py\u001b[0m in \u001b[0;36m<module>\u001b[0;34m\u001b[0m\n\u001b[0;32m----> 1\u001b[0;31m \u001b[0msplited_df\u001b[0m\u001b[0;34m.\u001b[0m\u001b[0mshow\u001b[0m\u001b[0;34m(\u001b[0m\u001b[0;36m10\u001b[0m\u001b[0;34m)\u001b[0m\u001b[0;34m\u001b[0m\u001b[0;34m\u001b[0m\u001b[0m\n\u001b[0m",
      "\u001b[0;32m~/opt/anaconda3/lib/python3.9/site-packages/pyspark/sql/dataframe.py\u001b[0m in \u001b[0;36mshow\u001b[0;34m(self, n, truncate, vertical)\u001b[0m\n\u001b[1;32m    492\u001b[0m \u001b[0;34m\u001b[0m\u001b[0m\n\u001b[1;32m    493\u001b[0m         \u001b[0;32mif\u001b[0m \u001b[0misinstance\u001b[0m\u001b[0;34m(\u001b[0m\u001b[0mtruncate\u001b[0m\u001b[0;34m,\u001b[0m \u001b[0mbool\u001b[0m\u001b[0;34m)\u001b[0m \u001b[0;32mand\u001b[0m \u001b[0mtruncate\u001b[0m\u001b[0;34m:\u001b[0m\u001b[0;34m\u001b[0m\u001b[0;34m\u001b[0m\u001b[0m\n\u001b[0;32m--> 494\u001b[0;31m             \u001b[0mprint\u001b[0m\u001b[0;34m(\u001b[0m\u001b[0mself\u001b[0m\u001b[0;34m.\u001b[0m\u001b[0m_jdf\u001b[0m\u001b[0;34m.\u001b[0m\u001b[0mshowString\u001b[0m\u001b[0;34m(\u001b[0m\u001b[0mn\u001b[0m\u001b[0;34m,\u001b[0m \u001b[0;36m20\u001b[0m\u001b[0;34m,\u001b[0m \u001b[0mvertical\u001b[0m\u001b[0;34m)\u001b[0m\u001b[0;34m)\u001b[0m\u001b[0;34m\u001b[0m\u001b[0;34m\u001b[0m\u001b[0m\n\u001b[0m\u001b[1;32m    495\u001b[0m         \u001b[0;32melse\u001b[0m\u001b[0;34m:\u001b[0m\u001b[0;34m\u001b[0m\u001b[0;34m\u001b[0m\u001b[0m\n\u001b[1;32m    496\u001b[0m             \u001b[0;32mtry\u001b[0m\u001b[0;34m:\u001b[0m\u001b[0;34m\u001b[0m\u001b[0;34m\u001b[0m\u001b[0m\n",
      "\u001b[0;32m~/opt/anaconda3/lib/python3.9/site-packages/py4j/java_gateway.py\u001b[0m in \u001b[0;36m__call__\u001b[0;34m(self, *args)\u001b[0m\n\u001b[1;32m   1318\u001b[0m             \u001b[0mproto\u001b[0m\u001b[0;34m.\u001b[0m\u001b[0mEND_COMMAND_PART\u001b[0m\u001b[0;34m\u001b[0m\u001b[0;34m\u001b[0m\u001b[0m\n\u001b[1;32m   1319\u001b[0m \u001b[0;34m\u001b[0m\u001b[0m\n\u001b[0;32m-> 1320\u001b[0;31m         \u001b[0manswer\u001b[0m \u001b[0;34m=\u001b[0m \u001b[0mself\u001b[0m\u001b[0;34m.\u001b[0m\u001b[0mgateway_client\u001b[0m\u001b[0;34m.\u001b[0m\u001b[0msend_command\u001b[0m\u001b[0;34m(\u001b[0m\u001b[0mcommand\u001b[0m\u001b[0;34m)\u001b[0m\u001b[0;34m\u001b[0m\u001b[0;34m\u001b[0m\u001b[0m\n\u001b[0m\u001b[1;32m   1321\u001b[0m         return_value = get_return_value(\n\u001b[1;32m   1322\u001b[0m             answer, self.gateway_client, self.target_id, self.name)\n",
      "\u001b[0;32m~/opt/anaconda3/lib/python3.9/site-packages/py4j/java_gateway.py\u001b[0m in \u001b[0;36msend_command\u001b[0;34m(self, command, retry, binary)\u001b[0m\n\u001b[1;32m   1036\u001b[0m         \u001b[0mconnection\u001b[0m \u001b[0;34m=\u001b[0m \u001b[0mself\u001b[0m\u001b[0;34m.\u001b[0m\u001b[0m_get_connection\u001b[0m\u001b[0;34m(\u001b[0m\u001b[0;34m)\u001b[0m\u001b[0;34m\u001b[0m\u001b[0;34m\u001b[0m\u001b[0m\n\u001b[1;32m   1037\u001b[0m         \u001b[0;32mtry\u001b[0m\u001b[0;34m:\u001b[0m\u001b[0;34m\u001b[0m\u001b[0;34m\u001b[0m\u001b[0m\n\u001b[0;32m-> 1038\u001b[0;31m             \u001b[0mresponse\u001b[0m \u001b[0;34m=\u001b[0m \u001b[0mconnection\u001b[0m\u001b[0;34m.\u001b[0m\u001b[0msend_command\u001b[0m\u001b[0;34m(\u001b[0m\u001b[0mcommand\u001b[0m\u001b[0;34m)\u001b[0m\u001b[0;34m\u001b[0m\u001b[0;34m\u001b[0m\u001b[0m\n\u001b[0m\u001b[1;32m   1039\u001b[0m             \u001b[0;32mif\u001b[0m \u001b[0mbinary\u001b[0m\u001b[0;34m:\u001b[0m\u001b[0;34m\u001b[0m\u001b[0;34m\u001b[0m\u001b[0m\n\u001b[1;32m   1040\u001b[0m                 \u001b[0;32mreturn\u001b[0m \u001b[0mresponse\u001b[0m\u001b[0;34m,\u001b[0m \u001b[0mself\u001b[0m\u001b[0;34m.\u001b[0m\u001b[0m_create_connection_guard\u001b[0m\u001b[0;34m(\u001b[0m\u001b[0mconnection\u001b[0m\u001b[0;34m)\u001b[0m\u001b[0;34m\u001b[0m\u001b[0;34m\u001b[0m\u001b[0m\n",
      "\u001b[0;32m~/opt/anaconda3/lib/python3.9/site-packages/py4j/clientserver.py\u001b[0m in \u001b[0;36msend_command\u001b[0;34m(self, command)\u001b[0m\n\u001b[1;32m    473\u001b[0m         \u001b[0;32mtry\u001b[0m\u001b[0;34m:\u001b[0m\u001b[0;34m\u001b[0m\u001b[0;34m\u001b[0m\u001b[0m\n\u001b[1;32m    474\u001b[0m             \u001b[0;32mwhile\u001b[0m \u001b[0;32mTrue\u001b[0m\u001b[0;34m:\u001b[0m\u001b[0;34m\u001b[0m\u001b[0;34m\u001b[0m\u001b[0m\n\u001b[0;32m--> 475\u001b[0;31m                 \u001b[0manswer\u001b[0m \u001b[0;34m=\u001b[0m \u001b[0msmart_decode\u001b[0m\u001b[0;34m(\u001b[0m\u001b[0mself\u001b[0m\u001b[0;34m.\u001b[0m\u001b[0mstream\u001b[0m\u001b[0;34m.\u001b[0m\u001b[0mreadline\u001b[0m\u001b[0;34m(\u001b[0m\u001b[0;34m)\u001b[0m\u001b[0;34m[\u001b[0m\u001b[0;34m:\u001b[0m\u001b[0;34m-\u001b[0m\u001b[0;36m1\u001b[0m\u001b[0;34m]\u001b[0m\u001b[0;34m)\u001b[0m\u001b[0;34m\u001b[0m\u001b[0;34m\u001b[0m\u001b[0m\n\u001b[0m\u001b[1;32m    476\u001b[0m                 \u001b[0mlogger\u001b[0m\u001b[0;34m.\u001b[0m\u001b[0mdebug\u001b[0m\u001b[0;34m(\u001b[0m\u001b[0;34m\"Answer received: {0}\"\u001b[0m\u001b[0;34m.\u001b[0m\u001b[0mformat\u001b[0m\u001b[0;34m(\u001b[0m\u001b[0manswer\u001b[0m\u001b[0;34m)\u001b[0m\u001b[0;34m)\u001b[0m\u001b[0;34m\u001b[0m\u001b[0;34m\u001b[0m\u001b[0m\n\u001b[1;32m    477\u001b[0m                 \u001b[0;31m# Happens when a the other end is dead. There might be an empty\u001b[0m\u001b[0;34m\u001b[0m\u001b[0;34m\u001b[0m\u001b[0m\n",
      "\u001b[0;32m~/opt/anaconda3/lib/python3.9/socket.py\u001b[0m in \u001b[0;36mreadinto\u001b[0;34m(self, b)\u001b[0m\n\u001b[1;32m    702\u001b[0m         \u001b[0;32mwhile\u001b[0m \u001b[0;32mTrue\u001b[0m\u001b[0;34m:\u001b[0m\u001b[0;34m\u001b[0m\u001b[0;34m\u001b[0m\u001b[0m\n\u001b[1;32m    703\u001b[0m             \u001b[0;32mtry\u001b[0m\u001b[0;34m:\u001b[0m\u001b[0;34m\u001b[0m\u001b[0;34m\u001b[0m\u001b[0m\n\u001b[0;32m--> 704\u001b[0;31m                 \u001b[0;32mreturn\u001b[0m \u001b[0mself\u001b[0m\u001b[0;34m.\u001b[0m\u001b[0m_sock\u001b[0m\u001b[0;34m.\u001b[0m\u001b[0mrecv_into\u001b[0m\u001b[0;34m(\u001b[0m\u001b[0mb\u001b[0m\u001b[0;34m)\u001b[0m\u001b[0;34m\u001b[0m\u001b[0;34m\u001b[0m\u001b[0m\n\u001b[0m\u001b[1;32m    705\u001b[0m             \u001b[0;32mexcept\u001b[0m \u001b[0mtimeout\u001b[0m\u001b[0;34m:\u001b[0m\u001b[0;34m\u001b[0m\u001b[0;34m\u001b[0m\u001b[0m\n\u001b[1;32m    706\u001b[0m                 \u001b[0mself\u001b[0m\u001b[0;34m.\u001b[0m\u001b[0m_timeout_occurred\u001b[0m \u001b[0;34m=\u001b[0m \u001b[0;32mTrue\u001b[0m\u001b[0;34m\u001b[0m\u001b[0;34m\u001b[0m\u001b[0m\n",
      "\u001b[0;31mKeyboardInterrupt\u001b[0m: "
     ]
    }
   ],
   "source": [
    "splited_df.show(10)"
   ]
  },
  {
   "cell_type": "code",
   "execution_count": 9,
   "metadata": {},
   "outputs": [],
   "source": [
    "prepilot = PrepilotExperimentBuilder(spark, df,\n",
    "                                     prepilot_params,\n",
    "                                     split_builder_params)"
   ]
  },
  {
   "cell_type": "code",
   "execution_count": 10,
   "metadata": {},
   "outputs": [
    {
     "name": "stderr",
     "output_type": "stream",
     "text": [
      "                                                                                \r"
     ]
    }
   ],
   "source": [
    "beta, alpha = prepilot.collect()"
   ]
  },
  {
   "cell_type": "code",
   "execution_count": 11,
   "metadata": {},
   "outputs": [
    {
     "name": "stderr",
     "output_type": "stream",
     "text": [
      "[Stage 59:====================================================> (196 + 1) / 200]\r"
     ]
    },
    {
     "name": "stdout",
     "output_type": "stream",
     "text": [
      "+-------------+----+-------------+-------------+-------------------+\n",
      "|       metric| MDE|100000_100000|150000_150000|        50000_50000|\n",
      "+-------------+----+-------------+-------------+-------------------+\n",
      "|pre_gp_orders|1.04|          0.0|          0.0|                0.0|\n",
      "|pre_gp_orders|1.03|          0.0|          0.0|0.19999999999999996|\n",
      "|pre_gp_orders|1.05|          0.0|          0.0|                0.0|\n",
      "|pre_gp_orders|1.01|          0.9|          0.6|                1.0|\n",
      "+-------------+----+-------------+-------------+-------------------+\n",
      "\n"
     ]
    },
    {
     "name": "stderr",
     "output_type": "stream",
     "text": [
      "                                                                                \r"
     ]
    }
   ],
   "source": [
    "beta.show()"
   ]
  },
  {
   "cell_type": "code",
   "execution_count": 13,
   "metadata": {},
   "outputs": [
    {
     "name": "stderr",
     "output_type": "stream",
     "text": [
      "[Stage 81:================================================>     (181 + 1) / 200]\r"
     ]
    },
    {
     "name": "stdout",
     "output_type": "stream",
     "text": [
      "+-------------+-------------+-------------+-----------+\n",
      "|       metric|100000_100000|150000_150000|50000_50000|\n",
      "+-------------+-------------+-------------+-----------+\n",
      "|pre_gp_orders|          0.0|          0.1|        0.0|\n",
      "+-------------+-------------+-------------+-----------+\n",
      "\n"
     ]
    },
    {
     "name": "stderr",
     "output_type": "stream",
     "text": [
      "/Users/egorshishkovets/opt/anaconda3/lib/python3.9/site-packages/joblib/externals/loky/backend/resource_tracker.py:318: UserWarning: resource_tracker: There appear to be 6 leaked semlock objects to clean up at shutdown\n",
      "  warnings.warn('resource_tracker: There appear to be %d '\n",
      "/Users/egorshishkovets/opt/anaconda3/lib/python3.9/site-packages/joblib/externals/loky/backend/resource_tracker.py:318: UserWarning: resource_tracker: There appear to be 24 leaked folder objects to clean up at shutdown\n",
      "  warnings.warn('resource_tracker: There appear to be %d '\n",
      "/Users/egorshishkovets/opt/anaconda3/lib/python3.9/site-packages/joblib/externals/loky/backend/resource_tracker.py:333: UserWarning: resource_tracker: /var/folders/7r/n_prgqpn7898pkrs_50zgvmw0000gn/T/joblib_memmapping_folder_20884_b1822b0ba62c438b86b64ccf73a56e6c_09a7f7ae65114635a83d01d383a9910b: FileNotFoundError(2, 'No such file or directory')\n",
      "  warnings.warn('resource_tracker: %s: %r' % (name, e))\n",
      "/Users/egorshishkovets/opt/anaconda3/lib/python3.9/site-packages/joblib/externals/loky/backend/resource_tracker.py:333: UserWarning: resource_tracker: /var/folders/7r/n_prgqpn7898pkrs_50zgvmw0000gn/T/joblib_memmapping_folder_20884_b1822b0ba62c438b86b64ccf73a56e6c_24214841753a48299c972f4d4091c483: FileNotFoundError(2, 'No such file or directory')\n",
      "  warnings.warn('resource_tracker: %s: %r' % (name, e))\n",
      "/Users/egorshishkovets/opt/anaconda3/lib/python3.9/site-packages/joblib/externals/loky/backend/resource_tracker.py:333: UserWarning: resource_tracker: /var/folders/7r/n_prgqpn7898pkrs_50zgvmw0000gn/T/joblib_memmapping_folder_20884_8c4ca1af29d34497a6f4ae35e787c9ec_eb3a217cd111415eb8e3b1e05e3646f3: FileNotFoundError(2, 'No such file or directory')\n",
      "  warnings.warn('resource_tracker: %s: %r' % (name, e))\n",
      "/Users/egorshishkovets/opt/anaconda3/lib/python3.9/site-packages/joblib/externals/loky/backend/resource_tracker.py:333: UserWarning: resource_tracker: /var/folders/7r/n_prgqpn7898pkrs_50zgvmw0000gn/T/joblib_memmapping_folder_20884_b1822b0ba62c438b86b64ccf73a56e6c_ef0b1daa94dc482b9353f9f3268e56a5: FileNotFoundError(2, 'No such file or directory')\n",
      "  warnings.warn('resource_tracker: %s: %r' % (name, e))\n",
      "/Users/egorshishkovets/opt/anaconda3/lib/python3.9/site-packages/joblib/externals/loky/backend/resource_tracker.py:333: UserWarning: resource_tracker: /var/folders/7r/n_prgqpn7898pkrs_50zgvmw0000gn/T/joblib_memmapping_folder_20884_3762d60a6d7f460da91c45911e989d73_6cd6a80b33504cbf98c7f0c4282d39f1: FileNotFoundError(2, 'No such file or directory')\n",
      "  warnings.warn('resource_tracker: %s: %r' % (name, e))\n",
      "/Users/egorshishkovets/opt/anaconda3/lib/python3.9/site-packages/joblib/externals/loky/backend/resource_tracker.py:333: UserWarning: resource_tracker: /var/folders/7r/n_prgqpn7898pkrs_50zgvmw0000gn/T/joblib_memmapping_folder_20884_b1822b0ba62c438b86b64ccf73a56e6c_84ea14715d9f46fba61ba6f6f4eb3246: FileNotFoundError(2, 'No such file or directory')\n",
      "  warnings.warn('resource_tracker: %s: %r' % (name, e))\n",
      "/Users/egorshishkovets/opt/anaconda3/lib/python3.9/site-packages/joblib/externals/loky/backend/resource_tracker.py:333: UserWarning: resource_tracker: /var/folders/7r/n_prgqpn7898pkrs_50zgvmw0000gn/T/joblib_memmapping_folder_20884_17be83ff85a94cd0ac3f3be20d1c64a3_92667ebb39014b22a74274a24a74cf4c: FileNotFoundError(2, 'No such file or directory')\n",
      "  warnings.warn('resource_tracker: %s: %r' % (name, e))\n",
      "/Users/egorshishkovets/opt/anaconda3/lib/python3.9/site-packages/joblib/externals/loky/backend/resource_tracker.py:333: UserWarning: resource_tracker: /var/folders/7r/n_prgqpn7898pkrs_50zgvmw0000gn/T/joblib_memmapping_folder_20884_b1822b0ba62c438b86b64ccf73a56e6c_a8144179b1b0475d8e6e34e58563c4c6: FileNotFoundError(2, 'No such file or directory')\n",
      "  warnings.warn('resource_tracker: %s: %r' % (name, e))\n",
      "/Users/egorshishkovets/opt/anaconda3/lib/python3.9/site-packages/joblib/externals/loky/backend/resource_tracker.py:333: UserWarning: resource_tracker: /var/folders/7r/n_prgqpn7898pkrs_50zgvmw0000gn/T/joblib_memmapping_folder_20884_5793b780b4774ec7b54c49e3043daf27_3a16a7ae7df74c7195e084a7939ccc23: FileNotFoundError(2, 'No such file or directory')\n",
      "  warnings.warn('resource_tracker: %s: %r' % (name, e))\n",
      "/Users/egorshishkovets/opt/anaconda3/lib/python3.9/site-packages/joblib/externals/loky/backend/resource_tracker.py:333: UserWarning: resource_tracker: /var/folders/7r/n_prgqpn7898pkrs_50zgvmw0000gn/T/joblib_memmapping_folder_20884_b1822b0ba62c438b86b64ccf73a56e6c_194d670fb2b24135b2770155352c1826: FileNotFoundError(2, 'No such file or directory')\n",
      "  warnings.warn('resource_tracker: %s: %r' % (name, e))\n",
      "/Users/egorshishkovets/opt/anaconda3/lib/python3.9/site-packages/joblib/externals/loky/backend/resource_tracker.py:333: UserWarning: resource_tracker: /var/folders/7r/n_prgqpn7898pkrs_50zgvmw0000gn/T/joblib_memmapping_folder_20884_f8381c47d80c466da91a976c340999ac_c0f53e791e034b4c983444630bcc7534: FileNotFoundError(2, 'No such file or directory')\n",
      "  warnings.warn('resource_tracker: %s: %r' % (name, e))\n",
      "/Users/egorshishkovets/opt/anaconda3/lib/python3.9/site-packages/joblib/externals/loky/backend/resource_tracker.py:333: UserWarning: resource_tracker: /var/folders/7r/n_prgqpn7898pkrs_50zgvmw0000gn/T/joblib_memmapping_folder_20884_b1822b0ba62c438b86b64ccf73a56e6c_e5290b64acd1467fb13e3c18d4fc1b46: FileNotFoundError(2, 'No such file or directory')\n",
      "  warnings.warn('resource_tracker: %s: %r' % (name, e))\n",
      "/Users/egorshishkovets/opt/anaconda3/lib/python3.9/site-packages/joblib/externals/loky/backend/resource_tracker.py:333: UserWarning: resource_tracker: /var/folders/7r/n_prgqpn7898pkrs_50zgvmw0000gn/T/joblib_memmapping_folder_20884_81c2958ee6574523a37a59b6869afd07_e15b613068e947c7a5a09c6c994b4b8b: FileNotFoundError(2, 'No such file or directory')\n",
      "  warnings.warn('resource_tracker: %s: %r' % (name, e))\n",
      "/Users/egorshishkovets/opt/anaconda3/lib/python3.9/site-packages/joblib/externals/loky/backend/resource_tracker.py:333: UserWarning: resource_tracker: /var/folders/7r/n_prgqpn7898pkrs_50zgvmw0000gn/T/joblib_memmapping_folder_20884_b1822b0ba62c438b86b64ccf73a56e6c_1ca8e39860d9408e99946e2c0866f5fc: FileNotFoundError(2, 'No such file or directory')\n",
      "  warnings.warn('resource_tracker: %s: %r' % (name, e))\n",
      "/Users/egorshishkovets/opt/anaconda3/lib/python3.9/site-packages/joblib/externals/loky/backend/resource_tracker.py:333: UserWarning: resource_tracker: /var/folders/7r/n_prgqpn7898pkrs_50zgvmw0000gn/T/joblib_memmapping_folder_20884_b9aca617f75f4741a04ec29f5cdbd363_136108e7ddb14cb898659885b6fadf27: FileNotFoundError(2, 'No such file or directory')\n",
      "  warnings.warn('resource_tracker: %s: %r' % (name, e))\n",
      "/Users/egorshishkovets/opt/anaconda3/lib/python3.9/site-packages/joblib/externals/loky/backend/resource_tracker.py:333: UserWarning: resource_tracker: /var/folders/7r/n_prgqpn7898pkrs_50zgvmw0000gn/T/joblib_memmapping_folder_20884_b1822b0ba62c438b86b64ccf73a56e6c_a6106091df14467c915390322e03d1fb: FileNotFoundError(2, 'No such file or directory')\n",
      "  warnings.warn('resource_tracker: %s: %r' % (name, e))\n",
      "/Users/egorshishkovets/opt/anaconda3/lib/python3.9/site-packages/joblib/externals/loky/backend/resource_tracker.py:333: UserWarning: resource_tracker: /var/folders/7r/n_prgqpn7898pkrs_50zgvmw0000gn/T/joblib_memmapping_folder_20884_58eac87ed5cb4edbb3ab286ac0a7d996_49d7fe72dab548ae9cd449eab7a857ee: FileNotFoundError(2, 'No such file or directory')\n",
      "  warnings.warn('resource_tracker: %s: %r' % (name, e))\n",
      "/Users/egorshishkovets/opt/anaconda3/lib/python3.9/site-packages/joblib/externals/loky/backend/resource_tracker.py:333: UserWarning: resource_tracker: /var/folders/7r/n_prgqpn7898pkrs_50zgvmw0000gn/T/joblib_memmapping_folder_20884_b1822b0ba62c438b86b64ccf73a56e6c_78b5679dcddf4e35a6555a44c937abba: FileNotFoundError(2, 'No such file or directory')\n",
      "  warnings.warn('resource_tracker: %s: %r' % (name, e))\n",
      "/Users/egorshishkovets/opt/anaconda3/lib/python3.9/site-packages/joblib/externals/loky/backend/resource_tracker.py:333: UserWarning: resource_tracker: /var/folders/7r/n_prgqpn7898pkrs_50zgvmw0000gn/T/joblib_memmapping_folder_20884_16ae9bcfc3e04aeb9a75b5b95cce6224_df83f772d902411989ce0291f627168e: FileNotFoundError(2, 'No such file or directory')\n",
      "  warnings.warn('resource_tracker: %s: %r' % (name, e))\n",
      "/Users/egorshishkovets/opt/anaconda3/lib/python3.9/site-packages/joblib/externals/loky/backend/resource_tracker.py:333: UserWarning: resource_tracker: /var/folders/7r/n_prgqpn7898pkrs_50zgvmw0000gn/T/joblib_memmapping_folder_20884_b1822b0ba62c438b86b64ccf73a56e6c_18603854d9e24b99adc1299def9ce6d4: FileNotFoundError(2, 'No such file or directory')\n",
      "  warnings.warn('resource_tracker: %s: %r' % (name, e))\n",
      "/Users/egorshishkovets/opt/anaconda3/lib/python3.9/site-packages/joblib/externals/loky/backend/resource_tracker.py:333: UserWarning: resource_tracker: /var/folders/7r/n_prgqpn7898pkrs_50zgvmw0000gn/T/joblib_memmapping_folder_20884_0d09b20586a54ad281c53152b7bd51d4_600c362ab020488f968b70b865ff2d1c: FileNotFoundError(2, 'No such file or directory')\n",
      "  warnings.warn('resource_tracker: %s: %r' % (name, e))\n",
      "/Users/egorshishkovets/opt/anaconda3/lib/python3.9/site-packages/joblib/externals/loky/backend/resource_tracker.py:333: UserWarning: resource_tracker: /var/folders/7r/n_prgqpn7898pkrs_50zgvmw0000gn/T/joblib_memmapping_folder_20884_b1822b0ba62c438b86b64ccf73a56e6c_2b8d40f0ff274f959db6c781e7ec6b7b: FileNotFoundError(2, 'No such file or directory')\n",
      "  warnings.warn('resource_tracker: %s: %r' % (name, e))\n",
      "/Users/egorshishkovets/opt/anaconda3/lib/python3.9/site-packages/joblib/externals/loky/backend/resource_tracker.py:333: UserWarning: resource_tracker: /var/folders/7r/n_prgqpn7898pkrs_50zgvmw0000gn/T/joblib_memmapping_folder_20884_239d6f10259d45db800ca2479caf7346_02a28f7a54904e5fb9f245fc3b458e57: FileNotFoundError(2, 'No such file or directory')\n",
      "  warnings.warn('resource_tracker: %s: %r' % (name, e))\n",
      "/Users/egorshishkovets/opt/anaconda3/lib/python3.9/site-packages/joblib/externals/loky/backend/resource_tracker.py:333: UserWarning: resource_tracker: /var/folders/7r/n_prgqpn7898pkrs_50zgvmw0000gn/T/joblib_memmapping_folder_20884_b1822b0ba62c438b86b64ccf73a56e6c_f49050c6ceb744e58b539e017ffd578a: FileNotFoundError(2, 'No such file or directory')\n",
      "  warnings.warn('resource_tracker: %s: %r' % (name, e))\n",
      "22/05/04 20:50:07 WARN HeartbeatReceiver: Removing executor driver with no recent heartbeats: 437912 ms exceeds timeout 120000 ms\n",
      "22/05/04 20:50:07 WARN SparkContext: Killing executors is not supported by current scheduler.\n"
     ]
    }
   ],
   "source": [
    "alpha.show()"
   ]
  },
  {
   "cell_type": "code",
   "execution_count": 13,
   "metadata": {},
   "outputs": [],
   "source": [
    "spark.stop()"
   ]
  },
  {
   "cell_type": "code",
   "execution_count": null,
   "metadata": {},
   "outputs": [],
   "source": []
  }
 ],
 "metadata": {
  "interpreter": {
   "hash": "626acd8304246c39c892b04a088b1f86fa4d1e9c8375290e6951e511351ad7f7"
  },
  "kernelspec": {
   "display_name": "Python 3",
   "language": "python",
   "name": "python3"
  },
  "language_info": {
   "codemirror_mode": {
    "name": "ipython",
    "version": 3
   },
   "file_extension": ".py",
   "mimetype": "text/x-python",
   "name": "python",
   "nbconvert_exporter": "python",
   "pygments_lexer": "ipython3",
   "version": "3.7.8"
  }
 },
 "nbformat": 4,
 "nbformat_minor": 2
}
