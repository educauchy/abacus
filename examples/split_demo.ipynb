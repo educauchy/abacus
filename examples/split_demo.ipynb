{
 "cells": [
  {
   "cell_type": "markdown",
   "metadata": {},
   "source": [
    "# Split data into groups\n",
    "\n",
    "The purpose on this demo is to show how to split data into several groups based on desired parameters."
   ]
  },
  {
   "cell_type": "code",
   "execution_count": 9,
   "metadata": {},
   "outputs": [
    {
     "name": "stdout",
     "output_type": "stream",
     "text": [
      "The autoreload extension is already loaded. To reload it, use:\n",
      "  %reload_ext autoreload\n"
     ]
    }
   ],
   "source": [
    "import warnings\n",
    "warnings.filterwarnings('ignore')\n",
    "\n",
    "import os\n",
    "import sys\n",
    "import logging\n",
    "import numpy as np\n",
    "import pandas as pd\n",
    "\n",
    "sys.path.append('../')\n",
    "\n",
    "from abacus.splitter.params import SplitBuilderParams\n",
    "from abacus.splitter.split_builder import SplitBuilder\n",
    "\n",
    "logging.basicConfig(level = logging.INFO)\n",
    "\n",
    "%load_ext autoreload\n",
    "%autoreload 2"
   ]
  },
  {
   "cell_type": "code",
   "execution_count": 10,
   "metadata": {},
   "outputs": [],
   "source": [
    "df = pd.read_csv('./data/ab_data.csv', nrows=15_000)\n",
    "df[\"moda_city\"] = np.random.randint(1, 5, df.shape[0])\n",
    "df[\"moda_city\"] = df[\"moda_city\"].astype(str)\n",
    "df[\"country\"] = np.random.randint(1, 3, df.shape[0])\n",
    "df[\"id\"] = df.index"
   ]
  },
  {
   "cell_type": "code",
   "execution_count": 11,
   "metadata": {},
   "outputs": [],
   "source": [
    "split_builder_params = SplitBuilderParams(\n",
    "    map_group_names_to_sizes={\n",
    "        'control': None,\n",
    "        'target': None\n",
    "    },\n",
    "    main_strata_col = \"moda_city\",\n",
    "    split_metric_col = \"height_now\",\n",
    "    metric_type = \"continuous\",\n",
    "    id_col = \"id\",\n",
    "    cols = [\"height_prev\"],\n",
    "    cat_cols=[\"country\"],\n",
    "    alpha=0.05,\n",
    "    n_bins = 6,\n",
    "    min_cluster_size = 500\n",
    ")"
   ]
  },
  {
   "cell_type": "code",
   "execution_count": 12,
   "metadata": {},
   "outputs": [],
   "source": [
    "split_builder = SplitBuilder(df, split_builder_params)"
   ]
  },
  {
   "cell_type": "code",
   "execution_count": 13,
   "metadata": {},
   "outputs": [],
   "source": [
    "split = split_builder.collect()"
   ]
  },
  {
   "cell_type": "code",
   "execution_count": 14,
   "metadata": {},
   "outputs": [
    {
     "data": {
      "text/html": [
       "<div>\n",
       "<style scoped>\n",
       "    .dataframe tbody tr th:only-of-type {\n",
       "        vertical-align: middle;\n",
       "    }\n",
       "\n",
       "    .dataframe tbody tr th {\n",
       "        vertical-align: top;\n",
       "    }\n",
       "\n",
       "    .dataframe thead th {\n",
       "        text-align: right;\n",
       "    }\n",
       "</style>\n",
       "<table border=\"1\" class=\"dataframe\">\n",
       "  <thead>\n",
       "    <tr style=\"text-align: right;\">\n",
       "      <th></th>\n",
       "      <th>height_now</th>\n",
       "      <th>height_prev</th>\n",
       "      <th>weight_now</th>\n",
       "      <th>weight_prev</th>\n",
       "      <th>noise_now</th>\n",
       "      <th>noise_prev</th>\n",
       "      <th>groups</th>\n",
       "      <th>id</th>\n",
       "      <th>moda_city</th>\n",
       "      <th>country</th>\n",
       "      <th>numerator</th>\n",
       "      <th>denominator</th>\n",
       "      <th>conversion</th>\n",
       "      <th>strata</th>\n",
       "      <th>group_name</th>\n",
       "    </tr>\n",
       "  </thead>\n",
       "  <tbody>\n",
       "    <tr>\n",
       "      <th>0</th>\n",
       "      <td>172.470442</td>\n",
       "      <td>166.382868</td>\n",
       "      <td>163.648256</td>\n",
       "      <td>173.422115</td>\n",
       "      <td>5.644384</td>\n",
       "      <td>-1.923929</td>\n",
       "      <td>A</td>\n",
       "      <td>0</td>\n",
       "      <td>1</td>\n",
       "      <td>0.495536</td>\n",
       "      <td>3</td>\n",
       "      <td>2</td>\n",
       "      <td>1</td>\n",
       "      <td>11-1</td>\n",
       "      <td>control</td>\n",
       "    </tr>\n",
       "    <tr>\n",
       "      <th>1</th>\n",
       "      <td>178.610565</td>\n",
       "      <td>173.386388</td>\n",
       "      <td>173.195935</td>\n",
       "      <td>180.831845</td>\n",
       "      <td>11.664751</td>\n",
       "      <td>2.711829</td>\n",
       "      <td>B</td>\n",
       "      <td>1</td>\n",
       "      <td>4</td>\n",
       "      <td>0.504472</td>\n",
       "      <td>1</td>\n",
       "      <td>4</td>\n",
       "      <td>1</td>\n",
       "      <td>44-1</td>\n",
       "      <td>control</td>\n",
       "    </tr>\n",
       "    <tr>\n",
       "      <th>2</th>\n",
       "      <td>180.382301</td>\n",
       "      <td>178.563579</td>\n",
       "      <td>174.520065</td>\n",
       "      <td>181.571024</td>\n",
       "      <td>7.183178</td>\n",
       "      <td>-0.453939</td>\n",
       "      <td>A</td>\n",
       "      <td>2</td>\n",
       "      <td>1</td>\n",
       "      <td>0.504472</td>\n",
       "      <td>2</td>\n",
       "      <td>2</td>\n",
       "      <td>1</td>\n",
       "      <td>15-1</td>\n",
       "      <td>target</td>\n",
       "    </tr>\n",
       "    <tr>\n",
       "      <th>3</th>\n",
       "      <td>180.954018</td>\n",
       "      <td>179.732080</td>\n",
       "      <td>175.731245</td>\n",
       "      <td>182.840388</td>\n",
       "      <td>-4.682656</td>\n",
       "      <td>6.358723</td>\n",
       "      <td>B</td>\n",
       "      <td>3</td>\n",
       "      <td>4</td>\n",
       "      <td>0.504472</td>\n",
       "      <td>3</td>\n",
       "      <td>2</td>\n",
       "      <td>0</td>\n",
       "      <td>45-1</td>\n",
       "      <td>control</td>\n",
       "    </tr>\n",
       "    <tr>\n",
       "      <th>4</th>\n",
       "      <td>167.590042</td>\n",
       "      <td>167.684244</td>\n",
       "      <td>166.109779</td>\n",
       "      <td>170.189261</td>\n",
       "      <td>9.134517</td>\n",
       "      <td>-1.153977</td>\n",
       "      <td>B</td>\n",
       "      <td>4</td>\n",
       "      <td>3</td>\n",
       "      <td>0.495536</td>\n",
       "      <td>3</td>\n",
       "      <td>2</td>\n",
       "      <td>1</td>\n",
       "      <td>30-1</td>\n",
       "      <td>target</td>\n",
       "    </tr>\n",
       "  </tbody>\n",
       "</table>\n",
       "</div>"
      ],
      "text/plain": [
       "   height_now  height_prev  weight_now  weight_prev  noise_now  noise_prev  \\\n",
       "0  172.470442   166.382868  163.648256   173.422115   5.644384   -1.923929   \n",
       "1  178.610565   173.386388  173.195935   180.831845  11.664751    2.711829   \n",
       "2  180.382301   178.563579  174.520065   181.571024   7.183178   -0.453939   \n",
       "3  180.954018   179.732080  175.731245   182.840388  -4.682656    6.358723   \n",
       "4  167.590042   167.684244  166.109779   170.189261   9.134517   -1.153977   \n",
       "\n",
       "  groups id moda_city   country  numerator  denominator  conversion strata  \\\n",
       "0      A  0         1  0.495536          3            2           1   11-1   \n",
       "1      B  1         4  0.504472          1            4           1   44-1   \n",
       "2      A  2         1  0.504472          2            2           1   15-1   \n",
       "3      B  3         4  0.504472          3            2           0   45-1   \n",
       "4      B  4         3  0.495536          3            2           1   30-1   \n",
       "\n",
       "  group_name  \n",
       "0    control  \n",
       "1    control  \n",
       "2     target  \n",
       "3    control  \n",
       "4     target  "
      ]
     },
     "execution_count": 14,
     "metadata": {},
     "output_type": "execute_result"
    }
   ],
   "source": [
    "split.head()"
   ]
  }
 ],
 "metadata": {
  "kernelspec": {
   "display_name": "Python 3 (ipykernel)",
   "language": "python",
   "name": "python3"
  },
  "language_info": {
   "codemirror_mode": {
    "name": "ipython",
    "version": 3
   },
   "file_extension": ".py",
   "mimetype": "text/x-python",
   "name": "python",
   "nbconvert_exporter": "python",
   "pygments_lexer": "ipython3",
   "version": "3.11.4"
  },
  "vscode": {
   "interpreter": {
    "hash": "626acd8304246c39c892b04a088b1f86fa4d1e9c8375290e6951e511351ad7f7"
   }
  }
 },
 "nbformat": 4,
 "nbformat_minor": 4
}
