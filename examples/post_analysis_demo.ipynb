{
 "cells": [
  {
   "cell_type": "code",
   "execution_count": 1,
   "metadata": {},
   "outputs": [],
   "source": [
    "import warnings\n",
    "warnings.filterwarnings('ignore')\n",
    "\n",
    "import os\n",
    "import sys\n",
    "import logging\n",
    "import pandas as pd\n",
    "import numpy as np\n",
    "import yaml\n",
    "\n",
    "from abacus.auto_ab.abtest import ABTest\n",
    "from abacus.auto_ab.params import ABTestParams\n",
    "from abacus.auto_ab.params import DataParams, HypothesisParams\n",
    "\n",
    "logging.basicConfig(level = logging.INFO)\n",
    "\n",
    "\n",
    "%load_ext autoreload\n",
    "%autoreload 2"
   ]
  },
  {
   "cell_type": "markdown",
   "metadata": {},
   "source": [
    "Подгружаем датасет, получнный в результате эксперимента"
   ]
  },
  {
   "cell_type": "code",
   "execution_count": 2,
   "metadata": {},
   "outputs": [
    {
     "data": {
      "text/html": [
       "<div>\n",
       "<style scoped>\n",
       "    .dataframe tbody tr th:only-of-type {\n",
       "        vertical-align: middle;\n",
       "    }\n",
       "\n",
       "    .dataframe tbody tr th {\n",
       "        vertical-align: top;\n",
       "    }\n",
       "\n",
       "    .dataframe thead th {\n",
       "        text-align: right;\n",
       "    }\n",
       "</style>\n",
       "<table border=\"1\" class=\"dataframe\">\n",
       "  <thead>\n",
       "    <tr style=\"text-align: right;\">\n",
       "      <th></th>\n",
       "      <th>height_now</th>\n",
       "      <th>height_prev</th>\n",
       "      <th>weight_now</th>\n",
       "      <th>weight_prev</th>\n",
       "      <th>noise_now</th>\n",
       "      <th>noise_prev</th>\n",
       "      <th>groups</th>\n",
       "      <th>id</th>\n",
       "      <th>moda_city</th>\n",
       "      <th>country</th>\n",
       "      <th>numerator</th>\n",
       "      <th>denominator</th>\n",
       "      <th>conversion</th>\n",
       "    </tr>\n",
       "  </thead>\n",
       "  <tbody>\n",
       "    <tr>\n",
       "      <th>0</th>\n",
       "      <td>172.470442</td>\n",
       "      <td>166.382868</td>\n",
       "      <td>163.648256</td>\n",
       "      <td>173.422115</td>\n",
       "      <td>5.644384</td>\n",
       "      <td>-1.923929</td>\n",
       "      <td>A</td>\n",
       "      <td>0</td>\n",
       "      <td>3</td>\n",
       "      <td>2</td>\n",
       "      <td>3</td>\n",
       "      <td>2</td>\n",
       "      <td>1</td>\n",
       "    </tr>\n",
       "    <tr>\n",
       "      <th>1</th>\n",
       "      <td>178.610565</td>\n",
       "      <td>173.386388</td>\n",
       "      <td>173.195935</td>\n",
       "      <td>180.831845</td>\n",
       "      <td>11.664751</td>\n",
       "      <td>2.711829</td>\n",
       "      <td>B</td>\n",
       "      <td>1</td>\n",
       "      <td>2</td>\n",
       "      <td>2</td>\n",
       "      <td>1</td>\n",
       "      <td>4</td>\n",
       "      <td>1</td>\n",
       "    </tr>\n",
       "    <tr>\n",
       "      <th>2</th>\n",
       "      <td>180.382301</td>\n",
       "      <td>178.563579</td>\n",
       "      <td>174.520065</td>\n",
       "      <td>181.571024</td>\n",
       "      <td>7.183178</td>\n",
       "      <td>-0.453939</td>\n",
       "      <td>A</td>\n",
       "      <td>2</td>\n",
       "      <td>3</td>\n",
       "      <td>1</td>\n",
       "      <td>2</td>\n",
       "      <td>2</td>\n",
       "      <td>1</td>\n",
       "    </tr>\n",
       "    <tr>\n",
       "      <th>3</th>\n",
       "      <td>180.954018</td>\n",
       "      <td>179.732080</td>\n",
       "      <td>175.731245</td>\n",
       "      <td>182.840388</td>\n",
       "      <td>-4.682656</td>\n",
       "      <td>6.358723</td>\n",
       "      <td>B</td>\n",
       "      <td>3</td>\n",
       "      <td>4</td>\n",
       "      <td>1</td>\n",
       "      <td>3</td>\n",
       "      <td>2</td>\n",
       "      <td>0</td>\n",
       "    </tr>\n",
       "    <tr>\n",
       "      <th>4</th>\n",
       "      <td>167.590042</td>\n",
       "      <td>167.684244</td>\n",
       "      <td>166.109779</td>\n",
       "      <td>170.189261</td>\n",
       "      <td>9.134517</td>\n",
       "      <td>-1.153977</td>\n",
       "      <td>B</td>\n",
       "      <td>4</td>\n",
       "      <td>2</td>\n",
       "      <td>1</td>\n",
       "      <td>3</td>\n",
       "      <td>2</td>\n",
       "      <td>1</td>\n",
       "    </tr>\n",
       "  </tbody>\n",
       "</table>\n",
       "</div>"
      ],
      "text/plain": [
       "   height_now  height_prev  weight_now  weight_prev  noise_now  noise_prev  \\\n",
       "0  172.470442   166.382868  163.648256   173.422115   5.644384   -1.923929   \n",
       "1  178.610565   173.386388  173.195935   180.831845  11.664751    2.711829   \n",
       "2  180.382301   178.563579  174.520065   181.571024   7.183178   -0.453939   \n",
       "3  180.954018   179.732080  175.731245   182.840388  -4.682656    6.358723   \n",
       "4  167.590042   167.684244  166.109779   170.189261   9.134517   -1.153977   \n",
       "\n",
       "  groups  id  moda_city  country  numerator  denominator  conversion  \n",
       "0      A   0          3        2          3            2           1  \n",
       "1      B   1          2        2          1            4           1  \n",
       "2      A   2          3        1          2            2           1  \n",
       "3      B   3          4        1          3            2           0  \n",
       "4      B   4          2        1          3            2           1  "
      ]
     },
     "execution_count": 2,
     "metadata": {},
     "output_type": "execute_result"
    }
   ],
   "source": [
    "df = pd.read_csv('./data/ab_data.csv')\n",
    "df.head()"
   ]
  },
  {
   "cell_type": "code",
   "execution_count": 3,
   "metadata": {},
   "outputs": [
    {
     "data": {
      "text/plain": [
       "(200000, 13)"
      ]
     },
     "execution_count": 3,
     "metadata": {},
     "output_type": "execute_result"
    }
   ],
   "source": [
    "df.shape"
   ]
  },
  {
   "cell_type": "markdown",
   "metadata": {},
   "source": [
    "Описание эксперимента и датасета"
   ]
  },
  {
   "cell_type": "code",
   "execution_count": 4,
   "metadata": {},
   "outputs": [],
   "source": [
    "data_params = DataParams(\n",
    "    id_col='id', \n",
    "    group_col='groups', \n",
    "    strata_col='country', \n",
    "    target='height_now', \n",
    "    target_flg='bought', \n",
    "    predictors=['weight_now'], \n",
    "    numerator='clicks', \n",
    "    denominator='sessions', \n",
    "    covariate='height_prev', \n",
    "    target_prev='height_prev', \n",
    "    predictors_prev=['weight_prev'], \n",
    "    cluster_col='cluster_id', \n",
    "    clustering_cols=['col1', 'col2', 'col3'], \n",
    "    is_grouped=True\n",
    ")\n",
    "\n",
    "hypothesis_params = HypothesisParams(\n",
    "    alpha=0.05, \n",
    "    beta=0.2, \n",
    "    alternative='two-sided', \n",
    "    split_ratios=(0.5, 0.5), \n",
    "    strategy='simple_test', \n",
    "    strata='country', \n",
    "    strata_weights={1: 0.8, 2: 0.2}, \n",
    "    metric_type='solid', \n",
    "    metric_name='mean', \n",
    "    metric=np.mean, \n",
    "    n_boot_samples=100, \n",
    "    n_buckets=50\n",
    ")\n",
    "\n",
    "ab_params = ABTestParams(data_params, hypothesis_params)"
   ]
  },
  {
   "cell_type": "markdown",
   "metadata": {},
   "source": [
    "# Кейс №1. Постанализ"
   ]
  },
  {
   "cell_type": "code",
   "execution_count": 5,
   "metadata": {},
   "outputs": [],
   "source": [
    "df = pd.read_csv('./data/ab_data.csv')"
   ]
  },
  {
   "cell_type": "code",
   "execution_count": 6,
   "metadata": {},
   "outputs": [],
   "source": [
    "ab_test = ABTest(df, ab_params)"
   ]
  },
  {
   "cell_type": "code",
   "execution_count": 7,
   "metadata": {},
   "outputs": [
    {
     "name": "stdout",
     "output_type": "stream",
     "text": [
      "bootstrap_test: {'stat': None, 'p-value': array([0.31734699]), 'result': 0}\n",
      "mannwhitney_test: {'stat': 4992976857.0, 'p-value': 0.5890975776571467, 'result': 0}\n",
      "ttest_test: {'stat': -0.4435517988023507, 'p-value': 0.6573671411499618, 'result': 0}\n"
     ]
    }
   ],
   "source": [
    "print(f\"bootstrap_test: {ab_test.test_hypothesis_boot_confint()}\")\n",
    "print(f\"mannwhitney_test: {ab_test.test_hypothesis_mannwhitney()}\")\n",
    "print(f\"ttest_test: {ab_test.test_hypothesis_ttest()}\")"
   ]
  },
  {
   "cell_type": "markdown",
   "metadata": {},
   "source": [
    "Увеличиваем количество прокрасов в тестовой группе"
   ]
  },
  {
   "cell_type": "code",
   "execution_count": 8,
   "metadata": {},
   "outputs": [],
   "source": [
    "df[ab_test.params.data_params.target].where(df[ab_test.params.data_params.group_col] == 'A',\n",
    "                                            df[ab_test.params.data_params.target] * 1.001, \n",
    "                                            axis=0,\n",
    "                                            inplace=True)\n",
    "\n",
    "ab_test = ABTest(df, ab_params)"
   ]
  },
  {
   "cell_type": "code",
   "execution_count": 9,
   "metadata": {},
   "outputs": [
    {
     "name": "stdout",
     "output_type": "stream",
     "text": [
      "bootstrap_test: {'stat': None, 'p-value': array([2.01270523e-13]), 'result': 1}\n",
      "mannwhitney_test: {'stat': 4894119324.0, 'p-value': 2.4516264484905984e-16, 'result': 1}\n",
      "ttest_test: {'stat': -8.275588883468059, 'p-value': 1.2859564365137272e-16, 'result': 1}\n"
     ]
    }
   ],
   "source": [
    "print(f\"bootstrap_test: {ab_test.test_hypothesis_boot_confint()}\")\n",
    "print(f\"mannwhitney_test: {ab_test.test_hypothesis_mannwhitney()}\")\n",
    "print(f\"ttest_test: {ab_test.test_hypothesis_ttest()}\")"
   ]
  },
  {
   "cell_type": "markdown",
   "metadata": {},
   "source": [
    "# Кейс №2. Постанализ с понижением дисперсии. CUPED"
   ]
  },
  {
   "cell_type": "code",
   "execution_count": 10,
   "metadata": {},
   "outputs": [],
   "source": [
    "df = pd.read_csv('./data/ab_data.csv')"
   ]
  },
  {
   "cell_type": "markdown",
   "metadata": {},
   "source": [
    "Увеличиваем количество прокрасов в тестовой группе"
   ]
  },
  {
   "cell_type": "code",
   "execution_count": 11,
   "metadata": {},
   "outputs": [
    {
     "name": "stdout",
     "output_type": "stream",
     "text": [
      "bootstrap_test: {'stat': None, 'p-value': array([0.11901154]), 'result': 0}\n",
      "mannwhitney_test: {'stat': 4983082845.0, 'p-value': 0.19137136312943093, 'result': 0}\n",
      "ttest_test: {'stat': -1.2271064134922398, 'p-value': 0.21978404218147798, 'result': 0}\n",
      "bootstrap_test: {'stat': None, 'p-value': array([0.00087175]), 'result': 1}\n",
      "mannwhitney_test: {'stat': 4962621356.0, 'p-value': 0.0038343556323012554, 'result': 1}\n",
      "ttest_test: {'stat': -3.3123079503060633, 'p-value': 0.0009254602801692166, 'result': 1}\n"
     ]
    }
   ],
   "source": [
    "df[ab_test.params.data_params.target].where(df[ab_test.params.data_params.group_col] == 'A',\n",
    "                                            df[ab_test.params.data_params.target] * 1.0001, \n",
    "                                            axis=0,\n",
    "                                            inplace=True)\n",
    "\n",
    "# тесты без понижения дисперсии\n",
    "ab_test = ABTest(df, ab_params)\n",
    "print(f\"bootstrap_test: {ab_test.test_hypothesis_boot_confint()}\")\n",
    "print(f\"mannwhitney_test: {ab_test.test_hypothesis_mannwhitney()}\")\n",
    "print(f\"ttest_test: {ab_test.test_hypothesis_ttest()}\")\n",
    "\n",
    "\n",
    "# тесты с понижением дисперсии\n",
    "ab_test1 = ab_test.cuped()\n",
    "print(f\"bootstrap_test: {ab_test1.test_hypothesis_boot_confint()}\")\n",
    "print(f\"mannwhitney_test: {ab_test1.test_hypothesis_mannwhitney()}\")\n",
    "print(f\"ttest_test: {ab_test1.test_hypothesis_ttest()}\")"
   ]
  },
  {
   "cell_type": "markdown",
   "metadata": {},
   "source": [
    "# Кейс №3. Постанализ для бинарной переменной"
   ]
  },
  {
   "cell_type": "code",
   "execution_count": 12,
   "metadata": {},
   "outputs": [],
   "source": [
    "df = pd.read_csv('./data/ab_data.csv')"
   ]
  },
  {
   "cell_type": "code",
   "execution_count": 13,
   "metadata": {},
   "outputs": [],
   "source": [
    "data_params = DataParams(\n",
    "    id_col='id', \n",
    "    group_col='groups', \n",
    "    strata_col='country',\n",
    "    target='conversion', \n",
    "    target_flg='bought', \n",
    "    predictors=['weight_now'], \n",
    "    numerator='clicks', \n",
    "    denominator='sessions', \n",
    "    covariate='height_prev', \n",
    "    target_prev='height_prev', \n",
    "    predictors_prev=['weight_prev'], \n",
    "    cluster_col='kl-divergence', \n",
    "    clustering_cols=['col1', 'col2', 'col3'], \n",
    "    is_grouped=True\n",
    ")\n",
    "\n",
    "\n",
    "hypothesis_params = HypothesisParams(\n",
    "    alpha=0.05, \n",
    "    beta=0.2, \n",
    "    alternative='two-sided', \n",
    "    split_ratios=(0.5, 0.5), \n",
    "    strategy='simple_test', \n",
    "    strata='country', \n",
    "    strata_weights={'1': 0.8, '2': 0.2}, \n",
    "    metric_type='solid', \n",
    "    metric_name='mean', \n",
    "    metric=np.mean, \n",
    "    n_boot_samples=200, \n",
    "    n_buckets=50\n",
    ")\n",
    "\n",
    "ab_params = ABTestParams(data_params,hypothesis_params)"
   ]
  },
  {
   "cell_type": "code",
   "execution_count": 14,
   "metadata": {},
   "outputs": [],
   "source": [
    "ab_test = ABTest(df, ab_params)"
   ]
  },
  {
   "cell_type": "code",
   "execution_count": 15,
   "metadata": {},
   "outputs": [
    {
     "name": "stdout",
     "output_type": "stream",
     "text": [
      "bootstrap_test: {'stat': None, 'p-value': array([0.24577016]), 'result': 0}\n",
      "ztest_test: {'stat': -0.6730634505952151, 'p-value': 0.500906925062246, 'result': 0}\n"
     ]
    }
   ],
   "source": [
    "print(f\"bootstrap_test: {ab_test.test_hypothesis_boot_confint()}\")\n",
    "print(f\"ztest_test: {ab_test.test_hypothesis_ztest_prop()}\")"
   ]
  },
  {
   "cell_type": "markdown",
   "metadata": {},
   "source": [
    "Увеличиваем количество прокрасов в тестовой группе"
   ]
  },
  {
   "cell_type": "code",
   "execution_count": 16,
   "metadata": {},
   "outputs": [
    {
     "name": "stdout",
     "output_type": "stream",
     "text": [
      "bootstrap_test: {'stat': None, 'p-value': array([5.05460207e-263]), 'result': 1}\n",
      "ztest_test: {'stat': -33.72037507170561, 'p-value': 2.906848560640323e-249, 'result': 1}\n"
     ]
    }
   ],
   "source": [
    "df['conversion'] = np.where(df.noise_now < 0, 0, 1)\n",
    "df[ab_test.params.data_params.target].where(df[ab_test.params.data_params.group_col] == 'A',\n",
    "                                            np.random.binomial(n=1, p=0.98, size=df.shape[0]),\n",
    "                                            axis=0,\n",
    "                                            inplace=True)\n",
    "\n",
    "ab_test = ABTest(df, ab_params)\n",
    "\n",
    "print(f\"bootstrap_test: {ab_test.test_hypothesis_boot_confint()}\")\n",
    "print(f\"ztest_test: {ab_test.test_hypothesis_ztest_prop()}\")"
   ]
  },
  {
   "cell_type": "markdown",
   "metadata": {},
   "source": [
    "# Кейс №4. Понижение дисперсии для конверсии\n",
    "\n",
    "<span style=\"color: red;\">CUPED не работает с конверсией!</span>"
   ]
  },
  {
   "cell_type": "code",
   "execution_count": 17,
   "metadata": {},
   "outputs": [],
   "source": [
    "df = pd.read_csv('./data/ab_data.csv')"
   ]
  },
  {
   "cell_type": "code",
   "execution_count": 18,
   "metadata": {},
   "outputs": [
    {
     "name": "stdout",
     "output_type": "stream",
     "text": [
      "bootstrap_test: {'stat': None, 'p-value': array([0.23948382]), 'result': 0}\n",
      "ztest_test: {'stat': -0.6730634505952151, 'p-value': 0.500906925062246, 'result': 0}\n",
      "bootstrap_test: {'stat': None, 'p-value': array([0.25219384]), 'result': 0}\n",
      "ztest_test: {'stat': -0.6730634505956524, 'p-value': 0.5009069250619678, 'result': 0}\n"
     ]
    }
   ],
   "source": [
    "ab_test = ABTest(df, ab_params)\n",
    "print(f\"bootstrap_test: {ab_test.test_hypothesis_boot_confint()}\")\n",
    "print(f\"ztest_test: {ab_test.test_hypothesis_ztest_prop()}\")\n",
    "\n",
    "\n",
    "ab_test1 = ab_test.cuped()\n",
    "print(f\"bootstrap_test: {ab_test1.test_hypothesis_boot_confint()}\")\n",
    "print(f\"ztest_test: {ab_test1.test_hypothesis_ztest_prop()}\")"
   ]
  },
  {
   "cell_type": "code",
   "execution_count": 19,
   "metadata": {},
   "outputs": [
    {
     "data": {
      "image/png": "[encoded data removed]",
      "text/plain": [
       "<Figure size 432x288 with 1 Axes>"
      ]
     },
     "metadata": {
      "needs_background": "light"
     },
     "output_type": "display_data"
    }
   ],
   "source": [
    "import matplotlib.pyplot as plt\n",
    "\n",
    "np.random.seed(42)\n",
    "\n",
    "n_obs = 100_000\n",
    "d1 = np.random.lognormal(3, 0.6, n_obs) + np.random.normal(0, 1, n_obs) + np.array([30] * n_obs)\n",
    "d2 = np.random.lognormal(3.05, 0.6, n_obs) + np.random.normal(0, 1, n_obs) + np.array([30] * n_obs)\n",
    "\n",
    "d1 = d1[d1 < 250]\n",
    "d2 = d2[d2 < 250]\n",
    "\n",
    "plt.hist(d1, bins=150, alpha=0.75, label='Группа А', color='darkgreen')\n",
    "plt.hist(d2, bins=150, alpha=0.75, label='Группа В', color='brown')\n",
    "plt.xlabel('Чек')\n",
    "plt.ylabel('Кол-во чеков')\n",
    "plt.legend()\n",
    "plt.show()"
   ]
  }
 ],
 "metadata": {
  "kernelspec": {
   "display_name": "Python 3.9.7 ('base')",
   "language": "python",
   "name": "python3"
  },
  "language_info": {
   "codemirror_mode": {
    "name": "ipython",
    "version": 3
   },
   "file_extension": ".py",
   "mimetype": "text/x-python",
   "name": "python",
   "nbconvert_exporter": "python",
   "pygments_lexer": "ipython3",
   "version": "3.9.7"
  },
  "vscode": {
   "interpreter": {
    "hash": "626acd8304246c39c892b04a088b1f86fa4d1e9c8375290e6951e511351ad7f7"
   }
  }
 },
 "nbformat": 4,
 "nbformat_minor": 2
}
