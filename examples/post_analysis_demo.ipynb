{
 "cells": [
  {
   "cell_type": "code",
   "execution_count": null,
   "metadata": {},
   "outputs": [],
   "source": [
    "import warnings\n",
    "warnings.filterwarnings('ignore')\n",
    "\n",
    "import os\n",
    "import sys\n",
    "import logging\n",
    "import pandas as pd\n",
    "import numpy as np\n",
    "import yaml\n",
    "\n",
    "from abacus.auto_ab.abtest import ABTest\n",
    "from abacus.auto_ab.params import ABTestParams\n",
    "from abacus.auto_ab.params import DataParams, HypothesisParams\n",
    "\n",
    "logging.basicConfig(level = logging.INFO)\n",
    "\n",
    "\n",
    "%load_ext autoreload\n",
    "%autoreload 2"
   ]
  },
  {
   "cell_type": "markdown",
   "metadata": {},
   "source": [
    "Подгружаем датасет, получнный в результате эксперимента"
   ]
  },
  {
   "cell_type": "code",
   "execution_count": null,
   "metadata": {},
   "outputs": [],
   "source": [
    "df = pd.read_csv('./data/ab_data.csv')\n",
    "df.head()"
   ]
  },
  {
   "cell_type": "code",
   "execution_count": null,
   "metadata": {},
   "outputs": [],
   "source": [
    "df.shape"
   ]
  },
  {
   "cell_type": "markdown",
   "metadata": {},
   "source": [
    "Описание эксперимента и датасета"
   ]
  },
  {
   "cell_type": "code",
   "execution_count": null,
   "metadata": {},
   "outputs": [],
   "source": [
    "data_params = DataParams(\n",
    "    id_col='id', \n",
    "    group_col='groups', \n",
    "    strata_col='country', \n",
    "    target='height_now', \n",
    "    target_flg='bought', \n",
    "    predictors=['weight_now'], \n",
    "    numerator='clicks', \n",
    "    denominator='sessions', \n",
    "    covariate='height_prev', \n",
    "    target_prev='height_prev', \n",
    "    predictors_prev=['weight_prev'], \n",
    "    cluster_col='cluster_id', \n",
    "    clustering_cols=['col1', 'col2', 'col3'], \n",
    "    is_grouped=True\n",
    ")\n",
    "\n",
    "hypothesis_params = HypothesisParams(\n",
    "    alpha=0.05, \n",
    "    beta=0.2, \n",
    "    alternative='two-sided', \n",
    "    split_ratios=(0.5, 0.5), \n",
    "    strategy='simple_test', \n",
    "    strata='country', \n",
    "    strata_weights={1: 0.8, 2: 0.2}, \n",
    "    metric_type='solid', \n",
    "    metric_name='mean', \n",
    "    metric=np.mean, \n",
    "    n_boot_samples=100, \n",
    "    n_buckets=50\n",
    ")\n",
    "\n",
    "ab_params = ABTestParams(data_params, hypothesis_params)"
   ]
  },
  {
   "cell_type": "markdown",
   "metadata": {},
   "source": [
    "# Кейс №1. Постанализ"
   ]
  },
  {
   "cell_type": "code",
   "execution_count": null,
   "metadata": {},
   "outputs": [],
   "source": [
    "df = pd.read_csv('./data/ab_data.csv')"
   ]
  },
  {
   "cell_type": "code",
   "execution_count": null,
   "metadata": {},
   "outputs": [],
   "source": [
    "ab_test = ABTest(df, ab_params)"
   ]
  },
  {
   "cell_type": "code",
   "execution_count": null,
   "metadata": {},
   "outputs": [],
   "source": [
    "print(f\"bootstrap_test: {ab_test.test_boot_confint()}\")\n",
    "print(f\"mannwhitney_test: {ab_test.test_mannwhitney()}\")\n",
    "print(f\"ttest_test: {ab_test.test_welch()}\")"
   ]
  },
  {
   "cell_type": "markdown",
   "metadata": {},
   "source": [
    "Увеличиваем количество прокрасов в тестовой группе"
   ]
  },
  {
   "cell_type": "code",
   "execution_count": null,
   "metadata": {},
   "outputs": [],
   "source": [
    "df[ab_test.params.data_params.target].where(df[ab_test.params.data_params.group_col] == 'A',\n",
    "                                            df[ab_test.params.data_params.target] * 1.001, \n",
    "                                            axis=0,\n",
    "                                            inplace=True)\n",
    "\n",
    "ab_test = ABTest(df, ab_params)"
   ]
  },
  {
   "cell_type": "code",
   "execution_count": null,
   "metadata": {},
   "outputs": [],
   "source": [
    "print(f\"bootstrap_test: {ab_test.test_boot_confint()}\")\n",
    "print(f\"mannwhitney_test: {ab_test.test_mannwhitney()}\")\n",
    "print(f\"ttest_test: {ab_test.test_welch()}\")"
   ]
  },
  {
   "cell_type": "markdown",
   "metadata": {},
   "source": [
    "# Кейс №2. Постанализ с понижением дисперсии. CUPED"
   ]
  },
  {
   "cell_type": "code",
   "execution_count": null,
   "metadata": {},
   "outputs": [],
   "source": [
    "df = pd.read_csv('./data/ab_data.csv')"
   ]
  },
  {
   "cell_type": "markdown",
   "metadata": {},
   "source": [
    "Увеличиваем количество прокрасов в тестовой группе"
   ]
  },
  {
   "cell_type": "code",
   "execution_count": null,
   "metadata": {},
   "outputs": [],
   "source": [
    "df[ab_test.params.data_params.target].where(df[ab_test.params.data_params.group_col] == 'A',\n",
    "                                            df[ab_test.params.data_params.target] * 1.0001, \n",
    "                                            axis=0,\n",
    "                                            inplace=True)\n",
    "\n",
    "# тесты без понижения дисперсии\n",
    "ab_test = ABTest(df, ab_params)\n",
    "print(f\"bootstrap_test: {ab_test.test_boot_confint()}\")\n",
    "print(f\"mannwhitney_test: {ab_test.test_mannwhitney()}\")\n",
    "print(f\"ttest_test: {ab_test.test_welch()}\")\n",
    "\n",
    "\n",
    "# тесты с понижением дисперсии\n",
    "ab_test1 = ab_test.cuped()\n",
    "print(f\"bootstrap_test: {ab_test1.test_boot_confint()}\")\n",
    "print(f\"mannwhitney_test: {ab_test1.test_mannwhitney()}\")\n",
    "print(f\"ttest_test: {ab_test1.test_welch()}\")"
   ]
  },
  {
   "cell_type": "markdown",
   "metadata": {},
   "source": [
    "# Кейс №3. Постанализ для бинарной переменной"
   ]
  },
  {
   "cell_type": "code",
   "execution_count": null,
   "metadata": {},
   "outputs": [],
   "source": [
    "df = pd.read_csv('./data/ab_data.csv')"
   ]
  },
  {
   "cell_type": "code",
   "execution_count": null,
   "metadata": {},
   "outputs": [],
   "source": [
    "data_params = DataParams(\n",
    "    id_col='id', \n",
    "    group_col='groups', \n",
    "    strata_col='country',\n",
    "    target='conversion', \n",
    "    target_flg='bought', \n",
    "    predictors=['weight_now'], \n",
    "    numerator='clicks', \n",
    "    denominator='sessions', \n",
    "    covariate='height_prev', \n",
    "    target_prev='height_prev', \n",
    "    predictors_prev=['weight_prev'], \n",
    "    cluster_col='kl-divergence', \n",
    "    clustering_cols=['col1', 'col2', 'col3'], \n",
    "    is_grouped=True\n",
    ")\n",
    "\n",
    "\n",
    "hypothesis_params = HypothesisParams(\n",
    "    alpha=0.05, \n",
    "    beta=0.2, \n",
    "    alternative='two-sided', \n",
    "    split_ratios=(0.5, 0.5), \n",
    "    strategy='simple_test', \n",
    "    strata='country', \n",
    "    strata_weights={'1': 0.8, '2': 0.2}, \n",
    "    metric_type='solid', \n",
    "    metric_name='mean', \n",
    "    metric=np.mean, \n",
    "    n_boot_samples=200, \n",
    "    n_buckets=50\n",
    ")\n",
    "\n",
    "ab_params = ABTestParams(data_params,hypothesis_params)"
   ]
  },
  {
   "cell_type": "code",
   "execution_count": null,
   "metadata": {},
   "outputs": [],
   "source": [
    "ab_test = ABTest(df, ab_params)"
   ]
  },
  {
   "cell_type": "code",
   "execution_count": null,
   "metadata": {},
   "outputs": [],
   "source": [
    "print(f\"bootstrap_test: {ab_test.test_boot_confint()}\")\n",
    "print(f\"ztest_test: {ab_test.test_z_proportions()}\")"
   ]
  },
  {
   "cell_type": "markdown",
   "metadata": {},
   "source": [
    "Увеличиваем количество прокрасов в тестовой группе"
   ]
  },
  {
   "cell_type": "code",
   "execution_count": null,
   "metadata": {},
   "outputs": [],
   "source": [
    "df['conversion'] = np.where(df.noise_now < 0, 0, 1)\n",
    "df[ab_test.params.data_params.target].where(df[ab_test.params.data_params.group_col] == 'A',\n",
    "                                            np.random.binomial(n=1, p=0.98, size=df.shape[0]),\n",
    "                                            axis=0,\n",
    "                                            inplace=True)\n",
    "\n",
    "ab_test = ABTest(df, ab_params)\n",
    "\n",
    "print(f\"bootstrap_test: {ab_test.test_boot_confint()}\")\n",
    "print(f\"ztest_test: {ab_test.test_z_proportions()}\")"
   ]
  },
  {
   "cell_type": "markdown",
   "metadata": {},
   "source": [
    "# Кейс №4. Понижение дисперсии для конверсии\n",
    "\n",
    "<span style=\"color: red;\">CUPED не работает с конверсией!</span>"
   ]
  },
  {
   "cell_type": "code",
   "execution_count": null,
   "metadata": {},
   "outputs": [],
   "source": [
    "df = pd.read_csv('./data/ab_data.csv')"
   ]
  },
  {
   "cell_type": "code",
   "execution_count": null,
   "metadata": {},
   "outputs": [],
   "source": [
    "ab_test = ABTest(df, ab_params)\n",
    "print(f\"bootstrap_test: {ab_test.test_boot_confint()}\")\n",
    "print(f\"ztest_test: {ab_test.test_z_proportions()}\")\n",
    "\n",
    "\n",
    "ab_test1 = ab_test.cuped()\n",
    "print(f\"bootstrap_test: {ab_test1.test_boot_confint()}\")\n",
    "print(f\"ztest_test: {ab_test1.test_z_proportions()}\")"
   ]
  },
  {
   "cell_type": "code",
   "execution_count": null,
   "metadata": {},
   "outputs": [],
   "source": [
    "import matplotlib.pyplot as plt\n",
    "\n",
    "np.random.seed(42)\n",
    "\n",
    "n_obs = 100_000\n",
    "d1 = np.random.lognormal(3, 0.6, n_obs) + np.random.normal(0, 1, n_obs) + np.array([30] * n_obs)\n",
    "d2 = np.random.lognormal(3.05, 0.6, n_obs) + np.random.normal(0, 1, n_obs) + np.array([30] * n_obs)\n",
    "\n",
    "d1 = d1[d1 < 250]\n",
    "d2 = d2[d2 < 250]\n",
    "\n",
    "plt.hist(d1, bins=150, alpha=0.75, label='Группа А', color='darkgreen')\n",
    "plt.hist(d2, bins=150, alpha=0.75, label='Группа В', color='brown')\n",
    "plt.xlabel('Чек')\n",
    "plt.ylabel('Кол-во чеков')\n",
    "plt.legend()\n",
    "plt.show()"
   ]
  }
 ],
 "metadata": {
  "kernelspec": {
   "display_name": "Python 3",
   "language": "python",
   "name": "python3"
  },
  "language_info": {
   "codemirror_mode": {
    "name": "ipython",
    "version": 3
   },
   "file_extension": ".py",
   "mimetype": "text/x-python",
   "name": "python",
   "nbconvert_exporter": "python",
   "pygments_lexer": "ipython3",
   "version": "3.7.8"
  },
  "vscode": {
   "interpreter": {
    "hash": "626acd8304246c39c892b04a088b1f86fa4d1e9c8375290e6951e511351ad7f7"
   }
  }
 },
 "nbformat": 4,
 "nbformat_minor": 4
}
