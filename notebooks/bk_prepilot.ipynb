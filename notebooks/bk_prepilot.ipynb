{
 "cells": [
  {
   "cell_type": "code",
   "execution_count": 1,
   "id": "ee483ed2",
   "metadata": {},
   "outputs": [],
   "source": [
    "import os\n",
    "import sys\n",
    "import logging\n",
    "import pandas as pd\n",
    "import numpy as np\n",
    "import yaml\n",
    "\n",
    "sys.path.append(os.path.dirname(os.path.abspath('')))\n",
    "#from utils.spark import restart_spark\n",
    "from stratification.params import SplitBuilderParams\n",
    "from prepilot_local.params import PrepilotParams\n",
    "from prepilot_local.prepilot_experiment_builder import PrepilotExperimentBuilder\n",
    "from prepilot_local.prepilot_split_builder import PrepilotSplitBuilder\n",
    "from analysis.abtest import ABTest\n",
    "\n",
    "logging.basicConfig(level = logging.INFO)\n",
    "\n",
    "%load_ext autoreload\n",
    "%autoreload 2"
   ]
  },
  {
   "cell_type": "code",
   "execution_count": 2,
   "id": "90cb2c73",
   "metadata": {},
   "outputs": [],
   "source": [
    "#df = pd.read_csv(\"TLO.csv\", sep=';')"
   ]
  },
  {
   "cell_type": "code",
   "execution_count": 3,
   "id": "f869295b",
   "metadata": {},
   "outputs": [],
   "source": [
    "#df.rename(columns={\"moda_city\":\"region\",\"pre_gp_orders\":\"rto\"},inplace=True)"
   ]
  },
  {
   "cell_type": "code",
   "execution_count": 4,
   "id": "b00905bb",
   "metadata": {},
   "outputs": [],
   "source": [
    "#df[\"pre_gp_orders\"] = df[\"pre_gp_orders\"].str.replace(',', '.').astype(float)"
   ]
  },
  {
   "cell_type": "code",
   "execution_count": 5,
   "id": "f7723295",
   "metadata": {},
   "outputs": [],
   "source": [
    "df = pd.read_csv('ab_data.csv')\n",
    "\n",
    "with open(\"../analysis/configs/config.yaml\", \"r\") as stream:\n",
    "    try:\n",
    "        ab_config = yaml.safe_load(stream)\n",
    "    except yaml.YAMLError as exc:\n",
    "        print(exc)"
   ]
  },
  {
   "cell_type": "code",
   "execution_count": 6,
   "id": "e1a908ef",
   "metadata": {},
   "outputs": [],
   "source": [
    "df[\"moda_city\"] = np.random.randint(1, 5, df.shape[0])\n",
    "df[\"moda_city\"] = df[\"moda_city\"].astype(str)\n",
    "df[\"id\"] = df.index"
   ]
  },
  {
   "cell_type": "code",
   "execution_count": 7,
   "id": "010e0877",
   "metadata": {},
   "outputs": [],
   "source": [
    "#DATE_FROM = datetime.date(2021, 4, 1)  # CHANGE\n",
    "#DATE_TO = datetime.date(2021, 4, 15)  # CHANGE\n",
    "#synthetic_catalog_ids = []  # List[int]\n",
    "#CAMPAIGN_ID = \"CVM-0-0\"  # CHANGE - for naming final output files\n",
    "\n",
    "\n",
    "split_builder_params = SplitBuilderParams(\n",
    "    map_group_names_to_sizes={\n",
    "        'control': None,\n",
    "        'target': None\n",
    "    },\n",
    "    region_col = \"moda_city\",\n",
    "    split_metric_col = \"height_now\",\n",
    "    customer_col = \"id\",\n",
    "    cols = [],\n",
    "    cat_cols=[\n",
    "        #'offer_rk_goal',\n",
    "        #'offer_rk_campaign'\n",
    "    ],\n",
    "    pvalue=0.05,\n",
    "    n_top_cat=100,\n",
    "    stat_test=\"ttest_ind\"\n",
    ")"
   ]
  },
  {
   "cell_type": "code",
   "execution_count": 8,
   "id": "31ffc40d",
   "metadata": {},
   "outputs": [],
   "source": [
    "prepilot_params = PrepilotParams(\n",
    "    #datestart=datestart,\n",
    "    #datepostperiod=datepostperiod,\n",
    "    metrics_names=['height_now'],\n",
    "    injects=[1.000001 ,1.00001, 1.0001, 1.001],#[1.01, 1.02, 1.03, 1.04, 1.05, 1.06, 1.07, 1.08, 1.09, 1.1,1.15,1.2,1.25],\n",
    "    min_group_size=50000, \n",
    "    max_group_size=100000, \n",
    "    step=50000,\n",
    "    variance_reduction = ABTest.cuped,\n",
    "    use_buckets = True,\n",
    "    bootstrap_metric = np.mean,#np.median\n",
    "    iterations_number = 10,\n",
    "    n_buckets = 10000,\n",
    "    max_beta_score=0.5,\n",
    "    min_beta_score=0.02,\n",
    ")"
   ]
  },
  {
   "cell_type": "code",
   "execution_count": 9,
   "id": "115a589a",
   "metadata": {},
   "outputs": [],
   "source": [
    "prepilot = PrepilotExperimentBuilder(df, ab_config,\n",
    "                                     prepilot_params,\n",
    "                                     split_builder_params)"
   ]
  },
  {
   "cell_type": "code",
   "execution_count": 10,
   "id": "c474d666",
   "metadata": {},
   "outputs": [
    {
     "name": "stderr",
     "output_type": "stream",
     "text": [
      "INFO:stratification.split_builder:Calculate stratas for guest table\n",
      "INFO:stratification.binning:24560 outliers found\n",
      "INFO:stratification.split_builder:control: Desired size = 0.25,         resulting size = 49998, diff = 0.0 %\n",
      "INFO:stratification.split_builder:target: Desired size = 0.3333288889481474,         resulting size = 50002, diff = 0.0 %\n",
      "INFO:stratification.split_builder:Success!\n",
      "INFO:stratification.split_builder:control: Desired size = 0.25,         resulting size = 49998, diff = 0.0 %\n",
      "INFO:stratification.split_builder:target: Desired size = 0.3333288889481474,         resulting size = 50002, diff = 0.0 %\n",
      "INFO:stratification.split_builder:Success!\n",
      "INFO:stratification.split_builder:control: Desired size = 0.25,         resulting size = 49998, diff = 0.0 %\n",
      "INFO:stratification.split_builder:target: Desired size = 0.3333288889481474,         resulting size = 50002, diff = 0.0 %\n",
      "INFO:stratification.split_builder:Success!\n",
      "INFO:stratification.split_builder:control: Desired size = 0.25,         resulting size = 49998, diff = 0.0 %\n",
      "INFO:stratification.split_builder:target: Desired size = 0.3333288889481474,         resulting size = 50002, diff = 0.0 %\n",
      "INFO:stratification.split_builder:Success!\n",
      "INFO:stratification.split_builder:control: Desired size = 0.25,         resulting size = 49998, diff = 0.0 %\n",
      "INFO:stratification.split_builder:target: Desired size = 0.3333288889481474,         resulting size = 50002, diff = 0.0 %\n",
      "INFO:stratification.split_builder:Success!\n",
      "INFO:stratification.split_builder:control: Desired size = 0.25,         resulting size = 49998, diff = 0.0 %\n",
      "INFO:stratification.split_builder:target: Desired size = 0.3333288889481474,         resulting size = 50002, diff = 0.0 %\n",
      "INFO:stratification.split_builder:Success!\n",
      "INFO:stratification.split_builder:control: Desired size = 0.25,         resulting size = 49998, diff = 0.0 %\n",
      "INFO:stratification.split_builder:target: Desired size = 0.3333288889481474,         resulting size = 50002, diff = 0.0 %\n",
      "INFO:stratification.split_builder:Success!\n",
      "INFO:stratification.split_builder:control: Desired size = 0.25,         resulting size = 49998, diff = 0.0 %\n",
      "INFO:stratification.split_builder:target: Desired size = 0.3333288889481474,         resulting size = 50002, diff = 0.0 %\n",
      "INFO:stratification.split_builder:Success!\n",
      "INFO:stratification.split_builder:control: Desired size = 0.25,         resulting size = 49998, diff = 0.0 %\n",
      "INFO:stratification.split_builder:target: Desired size = 0.3333288889481474,         resulting size = 50002, diff = 0.0 %\n",
      "INFO:stratification.split_builder:Success!\n",
      "INFO:stratification.split_builder:control: Desired size = 0.25,         resulting size = 49998, diff = 0.0 %\n",
      "INFO:stratification.split_builder:target: Desired size = 0.3333288889481474,         resulting size = 50002, diff = 0.0 %\n",
      "INFO:stratification.split_builder:Success!\n",
      "INFO:stratification.split_builder:control: Desired size = 0.5,         resulting size = 100000, diff = 0.0 %\n",
      "INFO:stratification.split_builder:target: Desired size = 1.0,         resulting size = 100000, diff = 0.0 %\n",
      "INFO:stratification.split_builder:Success!\n",
      "INFO:stratification.split_builder:control: Desired size = 0.5,         resulting size = 100000, diff = 0.0 %\n",
      "INFO:stratification.split_builder:target: Desired size = 1.0,         resulting size = 100000, diff = 0.0 %\n",
      "INFO:stratification.split_builder:Success!\n",
      "INFO:stratification.split_builder:control: Desired size = 0.5,         resulting size = 100000, diff = 0.0 %\n",
      "INFO:stratification.split_builder:target: Desired size = 1.0,         resulting size = 100000, diff = 0.0 %\n",
      "INFO:stratification.split_builder:Success!\n",
      "INFO:stratification.split_builder:control: Desired size = 0.5,         resulting size = 100000, diff = 0.0 %\n",
      "INFO:stratification.split_builder:target: Desired size = 1.0,         resulting size = 100000, diff = 0.0 %\n",
      "INFO:stratification.split_builder:Success!\n",
      "INFO:stratification.split_builder:control: Desired size = 0.5,         resulting size = 100000, diff = 0.0 %\n",
      "INFO:stratification.split_builder:target: Desired size = 1.0,         resulting size = 100000, diff = 0.0 %\n",
      "INFO:stratification.split_builder:Success!\n",
      "INFO:stratification.split_builder:control: Desired size = 0.5,         resulting size = 100000, diff = 0.0 %\n",
      "INFO:stratification.split_builder:target: Desired size = 1.0,         resulting size = 100000, diff = 0.0 %\n",
      "INFO:stratification.split_builder:Success!\n",
      "INFO:stratification.split_builder:control: Desired size = 0.5,         resulting size = 100000, diff = 0.0 %\n",
      "INFO:stratification.split_builder:target: Desired size = 1.0,         resulting size = 100000, diff = 0.0 %\n",
      "INFO:stratification.split_builder:Success!\n",
      "INFO:stratification.split_builder:control: Desired size = 0.5,         resulting size = 100000, diff = 0.0 %\n",
      "INFO:stratification.split_builder:target: Desired size = 1.0,         resulting size = 100000, diff = 0.0 %\n",
      "INFO:stratification.split_builder:Success!\n",
      "INFO:stratification.split_builder:control: Desired size = 0.5,         resulting size = 100000, diff = 0.0 %\n",
      "INFO:stratification.split_builder:target: Desired size = 1.0,         resulting size = 100000, diff = 0.0 %\n",
      "INFO:stratification.split_builder:Success!\n",
      "INFO:stratification.split_builder:control: Desired size = 0.5,         resulting size = 100000, diff = 0.0 %\n",
      "INFO:stratification.split_builder:target: Desired size = 1.0,         resulting size = 100000, diff = 0.0 %\n",
      "INFO:stratification.split_builder:Success!\n",
      "100%|██████████| 200/200 [00:00<00:00, 25554.77it/s]\n",
      "100%|██████████| 200/200 [00:00<00:00, 24494.43it/s]\n",
      "100%|██████████| 200/200 [00:00<00:00, 25766.70it/s]\n",
      "100%|██████████| 200/200 [00:00<00:00, 23983.21it/s]\n",
      "100%|██████████| 200/200 [00:00<00:00, 25803.16it/s]\n",
      "100%|██████████| 200/200 [00:00<00:00, 25779.37it/s]\n",
      "100%|██████████| 200/200 [00:00<00:00, 26319.68it/s]\n",
      "100%|██████████| 200/200 [00:00<00:00, 23435.79it/s]\n",
      "100%|██████████| 200/200 [00:00<00:00, 25442.38it/s]\n",
      "100%|██████████| 200/200 [00:00<00:00, 24676.01it/s]\n",
      "100%|██████████| 200/200 [00:00<00:00, 25185.72it/s]\n",
      "100%|██████████| 200/200 [00:00<00:00, 25371.59it/s]\n",
      "100%|██████████| 200/200 [00:00<00:00, 23347.74it/s]\n",
      "100%|██████████| 200/200 [00:00<00:00, 26222.59it/s]\n",
      "100%|██████████| 200/200 [00:00<00:00, 24877.99it/s]\n",
      "100%|██████████| 200/200 [00:00<00:00, 24134.32it/s]\n",
      "100%|██████████| 200/200 [00:00<00:00, 26102.65it/s]\n",
      "100%|██████████| 200/200 [00:00<00:00, 26528.60it/s]\n",
      "100%|██████████| 200/200 [00:00<00:00, 25185.72it/s]\n",
      "100%|██████████| 200/200 [00:00<00:00, 25027.92it/s]\n",
      "100%|██████████| 200/200 [00:00<00:00, 24665.12it/s]\n",
      "100%|██████████| 200/200 [00:00<00:00, 24835.27it/s]\n",
      "100%|██████████| 200/200 [00:00<00:00, 25009.27it/s]\n",
      "100%|██████████| 200/200 [00:00<00:00, 26834.96it/s]\n",
      "100%|██████████| 200/200 [00:00<00:00, 25285.17it/s]\n",
      "100%|██████████| 200/200 [00:00<00:00, 25125.37it/s]\n",
      "100%|██████████| 200/200 [00:00<00:00, 26354.41it/s]\n",
      "100%|██████████| 200/200 [00:00<00:00, 26347.79it/s]\n",
      "100%|██████████| 200/200 [00:00<00:00, 25637.56it/s]\n",
      "100%|██████████| 200/200 [00:00<00:00, 24708.71it/s]\n",
      "100%|██████████| 200/200 [00:00<00:00, 25559.44it/s]\n",
      "100%|██████████| 200/200 [00:00<00:00, 25246.36it/s]\n",
      "100%|██████████| 200/200 [00:00<00:00, 26086.41it/s]\n",
      "100%|██████████| 200/200 [00:00<00:00, 24552.50it/s]\n",
      "100%|██████████| 200/200 [00:00<00:00, 24926.04it/s]\n",
      "100%|██████████| 200/200 [00:00<00:00, 25432.36it/s]\n",
      "100%|██████████| 200/200 [00:00<00:00, 24838.94it/s]\n",
      "100%|██████████| 200/200 [00:00<00:00, 26666.06it/s]\n",
      "100%|██████████| 200/200 [00:00<00:00, 26595.88it/s]\n",
      "100%|██████████| 200/200 [00:00<00:00, 24652.07it/s]\n",
      "100%|██████████| 200/200 [00:00<00:00, 24537.42it/s]\n",
      "100%|██████████| 200/200 [00:00<00:00, 23263.56it/s]\n",
      "100%|██████████| 200/200 [00:00<00:00, 25201.61it/s]\n",
      "100%|██████████| 200/200 [00:00<00:00, 24351.51it/s]\n",
      "100%|██████████| 200/200 [00:00<00:00, 23798.14it/s]\n",
      "100%|██████████| 200/200 [00:00<00:00, 24101.73it/s]\n",
      "100%|██████████| 200/200 [00:00<00:00, 24087.89it/s]\n",
      "100%|██████████| 200/200 [00:00<00:00, 25704.33it/s]\n",
      "100%|██████████| 200/200 [00:00<00:00, 24259.96it/s]\n",
      "100%|██████████| 200/200 [00:00<00:00, 25480.25it/s]\n",
      "100%|██████████| 200/200 [00:00<00:00, 26239.82it/s]\n",
      "100%|██████████| 200/200 [00:00<00:00, 26431.64it/s]\n",
      "100%|██████████| 200/200 [00:00<00:00, 25249.40it/s]\n",
      "100%|██████████| 200/200 [00:00<00:00, 25607.81it/s]\n",
      "100%|██████████| 200/200 [00:00<00:00, 26483.37it/s]\n",
      "100%|██████████| 200/200 [00:00<00:00, 25015.98it/s]\n",
      "100%|██████████| 200/200 [00:00<00:00, 25640.69it/s]\n",
      "100%|██████████| 200/200 [00:00<00:00, 25816.66it/s]\n",
      "100%|██████████| 200/200 [00:00<00:00, 24500.87it/s]\n",
      "100%|██████████| 200/200 [00:00<00:00, 25883.58it/s]\n"
     ]
    },
    {
     "name": "stdout",
     "output_type": "stream",
     "text": [
      "CPU times: user 19.4 s, sys: 534 ms, total: 20 s\n",
      "Wall time: 22.7 s\n"
     ]
    }
   ],
   "source": [
    "%%time\n",
    "beta,alpha = prepilot.collect()"
   ]
  },
  {
   "cell_type": "code",
   "execution_count": 11,
   "id": "9df10e53",
   "metadata": {},
   "outputs": [
    {
     "data": {
      "text/html": [
       "<div>\n",
       "<style scoped>\n",
       "    .dataframe tbody tr th:only-of-type {\n",
       "        vertical-align: middle;\n",
       "    }\n",
       "\n",
       "    .dataframe tbody tr th {\n",
       "        vertical-align: top;\n",
       "    }\n",
       "\n",
       "    .dataframe thead th {\n",
       "        text-align: right;\n",
       "    }\n",
       "</style>\n",
       "<table border=\"1\" class=\"dataframe\">\n",
       "  <thead>\n",
       "    <tr style=\"text-align: right;\">\n",
       "      <th></th>\n",
       "      <th>split_rate</th>\n",
       "      <th>(50000, 50000)</th>\n",
       "      <th>(100000, 100000)</th>\n",
       "    </tr>\n",
       "    <tr>\n",
       "      <th>metric</th>\n",
       "      <th>MDE</th>\n",
       "      <th></th>\n",
       "      <th></th>\n",
       "    </tr>\n",
       "  </thead>\n",
       "  <tbody>\n",
       "    <tr>\n",
       "      <th rowspan=\"4\" valign=\"top\">height_now</th>\n",
       "      <th>1.000001</th>\n",
       "      <td>&gt;=0.5</td>\n",
       "      <td>&gt;=0.5</td>\n",
       "    </tr>\n",
       "    <tr>\n",
       "      <th>1.000010</th>\n",
       "      <td>&gt;=0.5</td>\n",
       "      <td>&gt;=0.5</td>\n",
       "    </tr>\n",
       "    <tr>\n",
       "      <th>1.000100</th>\n",
       "      <td>&gt;=0.5</td>\n",
       "      <td>0.3</td>\n",
       "    </tr>\n",
       "    <tr>\n",
       "      <th>1.001000</th>\n",
       "      <td>&lt;=0.02</td>\n",
       "      <td>&lt;=0.02</td>\n",
       "    </tr>\n",
       "  </tbody>\n",
       "</table>\n",
       "</div>"
      ],
      "text/plain": [
       "split_rate          (50000, 50000) (100000, 100000)\n",
       "metric     MDE                                     \n",
       "height_now 1.000001          >=0.5            >=0.5\n",
       "           1.000010          >=0.5            >=0.5\n",
       "           1.000100          >=0.5              0.3\n",
       "           1.001000         <=0.02           <=0.02"
      ]
     },
     "execution_count": 11,
     "metadata": {},
     "output_type": "execute_result"
    }
   ],
   "source": [
    "beta"
   ]
  },
  {
   "cell_type": "code",
   "execution_count": 12,
   "id": "d6ede69d",
   "metadata": {},
   "outputs": [
    {
     "data": {
      "text/html": [
       "<style type=\"text/css\">\n",
       "#T_25b94_row0_col0 {\n",
       "  background-color: #ffffe5;\n",
       "  color: #000000;\n",
       "}\n",
       "#T_25b94_row0_col1 {\n",
       "  background-color: #f9fdc2;\n",
       "  color: #000000;\n",
       "}\n",
       "</style>\n",
       "<table id=\"T_25b94_\">\n",
       "  <thead>\n",
       "    <tr>\n",
       "      <th class=\"index_name level0\" >split_rate</th>\n",
       "      <th class=\"col_heading level0 col0\" >(50000, 50000)</th>\n",
       "      <th class=\"col_heading level0 col1\" >(100000, 100000)</th>\n",
       "    </tr>\n",
       "    <tr>\n",
       "      <th class=\"index_name level0\" >metric</th>\n",
       "      <th class=\"blank col0\" >&nbsp;</th>\n",
       "      <th class=\"blank col1\" >&nbsp;</th>\n",
       "    </tr>\n",
       "  </thead>\n",
       "  <tbody>\n",
       "    <tr>\n",
       "      <th id=\"T_25b94_level0_row0\" class=\"row_heading level0 row0\" >height_now</th>\n",
       "      <td id=\"T_25b94_row0_col0\" class=\"data row0 col0\" >0.000000</td>\n",
       "      <td id=\"T_25b94_row0_col1\" class=\"data row0 col1\" >0.100000</td>\n",
       "    </tr>\n",
       "  </tbody>\n",
       "</table>\n"
      ],
      "text/plain": [
       "<pandas.io.formats.style.Styler at 0x7fee92737d60>"
      ]
     },
     "execution_count": 12,
     "metadata": {},
     "output_type": "execute_result"
    }
   ],
   "source": [
    "alpha"
   ]
  }
 ],
 "metadata": {
  "interpreter": {
   "hash": "626acd8304246c39c892b04a088b1f86fa4d1e9c8375290e6951e511351ad7f7"
  },
  "kernelspec": {
   "display_name": "Python 3.9.7 ('base')",
   "language": "python",
   "name": "python3"
  },
  "language_info": {
   "codemirror_mode": {
    "name": "ipython",
    "version": 3
   },
   "file_extension": ".py",
   "mimetype": "text/x-python",
   "name": "python",
   "nbconvert_exporter": "python",
   "pygments_lexer": "ipython3",
   "version": "3.9.7"
  }
 },
 "nbformat": 4,
 "nbformat_minor": 5
}
