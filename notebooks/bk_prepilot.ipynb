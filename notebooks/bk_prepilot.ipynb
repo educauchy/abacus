{
 "cells": [
  {
   "cell_type": "code",
   "execution_count": 1,
   "id": "ee483ed2",
   "metadata": {},
   "outputs": [],
   "source": [
    "import os\n",
    "import sys\n",
    "import logging\n",
    "import pandas as pd\n",
    "import numpy as np\n",
    "import yaml\n",
    "\n",
    "sys.path.append(os.path.dirname(os.path.abspath('')))\n",
    "#from utils.spark import restart_spark\n",
    "from stratification.params import SplitBuilderParams\n",
    "from prepilot_local.params import PrepilotParams\n",
    "from prepilot_local.prepilot_experiment_builder import PrepilotExperimentBuilder\n",
    "from prepilot_local.prepilot_split_builder import PrepilotSplitBuilder\n",
    "from analysis.abtest import ABTest\n",
    "from analysis.ab_params import ABTestParams\n",
    "\n",
    "logging.basicConfig(level = logging.INFO)\n",
    "\n",
    "%load_ext autoreload\n",
    "%autoreload 2"
   ]
  },
  {
   "cell_type": "code",
   "execution_count": 5,
   "id": "f7723295",
   "metadata": {},
   "outputs": [],
   "source": [
    "df = pd.read_csv('ab_data.csv')\n",
    "\n",
    "with open(\"../analysis/configs/config.yaml\", \"r\") as stream:\n",
    "    try:\n",
    "        ab_config = yaml.safe_load(stream)\n",
    "    except yaml.YAMLError as exc:\n",
    "        print(exc)"
   ]
  },
  {
   "cell_type": "code",
   "execution_count": 6,
   "id": "e1a908ef",
   "metadata": {},
   "outputs": [],
   "source": [
    "df[\"moda_city\"] = np.random.randint(1, 5, df.shape[0])\n",
    "df[\"moda_city\"] = df[\"moda_city\"].astype(str)\n",
    "df[\"id\"] = df.index"
   ]
  },
  {
   "cell_type": "code",
   "execution_count": null,
   "id": "128f2995",
   "metadata": {},
   "outputs": [],
   "source": [
    "from analysis.ab_params import *\n",
    "metric_params = MetricParams(**ab_config['metric_params'])\n",
    "data_params = DataParams(**ab_config['data_params'])\n",
    "simulation_params = SimulationParams(**ab_config['simulation_params'])\n",
    "hypothesis_params = HypothesisParams(**ab_config['hypothesis_params'])\n",
    "result_params = ResultParams(**ab_config['result_params'])\n",
    "splitter_params = SplitterParams(**ab_config['splitter_params'])\n",
    "#bootstrap_params = BootstrapParams(**ab_config['bootstrap_params'])\n",
    "\n",
    "ab_params = ABTestParams(metric_params,data_params,simulation_params,hypothesis_params,result_params,splitter_params)"
   ]
  },
  {
   "cell_type": "code",
   "execution_count": 7,
   "id": "75f0acc5",
   "metadata": {},
   "outputs": [],
   "source": [
    "ab_params = ABTestParams()"
   ]
  },
  {
   "cell_type": "code",
   "execution_count": 8,
   "id": "010e0877",
   "metadata": {},
   "outputs": [],
   "source": [
    "#DATE_FROM = datetime.date(2021, 4, 1)  # CHANGE\n",
    "#DATE_TO = datetime.date(2021, 4, 15)  # CHANGE\n",
    "#synthetic_catalog_ids = []  # List[int]\n",
    "#CAMPAIGN_ID = \"CVM-0-0\"  # CHANGE - for naming final output files\n",
    "\n",
    "\n",
    "split_builder_params = SplitBuilderParams(\n",
    "    map_group_names_to_sizes={\n",
    "        'control': None,\n",
    "        'target': None\n",
    "    },\n",
    "    region_col = \"moda_city\",\n",
    "    split_metric_col = \"height_now\",\n",
    "    customer_col = \"id\",\n",
    "    cols = [],\n",
    "    cat_cols=[\n",
    "        #'offer_rk_goal',\n",
    "        #'offer_rk_campaign'\n",
    "    ],\n",
    "    pvalue=0.05,\n",
    "    n_top_cat=100,\n",
    "    stat_test=\"ttest_ind\"\n",
    ")"
   ]
  },
  {
   "cell_type": "code",
   "execution_count": 9,
   "id": "31ffc40d",
   "metadata": {},
   "outputs": [],
   "source": [
    "prepilot_params = PrepilotParams(\n",
    "    #datestart=datestart,\n",
    "    #datepostperiod=datepostperiod,\n",
    "    metrics_names=['height_now'],\n",
    "    injects=[1.000001 ,1.00001, 1.0001, 1.001],#[1.01, 1.02, 1.03, 1.04, 1.05, 1.06, 1.07, 1.08, 1.09, 1.1,1.15,1.2,1.25],\n",
    "    min_group_size=50000, \n",
    "    max_group_size=100000, \n",
    "    step=50000,\n",
    "    variance_reduction = ABTest.cupac,\n",
    "    use_buckets = True,\n",
    "    bootstrap_metric = np.mean,#np.median\n",
    "    iterations_number = 3,\n",
    "    n_buckets = 10000,\n",
    "    max_beta_score=0.5,\n",
    "    min_beta_score=0.02,\n",
    ")"
   ]
  },
  {
   "cell_type": "code",
   "execution_count": 10,
   "id": "115a589a",
   "metadata": {},
   "outputs": [],
   "source": [
    "prepilot = PrepilotExperimentBuilder(df, ab_params,\n",
    "                                     prepilot_params,\n",
    "                                     split_builder_params)"
   ]
  },
  {
   "cell_type": "code",
   "execution_count": 11,
   "id": "c474d666",
   "metadata": {},
   "outputs": [
    {
     "name": "stderr",
     "output_type": "stream",
     "text": [
      "INFO:stratification.split_builder:Calculate stratas for guest table\n",
      "INFO:stratification.binning:25284 outliers found\n",
      "INFO:stratification.split_builder:control: Desired size = 0.25,         resulting size = 50001, diff = 0.0 %\n",
      "INFO:stratification.split_builder:target: Desired size = 0.3333355555703705,         resulting size = 49998, diff = 0.0 %\n",
      "INFO:stratification.split_builder:Success!\n",
      "INFO:stratification.split_builder:control: Desired size = 0.25,         resulting size = 50001, diff = 0.0 %\n",
      "INFO:stratification.split_builder:target: Desired size = 0.3333355555703705,         resulting size = 49998, diff = 0.0 %\n",
      "INFO:stratification.split_builder:Success!\n",
      "INFO:stratification.split_builder:control: Desired size = 0.25,         resulting size = 50001, diff = 0.0 %\n",
      "INFO:stratification.split_builder:target: Desired size = 0.3333355555703705,         resulting size = 49998, diff = 0.0 %\n",
      "INFO:stratification.split_builder:Success!\n",
      "INFO:stratification.split_builder:control: Desired size = 0.5,         resulting size = 99999, diff = 0.0 %\n",
      "INFO:stratification.split_builder:target: Desired size = 0.999990000099999,         resulting size = 100001, diff = 0.0 %\n",
      "INFO:stratification.split_builder:Success!\n",
      "INFO:stratification.split_builder:control: Desired size = 0.5,         resulting size = 99999, diff = 0.0 %\n",
      "INFO:stratification.split_builder:target: Desired size = 0.999990000099999,         resulting size = 100001, diff = 0.0 %\n",
      "INFO:stratification.split_builder:Success!\n",
      "INFO:stratification.split_builder:control: Desired size = 0.5,         resulting size = 99999, diff = 0.0 %\n",
      "INFO:stratification.split_builder:target: Desired size = 0.999990000099999,         resulting size = 100001, diff = 0.0 %\n",
      "INFO:stratification.split_builder:Success!\n"
     ]
    },
    {
     "name": "stdout",
     "output_type": "stream",
     "text": [
      "                                 OLS Regression Results                                \n",
      "=======================================================================================\n",
      "Dep. Variable:            height_prev   R-squared (uncentered):                   1.000\n",
      "Model:                            OLS   Adj. R-squared (uncentered):              1.000\n",
      "Method:                 Least Squares   F-statistic:                          5.987e+08\n",
      "Date:                Mon, 23 May 2022   Prob (F-statistic):                        0.00\n",
      "Time:                        18:29:08   Log-Likelihood:                     -2.2182e+05\n",
      "No. Observations:               99999   AIC:                                  4.436e+05\n",
      "Df Residuals:                   99998   BIC:                                  4.437e+05\n",
      "Df Model:                           1                                                  \n",
      "Covariance Type:            nonrobust                                                  \n",
      "===============================================================================\n",
      "                  coef    std err          t      P>|t|      [0.025      0.975]\n",
      "-------------------------------------------------------------------------------\n",
      "weight_prev     0.9718   3.97e-05   2.45e+04      0.000       0.972       0.972\n",
      "==============================================================================\n",
      "Omnibus:                        0.844   Durbin-Watson:                   1.989\n",
      "Prob(Omnibus):                  0.656   Jarque-Bera (JB):                0.833\n",
      "Skew:                          -0.005   Prob(JB):                        0.659\n",
      "Kurtosis:                       3.010   Cond. No.                         1.00\n",
      "==============================================================================\n",
      "\n",
      "Notes:\n",
      "[1] R² is computed without centering (uncentered) since the model does not contain a constant.\n",
      "[2] Standard Errors assume that the covariance matrix of the errors is correctly specified.\n"
     ]
    },
    {
     "name": "stderr",
     "output_type": "stream",
     "text": [
      "100%|██████████| 200/200 [00:00<00:00, 21612.33it/s]\n"
     ]
    },
    {
     "name": "stdout",
     "output_type": "stream",
     "text": [
      "                                 OLS Regression Results                                \n",
      "=======================================================================================\n",
      "Dep. Variable:            height_prev   R-squared (uncentered):                   1.000\n",
      "Model:                            OLS   Adj. R-squared (uncentered):              1.000\n",
      "Method:                 Least Squares   F-statistic:                          5.976e+08\n",
      "Date:                Mon, 23 May 2022   Prob (F-statistic):                        0.00\n",
      "Time:                        18:29:08   Log-Likelihood:                     -2.2190e+05\n",
      "No. Observations:               99999   AIC:                                  4.438e+05\n",
      "Df Residuals:                   99998   BIC:                                  4.438e+05\n",
      "Df Model:                           1                                                  \n",
      "Covariance Type:            nonrobust                                                  \n",
      "===============================================================================\n",
      "                  coef    std err          t      P>|t|      [0.025      0.975]\n",
      "-------------------------------------------------------------------------------\n",
      "weight_prev     0.9718   3.98e-05   2.44e+04      0.000       0.972       0.972\n",
      "==============================================================================\n",
      "Omnibus:                        0.039   Durbin-Watson:                   1.976\n",
      "Prob(Omnibus):                  0.981   Jarque-Bera (JB):                0.040\n",
      "Skew:                          -0.001   Prob(JB):                        0.980\n",
      "Kurtosis:                       2.999   Cond. No.                         1.00\n",
      "==============================================================================\n",
      "\n",
      "Notes:\n",
      "[1] R² is computed without centering (uncentered) since the model does not contain a constant.\n",
      "[2] Standard Errors assume that the covariance matrix of the errors is correctly specified.\n"
     ]
    },
    {
     "name": "stderr",
     "output_type": "stream",
     "text": [
      "100%|██████████| 200/200 [00:00<00:00, 21356.47it/s]"
     ]
    },
    {
     "name": "stdout",
     "output_type": "stream",
     "text": [
      "                                 OLS Regression Results                                \n",
      "=======================================================================================\n",
      "Dep. Variable:            height_prev   R-squared (uncentered):                   1.000\n",
      "Model:                            OLS   Adj. R-squared (uncentered):              1.000\n",
      "Method:                 Least Squares   F-statistic:                          5.984e+08\n",
      "Date:                Mon, 23 May 2022   Prob (F-statistic):                        0.00\n",
      "Time:                        18:29:09   Log-Likelihood:                     -2.2184e+05\n",
      "No. Observations:               99999   AIC:                                  4.437e+05\n",
      "Df Residuals:                   99998   BIC:                                  4.437e+05\n",
      "Df Model:                           1                                                  \n",
      "Covariance Type:            nonrobust                                                  \n",
      "===============================================================================\n",
      "                  coef    std err          t      P>|t|      [0.025      0.975]\n",
      "-------------------------------------------------------------------------------\n",
      "weight_prev     0.9719   3.97e-05   2.45e+04      0.000       0.972       0.972\n",
      "==============================================================================\n",
      "Omnibus:                        1.031   Durbin-Watson:                   1.995\n",
      "Prob(Omnibus):                  0.597   Jarque-Bera (JB):                1.030\n",
      "Skew:                           0.008   Prob(JB):                        0.598\n",
      "Kurtosis:                       3.000   Cond. No.                         1.00\n",
      "==============================================================================\n",
      "\n",
      "Notes:\n",
      "[1] R² is computed without centering (uncentered) since the model does not contain a constant.\n",
      "[2] Standard Errors assume that the covariance matrix of the errors is correctly specified.\n"
     ]
    },
    {
     "name": "stderr",
     "output_type": "stream",
     "text": [
      "\n",
      "100%|██████████| 200/200 [00:00<00:00, 21007.76it/s]\n"
     ]
    },
    {
     "name": "stdout",
     "output_type": "stream",
     "text": [
      "                                 OLS Regression Results                                \n",
      "=======================================================================================\n",
      "Dep. Variable:            height_prev   R-squared (uncentered):                   1.000\n",
      "Model:                            OLS   Adj. R-squared (uncentered):              1.000\n",
      "Method:                 Least Squares   F-statistic:                          5.987e+08\n",
      "Date:                Mon, 23 May 2022   Prob (F-statistic):                        0.00\n",
      "Time:                        18:29:09   Log-Likelihood:                     -2.2182e+05\n",
      "No. Observations:               99999   AIC:                                  4.436e+05\n",
      "Df Residuals:                   99998   BIC:                                  4.437e+05\n",
      "Df Model:                           1                                                  \n",
      "Covariance Type:            nonrobust                                                  \n",
      "===============================================================================\n",
      "                  coef    std err          t      P>|t|      [0.025      0.975]\n",
      "-------------------------------------------------------------------------------\n",
      "weight_prev     0.9718   3.97e-05   2.45e+04      0.000       0.972       0.972\n",
      "==============================================================================\n",
      "Omnibus:                        0.844   Durbin-Watson:                   1.989\n",
      "Prob(Omnibus):                  0.656   Jarque-Bera (JB):                0.833\n",
      "Skew:                          -0.005   Prob(JB):                        0.659\n",
      "Kurtosis:                       3.010   Cond. No.                         1.00\n",
      "==============================================================================\n",
      "\n",
      "Notes:\n",
      "[1] R² is computed without centering (uncentered) since the model does not contain a constant.\n",
      "[2] Standard Errors assume that the covariance matrix of the errors is correctly specified.\n"
     ]
    },
    {
     "name": "stderr",
     "output_type": "stream",
     "text": [
      "100%|██████████| 200/200 [00:00<00:00, 22046.28it/s]\n"
     ]
    },
    {
     "name": "stdout",
     "output_type": "stream",
     "text": [
      "                                 OLS Regression Results                                \n",
      "=======================================================================================\n",
      "Dep. Variable:            height_prev   R-squared (uncentered):                   1.000\n",
      "Model:                            OLS   Adj. R-squared (uncentered):              1.000\n",
      "Method:                 Least Squares   F-statistic:                          5.976e+08\n",
      "Date:                Mon, 23 May 2022   Prob (F-statistic):                        0.00\n",
      "Time:                        18:29:09   Log-Likelihood:                     -2.2190e+05\n",
      "No. Observations:               99999   AIC:                                  4.438e+05\n",
      "Df Residuals:                   99998   BIC:                                  4.438e+05\n",
      "Df Model:                           1                                                  \n",
      "Covariance Type:            nonrobust                                                  \n",
      "===============================================================================\n",
      "                  coef    std err          t      P>|t|      [0.025      0.975]\n",
      "-------------------------------------------------------------------------------\n",
      "weight_prev     0.9718   3.98e-05   2.44e+04      0.000       0.972       0.972\n",
      "==============================================================================\n",
      "Omnibus:                        0.039   Durbin-Watson:                   1.976\n",
      "Prob(Omnibus):                  0.981   Jarque-Bera (JB):                0.040\n",
      "Skew:                          -0.001   Prob(JB):                        0.980\n",
      "Kurtosis:                       2.999   Cond. No.                         1.00\n",
      "==============================================================================\n",
      "\n",
      "Notes:\n",
      "[1] R² is computed without centering (uncentered) since the model does not contain a constant.\n",
      "[2] Standard Errors assume that the covariance matrix of the errors is correctly specified.\n"
     ]
    },
    {
     "name": "stderr",
     "output_type": "stream",
     "text": [
      "100%|██████████| 200/200 [00:00<00:00, 21299.53it/s]\n"
     ]
    },
    {
     "name": "stdout",
     "output_type": "stream",
     "text": [
      "                                 OLS Regression Results                                \n",
      "=======================================================================================\n",
      "Dep. Variable:            height_prev   R-squared (uncentered):                   1.000\n",
      "Model:                            OLS   Adj. R-squared (uncentered):              1.000\n",
      "Method:                 Least Squares   F-statistic:                          5.984e+08\n",
      "Date:                Mon, 23 May 2022   Prob (F-statistic):                        0.00\n",
      "Time:                        18:29:09   Log-Likelihood:                     -2.2184e+05\n",
      "No. Observations:               99999   AIC:                                  4.437e+05\n",
      "Df Residuals:                   99998   BIC:                                  4.437e+05\n",
      "Df Model:                           1                                                  \n",
      "Covariance Type:            nonrobust                                                  \n",
      "===============================================================================\n",
      "                  coef    std err          t      P>|t|      [0.025      0.975]\n",
      "-------------------------------------------------------------------------------\n",
      "weight_prev     0.9719   3.97e-05   2.45e+04      0.000       0.972       0.972\n",
      "==============================================================================\n",
      "Omnibus:                        1.031   Durbin-Watson:                   1.995\n",
      "Prob(Omnibus):                  0.597   Jarque-Bera (JB):                1.030\n",
      "Skew:                           0.008   Prob(JB):                        0.598\n",
      "Kurtosis:                       3.000   Cond. No.                         1.00\n",
      "==============================================================================\n",
      "\n",
      "Notes:\n",
      "[1] R² is computed without centering (uncentered) since the model does not contain a constant.\n",
      "[2] Standard Errors assume that the covariance matrix of the errors is correctly specified.\n"
     ]
    },
    {
     "name": "stderr",
     "output_type": "stream",
     "text": [
      "100%|██████████| 200/200 [00:00<00:00, 21122.01it/s]\n"
     ]
    },
    {
     "name": "stdout",
     "output_type": "stream",
     "text": [
      "                                 OLS Regression Results                                \n",
      "=======================================================================================\n",
      "Dep. Variable:            height_prev   R-squared (uncentered):                   1.000\n",
      "Model:                            OLS   Adj. R-squared (uncentered):              1.000\n",
      "Method:                 Least Squares   F-statistic:                          1.198e+09\n",
      "Date:                Mon, 23 May 2022   Prob (F-statistic):                        0.00\n",
      "Time:                        18:29:09   Log-Likelihood:                     -4.4357e+05\n",
      "No. Observations:              200000   AIC:                                  8.871e+05\n",
      "Df Residuals:                  199999   BIC:                                  8.871e+05\n",
      "Df Model:                           1                                                  \n",
      "Covariance Type:            nonrobust                                                  \n",
      "===============================================================================\n",
      "                  coef    std err          t      P>|t|      [0.025      0.975]\n",
      "-------------------------------------------------------------------------------\n",
      "weight_prev     0.9718   2.81e-05   3.46e+04      0.000       0.972       0.972\n",
      "==============================================================================\n",
      "Omnibus:                        0.885   Durbin-Watson:                   1.991\n",
      "Prob(Omnibus):                  0.642   Jarque-Bera (JB):                0.877\n",
      "Skew:                           0.003   Prob(JB):                        0.645\n",
      "Kurtosis:                       3.008   Cond. No.                         1.00\n",
      "==============================================================================\n",
      "\n",
      "Notes:\n",
      "[1] R² is computed without centering (uncentered) since the model does not contain a constant.\n",
      "[2] Standard Errors assume that the covariance matrix of the errors is correctly specified.\n"
     ]
    },
    {
     "name": "stderr",
     "output_type": "stream",
     "text": [
      "100%|██████████| 200/200 [00:00<00:00, 22048.59it/s]\n"
     ]
    },
    {
     "name": "stdout",
     "output_type": "stream",
     "text": [
      "                                 OLS Regression Results                                \n",
      "=======================================================================================\n",
      "Dep. Variable:            height_prev   R-squared (uncentered):                   1.000\n",
      "Model:                            OLS   Adj. R-squared (uncentered):              1.000\n",
      "Method:                 Least Squares   F-statistic:                          1.198e+09\n",
      "Date:                Mon, 23 May 2022   Prob (F-statistic):                        0.00\n",
      "Time:                        18:29:09   Log-Likelihood:                     -4.4357e+05\n",
      "No. Observations:              200000   AIC:                                  8.871e+05\n",
      "Df Residuals:                  199999   BIC:                                  8.871e+05\n",
      "Df Model:                           1                                                  \n",
      "Covariance Type:            nonrobust                                                  \n",
      "===============================================================================\n",
      "                  coef    std err          t      P>|t|      [0.025      0.975]\n",
      "-------------------------------------------------------------------------------\n",
      "weight_prev     0.9718   2.81e-05   3.46e+04      0.000       0.972       0.972\n",
      "==============================================================================\n",
      "Omnibus:                        0.885   Durbin-Watson:                   1.991\n",
      "Prob(Omnibus):                  0.642   Jarque-Bera (JB):                0.877\n",
      "Skew:                           0.003   Prob(JB):                        0.645\n",
      "Kurtosis:                       3.008   Cond. No.                         1.00\n",
      "==============================================================================\n",
      "\n",
      "Notes:\n",
      "[1] R² is computed without centering (uncentered) since the model does not contain a constant.\n",
      "[2] Standard Errors assume that the covariance matrix of the errors is correctly specified.\n"
     ]
    },
    {
     "name": "stderr",
     "output_type": "stream",
     "text": [
      "100%|██████████| 200/200 [00:00<00:00, 21419.73it/s]\n"
     ]
    },
    {
     "name": "stdout",
     "output_type": "stream",
     "text": [
      "                                 OLS Regression Results                                \n",
      "=======================================================================================\n",
      "Dep. Variable:            height_prev   R-squared (uncentered):                   1.000\n",
      "Model:                            OLS   Adj. R-squared (uncentered):              1.000\n",
      "Method:                 Least Squares   F-statistic:                          1.198e+09\n",
      "Date:                Mon, 23 May 2022   Prob (F-statistic):                        0.00\n",
      "Time:                        18:29:09   Log-Likelihood:                     -4.4357e+05\n",
      "No. Observations:              200000   AIC:                                  8.871e+05\n",
      "Df Residuals:                  199999   BIC:                                  8.871e+05\n",
      "Df Model:                           1                                                  \n",
      "Covariance Type:            nonrobust                                                  \n",
      "===============================================================================\n",
      "                  coef    std err          t      P>|t|      [0.025      0.975]\n",
      "-------------------------------------------------------------------------------\n",
      "weight_prev     0.9718   2.81e-05   3.46e+04      0.000       0.972       0.972\n",
      "==============================================================================\n",
      "Omnibus:                        0.885   Durbin-Watson:                   1.991\n",
      "Prob(Omnibus):                  0.642   Jarque-Bera (JB):                0.877\n",
      "Skew:                           0.003   Prob(JB):                        0.645\n",
      "Kurtosis:                       3.008   Cond. No.                         1.00\n",
      "==============================================================================\n",
      "\n",
      "Notes:\n",
      "[1] R² is computed without centering (uncentered) since the model does not contain a constant.\n",
      "[2] Standard Errors assume that the covariance matrix of the errors is correctly specified.\n"
     ]
    },
    {
     "name": "stderr",
     "output_type": "stream",
     "text": [
      "100%|██████████| 200/200 [00:00<00:00, 21470.71it/s]\n"
     ]
    },
    {
     "name": "stdout",
     "output_type": "stream",
     "text": [
      "                                 OLS Regression Results                                \n",
      "=======================================================================================\n",
      "Dep. Variable:            height_prev   R-squared (uncentered):                   1.000\n",
      "Model:                            OLS   Adj. R-squared (uncentered):              1.000\n",
      "Method:                 Least Squares   F-statistic:                          1.198e+09\n",
      "Date:                Mon, 23 May 2022   Prob (F-statistic):                        0.00\n",
      "Time:                        18:29:10   Log-Likelihood:                     -4.4357e+05\n",
      "No. Observations:              200000   AIC:                                  8.871e+05\n",
      "Df Residuals:                  199999   BIC:                                  8.871e+05\n",
      "Df Model:                           1                                                  \n",
      "Covariance Type:            nonrobust                                                  \n",
      "===============================================================================\n",
      "                  coef    std err          t      P>|t|      [0.025      0.975]\n",
      "-------------------------------------------------------------------------------\n",
      "weight_prev     0.9718   2.81e-05   3.46e+04      0.000       0.972       0.972\n",
      "==============================================================================\n",
      "Omnibus:                        0.885   Durbin-Watson:                   1.991\n",
      "Prob(Omnibus):                  0.642   Jarque-Bera (JB):                0.877\n",
      "Skew:                           0.003   Prob(JB):                        0.645\n",
      "Kurtosis:                       3.008   Cond. No.                         1.00\n",
      "==============================================================================\n",
      "\n",
      "Notes:\n",
      "[1] R² is computed without centering (uncentered) since the model does not contain a constant.\n",
      "[2] Standard Errors assume that the covariance matrix of the errors is correctly specified.\n"
     ]
    },
    {
     "name": "stderr",
     "output_type": "stream",
     "text": [
      "100%|██████████| 200/200 [00:00<00:00, 19140.27it/s]\n"
     ]
    },
    {
     "name": "stdout",
     "output_type": "stream",
     "text": [
      "                                 OLS Regression Results                                \n",
      "=======================================================================================\n",
      "Dep. Variable:            height_prev   R-squared (uncentered):                   1.000\n",
      "Model:                            OLS   Adj. R-squared (uncentered):              1.000\n",
      "Method:                 Least Squares   F-statistic:                          1.198e+09\n",
      "Date:                Mon, 23 May 2022   Prob (F-statistic):                        0.00\n",
      "Time:                        18:29:10   Log-Likelihood:                     -4.4357e+05\n",
      "No. Observations:              200000   AIC:                                  8.871e+05\n",
      "Df Residuals:                  199999   BIC:                                  8.871e+05\n",
      "Df Model:                           1                                                  \n",
      "Covariance Type:            nonrobust                                                  \n",
      "===============================================================================\n",
      "                  coef    std err          t      P>|t|      [0.025      0.975]\n",
      "-------------------------------------------------------------------------------\n",
      "weight_prev     0.9718   2.81e-05   3.46e+04      0.000       0.972       0.972\n",
      "==============================================================================\n",
      "Omnibus:                        0.885   Durbin-Watson:                   1.991\n",
      "Prob(Omnibus):                  0.642   Jarque-Bera (JB):                0.877\n",
      "Skew:                           0.003   Prob(JB):                        0.645\n",
      "Kurtosis:                       3.008   Cond. No.                         1.00\n",
      "==============================================================================\n",
      "\n",
      "Notes:\n",
      "[1] R² is computed without centering (uncentered) since the model does not contain a constant.\n",
      "[2] Standard Errors assume that the covariance matrix of the errors is correctly specified.\n"
     ]
    },
    {
     "name": "stderr",
     "output_type": "stream",
     "text": [
      "100%|██████████| 200/200 [00:00<00:00, 22104.37it/s]\n"
     ]
    },
    {
     "name": "stdout",
     "output_type": "stream",
     "text": [
      "                                 OLS Regression Results                                \n",
      "=======================================================================================\n",
      "Dep. Variable:            height_prev   R-squared (uncentered):                   1.000\n",
      "Model:                            OLS   Adj. R-squared (uncentered):              1.000\n",
      "Method:                 Least Squares   F-statistic:                          1.198e+09\n",
      "Date:                Mon, 23 May 2022   Prob (F-statistic):                        0.00\n",
      "Time:                        18:29:10   Log-Likelihood:                     -4.4357e+05\n",
      "No. Observations:              200000   AIC:                                  8.871e+05\n",
      "Df Residuals:                  199999   BIC:                                  8.871e+05\n",
      "Df Model:                           1                                                  \n",
      "Covariance Type:            nonrobust                                                  \n",
      "===============================================================================\n",
      "                  coef    std err          t      P>|t|      [0.025      0.975]\n",
      "-------------------------------------------------------------------------------\n",
      "weight_prev     0.9718   2.81e-05   3.46e+04      0.000       0.972       0.972\n",
      "==============================================================================\n",
      "Omnibus:                        0.885   Durbin-Watson:                   1.991\n",
      "Prob(Omnibus):                  0.642   Jarque-Bera (JB):                0.877\n",
      "Skew:                           0.003   Prob(JB):                        0.645\n",
      "Kurtosis:                       3.008   Cond. No.                         1.00\n",
      "==============================================================================\n",
      "\n",
      "Notes:\n",
      "[1] R² is computed without centering (uncentered) since the model does not contain a constant.\n",
      "[2] Standard Errors assume that the covariance matrix of the errors is correctly specified.\n"
     ]
    },
    {
     "name": "stderr",
     "output_type": "stream",
     "text": [
      "100%|██████████| 200/200 [00:00<00:00, 21556.79it/s]\n"
     ]
    },
    {
     "name": "stdout",
     "output_type": "stream",
     "text": [
      "                                 OLS Regression Results                                \n",
      "=======================================================================================\n",
      "Dep. Variable:            height_prev   R-squared (uncentered):                   1.000\n",
      "Model:                            OLS   Adj. R-squared (uncentered):              1.000\n",
      "Method:                 Least Squares   F-statistic:                          5.987e+08\n",
      "Date:                Mon, 23 May 2022   Prob (F-statistic):                        0.00\n",
      "Time:                        18:29:10   Log-Likelihood:                     -2.2182e+05\n",
      "No. Observations:               99999   AIC:                                  4.436e+05\n",
      "Df Residuals:                   99998   BIC:                                  4.437e+05\n",
      "Df Model:                           1                                                  \n",
      "Covariance Type:            nonrobust                                                  \n",
      "===============================================================================\n",
      "                  coef    std err          t      P>|t|      [0.025      0.975]\n",
      "-------------------------------------------------------------------------------\n",
      "weight_prev     0.9718   3.97e-05   2.45e+04      0.000       0.972       0.972\n",
      "==============================================================================\n",
      "Omnibus:                        0.844   Durbin-Watson:                   1.989\n",
      "Prob(Omnibus):                  0.656   Jarque-Bera (JB):                0.833\n",
      "Skew:                          -0.005   Prob(JB):                        0.659\n",
      "Kurtosis:                       3.010   Cond. No.                         1.00\n",
      "==============================================================================\n",
      "\n",
      "Notes:\n",
      "[1] R² is computed without centering (uncentered) since the model does not contain a constant.\n",
      "[2] Standard Errors assume that the covariance matrix of the errors is correctly specified.\n"
     ]
    },
    {
     "name": "stderr",
     "output_type": "stream",
     "text": [
      "100%|██████████| 200/200 [00:00<00:00, 21750.74it/s]\n"
     ]
    },
    {
     "name": "stdout",
     "output_type": "stream",
     "text": [
      "                                 OLS Regression Results                                \n",
      "=======================================================================================\n",
      "Dep. Variable:            height_prev   R-squared (uncentered):                   1.000\n",
      "Model:                            OLS   Adj. R-squared (uncentered):              1.000\n",
      "Method:                 Least Squares   F-statistic:                          5.976e+08\n",
      "Date:                Mon, 23 May 2022   Prob (F-statistic):                        0.00\n",
      "Time:                        18:29:10   Log-Likelihood:                     -2.2190e+05\n",
      "No. Observations:               99999   AIC:                                  4.438e+05\n",
      "Df Residuals:                   99998   BIC:                                  4.438e+05\n",
      "Df Model:                           1                                                  \n",
      "Covariance Type:            nonrobust                                                  \n",
      "===============================================================================\n",
      "                  coef    std err          t      P>|t|      [0.025      0.975]\n",
      "-------------------------------------------------------------------------------\n",
      "weight_prev     0.9718   3.98e-05   2.44e+04      0.000       0.972       0.972\n",
      "==============================================================================\n",
      "Omnibus:                        0.039   Durbin-Watson:                   1.976\n",
      "Prob(Omnibus):                  0.981   Jarque-Bera (JB):                0.040\n",
      "Skew:                          -0.001   Prob(JB):                        0.980\n",
      "Kurtosis:                       2.999   Cond. No.                         1.00\n",
      "==============================================================================\n",
      "\n",
      "Notes:\n",
      "[1] R² is computed without centering (uncentered) since the model does not contain a constant.\n",
      "[2] Standard Errors assume that the covariance matrix of the errors is correctly specified.\n"
     ]
    },
    {
     "name": "stderr",
     "output_type": "stream",
     "text": [
      "100%|██████████| 200/200 [00:00<00:00, 22614.46it/s]"
     ]
    },
    {
     "name": "stdout",
     "output_type": "stream",
     "text": [
      "                                 OLS Regression Results                                \n",
      "=======================================================================================\n",
      "Dep. Variable:            height_prev   R-squared (uncentered):                   1.000\n",
      "Model:                            OLS   Adj. R-squared (uncentered):              1.000\n",
      "Method:                 Least Squares   F-statistic:                          5.984e+08\n",
      "Date:                Mon, 23 May 2022   Prob (F-statistic):                        0.00\n",
      "Time:                        18:29:10   Log-Likelihood:                     -2.2184e+05\n",
      "No. Observations:               99999   AIC:                                  4.437e+05\n",
      "Df Residuals:                   99998   BIC:                                  4.437e+05\n",
      "Df Model:                           1                                                  \n",
      "Covariance Type:            nonrobust                                                  \n",
      "===============================================================================\n",
      "                  coef    std err          t      P>|t|      [0.025      0.975]\n",
      "-------------------------------------------------------------------------------\n",
      "weight_prev     0.9719   3.97e-05   2.45e+04      0.000       0.972       0.972\n",
      "==============================================================================\n",
      "Omnibus:                        1.031   Durbin-Watson:                   1.995\n",
      "Prob(Omnibus):                  0.597   Jarque-Bera (JB):                1.030\n",
      "Skew:                           0.008   Prob(JB):                        0.598\n",
      "Kurtosis:                       3.000   Cond. No.                         1.00\n",
      "==============================================================================\n",
      "\n",
      "Notes:\n",
      "[1] R² is computed without centering (uncentered) since the model does not contain a constant.\n",
      "[2] Standard Errors assume that the covariance matrix of the errors is correctly specified.\n"
     ]
    },
    {
     "name": "stderr",
     "output_type": "stream",
     "text": [
      "\n",
      "100%|██████████| 200/200 [00:00<00:00, 21216.03it/s]\n"
     ]
    },
    {
     "name": "stdout",
     "output_type": "stream",
     "text": [
      "                                 OLS Regression Results                                \n",
      "=======================================================================================\n",
      "Dep. Variable:            height_prev   R-squared (uncentered):                   1.000\n",
      "Model:                            OLS   Adj. R-squared (uncentered):              1.000\n",
      "Method:                 Least Squares   F-statistic:                          1.198e+09\n",
      "Date:                Mon, 23 May 2022   Prob (F-statistic):                        0.00\n",
      "Time:                        18:29:10   Log-Likelihood:                     -4.4357e+05\n",
      "No. Observations:              200000   AIC:                                  8.871e+05\n",
      "Df Residuals:                  199999   BIC:                                  8.871e+05\n",
      "Df Model:                           1                                                  \n",
      "Covariance Type:            nonrobust                                                  \n",
      "===============================================================================\n",
      "                  coef    std err          t      P>|t|      [0.025      0.975]\n",
      "-------------------------------------------------------------------------------\n",
      "weight_prev     0.9718   2.81e-05   3.46e+04      0.000       0.972       0.972\n",
      "==============================================================================\n",
      "Omnibus:                        0.885   Durbin-Watson:                   1.991\n",
      "Prob(Omnibus):                  0.642   Jarque-Bera (JB):                0.877\n",
      "Skew:                           0.003   Prob(JB):                        0.645\n",
      "Kurtosis:                       3.008   Cond. No.                         1.00\n",
      "==============================================================================\n",
      "\n",
      "Notes:\n",
      "[1] R² is computed without centering (uncentered) since the model does not contain a constant.\n",
      "[2] Standard Errors assume that the covariance matrix of the errors is correctly specified.\n"
     ]
    },
    {
     "name": "stderr",
     "output_type": "stream",
     "text": [
      "100%|██████████| 200/200 [00:00<00:00, 21833.39it/s]\n"
     ]
    },
    {
     "name": "stdout",
     "output_type": "stream",
     "text": [
      "                                 OLS Regression Results                                \n",
      "=======================================================================================\n",
      "Dep. Variable:            height_prev   R-squared (uncentered):                   1.000\n",
      "Model:                            OLS   Adj. R-squared (uncentered):              1.000\n",
      "Method:                 Least Squares   F-statistic:                          1.198e+09\n",
      "Date:                Mon, 23 May 2022   Prob (F-statistic):                        0.00\n",
      "Time:                        18:29:11   Log-Likelihood:                     -4.4357e+05\n",
      "No. Observations:              200000   AIC:                                  8.871e+05\n",
      "Df Residuals:                  199999   BIC:                                  8.871e+05\n",
      "Df Model:                           1                                                  \n",
      "Covariance Type:            nonrobust                                                  \n",
      "===============================================================================\n",
      "                  coef    std err          t      P>|t|      [0.025      0.975]\n",
      "-------------------------------------------------------------------------------\n",
      "weight_prev     0.9718   2.81e-05   3.46e+04      0.000       0.972       0.972\n",
      "==============================================================================\n",
      "Omnibus:                        0.885   Durbin-Watson:                   1.991\n",
      "Prob(Omnibus):                  0.642   Jarque-Bera (JB):                0.877\n",
      "Skew:                           0.003   Prob(JB):                        0.645\n",
      "Kurtosis:                       3.008   Cond. No.                         1.00\n",
      "==============================================================================\n",
      "\n",
      "Notes:\n",
      "[1] R² is computed without centering (uncentered) since the model does not contain a constant.\n",
      "[2] Standard Errors assume that the covariance matrix of the errors is correctly specified.\n"
     ]
    },
    {
     "name": "stderr",
     "output_type": "stream",
     "text": [
      "100%|██████████| 200/200 [00:00<00:00, 21459.18it/s]\n"
     ]
    },
    {
     "name": "stdout",
     "output_type": "stream",
     "text": [
      "                                 OLS Regression Results                                \n",
      "=======================================================================================\n",
      "Dep. Variable:            height_prev   R-squared (uncentered):                   1.000\n",
      "Model:                            OLS   Adj. R-squared (uncentered):              1.000\n",
      "Method:                 Least Squares   F-statistic:                          1.198e+09\n",
      "Date:                Mon, 23 May 2022   Prob (F-statistic):                        0.00\n",
      "Time:                        18:29:11   Log-Likelihood:                     -4.4357e+05\n",
      "No. Observations:              200000   AIC:                                  8.871e+05\n",
      "Df Residuals:                  199999   BIC:                                  8.871e+05\n",
      "Df Model:                           1                                                  \n",
      "Covariance Type:            nonrobust                                                  \n",
      "===============================================================================\n",
      "                  coef    std err          t      P>|t|      [0.025      0.975]\n",
      "-------------------------------------------------------------------------------\n",
      "weight_prev     0.9718   2.81e-05   3.46e+04      0.000       0.972       0.972\n",
      "==============================================================================\n",
      "Omnibus:                        0.885   Durbin-Watson:                   1.991\n",
      "Prob(Omnibus):                  0.642   Jarque-Bera (JB):                0.877\n",
      "Skew:                           0.003   Prob(JB):                        0.645\n",
      "Kurtosis:                       3.008   Cond. No.                         1.00\n",
      "==============================================================================\n",
      "\n",
      "Notes:\n",
      "[1] R² is computed without centering (uncentered) since the model does not contain a constant.\n",
      "[2] Standard Errors assume that the covariance matrix of the errors is correctly specified.\n"
     ]
    },
    {
     "name": "stderr",
     "output_type": "stream",
     "text": [
      "100%|██████████| 200/200 [00:00<00:00, 22017.34it/s]\n"
     ]
    },
    {
     "name": "stdout",
     "output_type": "stream",
     "text": [
      "CPU times: user 17.5 s, sys: 4.89 s, total: 22.4 s\n",
      "Wall time: 11.2 s\n"
     ]
    }
   ],
   "source": [
    "%%time\n",
    "beta,alpha = prepilot.collect()"
   ]
  },
  {
   "cell_type": "code",
   "execution_count": 12,
   "id": "9df10e53",
   "metadata": {},
   "outputs": [
    {
     "data": {
      "text/html": [
       "<div>\n",
       "<style scoped>\n",
       "    .dataframe tbody tr th:only-of-type {\n",
       "        vertical-align: middle;\n",
       "    }\n",
       "\n",
       "    .dataframe tbody tr th {\n",
       "        vertical-align: top;\n",
       "    }\n",
       "\n",
       "    .dataframe thead th {\n",
       "        text-align: right;\n",
       "    }\n",
       "</style>\n",
       "<table border=\"1\" class=\"dataframe\">\n",
       "  <thead>\n",
       "    <tr style=\"text-align: right;\">\n",
       "      <th></th>\n",
       "      <th>split_rate</th>\n",
       "      <th>(50000, 50000)</th>\n",
       "      <th>(100000, 100000)</th>\n",
       "    </tr>\n",
       "    <tr>\n",
       "      <th>metric</th>\n",
       "      <th>MDE</th>\n",
       "      <th></th>\n",
       "      <th></th>\n",
       "    </tr>\n",
       "  </thead>\n",
       "  <tbody>\n",
       "    <tr>\n",
       "      <th rowspan=\"4\" valign=\"top\">height_now</th>\n",
       "      <th>1.000001</th>\n",
       "      <td>&gt;=0.5</td>\n",
       "      <td>&gt;=0.5</td>\n",
       "    </tr>\n",
       "    <tr>\n",
       "      <th>1.000010</th>\n",
       "      <td>&gt;=0.5</td>\n",
       "      <td>&gt;=0.5</td>\n",
       "    </tr>\n",
       "    <tr>\n",
       "      <th>1.000100</th>\n",
       "      <td>&gt;=0.5</td>\n",
       "      <td>0.3333333333</td>\n",
       "    </tr>\n",
       "    <tr>\n",
       "      <th>1.001000</th>\n",
       "      <td>&lt;=0.02</td>\n",
       "      <td>&lt;=0.02</td>\n",
       "    </tr>\n",
       "  </tbody>\n",
       "</table>\n",
       "</div>"
      ],
      "text/plain": [
       "split_rate          (50000, 50000) (100000, 100000)\n",
       "metric     MDE                                     \n",
       "height_now 1.000001          >=0.5            >=0.5\n",
       "           1.000010          >=0.5            >=0.5\n",
       "           1.000100          >=0.5     0.3333333333\n",
       "           1.001000         <=0.02           <=0.02"
      ]
     },
     "execution_count": 12,
     "metadata": {},
     "output_type": "execute_result"
    }
   ],
   "source": [
    "beta"
   ]
  },
  {
   "cell_type": "code",
   "execution_count": 13,
   "id": "d6ede69d",
   "metadata": {},
   "outputs": [
    {
     "data": {
      "text/html": [
       "<style type=\"text/css\">\n",
       "#T_aff5b_row0_col0, #T_aff5b_row0_col1 {\n",
       "  background-color: #ffffe5;\n",
       "  color: #000000;\n",
       "}\n",
       "</style>\n",
       "<table id=\"T_aff5b_\">\n",
       "  <thead>\n",
       "    <tr>\n",
       "      <th class=\"index_name level0\" >split_rate</th>\n",
       "      <th class=\"col_heading level0 col0\" >(50000, 50000)</th>\n",
       "      <th class=\"col_heading level0 col1\" >(100000, 100000)</th>\n",
       "    </tr>\n",
       "    <tr>\n",
       "      <th class=\"index_name level0\" >metric</th>\n",
       "      <th class=\"blank col0\" >&nbsp;</th>\n",
       "      <th class=\"blank col1\" >&nbsp;</th>\n",
       "    </tr>\n",
       "  </thead>\n",
       "  <tbody>\n",
       "    <tr>\n",
       "      <th id=\"T_aff5b_level0_row0\" class=\"row_heading level0 row0\" >height_now</th>\n",
       "      <td id=\"T_aff5b_row0_col0\" class=\"data row0 col0\" >0.000000</td>\n",
       "      <td id=\"T_aff5b_row0_col1\" class=\"data row0 col1\" >0.000000</td>\n",
       "    </tr>\n",
       "  </tbody>\n",
       "</table>\n"
      ],
      "text/plain": [
       "<pandas.io.formats.style.Styler at 0x7fa4e3d66b50>"
      ]
     },
     "execution_count": 13,
     "metadata": {},
     "output_type": "execute_result"
    }
   ],
   "source": [
    "alpha"
   ]
  },
  {
   "cell_type": "code",
   "execution_count": null,
   "id": "08ab0254",
   "metadata": {},
   "outputs": [],
   "source": []
  }
 ],
 "metadata": {
  "interpreter": {
   "hash": "626acd8304246c39c892b04a088b1f86fa4d1e9c8375290e6951e511351ad7f7"
  },
  "kernelspec": {
   "display_name": "Python 3.9.7 ('base')",
   "language": "python",
   "name": "python3"
  },
  "language_info": {
   "codemirror_mode": {
    "name": "ipython",
    "version": 3
   },
   "file_extension": ".py",
   "mimetype": "text/x-python",
   "name": "python",
   "nbconvert_exporter": "python",
   "pygments_lexer": "ipython3",
   "version": "3.9.7"
  }
 },
 "nbformat": 4,
 "nbformat_minor": 5
}
