{
 "cells": [
  {
   "cell_type": "code",
   "execution_count": 1,
   "metadata": {},
   "outputs": [],
   "source": [
    "import warnings\n",
    "warnings.filterwarnings('ignore')\n",
    "\n",
    "import os\n",
    "import sys\n",
    "import logging\n",
    "import pandas as pd\n",
    "import numpy as np\n",
    "import yaml\n",
    "\n",
    "sys.path.append(os.path.dirname(os.path.abspath('')))\n",
    "\n",
    "from auto_ab.abtest import ABTest\n",
    "from auto_ab.params import ABTestParams\n",
    "\n",
    "logging.basicConfig(level = logging.INFO)\n",
    "\n",
    "\n",
    "%load_ext autoreload\n",
    "%autoreload 2"
   ]
  },
  {
   "cell_type": "code",
   "execution_count": 2,
   "metadata": {},
   "outputs": [],
   "source": [
    "df = pd.read_csv('ab_data.csv')\n",
    "\n",
    "with open(\"../auto_ab/configs/auto_ab.config.yaml\", \"r\") as stream:\n",
    "    try:\n",
    "        ab_config = yaml.safe_load(stream)\n",
    "    except yaml.YAMLError as exc:\n",
    "        print(exc)"
   ]
  },
  {
   "cell_type": "code",
   "execution_count": 3,
   "metadata": {},
   "outputs": [],
   "source": [
    "from auto_ab.params import *\n",
    "\n",
    "data_params = DataParams(\n",
    "    id_col='id', \n",
    "    group_col='groups', \n",
    "    strata_col='country', \n",
    "    target='height_now', \n",
    "    target_flg='bought', \n",
    "    predictors=['weight_now'], \n",
    "    numerator='clicks', \n",
    "    denominator='sessions', \n",
    "    covariate='height_prev', \n",
    "    target_prev='height_prev', \n",
    "    predictors_prev=['weight_prev'], \n",
    "    cluster_col='kl-divergence', \n",
    "    clustering_cols=['col1', 'col2', 'col3'], \n",
    "    is_grouped=True\n",
    ")\n",
    "\n",
    "simulation_params = SimulationParams(\n",
    "    n_iter=100, \n",
    "    split_rates=[0.1, 0.2, 0.3, 0.4, 0.5], \n",
    "    vars=[0.0, 1.0, 2.0, 3.0, 4.0, 5.0], \n",
    "    extra_params=[]\n",
    ")\n",
    "\n",
    "hypothesis_params = HypothesisParams(\n",
    "    alpha=0.05, \n",
    "    beta=0.2, \n",
    "    alternative='two-sided', \n",
    "    split_ratios=(0.5, 0.5), \n",
    "    strategy='simple_test', \n",
    "    strata='country', \n",
    "    strata_weights={'US': 0.8, 'UK': 0.2}, \n",
    "    metric_type='solid', \n",
    "    metric_name='mean', \n",
    "    metric=np.mean, \n",
    "    n_boot_samples=200, \n",
    "    n_buckets=50\n",
    ")\n",
    "\n",
    "result_params = ResultParams(\n",
    "    to_csv=True, \n",
    "    csv_path='/app/data/internal/guide/solid_mde.csv'\n",
    ")\n",
    "\n",
    "splitter_params = SplitterParams(\n",
    "    split_rate=0.5, \n",
    "    name='default'\n",
    ")\n",
    "\n",
    "ab_params = ABTestParams(data_params,simulation_params,hypothesis_params,result_params,splitter_params)"
   ]
  },
  {
   "cell_type": "markdown",
   "metadata": {},
   "source": [
    "# Примеры с пост анализом"
   ]
  },
  {
   "cell_type": "code",
   "execution_count": 4,
   "metadata": {},
   "outputs": [],
   "source": [
    "ab_test = ABTest(df, ab_params)"
   ]
  },
  {
   "cell_type": "code",
   "execution_count": 5,
   "metadata": {},
   "outputs": [
    {
     "data": {
      "application/vnd.jupyter.widget-view+json": {
       "model_id": "705048ab838f4767b1963e33537ea06f",
       "version_major": 2,
       "version_minor": 0
      },
      "text/plain": [
       "  0%|          | 0/200 [00:00<?, ?it/s]"
      ]
     },
     "metadata": {},
     "output_type": "display_data"
    },
    {
     "name": "stdout",
     "output_type": "stream",
     "text": [
      "bootstrap_test: {'stat': None, 'p-value': None, 'result': 0}\n",
      "mannwhitney_test: {'stat': 4992976857.0, 'p-value': 0.5890975776571467, 'result': 0}\n",
      "ttest_test: {'stat': -0.4435517988023507, 'p-value': 0.6573671411499618, 'result': 0}\n"
     ]
    }
   ],
   "source": [
    "print(f\"bootstrap_test: {ab_test.test_hypothesis_boot_confint()}\")\n",
    "print(f\"mannwhitney_test: {ab_test.test_hypothesis_mannwhitney()}\")\n",
    "print(f\"ttest_test: {ab_test.test_hypothesis_ttest()}\")"
   ]
  },
  {
   "cell_type": "code",
   "execution_count": 6,
   "metadata": {},
   "outputs": [],
   "source": [
    "df[ab_test.params.data_params.target].where(df[ab_test.params.data_params.group_col]=='A', #applied where cond is False\n",
    "                                        df[ab_test.params.data_params.target]*1.001, \n",
    "                                        axis=0,\n",
    "                                        inplace=True)\n",
    "\n",
    "ab_test = ABTest(df, ab_params)"
   ]
  },
  {
   "cell_type": "code",
   "execution_count": 7,
   "metadata": {},
   "outputs": [
    {
     "data": {
      "application/vnd.jupyter.widget-view+json": {
       "model_id": "6011f3cf007649208a10bbe4be998341",
       "version_major": 2,
       "version_minor": 0
      },
      "text/plain": [
       "  0%|          | 0/200 [00:00<?, ?it/s]"
      ]
     },
     "metadata": {},
     "output_type": "display_data"
    },
    {
     "name": "stdout",
     "output_type": "stream",
     "text": [
      "bootstrap_test: {'stat': None, 'p-value': None, 'result': 1}\n",
      "mannwhitney_test: {'stat': 4894119324.0, 'p-value': 2.4516264484905984e-16, 'result': 1}\n",
      "ttest_test: {'stat': -8.275588883468059, 'p-value': 1.2859564365137272e-16, 'result': 1}\n"
     ]
    }
   ],
   "source": [
    "print(f\"bootstrap_test: {ab_test.test_hypothesis_boot_confint()}\")\n",
    "print(f\"mannwhitney_test: {ab_test.test_hypothesis_mannwhitney()}\")\n",
    "print(f\"ttest_test: {ab_test.test_hypothesis_ttest()}\")"
   ]
  },
  {
   "cell_type": "markdown",
   "metadata": {},
   "source": [
    "# Понижение дисперсии"
   ]
  },
  {
   "cell_type": "code",
   "execution_count": 8,
   "metadata": {},
   "outputs": [
    {
     "data": {
      "application/vnd.jupyter.widget-view+json": {
       "model_id": "aaa765334b7943b3b0c7c6fb6225ec59",
       "version_major": 2,
       "version_minor": 0
      },
      "text/plain": [
       "  0%|          | 0/200 [00:00<?, ?it/s]"
      ]
     },
     "metadata": {},
     "output_type": "display_data"
    },
    {
     "name": "stdout",
     "output_type": "stream",
     "text": [
      "bootstrap_test: {'stat': None, 'p-value': None, 'result': 0}\n",
      "mannwhitney_test: {'stat': 4983082845.0, 'p-value': 0.19137136312943093, 'result': 0}\n",
      "ttest_test: {'stat': -1.2271064134922398, 'p-value': 0.21978404218147798, 'result': 0}\n"
     ]
    },
    {
     "data": {
      "application/vnd.jupyter.widget-view+json": {
       "model_id": "a303af2852b04d98818a09035c056ed5",
       "version_major": 2,
       "version_minor": 0
      },
      "text/plain": [
       "  0%|          | 0/200 [00:00<?, ?it/s]"
      ]
     },
     "metadata": {},
     "output_type": "display_data"
    },
    {
     "name": "stdout",
     "output_type": "stream",
     "text": [
      "bootstrap_test: {'stat': None, 'p-value': None, 'result': 1}\n",
      "mannwhitney_test: {'stat': 4962621356.0, 'p-value': 0.0038343556323012554, 'result': 1}\n",
      "ttest_test: {'stat': -3.3123079503060633, 'p-value': 0.0009254602801692166, 'result': 1}\n"
     ]
    }
   ],
   "source": [
    "df = pd.read_csv('ab_data.csv')\n",
    "df[ab_test.params.data_params.target].where(df[ab_test.params.data_params.group_col]=='A', #applied where cond is False\n",
    "                                        df[ab_test.params.data_params.target]*1.0001, \n",
    "                                        axis=0,\n",
    "                                        inplace=True)\n",
    "\n",
    "ab_test = ABTest(df, ab_params)\n",
    "print(f\"bootstrap_test: {ab_test.test_hypothesis_boot_confint()}\")\n",
    "print(f\"mannwhitney_test: {ab_test.test_hypothesis_mannwhitney()}\")\n",
    "print(f\"ttest_test: {ab_test.test_hypothesis_ttest()}\")\n",
    "\n",
    "\n",
    "ab_test1 = ab_test.cuped()\n",
    "print(f\"bootstrap_test: {ab_test1.test_hypothesis_boot_confint()}\")\n",
    "print(f\"mannwhitney_test: {ab_test1.test_hypothesis_mannwhitney()}\")\n",
    "print(f\"ttest_test: {ab_test1.test_hypothesis_ttest()}\")"
   ]
  },
  {
   "cell_type": "markdown",
   "metadata": {},
   "source": [
    "# Пост анализ для бинарной переменной"
   ]
  },
  {
   "cell_type": "code",
   "execution_count": 11,
   "metadata": {},
   "outputs": [],
   "source": [
    "data_params = DataParams(\n",
    "    id_col='id', \n",
    "    group_col='groups', \n",
    "    strata_col='country', \n",
    "    target='conversion', \n",
    "    target_flg='bought', \n",
    "    predictors=['weight_now'], \n",
    "    numerator='clicks', \n",
    "    denominator='sessions', \n",
    "    covariate='height_prev', \n",
    "    target_prev='height_prev', \n",
    "    predictors_prev=['weight_prev'], \n",
    "    cluster_col='kl-divergence', \n",
    "    clustering_cols=['col1', 'col2', 'col3'], \n",
    "    is_grouped=True\n",
    ")\n",
    "\n",
    "ab_params = ABTestParams(data_params,simulation_params,hypothesis_params,result_params,splitter_params)"
   ]
  },
  {
   "cell_type": "code",
   "execution_count": 12,
   "metadata": {},
   "outputs": [],
   "source": [
    "df = pd.read_csv('ab_data.csv')"
   ]
  },
  {
   "cell_type": "code",
   "execution_count": 13,
   "metadata": {},
   "outputs": [],
   "source": [
    "ab_test = ABTest(df, ab_params)"
   ]
  },
  {
   "cell_type": "code",
   "execution_count": 14,
   "metadata": {},
   "outputs": [
    {
     "data": {
      "application/vnd.jupyter.widget-view+json": {
       "model_id": "1e67c1468472496daaa9bb77fcc233e1",
       "version_major": 2,
       "version_minor": 0
      },
      "text/plain": [
       "  0%|          | 0/200 [00:00<?, ?it/s]"
      ]
     },
     "metadata": {},
     "output_type": "display_data"
    },
    {
     "name": "stdout",
     "output_type": "stream",
     "text": [
      "bootstrap_test: {'stat': None, 'p-value': None, 'result': 0}\n",
      "ttest_test: {'stat': -53.48422677797526, 'p-value': 0.0, 'result': 1}\n"
     ]
    }
   ],
   "source": [
    "print(f\"bootstrap_test: {ab_test.test_hypothesis_boot_confint()}\")\n",
    "print(f\"ttest_test: {ab_test.test_hypothesis_ztest_prop()}\")"
   ]
  },
  {
   "cell_type": "code",
   "execution_count": 15,
   "metadata": {},
   "outputs": [
    {
     "data": {
      "application/vnd.jupyter.widget-view+json": {
       "model_id": "fc29c5d048b84f6aad7ea29aa98fad81",
       "version_major": 2,
       "version_minor": 0
      },
      "text/plain": [
       "  0%|          | 0/200 [00:00<?, ?it/s]"
      ]
     },
     "metadata": {},
     "output_type": "display_data"
    },
    {
     "name": "stdout",
     "output_type": "stream",
     "text": [
      "bootstrap_test: {'stat': None, 'p-value': None, 'result': 1}\n",
      "ttest_test: {'stat': -66.8854397361037, 'p-value': 0.0, 'result': 1}\n"
     ]
    }
   ],
   "source": [
    "df = pd.read_csv('ab_data.csv')\n",
    "df['conversion'] = np.where(df.noise_now<0,0,1)\n",
    "df[ab_test.params.data_params.target].where(df[ab_test.params.data_params.group_col]=='A', #applied where cond is False\n",
    "                                        df[ab_test.params.data_params.target]*1.01, \n",
    "                                        axis=0,\n",
    "                                        inplace=True)\n",
    "\n",
    "ab_test = ABTest(df, ab_params)\n",
    "print(f\"bootstrap_test: {ab_test.test_hypothesis_boot_confint()}\")\n",
    "print(f\"ttest_test: {ab_test.test_hypothesis_ztest_prop()}\")"
   ]
  },
  {
   "cell_type": "markdown",
   "metadata": {},
   "source": [
    "# Понижение дисперсии для конверсии"
   ]
  },
  {
   "cell_type": "code",
   "execution_count": 16,
   "metadata": {},
   "outputs": [
    {
     "data": {
      "application/vnd.jupyter.widget-view+json": {
       "model_id": "8bb6b3d5584e4d08b717ed83a3a3fd98",
       "version_major": 2,
       "version_minor": 0
      },
      "text/plain": [
       "  0%|          | 0/200 [00:00<?, ?it/s]"
      ]
     },
     "metadata": {},
     "output_type": "display_data"
    },
    {
     "name": "stdout",
     "output_type": "stream",
     "text": [
      "bootstrap_test: {'stat': None, 'p-value': None, 'result': 0}\n",
      "ttest_test: {'stat': -54.75650959232436, 'p-value': 0.0, 'result': 1}\n"
     ]
    },
    {
     "data": {
      "application/vnd.jupyter.widget-view+json": {
       "model_id": "8d73da45f2524ac0adadf2304161a922",
       "version_major": 2,
       "version_minor": 0
      },
      "text/plain": [
       "  0%|          | 0/200 [00:00<?, ?it/s]"
      ]
     },
     "metadata": {},
     "output_type": "display_data"
    },
    {
     "name": "stdout",
     "output_type": "stream",
     "text": [
      "bootstrap_test: {'stat': None, 'p-value': None, 'result': 0}\n",
      "ttest_test: {'stat': -54.75650959219529, 'p-value': 0.0, 'result': 1}\n"
     ]
    }
   ],
   "source": [
    "df = pd.read_csv('ab_data.csv')\n",
    "df[ab_test.params.data_params.target].where(df[ab_test.params.data_params.group_col]=='A', #applied where cond is False\n",
    "                                        df[ab_test.params.data_params.target]*1.001, \n",
    "                                        axis=0,\n",
    "                                        inplace=True)\n",
    "\n",
    "ab_test = ABTest(df, ab_params)\n",
    "print(f\"bootstrap_test: {ab_test.test_hypothesis_boot_confint()}\")\n",
    "print(f\"ttest_test: {ab_test.test_hypothesis_ztest_prop()}\")\n",
    "\n",
    "\n",
    "ab_test1 = ab_test.cuped()\n",
    "print(f\"bootstrap_test: {ab_test1.test_hypothesis_boot_confint()}\")\n",
    "print(f\"ttest_test: {ab_test1.test_hypothesis_ztest_prop()}\")"
   ]
  },
  {
   "cell_type": "code",
   "execution_count": null,
   "metadata": {},
   "outputs": [],
   "source": []
  }
 ],
 "metadata": {
  "kernelspec": {
   "display_name": "Python 3.9.7 ('base')",
   "language": "python",
   "name": "python3"
  },
  "language_info": {
   "codemirror_mode": {
    "name": "ipython",
    "version": 3
   },
   "file_extension": ".py",
   "mimetype": "text/x-python",
   "name": "python",
   "nbconvert_exporter": "python",
   "pygments_lexer": "ipython3",
   "version": "3.9.7"
  },
  "orig_nbformat": 4,
  "vscode": {
   "interpreter": {
    "hash": "626acd8304246c39c892b04a088b1f86fa4d1e9c8375290e6951e511351ad7f7"
   }
  }
 },
 "nbformat": 4,
 "nbformat_minor": 2
}
